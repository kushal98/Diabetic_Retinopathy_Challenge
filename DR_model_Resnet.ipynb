{
 "cells": [
  {
   "cell_type": "code",
   "execution_count": 1,
   "metadata": {},
   "outputs": [],
   "source": [
    "import os\n",
    "import pandas as pd\n",
    "import numpy as np"
   ]
  },
  {
   "cell_type": "code",
   "execution_count": 2,
   "metadata": {},
   "outputs": [],
   "source": [
    "import tensorflow as tf"
   ]
  },
  {
   "cell_type": "code",
   "execution_count": 3,
   "metadata": {},
   "outputs": [
    {
     "data": {
      "text/plain": [
       "['resized_train_1',\n",
       " 'sample.zip',\n",
       " 'sampleSubmission.csv.zip',\n",
       " 'train',\n",
       " 'train.zip.001',\n",
       " 'train.zip.002',\n",
       " 'train.zip.003',\n",
       " 'train.zip.004',\n",
       " 'train.zip.005',\n",
       " 'trainLabels.csv',\n",
       " 'trainLabels.csv.zip',\n",
       " 'train_1',\n",
       " 'train_2',\n",
       " 'train_3',\n",
       " 'train_4']"
      ]
     },
     "execution_count": 3,
     "metadata": {},
     "output_type": "execute_result"
    }
   ],
   "source": [
    "os.listdir(\"./retinopathy detection dataset/\")"
   ]
  },
  {
   "cell_type": "code",
   "execution_count": 4,
   "metadata": {},
   "outputs": [],
   "source": [
    "images = os.listdir(\"./retinopathy detection dataset/\")[10]"
   ]
  },
  {
   "cell_type": "code",
   "execution_count": 5,
   "metadata": {},
   "outputs": [
    {
     "data": {
      "text/plain": [
       "'trainLabels.csv.zip'"
      ]
     },
     "execution_count": 5,
     "metadata": {},
     "output_type": "execute_result"
    }
   ],
   "source": [
    "images"
   ]
  },
  {
   "cell_type": "code",
   "execution_count": 6,
   "metadata": {},
   "outputs": [],
   "source": [
    "train_labels = pd.read_csv('./retinopathy detection dataset/trainLabels.csv')"
   ]
  },
  {
   "cell_type": "code",
   "execution_count": 7,
   "metadata": {},
   "outputs": [
    {
     "data": {
      "text/html": [
       "<div>\n",
       "<style scoped>\n",
       "    .dataframe tbody tr th:only-of-type {\n",
       "        vertical-align: middle;\n",
       "    }\n",
       "\n",
       "    .dataframe tbody tr th {\n",
       "        vertical-align: top;\n",
       "    }\n",
       "\n",
       "    .dataframe thead th {\n",
       "        text-align: right;\n",
       "    }\n",
       "</style>\n",
       "<table border=\"1\" class=\"dataframe\">\n",
       "  <thead>\n",
       "    <tr style=\"text-align: right;\">\n",
       "      <th></th>\n",
       "      <th>image</th>\n",
       "      <th>level</th>\n",
       "    </tr>\n",
       "  </thead>\n",
       "  <tbody>\n",
       "    <tr>\n",
       "      <th>0</th>\n",
       "      <td>10_left</td>\n",
       "      <td>0</td>\n",
       "    </tr>\n",
       "    <tr>\n",
       "      <th>1</th>\n",
       "      <td>10_right</td>\n",
       "      <td>0</td>\n",
       "    </tr>\n",
       "    <tr>\n",
       "      <th>2</th>\n",
       "      <td>13_left</td>\n",
       "      <td>0</td>\n",
       "    </tr>\n",
       "    <tr>\n",
       "      <th>3</th>\n",
       "      <td>13_right</td>\n",
       "      <td>0</td>\n",
       "    </tr>\n",
       "    <tr>\n",
       "      <th>4</th>\n",
       "      <td>15_left</td>\n",
       "      <td>1</td>\n",
       "    </tr>\n",
       "  </tbody>\n",
       "</table>\n",
       "</div>"
      ],
      "text/plain": [
       "      image  level\n",
       "0   10_left      0\n",
       "1  10_right      0\n",
       "2   13_left      0\n",
       "3  13_right      0\n",
       "4   15_left      1"
      ]
     },
     "execution_count": 7,
     "metadata": {},
     "output_type": "execute_result"
    }
   ],
   "source": [
    "train_labels.head()"
   ]
  },
  {
   "cell_type": "code",
   "execution_count": 8,
   "metadata": {},
   "outputs": [
    {
     "data": {
      "text/plain": [
       "5531"
      ]
     },
     "execution_count": 8,
     "metadata": {},
     "output_type": "execute_result"
    }
   ],
   "source": [
    "np.size(os.listdir(\"./retinopathy detection dataset/resized_train_1\"))"
   ]
  },
  {
   "cell_type": "raw",
   "metadata": {},
   "source": []
  },
  {
   "cell_type": "code",
   "execution_count": 9,
   "metadata": {},
   "outputs": [
    {
     "name": "stderr",
     "output_type": "stream",
     "text": [
      "Using TensorFlow backend.\n"
     ]
    }
   ],
   "source": [
    "from PIL import Image\n",
    "from keras.applications.vgg16 import preprocess_input\n",
    "from keras.preprocessing import image"
   ]
  },
  {
   "cell_type": "code",
   "execution_count": 10,
   "metadata": {},
   "outputs": [
    {
     "data": {
      "text/plain": [
       "5531"
      ]
     },
     "execution_count": 10,
     "metadata": {},
     "output_type": "execute_result"
    }
   ],
   "source": [
    "lst = os.listdir(\"./retinopathy detection dataset/resized_train_1\")\n",
    "np.size(lst)"
   ]
  },
  {
   "cell_type": "code",
   "execution_count": 11,
   "metadata": {},
   "outputs": [],
   "source": [
    "immatrix = []\n",
    "imlabels = []"
   ]
  },
  {
   "cell_type": "code",
   "execution_count": 12,
   "metadata": {},
   "outputs": [],
   "source": [
    "rows,cols = 224,224"
   ]
  },
  {
   "cell_type": "code",
   "execution_count": 13,
   "metadata": {},
   "outputs": [
    {
     "name": "stderr",
     "output_type": "stream",
     "text": [
      "\r",
      "  0%|                                                                                         | 0/5531 [00:00<?, ?it/s]"
     ]
    },
    {
     "name": "stdout",
     "output_type": "stream",
     "text": [
      "24087_left.jpeg\n"
     ]
    },
    {
     "name": "stderr",
     "output_type": "stream",
     "text": [
      "\r",
      "  0%|                                                                                 | 1/5531 [00:00<14:42,  6.27it/s]"
     ]
    },
    {
     "name": "stdout",
     "output_type": "stream",
     "text": [
      "24087_right.jpeg\n",
      "24088_left.jpeg\n",
      "24088_right.jpeg\n",
      "24089_left.jpeg\n"
     ]
    },
    {
     "name": "stderr",
     "output_type": "stream",
     "text": [
      "\r",
      "  0%|                                                                                 | 5/5531 [00:00<11:10,  8.24it/s]"
     ]
    },
    {
     "name": "stdout",
     "output_type": "stream",
     "text": [
      "24089_right.jpeg\n",
      "24090_left.jpeg\n",
      "24090_right.jpeg\n",
      "24092_left.jpeg\n"
     ]
    },
    {
     "name": "stderr",
     "output_type": "stream",
     "text": [
      "\r",
      "  0%|▏                                                                                | 9/5531 [00:00<08:31, 10.80it/s]"
     ]
    },
    {
     "name": "stdout",
     "output_type": "stream",
     "text": [
      "24092_right.jpeg\n",
      "24094_left.jpeg\n",
      "24094_right.jpeg\n",
      "24095_left.jpeg\n"
     ]
    },
    {
     "name": "stderr",
     "output_type": "stream",
     "text": [
      "\r",
      "  0%|▏                                                                               | 13/5531 [00:00<06:44, 13.63it/s]"
     ]
    },
    {
     "name": "stdout",
     "output_type": "stream",
     "text": [
      "24095_right.jpeg\n",
      "24102_left.jpeg\n",
      "24102_right.jpeg\n"
     ]
    },
    {
     "name": "stderr",
     "output_type": "stream",
     "text": [
      "\r",
      "  0%|▏                                                                               | 16/5531 [00:00<05:44, 15.99it/s]"
     ]
    },
    {
     "name": "stdout",
     "output_type": "stream",
     "text": [
      "24104_left.jpeg\n",
      "24104_right.jpeg\n",
      "24106_left.jpeg\n",
      "24106_right.jpeg\n"
     ]
    },
    {
     "name": "stderr",
     "output_type": "stream",
     "text": [
      "\r",
      "  0%|▎                                                                               | 20/5531 [00:00<04:43, 19.45it/s]"
     ]
    },
    {
     "name": "stdout",
     "output_type": "stream",
     "text": [
      "24107_left.jpeg\n",
      "24107_right.jpeg\n",
      "24111_left.jpeg\n",
      "24111_right.jpeg\n",
      "24115_left.jpeg\n"
     ]
    },
    {
     "name": "stderr",
     "output_type": "stream",
     "text": [
      "\r",
      "  0%|▎                                                                               | 25/5531 [00:00<04:00, 22.88it/s]"
     ]
    },
    {
     "name": "stdout",
     "output_type": "stream",
     "text": [
      "24115_right.jpeg\n",
      "24117_left.jpeg\n",
      "24117_right.jpeg\n",
      "24119_left.jpeg\n"
     ]
    },
    {
     "name": "stderr",
     "output_type": "stream",
     "text": [
      "\r",
      "  1%|▍                                                                               | 29/5531 [00:00<03:46, 24.31it/s]"
     ]
    },
    {
     "name": "stdout",
     "output_type": "stream",
     "text": [
      "24119_right.jpeg\n",
      "24126_left.jpeg\n",
      "24126_right.jpeg\n",
      "24127_left.jpeg\n"
     ]
    },
    {
     "name": "stderr",
     "output_type": "stream",
     "text": [
      "\r",
      "  1%|▍                                                                               | 33/5531 [00:01<03:39, 25.08it/s]"
     ]
    },
    {
     "name": "stdout",
     "output_type": "stream",
     "text": [
      "24127_right.jpeg\n",
      "24130_left.jpeg\n",
      "24130_right.jpeg\n",
      "24134_left.jpeg\n"
     ]
    },
    {
     "name": "stderr",
     "output_type": "stream",
     "text": [
      "\r",
      "  1%|▌                                                                               | 37/5531 [00:01<03:35, 25.51it/s]"
     ]
    },
    {
     "name": "stdout",
     "output_type": "stream",
     "text": [
      "24134_right.jpeg\n",
      "24137_left.jpeg\n",
      "24137_right.jpeg\n",
      "24138_left.jpeg\n"
     ]
    },
    {
     "name": "stderr",
     "output_type": "stream",
     "text": [
      "\r",
      "  1%|▌                                                                               | 41/5531 [00:01<03:27, 26.43it/s]"
     ]
    },
    {
     "name": "stdout",
     "output_type": "stream",
     "text": [
      "24138_right.jpeg\n",
      "24140_left.jpeg\n",
      "24140_right.jpeg\n"
     ]
    },
    {
     "name": "stderr",
     "output_type": "stream",
     "text": [
      "\r",
      "  1%|▋                                                                               | 44/5531 [00:01<03:29, 26.14it/s]"
     ]
    },
    {
     "name": "stdout",
     "output_type": "stream",
     "text": [
      "24141_left.jpeg\n",
      "24141_right.jpeg\n",
      "24142_left.jpeg\n"
     ]
    },
    {
     "name": "stderr",
     "output_type": "stream",
     "text": [
      "\r",
      "  1%|▋                                                                               | 47/5531 [00:01<03:24, 26.77it/s]"
     ]
    },
    {
     "name": "stdout",
     "output_type": "stream",
     "text": [
      "24142_right.jpeg\n",
      "24144_left.jpeg\n",
      "24144_right.jpeg\n",
      "24147_left.jpeg\n"
     ]
    },
    {
     "name": "stderr",
     "output_type": "stream",
     "text": [
      "\r",
      "  1%|▋                                                                               | 51/5531 [00:01<03:17, 27.76it/s]"
     ]
    },
    {
     "name": "stdout",
     "output_type": "stream",
     "text": [
      "24147_right.jpeg\n",
      "24148_left.jpeg\n",
      "24148_right.jpeg\n",
      "24150_left.jpeg\n"
     ]
    },
    {
     "name": "stderr",
     "output_type": "stream",
     "text": [
      "\r",
      "  1%|▊                                                                               | 55/5531 [00:01<03:17, 27.67it/s]"
     ]
    },
    {
     "name": "stdout",
     "output_type": "stream",
     "text": [
      "24150_right.jpeg\n",
      "24152_left.jpeg\n",
      "24152_right.jpeg\n",
      "24155_left.jpeg\n"
     ]
    },
    {
     "name": "stderr",
     "output_type": "stream",
     "text": [
      "\r",
      "  1%|▊                                                                               | 59/5531 [00:02<03:05, 29.50it/s]"
     ]
    },
    {
     "name": "stdout",
     "output_type": "stream",
     "text": [
      "24155_right.jpeg\n",
      "24156_left.jpeg\n",
      "24156_right.jpeg\n",
      "24157_left.jpeg\n"
     ]
    },
    {
     "name": "stderr",
     "output_type": "stream",
     "text": [
      "\r",
      "  1%|▉                                                                               | 63/5531 [00:02<03:07, 29.18it/s]"
     ]
    },
    {
     "name": "stdout",
     "output_type": "stream",
     "text": [
      "24157_right.jpeg\n",
      "24159_left.jpeg\n",
      "24159_right.jpeg\n",
      "24163_left.jpeg\n"
     ]
    },
    {
     "name": "stderr",
     "output_type": "stream",
     "text": [
      "\r",
      "  1%|▉                                                                               | 67/5531 [00:02<02:56, 30.96it/s]"
     ]
    },
    {
     "name": "stdout",
     "output_type": "stream",
     "text": [
      "24163_right.jpeg\n",
      "24166_left.jpeg\n",
      "24166_right.jpeg\n",
      "24168_left.jpeg\n"
     ]
    },
    {
     "name": "stderr",
     "output_type": "stream",
     "text": [
      "\r",
      "  1%|█                                                                               | 71/5531 [00:02<02:49, 32.27it/s]"
     ]
    },
    {
     "name": "stdout",
     "output_type": "stream",
     "text": [
      "24168_right.jpeg\n",
      "24170_left.jpeg\n",
      "24170_right.jpeg\n",
      "24171_left.jpeg\n"
     ]
    },
    {
     "name": "stderr",
     "output_type": "stream",
     "text": [
      "\r",
      "  1%|█                                                                               | 75/5531 [00:02<02:41, 33.76it/s]"
     ]
    },
    {
     "name": "stdout",
     "output_type": "stream",
     "text": [
      "24171_right.jpeg\n",
      "24173_left.jpeg\n",
      "24173_right.jpeg\n",
      "24179_left.jpeg\n"
     ]
    },
    {
     "name": "stderr",
     "output_type": "stream",
     "text": [
      "\r",
      "  1%|█▏                                                                              | 79/5531 [00:02<02:39, 34.18it/s]"
     ]
    },
    {
     "name": "stdout",
     "output_type": "stream",
     "text": [
      "24179_right.jpeg\n",
      "24186_left.jpeg\n",
      "24186_right.jpeg\n",
      "24191_left.jpeg\n",
      "24191_right.jpeg\n"
     ]
    },
    {
     "name": "stderr",
     "output_type": "stream",
     "text": [
      "\r",
      "  2%|█▏                                                                              | 84/5531 [00:02<02:25, 37.53it/s]"
     ]
    },
    {
     "name": "stdout",
     "output_type": "stream",
     "text": [
      "24193_left.jpeg\n",
      "24193_right.jpeg\n",
      "24197_left.jpeg\n",
      "24197_right.jpeg\n"
     ]
    },
    {
     "name": "stderr",
     "output_type": "stream",
     "text": [
      "\r",
      "  2%|█▎                                                                              | 88/5531 [00:02<02:27, 36.89it/s]"
     ]
    },
    {
     "name": "stdout",
     "output_type": "stream",
     "text": [
      "24199_left.jpeg\n",
      "24199_right.jpeg\n",
      "24201_left.jpeg\n",
      "24201_right.jpeg\n"
     ]
    },
    {
     "name": "stderr",
     "output_type": "stream",
     "text": [
      "\r",
      "  2%|█▎                                                                              | 92/5531 [00:02<02:34, 35.12it/s]"
     ]
    },
    {
     "name": "stdout",
     "output_type": "stream",
     "text": [
      "24202_left.jpeg\n",
      "24202_right.jpeg\n",
      "24203_left.jpeg\n",
      "24203_right.jpeg\n"
     ]
    },
    {
     "name": "stderr",
     "output_type": "stream",
     "text": [
      "\r",
      "  2%|█▍                                                                              | 96/5531 [00:03<02:32, 35.70it/s]"
     ]
    },
    {
     "name": "stdout",
     "output_type": "stream",
     "text": [
      "24206_left.jpeg\n",
      "24206_right.jpeg\n",
      "24207_left.jpeg\n",
      "24207_right.jpeg\n"
     ]
    },
    {
     "name": "stderr",
     "output_type": "stream",
     "text": [
      "\r",
      "  2%|█▍                                                                             | 100/5531 [00:03<02:44, 33.00it/s]"
     ]
    },
    {
     "name": "stdout",
     "output_type": "stream",
     "text": [
      "24208_left.jpeg\n",
      "24208_right.jpeg\n",
      "24209_left.jpeg\n",
      "24209_right.jpeg\n"
     ]
    },
    {
     "name": "stderr",
     "output_type": "stream",
     "text": [
      "\r",
      "  2%|█▍                                                                             | 104/5531 [00:03<02:51, 31.63it/s]"
     ]
    },
    {
     "name": "stdout",
     "output_type": "stream",
     "text": [
      "24210_left.jpeg\n",
      "24210_right.jpeg\n",
      "24213_left.jpeg\n",
      "24213_right.jpeg\n",
      "24214_left.jpeg\n"
     ]
    },
    {
     "name": "stderr",
     "output_type": "stream",
     "text": [
      "\r",
      "  2%|█▌                                                                             | 109/5531 [00:03<02:40, 33.69it/s]"
     ]
    },
    {
     "name": "stdout",
     "output_type": "stream",
     "text": [
      "24214_right.jpeg\n",
      "24215_left.jpeg\n",
      "24215_right.jpeg\n",
      "24218_left.jpeg\n"
     ]
    },
    {
     "name": "stderr",
     "output_type": "stream",
     "text": [
      "\r",
      "  2%|█▌                                                                             | 113/5531 [00:03<02:35, 34.93it/s]"
     ]
    },
    {
     "name": "stdout",
     "output_type": "stream",
     "text": [
      "24218_right.jpeg\n",
      "24221_left.jpeg\n",
      "24221_right.jpeg\n",
      "24222_left.jpeg\n"
     ]
    },
    {
     "name": "stderr",
     "output_type": "stream",
     "text": [
      "\r",
      "  2%|█▋                                                                             | 117/5531 [00:03<02:34, 35.09it/s]"
     ]
    },
    {
     "name": "stdout",
     "output_type": "stream",
     "text": [
      "24222_right.jpeg\n",
      "24224_left.jpeg\n",
      "24224_right.jpeg\n",
      "24227_left.jpeg\n"
     ]
    },
    {
     "name": "stderr",
     "output_type": "stream",
     "text": [
      "\r",
      "  2%|█▋                                                                             | 121/5531 [00:03<02:33, 35.22it/s]"
     ]
    },
    {
     "name": "stdout",
     "output_type": "stream",
     "text": [
      "24227_right.jpeg\n",
      "24230_left.jpeg\n",
      "24230_right.jpeg\n",
      "24232_left.jpeg\n"
     ]
    },
    {
     "name": "stderr",
     "output_type": "stream",
     "text": [
      "\r",
      "  2%|█▊                                                                             | 125/5531 [00:03<02:54, 30.96it/s]"
     ]
    },
    {
     "name": "stdout",
     "output_type": "stream",
     "text": [
      "24232_right.jpeg\n",
      "24233_left.jpeg\n",
      "24233_right.jpeg\n",
      "24234_left.jpeg\n"
     ]
    },
    {
     "name": "stderr",
     "output_type": "stream",
     "text": [
      "\r",
      "  2%|█▊                                                                             | 129/5531 [00:04<02:54, 30.93it/s]"
     ]
    },
    {
     "name": "stdout",
     "output_type": "stream",
     "text": [
      "24234_right.jpeg\n",
      "24237_left.jpeg\n",
      "24237_right.jpeg\n",
      "24238_left.jpeg\n"
     ]
    },
    {
     "name": "stderr",
     "output_type": "stream",
     "text": [
      "\r",
      "  2%|█▉                                                                             | 133/5531 [00:04<02:58, 30.28it/s]"
     ]
    },
    {
     "name": "stdout",
     "output_type": "stream",
     "text": [
      "24238_right.jpeg\n",
      "24241_left.jpeg\n",
      "24241_right.jpeg\n",
      "24242_left.jpeg\n",
      "24242_right.jpeg\n"
     ]
    },
    {
     "name": "stderr",
     "output_type": "stream",
     "text": [
      "\r",
      "  2%|█▉                                                                             | 138/5531 [00:04<02:40, 33.53it/s]"
     ]
    },
    {
     "name": "stdout",
     "output_type": "stream",
     "text": [
      "24243_left.jpeg\n",
      "24243_right.jpeg\n",
      "24246_left.jpeg\n",
      "24246_right.jpeg\n",
      "24247_left.jpeg\n",
      "24247_right.jpeg\n"
     ]
    },
    {
     "name": "stderr",
     "output_type": "stream",
     "text": [
      "\r",
      "  3%|██                                                                             | 144/5531 [00:04<02:25, 37.09it/s]"
     ]
    },
    {
     "name": "stdout",
     "output_type": "stream",
     "text": [
      "24249_left.jpeg\n",
      "24249_right.jpeg\n",
      "24252_left.jpeg\n",
      "24252_right.jpeg\n"
     ]
    },
    {
     "name": "stderr",
     "output_type": "stream",
     "text": [
      "\r",
      "  3%|██                                                                             | 148/5531 [00:04<02:33, 35.15it/s]"
     ]
    },
    {
     "name": "stdout",
     "output_type": "stream",
     "text": [
      "24256_left.jpeg\n",
      "24256_right.jpeg\n",
      "24257_left.jpeg\n",
      "24257_right.jpeg\n",
      "24259_left.jpeg\n"
     ]
    },
    {
     "name": "stderr",
     "output_type": "stream",
     "text": [
      "\r",
      "  3%|██▏                                                                            | 153/5531 [00:04<02:29, 35.88it/s]"
     ]
    },
    {
     "name": "stdout",
     "output_type": "stream",
     "text": [
      "24259_right.jpeg\n",
      "24261_left.jpeg\n",
      "24261_right.jpeg\n",
      "24262_left.jpeg\n"
     ]
    },
    {
     "name": "stderr",
     "output_type": "stream",
     "text": [
      "\r",
      "  3%|██▏                                                                            | 157/5531 [00:04<02:45, 32.38it/s]"
     ]
    },
    {
     "name": "stdout",
     "output_type": "stream",
     "text": [
      "24262_right.jpeg\n",
      "24263_left.jpeg\n",
      "24263_right.jpeg\n",
      "24266_left.jpeg\n"
     ]
    },
    {
     "name": "stderr",
     "output_type": "stream",
     "text": [
      "\r",
      "  3%|██▎                                                                            | 161/5531 [00:04<02:39, 33.68it/s]"
     ]
    },
    {
     "name": "stdout",
     "output_type": "stream",
     "text": [
      "24266_right.jpeg\n",
      "24268_left.jpeg\n",
      "24268_right.jpeg\n",
      "24270_left.jpeg\n",
      "24270_right.jpeg\n"
     ]
    },
    {
     "name": "stderr",
     "output_type": "stream",
     "text": [
      "\r",
      "  3%|██▎                                                                            | 166/5531 [00:05<02:25, 36.94it/s]"
     ]
    },
    {
     "name": "stdout",
     "output_type": "stream",
     "text": [
      "24273_left.jpeg\n",
      "24273_right.jpeg\n",
      "24279_left.jpeg\n",
      "24279_right.jpeg\n"
     ]
    },
    {
     "name": "stderr",
     "output_type": "stream",
     "text": [
      "\r",
      "  3%|██▍                                                                            | 170/5531 [00:05<02:36, 34.25it/s]"
     ]
    },
    {
     "name": "stdout",
     "output_type": "stream",
     "text": [
      "24284_left.jpeg\n",
      "24284_right.jpeg\n",
      "24292_left.jpeg\n",
      "24292_right.jpeg\n"
     ]
    },
    {
     "name": "stderr",
     "output_type": "stream",
     "text": [
      "\r",
      "  3%|██▍                                                                            | 174/5531 [00:05<02:38, 33.74it/s]"
     ]
    },
    {
     "name": "stdout",
     "output_type": "stream",
     "text": [
      "24297_left.jpeg\n",
      "24297_right.jpeg\n",
      "24298_left.jpeg\n",
      "24298_right.jpeg\n",
      "24299_left.jpeg\n"
     ]
    },
    {
     "name": "stderr",
     "output_type": "stream",
     "text": [
      "\r",
      "  3%|██▌                                                                            | 179/5531 [00:05<02:25, 36.67it/s]"
     ]
    },
    {
     "name": "stdout",
     "output_type": "stream",
     "text": [
      "24299_right.jpeg\n",
      "24301_left.jpeg\n",
      "24301_right.jpeg\n",
      "24302_left.jpeg\n"
     ]
    },
    {
     "name": "stderr",
     "output_type": "stream",
     "text": [
      "\r",
      "  3%|██▌                                                                            | 183/5531 [00:05<02:22, 37.53it/s]"
     ]
    },
    {
     "name": "stdout",
     "output_type": "stream",
     "text": [
      "24302_right.jpeg\n",
      "24304_left.jpeg\n",
      "24304_right.jpeg\n",
      "24305_left.jpeg\n"
     ]
    },
    {
     "name": "stderr",
     "output_type": "stream",
     "text": [
      "\r",
      "  3%|██▋                                                                            | 187/5531 [00:05<02:28, 36.06it/s]"
     ]
    },
    {
     "name": "stdout",
     "output_type": "stream",
     "text": [
      "24305_right.jpeg\n",
      "24310_left.jpeg\n",
      "24310_right.jpeg\n",
      "24314_left.jpeg\n",
      "24314_right.jpeg\n"
     ]
    },
    {
     "name": "stderr",
     "output_type": "stream",
     "text": [
      "\r",
      "  3%|██▋                                                                            | 192/5531 [00:05<02:17, 38.83it/s]"
     ]
    },
    {
     "name": "stdout",
     "output_type": "stream",
     "text": [
      "24317_left.jpeg\n",
      "24317_right.jpeg\n",
      "24318_left.jpeg\n",
      "24318_right.jpeg\n",
      "24325_left.jpeg\n"
     ]
    },
    {
     "name": "stderr",
     "output_type": "stream",
     "text": [
      "\r",
      "  4%|██▊                                                                            | 197/5531 [00:05<02:08, 41.44it/s]"
     ]
    },
    {
     "name": "stdout",
     "output_type": "stream",
     "text": [
      "24325_right.jpeg\n",
      "24327_left.jpeg\n",
      "24327_right.jpeg\n",
      "24328_left.jpeg\n",
      "24328_right.jpeg\n"
     ]
    },
    {
     "name": "stderr",
     "output_type": "stream",
     "text": [
      "\r",
      "  4%|██▉                                                                            | 202/5531 [00:05<02:02, 43.60it/s]"
     ]
    },
    {
     "name": "stdout",
     "output_type": "stream",
     "text": [
      "24334_left.jpeg\n",
      "24334_right.jpeg\n",
      "24335_left.jpeg\n",
      "24335_right.jpeg\n",
      "24336_left.jpeg\n"
     ]
    },
    {
     "name": "stderr",
     "output_type": "stream",
     "text": [
      "\r",
      "  4%|██▉                                                                            | 207/5531 [00:06<01:59, 44.53it/s]"
     ]
    },
    {
     "name": "stdout",
     "output_type": "stream",
     "text": [
      "24336_right.jpeg\n",
      "24339_left.jpeg\n",
      "24339_right.jpeg\n",
      "24340_left.jpeg\n",
      "24340_right.jpeg\n"
     ]
    },
    {
     "name": "stderr",
     "output_type": "stream",
     "text": [
      "\r",
      "  4%|███                                                                            | 212/5531 [00:06<02:08, 41.29it/s]"
     ]
    },
    {
     "name": "stdout",
     "output_type": "stream",
     "text": [
      "24341_left.jpeg\n",
      "24341_right.jpeg\n",
      "24343_left.jpeg\n",
      "24343_right.jpeg\n",
      "24346_left.jpeg\n",
      "24346_right.jpeg\n"
     ]
    },
    {
     "name": "stderr",
     "output_type": "stream",
     "text": [
      "\r",
      "  4%|███                                                                            | 218/5531 [00:06<02:02, 43.51it/s]"
     ]
    },
    {
     "name": "stdout",
     "output_type": "stream",
     "text": [
      "24353_left.jpeg\n",
      "24353_right.jpeg\n",
      "24355_left.jpeg\n",
      "24355_right.jpeg\n",
      "24367_left.jpeg\n"
     ]
    },
    {
     "name": "stderr",
     "output_type": "stream",
     "text": [
      "\r",
      "  4%|███▏                                                                           | 223/5531 [00:06<02:03, 43.08it/s]"
     ]
    },
    {
     "name": "stdout",
     "output_type": "stream",
     "text": [
      "24367_right.jpeg\n",
      "24368_left.jpeg\n",
      "24368_right.jpeg\n",
      "24369_left.jpeg\n",
      "24369_right.jpeg\n",
      "24378_left.jpeg\n"
     ]
    },
    {
     "name": "stderr",
     "output_type": "stream",
     "text": [
      "\r",
      "  4%|███▎                                                                           | 229/5531 [00:06<01:53, 46.65it/s]"
     ]
    },
    {
     "name": "stdout",
     "output_type": "stream",
     "text": [
      "24378_right.jpeg\n",
      "24381_left.jpeg\n",
      "24381_right.jpeg\n",
      "24384_left.jpeg\n",
      "24384_right.jpeg\n",
      "24386_left.jpeg\n"
     ]
    },
    {
     "name": "stderr",
     "output_type": "stream",
     "text": [
      "\r",
      "  4%|███▎                                                                           | 235/5531 [00:06<01:49, 48.45it/s]"
     ]
    },
    {
     "name": "stdout",
     "output_type": "stream",
     "text": [
      "24386_right.jpeg\n",
      "24387_left.jpeg\n",
      "24387_right.jpeg\n",
      "24391_left.jpeg\n",
      "24391_right.jpeg\n"
     ]
    },
    {
     "name": "stderr",
     "output_type": "stream",
     "text": [
      "\r",
      "  4%|███▍                                                                           | 240/5531 [00:06<02:01, 43.59it/s]"
     ]
    },
    {
     "name": "stdout",
     "output_type": "stream",
     "text": [
      "24392_left.jpeg\n",
      "24392_right.jpeg\n",
      "24393_left.jpeg\n",
      "24393_right.jpeg\n",
      "24394_left.jpeg\n"
     ]
    },
    {
     "name": "stderr",
     "output_type": "stream",
     "text": [
      "\r",
      "  4%|███▍                                                                           | 245/5531 [00:06<02:07, 41.43it/s]"
     ]
    },
    {
     "name": "stdout",
     "output_type": "stream",
     "text": [
      "24394_right.jpeg\n",
      "24397_left.jpeg\n",
      "24397_right.jpeg\n",
      "24398_left.jpeg\n",
      "24398_right.jpeg\n"
     ]
    },
    {
     "name": "stderr",
     "output_type": "stream",
     "text": [
      "\r",
      "  5%|███▌                                                                           | 250/5531 [00:07<02:19, 37.78it/s]"
     ]
    },
    {
     "name": "stdout",
     "output_type": "stream",
     "text": [
      "24401_left.jpeg\n",
      "24401_right.jpeg\n",
      "24402_left.jpeg\n",
      "24402_right.jpeg\n"
     ]
    },
    {
     "name": "stderr",
     "output_type": "stream",
     "text": [
      "\r",
      "  5%|███▋                                                                           | 254/5531 [00:07<02:24, 36.46it/s]"
     ]
    },
    {
     "name": "stdout",
     "output_type": "stream",
     "text": [
      "24403_left.jpeg\n",
      "24403_right.jpeg\n",
      "24405_left.jpeg\n",
      "24405_right.jpeg\n",
      "24406_left.jpeg\n"
     ]
    },
    {
     "name": "stderr",
     "output_type": "stream",
     "text": [
      "\r",
      "  5%|███▋                                                                           | 259/5531 [00:07<02:22, 36.90it/s]"
     ]
    },
    {
     "name": "stdout",
     "output_type": "stream",
     "text": [
      "24406_right.jpeg\n",
      "24408_left.jpeg\n",
      "24408_right.jpeg\n",
      "24410_left.jpeg\n"
     ]
    },
    {
     "name": "stderr",
     "output_type": "stream",
     "text": [
      "\r",
      "  5%|███▊                                                                           | 263/5531 [00:07<02:25, 36.17it/s]"
     ]
    },
    {
     "name": "stdout",
     "output_type": "stream",
     "text": [
      "24410_right.jpeg\n",
      "24412_left.jpeg\n",
      "24412_right.jpeg\n",
      "24416_left.jpeg\n",
      "24416_right.jpeg\n"
     ]
    },
    {
     "name": "stderr",
     "output_type": "stream",
     "text": [
      "\r",
      "  5%|███▊                                                                           | 268/5531 [00:07<02:24, 36.45it/s]"
     ]
    },
    {
     "name": "stdout",
     "output_type": "stream",
     "text": [
      "24418_left.jpeg\n",
      "24418_right.jpeg\n",
      "24419_left.jpeg\n",
      "24419_right.jpeg\n",
      "24420_left.jpeg\n"
     ]
    },
    {
     "name": "stderr",
     "output_type": "stream",
     "text": [
      "\r",
      "  5%|███▉                                                                           | 273/5531 [00:07<02:19, 37.73it/s]"
     ]
    },
    {
     "name": "stdout",
     "output_type": "stream",
     "text": [
      "24420_right.jpeg\n",
      "24421_left.jpeg\n",
      "24421_right.jpeg\n",
      "24422_left.jpeg\n"
     ]
    },
    {
     "name": "stderr",
     "output_type": "stream",
     "text": [
      "\r",
      "  5%|███▉                                                                           | 277/5531 [00:07<02:25, 36.23it/s]"
     ]
    },
    {
     "name": "stdout",
     "output_type": "stream",
     "text": [
      "24422_right.jpeg\n",
      "24424_left.jpeg\n",
      "24424_right.jpeg\n",
      "24425_left.jpeg\n",
      "24425_right.jpeg\n"
     ]
    },
    {
     "name": "stderr",
     "output_type": "stream",
     "text": [
      "\r",
      "  5%|████                                                                           | 282/5531 [00:07<02:16, 38.34it/s]"
     ]
    },
    {
     "name": "stdout",
     "output_type": "stream",
     "text": [
      "24437_left.jpeg\n",
      "24437_right.jpeg\n",
      "24438_left.jpeg\n",
      "24438_right.jpeg\n",
      "24446_left.jpeg\n"
     ]
    },
    {
     "name": "stderr",
     "output_type": "stream",
     "text": [
      "\r",
      "  5%|████                                                                           | 287/5531 [00:08<02:14, 39.12it/s]"
     ]
    },
    {
     "name": "stdout",
     "output_type": "stream",
     "text": [
      "24446_right.jpeg\n",
      "24447_left.jpeg\n",
      "24447_right.jpeg\n",
      "24449_left.jpeg\n"
     ]
    },
    {
     "name": "stderr",
     "output_type": "stream",
     "text": [
      "\r",
      "  5%|████▏                                                                          | 291/5531 [00:08<02:22, 36.71it/s]"
     ]
    },
    {
     "name": "stdout",
     "output_type": "stream",
     "text": [
      "24449_right.jpeg\n",
      "24450_left.jpeg\n",
      "24450_right.jpeg\n",
      "24453_left.jpeg\n",
      "24453_right.jpeg\n"
     ]
    },
    {
     "name": "stderr",
     "output_type": "stream",
     "text": [
      "\r",
      "  5%|████▏                                                                          | 296/5531 [00:08<02:20, 37.25it/s]"
     ]
    },
    {
     "name": "stdout",
     "output_type": "stream",
     "text": [
      "24457_left.jpeg\n",
      "24457_right.jpeg\n",
      "24460_left.jpeg\n",
      "24460_right.jpeg\n",
      "24461_left.jpeg\n"
     ]
    },
    {
     "name": "stderr",
     "output_type": "stream",
     "text": [
      "\r",
      "  5%|████▎                                                                          | 301/5531 [00:08<02:11, 39.78it/s]"
     ]
    },
    {
     "name": "stdout",
     "output_type": "stream",
     "text": [
      "24461_right.jpeg\n",
      "24464_left.jpeg\n",
      "24464_right.jpeg\n",
      "24468_left.jpeg\n",
      "24468_right.jpeg\n"
     ]
    },
    {
     "name": "stderr",
     "output_type": "stream",
     "text": [
      "\r",
      "  6%|████▎                                                                          | 306/5531 [00:08<02:11, 39.60it/s]"
     ]
    },
    {
     "name": "stdout",
     "output_type": "stream",
     "text": [
      "24469_left.jpeg\n",
      "24469_right.jpeg\n",
      "24472_left.jpeg\n",
      "24472_right.jpeg\n",
      "24474_left.jpeg\n"
     ]
    },
    {
     "name": "stderr",
     "output_type": "stream",
     "text": [
      "\r",
      "  6%|████▍                                                                          | 311/5531 [00:08<02:28, 35.15it/s]"
     ]
    },
    {
     "name": "stdout",
     "output_type": "stream",
     "text": [
      "24474_right.jpeg\n",
      "24476_left.jpeg\n",
      "24476_right.jpeg\n",
      "24478_left.jpeg\n"
     ]
    },
    {
     "name": "stderr",
     "output_type": "stream",
     "text": [
      "\r",
      "  6%|████▍                                                                          | 315/5531 [00:08<02:34, 33.82it/s]"
     ]
    },
    {
     "name": "stdout",
     "output_type": "stream",
     "text": [
      "24478_right.jpeg\n",
      "24480_left.jpeg\n",
      "24480_right.jpeg\n",
      "24484_left.jpeg\n"
     ]
    },
    {
     "name": "stderr",
     "output_type": "stream",
     "text": [
      "\r",
      "  6%|████▌                                                                          | 319/5531 [00:09<02:33, 33.96it/s]"
     ]
    },
    {
     "name": "stdout",
     "output_type": "stream",
     "text": [
      "24484_right.jpeg\n",
      "24485_left.jpeg\n",
      "24485_right.jpeg\n",
      "24488_left.jpeg\n"
     ]
    },
    {
     "name": "stderr",
     "output_type": "stream",
     "text": [
      "\r",
      "  6%|████▌                                                                          | 323/5531 [00:09<02:32, 34.14it/s]"
     ]
    },
    {
     "name": "stdout",
     "output_type": "stream",
     "text": [
      "24488_right.jpeg\n",
      "24490_left.jpeg\n",
      "24490_right.jpeg\n",
      "24491_left.jpeg\n"
     ]
    },
    {
     "name": "stderr",
     "output_type": "stream",
     "text": [
      "\r",
      "  6%|████▋                                                                          | 327/5531 [00:09<02:41, 32.28it/s]"
     ]
    },
    {
     "name": "stdout",
     "output_type": "stream",
     "text": [
      "24491_right.jpeg\n",
      "24492_left.jpeg\n",
      "24492_right.jpeg\n",
      "24503_left.jpeg\n"
     ]
    },
    {
     "name": "stderr",
     "output_type": "stream",
     "text": [
      "\r",
      "  6%|████▋                                                                          | 331/5531 [00:09<02:36, 33.27it/s]"
     ]
    },
    {
     "name": "stdout",
     "output_type": "stream",
     "text": [
      "24503_right.jpeg\n",
      "24509_left.jpeg\n",
      "24509_right.jpeg\n",
      "24510_left.jpeg\n"
     ]
    },
    {
     "name": "stderr",
     "output_type": "stream",
     "text": [
      "\r",
      "  6%|████▊                                                                          | 335/5531 [00:09<02:32, 34.16it/s]"
     ]
    },
    {
     "name": "stdout",
     "output_type": "stream",
     "text": [
      "24510_right.jpeg\n",
      "24518_left.jpeg\n",
      "24518_right.jpeg\n",
      "24520_left.jpeg\n",
      "24520_right.jpeg\n"
     ]
    },
    {
     "name": "stderr",
     "output_type": "stream",
     "text": [
      "\r",
      "  6%|████▊                                                                          | 340/5531 [00:09<02:24, 35.99it/s]"
     ]
    },
    {
     "name": "stdout",
     "output_type": "stream",
     "text": [
      "24522_left.jpeg\n",
      "24522_right.jpeg\n",
      "24523_left.jpeg\n",
      "24523_right.jpeg\n",
      "24524_left.jpeg\n"
     ]
    },
    {
     "name": "stderr",
     "output_type": "stream",
     "text": [
      "\r",
      "  6%|████▉                                                                          | 345/5531 [00:09<02:19, 37.21it/s]"
     ]
    },
    {
     "name": "stdout",
     "output_type": "stream",
     "text": [
      "24524_right.jpeg\n",
      "24525_left.jpeg\n",
      "24525_right.jpeg\n",
      "24526_left.jpeg\n",
      "24526_right.jpeg\n"
     ]
    },
    {
     "name": "stderr",
     "output_type": "stream",
     "text": [
      "\r",
      "  6%|████▉                                                                          | 350/5531 [00:09<02:15, 38.21it/s]"
     ]
    },
    {
     "name": "stdout",
     "output_type": "stream",
     "text": [
      "24528_left.jpeg\n",
      "24528_right.jpeg\n",
      "24533_left.jpeg\n",
      "24533_right.jpeg\n"
     ]
    },
    {
     "name": "stderr",
     "output_type": "stream",
     "text": [
      "\r",
      "  6%|█████                                                                          | 354/5531 [00:09<02:17, 37.67it/s]"
     ]
    },
    {
     "name": "stdout",
     "output_type": "stream",
     "text": [
      "24535_left.jpeg\n",
      "24535_right.jpeg\n",
      "24536_left.jpeg\n",
      "24536_right.jpeg\n",
      "24542_left.jpeg\n",
      "24542_right.jpeg\n"
     ]
    },
    {
     "name": "stderr",
     "output_type": "stream",
     "text": [
      "\r",
      "  7%|█████▏                                                                         | 360/5531 [00:10<02:02, 42.34it/s]"
     ]
    },
    {
     "name": "stdout",
     "output_type": "stream",
     "text": [
      "24543_left.jpeg\n",
      "24543_right.jpeg\n",
      "24545_left.jpeg\n",
      "24545_right.jpeg\n",
      "24546_left.jpeg\n",
      "24546_right.jpeg\n",
      "24549_left.jpeg\n"
     ]
    },
    {
     "name": "stderr",
     "output_type": "stream",
     "text": [
      "\r",
      "  7%|█████▏                                                                         | 367/5531 [00:10<01:50, 46.81it/s]"
     ]
    },
    {
     "name": "stdout",
     "output_type": "stream",
     "text": [
      "24549_right.jpeg\n",
      "24550_left.jpeg\n",
      "24550_right.jpeg\n",
      "24558_left.jpeg\n",
      "24558_right.jpeg\n"
     ]
    },
    {
     "name": "stderr",
     "output_type": "stream",
     "text": [
      "\r",
      "  7%|█████▎                                                                         | 372/5531 [00:10<01:57, 43.99it/s]"
     ]
    },
    {
     "name": "stdout",
     "output_type": "stream",
     "text": [
      "24562_left.jpeg\n",
      "24562_right.jpeg\n",
      "24566_left.jpeg\n",
      "24566_right.jpeg\n",
      "24568_left.jpeg\n"
     ]
    },
    {
     "name": "stderr",
     "output_type": "stream",
     "text": [
      "\r",
      "  7%|█████▍                                                                         | 377/5531 [00:10<01:53, 45.54it/s]"
     ]
    },
    {
     "name": "stdout",
     "output_type": "stream",
     "text": [
      "24568_right.jpeg\n",
      "24577_left.jpeg\n",
      "24577_right.jpeg\n",
      "24580_left.jpeg\n",
      "24580_right.jpeg\n",
      "24583_left.jpeg\n",
      "24583_right.jpeg\n"
     ]
    },
    {
     "name": "stderr",
     "output_type": "stream",
     "text": [
      "\r",
      "  7%|█████▍                                                                         | 384/5531 [00:10<01:43, 49.93it/s]"
     ]
    },
    {
     "name": "stdout",
     "output_type": "stream",
     "text": [
      "24585_left.jpeg\n",
      "24585_right.jpeg\n",
      "24586_left.jpeg\n",
      "24586_right.jpeg\n",
      "24588_left.jpeg\n",
      "24588_right.jpeg\n"
     ]
    },
    {
     "name": "stderr",
     "output_type": "stream",
     "text": [
      "\r",
      "  7%|█████▌                                                                         | 390/5531 [00:10<01:42, 50.37it/s]"
     ]
    },
    {
     "name": "stdout",
     "output_type": "stream",
     "text": [
      "24589_left.jpeg\n",
      "24589_right.jpeg\n",
      "24592_left.jpeg\n",
      "24592_right.jpeg\n",
      "24593_left.jpeg\n",
      "24593_right.jpeg\n"
     ]
    },
    {
     "name": "stderr",
     "output_type": "stream",
     "text": [
      "\r",
      "  7%|█████▋                                                                         | 396/5531 [00:10<01:37, 52.68it/s]"
     ]
    },
    {
     "name": "stdout",
     "output_type": "stream",
     "text": [
      "24599_left.jpeg\n",
      "24599_right.jpeg\n",
      "24605_left.jpeg\n",
      "24605_right.jpeg\n",
      "24607_left.jpeg\n",
      "24607_right.jpeg\n",
      "24608_left.jpeg\n",
      "24608_right.jpeg\n"
     ]
    },
    {
     "name": "stderr",
     "output_type": "stream",
     "text": [
      "\r",
      "  7%|█████▊                                                                         | 404/5531 [00:10<01:30, 56.61it/s]"
     ]
    },
    {
     "name": "stdout",
     "output_type": "stream",
     "text": [
      "24611_left.jpeg\n",
      "24611_right.jpeg\n",
      "24612_left.jpeg\n",
      "24612_right.jpeg\n",
      "24613_left.jpeg\n",
      "24613_right.jpeg\n",
      "24615_left.jpeg\n"
     ]
    },
    {
     "name": "stderr",
     "output_type": "stream",
     "text": [
      "\r",
      "  7%|█████▊                                                                         | 411/5531 [00:10<01:28, 57.73it/s]"
     ]
    },
    {
     "name": "stdout",
     "output_type": "stream",
     "text": [
      "24615_right.jpeg\n",
      "24616_left.jpeg\n",
      "24616_right.jpeg\n",
      "24619_left.jpeg\n",
      "24619_right.jpeg\n",
      "24620_left.jpeg\n"
     ]
    },
    {
     "name": "stderr",
     "output_type": "stream",
     "text": [
      "\r",
      "  8%|█████▉                                                                         | 417/5531 [00:11<01:28, 57.73it/s]"
     ]
    },
    {
     "name": "stdout",
     "output_type": "stream",
     "text": [
      "24620_right.jpeg\n",
      "24623_left.jpeg\n",
      "24623_right.jpeg\n",
      "24625_left.jpeg\n",
      "24625_right.jpeg\n",
      "24626_left.jpeg\n"
     ]
    },
    {
     "name": "stderr",
     "output_type": "stream",
     "text": [
      "\r",
      "  8%|██████                                                                         | 423/5531 [00:11<01:28, 57.77it/s]"
     ]
    },
    {
     "name": "stdout",
     "output_type": "stream",
     "text": [
      "24626_right.jpeg\n",
      "24639_left.jpeg\n",
      "24639_right.jpeg\n",
      "24641_left.jpeg\n",
      "24641_right.jpeg\n",
      "24645_left.jpeg\n"
     ]
    },
    {
     "name": "stderr",
     "output_type": "stream",
     "text": [
      "\r",
      "  8%|██████▏                                                                        | 429/5531 [00:11<01:29, 57.29it/s]"
     ]
    },
    {
     "name": "stdout",
     "output_type": "stream",
     "text": [
      "24645_right.jpeg\n",
      "24649_left.jpeg\n",
      "24649_right.jpeg\n",
      "24650_left.jpeg\n",
      "24650_right.jpeg\n",
      "24651_left.jpeg\n",
      "24651_right.jpeg\n",
      "24654_left.jpeg\n"
     ]
    },
    {
     "name": "stderr",
     "output_type": "stream",
     "text": [
      "\r",
      "  8%|██████▏                                                                        | 437/5531 [00:11<01:24, 60.26it/s]"
     ]
    },
    {
     "name": "stdout",
     "output_type": "stream",
     "text": [
      "24654_right.jpeg\n",
      "24655_left.jpeg\n",
      "24655_right.jpeg\n",
      "24656_left.jpeg\n",
      "24656_right.jpeg\n",
      "24657_left.jpeg\n",
      "24657_right.jpeg\n"
     ]
    },
    {
     "name": "stderr",
     "output_type": "stream",
     "text": [
      "\r",
      "  8%|██████▎                                                                        | 444/5531 [00:11<01:23, 61.13it/s]"
     ]
    },
    {
     "name": "stdout",
     "output_type": "stream",
     "text": [
      "24658_left.jpeg\n",
      "24658_right.jpeg\n",
      "24662_left.jpeg\n",
      "24662_right.jpeg\n",
      "24665_left.jpeg\n",
      "24665_right.jpeg\n",
      "24668_left.jpeg\n"
     ]
    },
    {
     "name": "stderr",
     "output_type": "stream",
     "text": [
      "\r",
      "  8%|██████▍                                                                        | 451/5531 [00:11<01:28, 57.50it/s]"
     ]
    },
    {
     "name": "stdout",
     "output_type": "stream",
     "text": [
      "24668_right.jpeg\n",
      "24669_left.jpeg\n",
      "24669_right.jpeg\n",
      "24676_left.jpeg\n",
      "24676_right.jpeg\n",
      "24679_left.jpeg\n",
      "24679_right.jpeg\n"
     ]
    },
    {
     "name": "stderr",
     "output_type": "stream",
     "text": [
      "\r",
      "  8%|██████▌                                                                        | 458/5531 [00:11<01:26, 58.80it/s]"
     ]
    },
    {
     "name": "stdout",
     "output_type": "stream",
     "text": [
      "24681_left.jpeg\n",
      "24681_right.jpeg\n",
      "24689_left.jpeg\n",
      "24689_right.jpeg\n",
      "24692_left.jpeg\n",
      "24692_right.jpeg\n"
     ]
    },
    {
     "name": "stderr",
     "output_type": "stream",
     "text": [
      "\r",
      "  8%|██████▋                                                                        | 464/5531 [00:11<01:45, 48.24it/s]"
     ]
    },
    {
     "name": "stdout",
     "output_type": "stream",
     "text": [
      "24695_left.jpeg\n",
      "24695_right.jpeg\n",
      "24696_left.jpeg\n",
      "24696_right.jpeg\n",
      "24697_left.jpeg\n",
      "24697_right.jpeg\n"
     ]
    },
    {
     "name": "stderr",
     "output_type": "stream",
     "text": [
      "\r",
      "  8%|██████▋                                                                        | 470/5531 [00:12<01:45, 47.75it/s]"
     ]
    },
    {
     "name": "stdout",
     "output_type": "stream",
     "text": [
      "24703_left.jpeg\n",
      "24703_right.jpeg\n",
      "24704_left.jpeg\n",
      "24704_right.jpeg\n",
      "24706_left.jpeg\n",
      "24706_right.jpeg\n"
     ]
    },
    {
     "name": "stderr",
     "output_type": "stream",
     "text": [
      "\r",
      "  9%|██████▊                                                                        | 476/5531 [00:12<01:55, 43.79it/s]"
     ]
    },
    {
     "name": "stdout",
     "output_type": "stream",
     "text": [
      "24708_left.jpeg\n",
      "24708_right.jpeg\n",
      "24711_left.jpeg\n",
      "24711_right.jpeg\n",
      "24712_left.jpeg\n"
     ]
    },
    {
     "name": "stderr",
     "output_type": "stream",
     "text": [
      "\r",
      "  9%|██████▊                                                                        | 481/5531 [00:12<01:51, 45.27it/s]"
     ]
    },
    {
     "name": "stdout",
     "output_type": "stream",
     "text": [
      "24712_right.jpeg\n",
      "24714_left.jpeg\n",
      "24714_right.jpeg\n",
      "24717_left.jpeg\n",
      "24717_right.jpeg\n"
     ]
    },
    {
     "name": "stderr",
     "output_type": "stream",
     "text": [
      "\r",
      "  9%|██████▉                                                                        | 486/5531 [00:12<01:49, 46.11it/s]"
     ]
    },
    {
     "name": "stdout",
     "output_type": "stream",
     "text": [
      "24723_left.jpeg\n",
      "24723_right.jpeg\n",
      "24724_left.jpeg\n",
      "24724_right.jpeg\n",
      "24726_left.jpeg\n"
     ]
    },
    {
     "name": "stderr",
     "output_type": "stream",
     "text": [
      "\r",
      "  9%|███████                                                                        | 491/5531 [00:12<01:49, 45.95it/s]"
     ]
    },
    {
     "name": "stdout",
     "output_type": "stream",
     "text": [
      "24726_right.jpeg\n",
      "24727_left.jpeg\n",
      "24727_right.jpeg\n",
      "24730_left.jpeg\n",
      "24730_right.jpeg\n"
     ]
    },
    {
     "name": "stderr",
     "output_type": "stream",
     "text": [
      "\r",
      "  9%|███████                                                                        | 496/5531 [00:12<01:53, 44.49it/s]"
     ]
    },
    {
     "name": "stdout",
     "output_type": "stream",
     "text": [
      "24731_left.jpeg\n",
      "24731_right.jpeg\n",
      "24733_left.jpeg\n",
      "24733_right.jpeg\n",
      "24736_left.jpeg\n"
     ]
    },
    {
     "name": "stderr",
     "output_type": "stream",
     "text": [
      "\r",
      "  9%|███████▏                                                                       | 501/5531 [00:12<01:50, 45.55it/s]"
     ]
    },
    {
     "name": "stdout",
     "output_type": "stream",
     "text": [
      "24736_right.jpeg\n",
      "24737_left.jpeg\n",
      "24737_right.jpeg\n",
      "24738_left.jpeg\n",
      "24738_right.jpeg\n"
     ]
    },
    {
     "name": "stderr",
     "output_type": "stream",
     "text": [
      "\r",
      "  9%|███████▏                                                                       | 506/5531 [00:12<01:51, 44.94it/s]"
     ]
    },
    {
     "name": "stdout",
     "output_type": "stream",
     "text": [
      "24739_left.jpeg\n",
      "24739_right.jpeg\n",
      "24743_left.jpeg\n",
      "24743_right.jpeg\n",
      "24744_left.jpeg\n"
     ]
    },
    {
     "name": "stderr",
     "output_type": "stream",
     "text": [
      "\r",
      "  9%|███████▎                                                                       | 511/5531 [00:13<01:49, 45.75it/s]"
     ]
    },
    {
     "name": "stdout",
     "output_type": "stream",
     "text": [
      "24744_right.jpeg\n",
      "24745_left.jpeg\n",
      "24745_right.jpeg\n",
      "24746_left.jpeg\n",
      "24746_right.jpeg\n",
      "24747_left.jpeg\n"
     ]
    },
    {
     "name": "stderr",
     "output_type": "stream",
     "text": [
      "\r",
      "  9%|███████▍                                                                       | 517/5531 [00:13<01:46, 46.98it/s]"
     ]
    },
    {
     "name": "stdout",
     "output_type": "stream",
     "text": [
      "24747_right.jpeg\n",
      "24749_left.jpeg\n",
      "24749_right.jpeg\n",
      "24752_left.jpeg\n",
      "24752_right.jpeg\n",
      "24754_left.jpeg\n"
     ]
    },
    {
     "name": "stderr",
     "output_type": "stream",
     "text": [
      "\r",
      "  9%|███████▍                                                                       | 523/5531 [00:13<01:41, 49.42it/s]"
     ]
    },
    {
     "name": "stdout",
     "output_type": "stream",
     "text": [
      "24754_right.jpeg\n",
      "24756_left.jpeg\n",
      "24756_right.jpeg\n",
      "24757_left.jpeg\n",
      "24757_right.jpeg\n"
     ]
    },
    {
     "name": "stderr",
     "output_type": "stream",
     "text": [
      "\r",
      " 10%|███████▌                                                                       | 528/5531 [00:13<01:52, 44.48it/s]"
     ]
    },
    {
     "name": "stdout",
     "output_type": "stream",
     "text": [
      "24762_left.jpeg\n",
      "24762_right.jpeg\n",
      "24765_left.jpeg\n",
      "24765_right.jpeg\n",
      "24772_left.jpeg\n"
     ]
    },
    {
     "name": "stderr",
     "output_type": "stream",
     "text": [
      "\r",
      " 10%|███████▌                                                                       | 533/5531 [00:13<01:51, 44.68it/s]"
     ]
    },
    {
     "name": "stdout",
     "output_type": "stream",
     "text": [
      "24772_right.jpeg\n",
      "24773_left.jpeg\n",
      "24773_right.jpeg\n",
      "24774_left.jpeg\n",
      "24774_right.jpeg\n"
     ]
    },
    {
     "name": "stderr",
     "output_type": "stream",
     "text": [
      "\r",
      " 10%|███████▋                                                                       | 538/5531 [00:13<01:48, 46.06it/s]"
     ]
    },
    {
     "name": "stdout",
     "output_type": "stream",
     "text": [
      "24775_left.jpeg\n",
      "24775_right.jpeg\n",
      "24777_left.jpeg\n",
      "24777_right.jpeg\n",
      "24779_left.jpeg\n",
      "24779_right.jpeg\n"
     ]
    },
    {
     "name": "stderr",
     "output_type": "stream",
     "text": [
      "\r",
      " 10%|███████▊                                                                       | 544/5531 [00:13<01:42, 48.70it/s]"
     ]
    },
    {
     "name": "stdout",
     "output_type": "stream",
     "text": [
      "24780_left.jpeg\n",
      "24780_right.jpeg\n",
      "24782_left.jpeg\n",
      "24782_right.jpeg\n",
      "24783_left.jpeg\n",
      "24783_right.jpeg\n"
     ]
    },
    {
     "name": "stderr",
     "output_type": "stream",
     "text": [
      "\r",
      " 10%|███████▊                                                                       | 550/5531 [00:13<01:38, 50.36it/s]"
     ]
    },
    {
     "name": "stdout",
     "output_type": "stream",
     "text": [
      "24785_left.jpeg\n",
      "24785_right.jpeg\n",
      "24788_left.jpeg\n",
      "24788_right.jpeg\n",
      "24793_left.jpeg\n",
      "24793_right.jpeg\n"
     ]
    },
    {
     "name": "stderr",
     "output_type": "stream",
     "text": [
      "\r",
      " 10%|███████▉                                                                       | 556/5531 [00:13<01:39, 50.16it/s]"
     ]
    },
    {
     "name": "stdout",
     "output_type": "stream",
     "text": [
      "24795_left.jpeg\n",
      "24795_right.jpeg\n",
      "24798_left.jpeg\n",
      "24798_right.jpeg\n",
      "24801_left.jpeg\n",
      "24801_right.jpeg\n"
     ]
    },
    {
     "name": "stderr",
     "output_type": "stream",
     "text": [
      "\r",
      " 10%|████████                                                                       | 562/5531 [00:14<01:41, 49.05it/s]"
     ]
    },
    {
     "name": "stdout",
     "output_type": "stream",
     "text": [
      "24802_left.jpeg\n",
      "24802_right.jpeg\n",
      "24804_left.jpeg\n",
      "24804_right.jpeg\n",
      "24806_left.jpeg\n",
      "24806_right.jpeg\n"
     ]
    },
    {
     "name": "stderr",
     "output_type": "stream",
     "text": [
      "\r",
      " 10%|████████                                                                       | 568/5531 [00:14<01:39, 49.74it/s]"
     ]
    },
    {
     "name": "stdout",
     "output_type": "stream",
     "text": [
      "24809_left.jpeg\n",
      "24809_right.jpeg\n",
      "24811_left.jpeg\n",
      "24811_right.jpeg\n",
      "24812_left.jpeg\n",
      "24812_right.jpeg\n"
     ]
    },
    {
     "name": "stderr",
     "output_type": "stream",
     "text": [
      "\r",
      " 10%|████████▏                                                                      | 574/5531 [00:14<01:46, 46.61it/s]"
     ]
    },
    {
     "name": "stdout",
     "output_type": "stream",
     "text": [
      "24813_left.jpeg\n",
      "24813_right.jpeg\n",
      "24814_left.jpeg\n",
      "24814_right.jpeg\n",
      "24819_left.jpeg\n",
      "24819_right.jpeg\n"
     ]
    },
    {
     "name": "stderr",
     "output_type": "stream",
     "text": [
      "\r",
      " 10%|████████▎                                                                      | 580/5531 [00:14<01:40, 49.13it/s]"
     ]
    },
    {
     "name": "stdout",
     "output_type": "stream",
     "text": [
      "24820_left.jpeg\n",
      "24820_right.jpeg\n",
      "24823_left.jpeg\n",
      "24823_right.jpeg\n",
      "24824_left.jpeg\n",
      "24824_right.jpeg\n"
     ]
    },
    {
     "name": "stderr",
     "output_type": "stream",
     "text": [
      "\r",
      " 11%|████████▎                                                                      | 586/5531 [00:14<01:37, 50.81it/s]"
     ]
    },
    {
     "name": "stdout",
     "output_type": "stream",
     "text": [
      "24825_left.jpeg\n",
      "24825_right.jpeg\n",
      "24828_left.jpeg\n",
      "24828_right.jpeg\n",
      "24831_left.jpeg\n",
      "24831_right.jpeg\n"
     ]
    },
    {
     "name": "stderr",
     "output_type": "stream",
     "text": [
      "\r",
      " 11%|████████▍                                                                      | 592/5531 [00:14<01:34, 52.32it/s]"
     ]
    },
    {
     "name": "stdout",
     "output_type": "stream",
     "text": [
      "24835_left.jpeg\n",
      "24835_right.jpeg\n",
      "24836_left.jpeg\n",
      "24836_right.jpeg\n",
      "24844_left.jpeg\n",
      "24844_right.jpeg\n"
     ]
    },
    {
     "name": "stderr",
     "output_type": "stream",
     "text": [
      "\r",
      " 11%|████████▌                                                                      | 598/5531 [00:14<01:34, 52.32it/s]"
     ]
    },
    {
     "name": "stdout",
     "output_type": "stream",
     "text": [
      "24846_left.jpeg\n",
      "24846_right.jpeg\n",
      "24847_left.jpeg\n",
      "24847_right.jpeg\n",
      "24848_left.jpeg\n",
      "24848_right.jpeg\n"
     ]
    },
    {
     "name": "stderr",
     "output_type": "stream",
     "text": [
      "\r",
      " 11%|████████▋                                                                      | 604/5531 [00:14<01:34, 52.04it/s]"
     ]
    },
    {
     "name": "stdout",
     "output_type": "stream",
     "text": [
      "24853_left.jpeg\n",
      "24853_right.jpeg\n",
      "24856_left.jpeg\n",
      "24856_right.jpeg\n",
      "24857_left.jpeg\n",
      "24857_right.jpeg\n"
     ]
    },
    {
     "name": "stderr",
     "output_type": "stream",
     "text": [
      "\r",
      " 11%|████████▋                                                                      | 610/5531 [00:14<01:33, 52.40it/s]"
     ]
    },
    {
     "name": "stdout",
     "output_type": "stream",
     "text": [
      "24860_left.jpeg\n",
      "24860_right.jpeg\n",
      "24862_left.jpeg\n",
      "24862_right.jpeg\n",
      "24863_left.jpeg\n",
      "24863_right.jpeg\n",
      "24864_left.jpeg\n",
      "24864_right.jpeg\n"
     ]
    },
    {
     "name": "stderr",
     "output_type": "stream",
     "text": [
      "\r",
      " 11%|████████▊                                                                      | 618/5531 [00:15<01:25, 57.72it/s]"
     ]
    },
    {
     "name": "stdout",
     "output_type": "stream",
     "text": [
      "24867_left.jpeg\n",
      "24867_right.jpeg\n",
      "24868_left.jpeg\n",
      "24868_right.jpeg\n",
      "24871_left.jpeg\n",
      "24871_right.jpeg\n",
      "24873_left.jpeg\n"
     ]
    },
    {
     "name": "stderr",
     "output_type": "stream",
     "text": [
      "\r",
      " 11%|████████▉                                                                      | 625/5531 [00:15<01:20, 60.65it/s]"
     ]
    },
    {
     "name": "stdout",
     "output_type": "stream",
     "text": [
      "24873_right.jpeg\n",
      "24874_left.jpeg\n",
      "24874_right.jpeg\n",
      "24875_left.jpeg\n",
      "24875_right.jpeg\n",
      "24876_left.jpeg\n",
      "24876_right.jpeg\n",
      "24877_left.jpeg\n"
     ]
    },
    {
     "name": "stderr",
     "output_type": "stream",
     "text": [
      "\r",
      " 11%|█████████                                                                      | 633/5531 [00:15<01:17, 63.43it/s]"
     ]
    },
    {
     "name": "stdout",
     "output_type": "stream",
     "text": [
      "24877_right.jpeg\n",
      "24878_left.jpeg\n",
      "24878_right.jpeg\n",
      "24879_left.jpeg\n",
      "24879_right.jpeg\n",
      "24880_left.jpeg\n",
      "24880_right.jpeg\n",
      "24881_left.jpeg\n"
     ]
    },
    {
     "name": "stderr",
     "output_type": "stream",
     "text": [
      "\r",
      " 12%|█████████▏                                                                     | 641/5531 [00:15<01:15, 65.20it/s]"
     ]
    },
    {
     "name": "stdout",
     "output_type": "stream",
     "text": [
      "24881_right.jpeg\n",
      "24888_left.jpeg\n",
      "24888_right.jpeg\n",
      "24890_left.jpeg\n",
      "24890_right.jpeg\n",
      "24891_left.jpeg\n",
      "24891_right.jpeg\n"
     ]
    },
    {
     "name": "stderr",
     "output_type": "stream",
     "text": [
      "\r",
      " 12%|█████████▎                                                                     | 648/5531 [00:15<01:14, 65.68it/s]"
     ]
    },
    {
     "name": "stdout",
     "output_type": "stream",
     "text": [
      "24895_left.jpeg\n",
      "24895_right.jpeg\n",
      "24897_left.jpeg\n",
      "24897_right.jpeg\n",
      "24898_left.jpeg\n",
      "24898_right.jpeg\n",
      "24903_left.jpeg\n",
      "24903_right.jpeg\n"
     ]
    },
    {
     "name": "stderr",
     "output_type": "stream",
     "text": [
      "\r",
      " 12%|█████████▎                                                                     | 656/5531 [00:15<01:11, 68.22it/s]"
     ]
    },
    {
     "name": "stdout",
     "output_type": "stream",
     "text": [
      "24906_left.jpeg\n",
      "24906_right.jpeg\n",
      "24909_left.jpeg\n",
      "24909_right.jpeg\n",
      "24910_left.jpeg\n",
      "24910_right.jpeg\n",
      "24912_left.jpeg\n",
      "24912_right.jpeg\n"
     ]
    },
    {
     "name": "stderr",
     "output_type": "stream",
     "text": [
      "\r",
      " 12%|█████████▍                                                                     | 664/5531 [00:15<01:09, 70.48it/s]"
     ]
    },
    {
     "name": "stdout",
     "output_type": "stream",
     "text": [
      "24913_left.jpeg\n",
      "24913_right.jpeg\n",
      "24914_left.jpeg\n",
      "24914_right.jpeg\n",
      "24916_left.jpeg\n",
      "24916_right.jpeg\n",
      "24918_left.jpeg\n",
      "24918_right.jpeg\n",
      "24924_left.jpeg\n"
     ]
    },
    {
     "name": "stderr",
     "output_type": "stream",
     "text": [
      "\r",
      " 12%|█████████▌                                                                     | 673/5531 [00:15<01:06, 73.05it/s]"
     ]
    },
    {
     "name": "stdout",
     "output_type": "stream",
     "text": [
      "24924_right.jpeg\n",
      "24928_left.jpeg\n",
      "24928_right.jpeg\n",
      "24931_left.jpeg\n",
      "24931_right.jpeg\n",
      "24933_left.jpeg\n",
      "24933_right.jpeg\n",
      "24935_left.jpeg\n"
     ]
    },
    {
     "name": "stderr",
     "output_type": "stream",
     "text": [
      "\r",
      " 12%|█████████▋                                                                     | 681/5531 [00:16<01:17, 62.30it/s]"
     ]
    },
    {
     "name": "stdout",
     "output_type": "stream",
     "text": [
      "24935_right.jpeg\n",
      "24936_left.jpeg\n",
      "24936_right.jpeg\n",
      "24941_left.jpeg\n",
      "24941_right.jpeg\n",
      "24944_left.jpeg\n",
      "24944_right.jpeg\n",
      "24946_left.jpeg\n"
     ]
    },
    {
     "name": "stderr",
     "output_type": "stream",
     "text": [
      "\r",
      " 12%|█████████▊                                                                     | 689/5531 [00:16<01:14, 64.67it/s]"
     ]
    },
    {
     "name": "stdout",
     "output_type": "stream",
     "text": [
      "24946_right.jpeg\n",
      "24948_left.jpeg\n",
      "24948_right.jpeg\n",
      "24949_left.jpeg\n",
      "24949_right.jpeg\n",
      "24953_left.jpeg\n",
      "24953_right.jpeg\n"
     ]
    },
    {
     "name": "stderr",
     "output_type": "stream",
     "text": [
      "\r",
      " 13%|█████████▉                                                                     | 696/5531 [00:16<01:16, 63.36it/s]"
     ]
    },
    {
     "name": "stdout",
     "output_type": "stream",
     "text": [
      "24954_left.jpeg\n",
      "24954_right.jpeg\n",
      "24955_left.jpeg\n",
      "24955_right.jpeg\n",
      "24957_left.jpeg\n",
      "24957_right.jpeg\n",
      "24962_left.jpeg\n"
     ]
    },
    {
     "name": "stderr",
     "output_type": "stream",
     "text": [
      "\r",
      " 13%|██████████                                                                     | 703/5531 [00:16<01:14, 64.55it/s]"
     ]
    },
    {
     "name": "stdout",
     "output_type": "stream",
     "text": [
      "24962_right.jpeg\n",
      "24968_left.jpeg\n",
      "24968_right.jpeg\n",
      "24971_left.jpeg\n",
      "24971_right.jpeg\n",
      "24974_left.jpeg\n",
      "24974_right.jpeg\n",
      "24979_left.jpeg\n"
     ]
    },
    {
     "name": "stderr",
     "output_type": "stream",
     "text": [
      "\r",
      " 13%|██████████▏                                                                    | 711/5531 [00:16<01:13, 65.38it/s]"
     ]
    },
    {
     "name": "stdout",
     "output_type": "stream",
     "text": [
      "24979_right.jpeg\n",
      "24980_left.jpeg\n",
      "24980_right.jpeg\n",
      "24981_left.jpeg\n",
      "24981_right.jpeg\n",
      "24982_left.jpeg\n",
      "24982_right.jpeg\n"
     ]
    },
    {
     "name": "stderr",
     "output_type": "stream",
     "text": [
      "\r",
      " 13%|██████████▎                                                                    | 718/5531 [00:16<01:13, 65.81it/s]"
     ]
    },
    {
     "name": "stdout",
     "output_type": "stream",
     "text": [
      "24983_left.jpeg\n",
      "24983_right.jpeg\n",
      "24986_left.jpeg\n",
      "24986_right.jpeg\n",
      "24988_left.jpeg\n",
      "24988_right.jpeg\n",
      "24989_left.jpeg\n"
     ]
    },
    {
     "name": "stderr",
     "output_type": "stream",
     "text": [
      "\r",
      " 13%|██████████▎                                                                    | 725/5531 [00:16<01:12, 66.13it/s]"
     ]
    },
    {
     "name": "stdout",
     "output_type": "stream",
     "text": [
      "24989_right.jpeg\n",
      "24990_left.jpeg\n",
      "24990_right.jpeg\n",
      "24991_left.jpeg\n",
      "24991_right.jpeg\n",
      "24993_left.jpeg\n",
      "24993_right.jpeg\n",
      "24995_left.jpeg\n",
      "24995_right.jpeg\n"
     ]
    },
    {
     "name": "stderr",
     "output_type": "stream",
     "text": [
      "\r",
      " 13%|██████████▍                                                                    | 734/5531 [00:16<01:08, 69.72it/s]"
     ]
    },
    {
     "name": "stdout",
     "output_type": "stream",
     "text": [
      "24996_left.jpeg\n",
      "24996_right.jpeg\n",
      "24999_left.jpeg\n",
      "24999_right.jpeg\n",
      "25002_left.jpeg\n",
      "25002_right.jpeg\n",
      "25004_left.jpeg\n",
      "25004_right.jpeg\n"
     ]
    },
    {
     "name": "stderr",
     "output_type": "stream",
     "text": [
      "\r",
      " 13%|██████████▌                                                                    | 742/5531 [00:16<01:09, 68.84it/s]"
     ]
    },
    {
     "name": "stdout",
     "output_type": "stream",
     "text": [
      "25005_left.jpeg\n",
      "25005_right.jpeg\n",
      "25006_left.jpeg\n",
      "25006_right.jpeg\n",
      "25007_left.jpeg\n",
      "25007_right.jpeg\n",
      "25008_left.jpeg\n"
     ]
    },
    {
     "name": "stderr",
     "output_type": "stream",
     "text": [
      "\r",
      " 14%|██████████▋                                                                    | 749/5531 [00:17<01:20, 59.54it/s]"
     ]
    },
    {
     "name": "stdout",
     "output_type": "stream",
     "text": [
      "25008_right.jpeg\n",
      "25009_left.jpeg\n",
      "25009_right.jpeg\n",
      "25013_left.jpeg\n",
      "25013_right.jpeg\n",
      "25018_left.jpeg\n",
      "25018_right.jpeg\n"
     ]
    },
    {
     "name": "stderr",
     "output_type": "stream",
     "text": [
      "\r",
      " 14%|██████████▊                                                                    | 756/5531 [00:17<01:21, 58.93it/s]"
     ]
    },
    {
     "name": "stdout",
     "output_type": "stream",
     "text": [
      "25019_left.jpeg\n",
      "25019_right.jpeg\n",
      "25020_left.jpeg\n",
      "25020_right.jpeg\n",
      "25022_left.jpeg\n",
      "25022_right.jpeg\n",
      "25029_left.jpeg\n"
     ]
    },
    {
     "name": "stderr",
     "output_type": "stream",
     "text": [
      "\r",
      " 14%|██████████▉                                                                    | 763/5531 [00:17<01:22, 58.06it/s]"
     ]
    },
    {
     "name": "stdout",
     "output_type": "stream",
     "text": [
      "25029_right.jpeg\n",
      "25034_left.jpeg\n",
      "25034_right.jpeg\n",
      "25037_left.jpeg\n",
      "25037_right.jpeg\n",
      "25039_left.jpeg\n"
     ]
    },
    {
     "name": "stderr",
     "output_type": "stream",
     "text": [
      "\r",
      " 14%|██████████▉                                                                    | 769/5531 [00:17<01:21, 58.34it/s]"
     ]
    },
    {
     "name": "stdout",
     "output_type": "stream",
     "text": [
      "25039_right.jpeg\n",
      "25040_left.jpeg\n",
      "25040_right.jpeg\n",
      "25041_left.jpeg\n",
      "25041_right.jpeg\n",
      "25043_left.jpeg\n"
     ]
    },
    {
     "name": "stderr",
     "output_type": "stream",
     "text": [
      "\r",
      " 14%|███████████                                                                    | 775/5531 [00:17<01:25, 55.45it/s]"
     ]
    },
    {
     "name": "stdout",
     "output_type": "stream",
     "text": [
      "25043_right.jpeg\n",
      "25050_left.jpeg\n",
      "25050_right.jpeg\n",
      "25057_left.jpeg\n",
      "25057_right.jpeg\n",
      "25058_left.jpeg\n"
     ]
    },
    {
     "name": "stderr",
     "output_type": "stream",
     "text": [
      "\r",
      " 14%|███████████▏                                                                   | 781/5531 [00:17<01:28, 53.46it/s]"
     ]
    },
    {
     "name": "stdout",
     "output_type": "stream",
     "text": [
      "25058_right.jpeg\n",
      "25060_left.jpeg\n",
      "25060_right.jpeg\n",
      "25062_left.jpeg\n",
      "25062_right.jpeg\n",
      "25064_left.jpeg\n"
     ]
    },
    {
     "name": "stderr",
     "output_type": "stream",
     "text": [
      "\r",
      " 14%|███████████▏                                                                   | 787/5531 [00:17<01:26, 54.55it/s]"
     ]
    },
    {
     "name": "stdout",
     "output_type": "stream",
     "text": [
      "25064_right.jpeg\n",
      "25069_left.jpeg\n",
      "25069_right.jpeg\n",
      "25070_left.jpeg\n",
      "25070_right.jpeg\n",
      "25071_left.jpeg\n"
     ]
    },
    {
     "name": "stderr",
     "output_type": "stream",
     "text": [
      "\r",
      " 14%|███████████▎                                                                   | 793/5531 [00:17<01:31, 51.91it/s]"
     ]
    },
    {
     "name": "stdout",
     "output_type": "stream",
     "text": [
      "25071_right.jpeg\n",
      "25072_left.jpeg\n",
      "25072_right.jpeg\n",
      "25073_left.jpeg\n",
      "25073_right.jpeg\n",
      "25074_left.jpeg\n"
     ]
    },
    {
     "name": "stderr",
     "output_type": "stream",
     "text": [
      "\r",
      " 14%|███████████▍                                                                   | 799/5531 [00:18<01:33, 50.84it/s]"
     ]
    },
    {
     "name": "stdout",
     "output_type": "stream",
     "text": [
      "25074_right.jpeg\n",
      "25077_left.jpeg\n",
      "25077_right.jpeg\n",
      "25079_left.jpeg\n",
      "25079_right.jpeg\n",
      "25080_left.jpeg\n"
     ]
    },
    {
     "name": "stderr",
     "output_type": "stream",
     "text": [
      "\r",
      " 15%|███████████▍                                                                   | 805/5531 [00:18<01:29, 52.62it/s]"
     ]
    },
    {
     "name": "stdout",
     "output_type": "stream",
     "text": [
      "25080_right.jpeg\n",
      "25083_left.jpeg\n",
      "25083_right.jpeg\n",
      "25084_left.jpeg\n",
      "25084_right.jpeg\n",
      "25085_left.jpeg\n"
     ]
    },
    {
     "name": "stderr",
     "output_type": "stream",
     "text": [
      "\r",
      " 15%|███████████▌                                                                   | 811/5531 [00:18<01:28, 53.37it/s]"
     ]
    },
    {
     "name": "stdout",
     "output_type": "stream",
     "text": [
      "25085_right.jpeg\n",
      "25088_left.jpeg\n",
      "25088_right.jpeg\n",
      "25091_left.jpeg\n",
      "25091_right.jpeg\n",
      "25093_left.jpeg\n"
     ]
    },
    {
     "name": "stderr",
     "output_type": "stream",
     "text": [
      "\r",
      " 15%|███████████▋                                                                   | 817/5531 [00:18<01:46, 44.36it/s]"
     ]
    },
    {
     "name": "stdout",
     "output_type": "stream",
     "text": [
      "25093_right.jpeg\n",
      "25094_left.jpeg\n",
      "25094_right.jpeg\n",
      "25096_left.jpeg\n",
      "25096_right.jpeg\n"
     ]
    },
    {
     "name": "stderr",
     "output_type": "stream",
     "text": [
      "\r",
      " 15%|███████████▋                                                                   | 822/5531 [00:18<01:44, 44.96it/s]"
     ]
    },
    {
     "name": "stdout",
     "output_type": "stream",
     "text": [
      "25097_left.jpeg\n",
      "25097_right.jpeg\n",
      "25099_left.jpeg\n",
      "25099_right.jpeg\n",
      "25102_left.jpeg\n",
      "25102_right.jpeg\n"
     ]
    },
    {
     "name": "stderr",
     "output_type": "stream",
     "text": [
      "\r",
      " 15%|███████████▊                                                                   | 828/5531 [00:18<01:38, 47.84it/s]"
     ]
    },
    {
     "name": "stdout",
     "output_type": "stream",
     "text": [
      "25111_left.jpeg\n",
      "25111_right.jpeg\n",
      "25112_left.jpeg\n",
      "25112_right.jpeg\n",
      "25118_left.jpeg\n",
      "25118_right.jpeg\n"
     ]
    },
    {
     "name": "stderr",
     "output_type": "stream",
     "text": [
      "\r",
      " 15%|███████████▉                                                                   | 834/5531 [00:18<01:33, 50.08it/s]"
     ]
    },
    {
     "name": "stdout",
     "output_type": "stream",
     "text": [
      "25119_left.jpeg\n",
      "25119_right.jpeg\n",
      "25120_left.jpeg\n",
      "25120_right.jpeg\n",
      "25121_left.jpeg\n",
      "25121_right.jpeg\n"
     ]
    },
    {
     "name": "stderr",
     "output_type": "stream",
     "text": [
      "\r",
      " 15%|███████████▉                                                                   | 840/5531 [00:18<01:35, 49.23it/s]"
     ]
    },
    {
     "name": "stdout",
     "output_type": "stream",
     "text": [
      "25131_left.jpeg\n",
      "25131_right.jpeg\n",
      "25132_left.jpeg\n",
      "25132_right.jpeg\n",
      "25133_left.jpeg\n",
      "25133_right.jpeg\n"
     ]
    },
    {
     "name": "stderr",
     "output_type": "stream",
     "text": [
      "\r",
      " 15%|████████████                                                                   | 846/5531 [00:18<01:35, 49.02it/s]"
     ]
    },
    {
     "name": "stdout",
     "output_type": "stream",
     "text": [
      "25134_left.jpeg\n",
      "25134_right.jpeg\n",
      "25135_left.jpeg\n",
      "25135_right.jpeg\n",
      "25138_left.jpeg\n",
      "25138_right.jpeg\n"
     ]
    },
    {
     "name": "stderr",
     "output_type": "stream",
     "text": [
      "\r",
      " 15%|████████████▏                                                                  | 852/5531 [00:19<01:33, 49.84it/s]"
     ]
    },
    {
     "name": "stdout",
     "output_type": "stream",
     "text": [
      "25139_left.jpeg\n",
      "25139_right.jpeg\n",
      "25141_left.jpeg\n",
      "25141_right.jpeg\n",
      "25146_left.jpeg\n",
      "25146_right.jpeg\n"
     ]
    },
    {
     "name": "stderr",
     "output_type": "stream",
     "text": [
      "\r",
      " 16%|████████████▎                                                                  | 858/5531 [00:19<01:31, 51.07it/s]"
     ]
    },
    {
     "name": "stdout",
     "output_type": "stream",
     "text": [
      "25147_left.jpeg\n",
      "25147_right.jpeg\n",
      "25148_left.jpeg\n",
      "25148_right.jpeg\n",
      "25149_left.jpeg\n",
      "25149_right.jpeg\n"
     ]
    },
    {
     "name": "stderr",
     "output_type": "stream",
     "text": [
      "\r",
      " 16%|████████████▎                                                                  | 864/5531 [00:19<01:29, 52.24it/s]"
     ]
    },
    {
     "name": "stdout",
     "output_type": "stream",
     "text": [
      "25153_left.jpeg\n",
      "25153_right.jpeg\n",
      "25154_left.jpeg\n",
      "25154_right.jpeg\n",
      "25156_left.jpeg\n",
      "25156_right.jpeg\n"
     ]
    },
    {
     "name": "stderr",
     "output_type": "stream",
     "text": [
      "\r",
      " 16%|████████████▍                                                                  | 870/5531 [00:19<01:25, 54.24it/s]"
     ]
    },
    {
     "name": "stdout",
     "output_type": "stream",
     "text": [
      "25158_left.jpeg\n",
      "25158_right.jpeg\n",
      "25159_left.jpeg\n",
      "25159_right.jpeg\n",
      "25160_left.jpeg\n",
      "25160_right.jpeg\n"
     ]
    },
    {
     "name": "stderr",
     "output_type": "stream",
     "text": [
      "\r",
      " 16%|████████████▌                                                                  | 876/5531 [00:19<01:24, 54.82it/s]"
     ]
    },
    {
     "name": "stdout",
     "output_type": "stream",
     "text": [
      "25161_left.jpeg\n",
      "25161_right.jpeg\n",
      "25162_left.jpeg\n",
      "25162_right.jpeg\n",
      "25163_left.jpeg\n",
      "25163_right.jpeg\n"
     ]
    },
    {
     "name": "stderr",
     "output_type": "stream",
     "text": [
      "\r",
      " 16%|████████████▌                                                                  | 882/5531 [00:19<01:29, 52.08it/s]"
     ]
    },
    {
     "name": "stdout",
     "output_type": "stream",
     "text": [
      "25165_left.jpeg\n",
      "25165_right.jpeg\n",
      "25166_left.jpeg\n",
      "25166_right.jpeg\n",
      "25167_left.jpeg\n",
      "25167_right.jpeg\n"
     ]
    },
    {
     "name": "stderr",
     "output_type": "stream",
     "text": [
      "\r",
      " 16%|████████████▋                                                                  | 888/5531 [00:19<01:31, 50.83it/s]"
     ]
    },
    {
     "name": "stdout",
     "output_type": "stream",
     "text": [
      "25169_left.jpeg\n",
      "25169_right.jpeg\n",
      "25171_left.jpeg\n",
      "25171_right.jpeg\n",
      "25172_left.jpeg\n",
      "25172_right.jpeg\n"
     ]
    },
    {
     "name": "stderr",
     "output_type": "stream",
     "text": [
      "\r",
      " 16%|████████████▊                                                                  | 894/5531 [00:19<01:29, 51.93it/s]"
     ]
    },
    {
     "name": "stdout",
     "output_type": "stream",
     "text": [
      "25175_left.jpeg\n",
      "25175_right.jpeg\n",
      "25181_left.jpeg\n",
      "25181_right.jpeg\n",
      "25188_left.jpeg\n",
      "25188_right.jpeg\n"
     ]
    },
    {
     "name": "stderr",
     "output_type": "stream",
     "text": [
      "\r",
      " 16%|████████████▊                                                                  | 900/5531 [00:19<01:26, 53.57it/s]"
     ]
    },
    {
     "name": "stdout",
     "output_type": "stream",
     "text": [
      "25189_left.jpeg\n",
      "25189_right.jpeg\n",
      "25197_left.jpeg\n",
      "25197_right.jpeg\n",
      "25198_left.jpeg\n",
      "25198_right.jpeg\n"
     ]
    },
    {
     "name": "stderr",
     "output_type": "stream",
     "text": [
      "\r",
      " 16%|████████████▉                                                                  | 906/5531 [00:20<01:25, 53.90it/s]"
     ]
    },
    {
     "name": "stdout",
     "output_type": "stream",
     "text": [
      "25203_left.jpeg\n",
      "25203_right.jpeg\n",
      "25205_left.jpeg\n",
      "25205_right.jpeg\n",
      "25207_left.jpeg\n",
      "25207_right.jpeg\n"
     ]
    },
    {
     "name": "stderr",
     "output_type": "stream",
     "text": [
      "\r",
      " 16%|█████████████                                                                  | 912/5531 [00:20<01:29, 51.63it/s]"
     ]
    },
    {
     "name": "stdout",
     "output_type": "stream",
     "text": [
      "25209_left.jpeg\n",
      "25209_right.jpeg\n",
      "25210_left.jpeg\n",
      "25210_right.jpeg\n",
      "25212_left.jpeg\n",
      "25212_right.jpeg\n"
     ]
    },
    {
     "name": "stderr",
     "output_type": "stream",
     "text": [
      "\r",
      " 17%|█████████████                                                                  | 918/5531 [00:20<01:46, 43.51it/s]"
     ]
    },
    {
     "name": "stdout",
     "output_type": "stream",
     "text": [
      "25217_left.jpeg\n",
      "25217_right.jpeg\n",
      "25221_left.jpeg\n",
      "25221_right.jpeg\n",
      "25222_left.jpeg\n",
      "25222_right.jpeg\n"
     ]
    },
    {
     "name": "stderr",
     "output_type": "stream",
     "text": [
      "\r",
      " 17%|█████████████▏                                                                 | 924/5531 [00:20<01:40, 45.93it/s]"
     ]
    },
    {
     "name": "stdout",
     "output_type": "stream",
     "text": [
      "25229_left.jpeg\n",
      "25229_right.jpeg\n",
      "25233_left.jpeg\n",
      "25233_right.jpeg\n",
      "25236_left.jpeg\n",
      "25236_right.jpeg\n"
     ]
    },
    {
     "name": "stderr",
     "output_type": "stream",
     "text": [
      "\r",
      " 17%|█████████████▎                                                                 | 930/5531 [00:20<01:35, 48.36it/s]"
     ]
    },
    {
     "name": "stdout",
     "output_type": "stream",
     "text": [
      "25238_left.jpeg\n",
      "25238_right.jpeg\n",
      "25241_left.jpeg\n",
      "25241_right.jpeg\n",
      "25242_left.jpeg\n",
      "25242_right.jpeg\n"
     ]
    },
    {
     "name": "stderr",
     "output_type": "stream",
     "text": [
      "\r",
      " 17%|█████████████▎                                                                 | 936/5531 [00:20<01:32, 49.48it/s]"
     ]
    },
    {
     "name": "stdout",
     "output_type": "stream",
     "text": [
      "25249_left.jpeg\n",
      "25249_right.jpeg\n",
      "25251_left.jpeg\n",
      "25251_right.jpeg\n",
      "25258_left.jpeg\n",
      "25258_right.jpeg\n"
     ]
    },
    {
     "name": "stderr",
     "output_type": "stream",
     "text": [
      "\r",
      " 17%|█████████████▍                                                                 | 942/5531 [00:20<01:44, 43.72it/s]"
     ]
    },
    {
     "name": "stdout",
     "output_type": "stream",
     "text": [
      "25259_left.jpeg\n",
      "25259_right.jpeg\n",
      "25260_left.jpeg\n",
      "25260_right.jpeg\n",
      "25261_left.jpeg\n"
     ]
    },
    {
     "name": "stderr",
     "output_type": "stream",
     "text": [
      "\r",
      " 17%|█████████████▌                                                                 | 947/5531 [00:21<01:42, 44.74it/s]"
     ]
    },
    {
     "name": "stdout",
     "output_type": "stream",
     "text": [
      "25261_right.jpeg\n",
      "25263_left.jpeg\n",
      "25263_right.jpeg\n",
      "25265_left.jpeg\n",
      "25265_right.jpeg\n"
     ]
    },
    {
     "name": "stderr",
     "output_type": "stream",
     "text": [
      "\r",
      " 17%|█████████████▌                                                                 | 952/5531 [00:21<01:45, 43.24it/s]"
     ]
    },
    {
     "name": "stdout",
     "output_type": "stream",
     "text": [
      "25269_left.jpeg\n",
      "25269_right.jpeg\n",
      "25271_left.jpeg\n",
      "25271_right.jpeg\n",
      "25272_left.jpeg\n"
     ]
    },
    {
     "name": "stderr",
     "output_type": "stream",
     "text": [
      "\r",
      " 17%|█████████████▋                                                                 | 957/5531 [00:21<01:46, 42.79it/s]"
     ]
    },
    {
     "name": "stdout",
     "output_type": "stream",
     "text": [
      "25272_right.jpeg\n",
      "25273_left.jpeg\n",
      "25273_right.jpeg\n",
      "25274_left.jpeg\n",
      "25274_right.jpeg\n"
     ]
    },
    {
     "name": "stderr",
     "output_type": "stream",
     "text": [
      "\r",
      " 17%|█████████████▋                                                                 | 962/5531 [00:21<01:45, 43.48it/s]"
     ]
    },
    {
     "name": "stdout",
     "output_type": "stream",
     "text": [
      "25277_left.jpeg\n",
      "25277_right.jpeg\n",
      "25280_left.jpeg\n",
      "25280_right.jpeg\n",
      "25283_left.jpeg\n",
      "25283_right.jpeg\n"
     ]
    },
    {
     "name": "stderr",
     "output_type": "stream",
     "text": [
      "\r",
      " 18%|█████████████▊                                                                 | 968/5531 [00:21<01:40, 45.49it/s]"
     ]
    },
    {
     "name": "stdout",
     "output_type": "stream",
     "text": [
      "25284_left.jpeg\n",
      "25284_right.jpeg\n",
      "25291_left.jpeg\n",
      "25291_right.jpeg\n",
      "25296_left.jpeg\n",
      "25296_right.jpeg\n"
     ]
    },
    {
     "name": "stderr",
     "output_type": "stream",
     "text": [
      "\r",
      " 18%|█████████████▉                                                                 | 974/5531 [00:21<01:33, 48.48it/s]"
     ]
    },
    {
     "name": "stdout",
     "output_type": "stream",
     "text": [
      "25300_left.jpeg\n",
      "25300_right.jpeg\n",
      "25302_left.jpeg\n",
      "25302_right.jpeg\n",
      "25303_left.jpeg\n",
      "25303_right.jpeg\n"
     ]
    },
    {
     "name": "stderr",
     "output_type": "stream",
     "text": [
      "\r",
      " 18%|█████████████▉                                                                 | 980/5531 [00:21<01:28, 51.22it/s]"
     ]
    },
    {
     "name": "stdout",
     "output_type": "stream",
     "text": [
      "25308_left.jpeg\n",
      "25308_right.jpeg\n",
      "25310_left.jpeg\n",
      "25310_right.jpeg\n",
      "25311_left.jpeg\n",
      "25311_right.jpeg\n"
     ]
    },
    {
     "name": "stderr",
     "output_type": "stream",
     "text": [
      "\r",
      " 18%|██████████████                                                                 | 986/5531 [00:21<01:29, 50.89it/s]"
     ]
    },
    {
     "name": "stdout",
     "output_type": "stream",
     "text": [
      "25312_left.jpeg\n",
      "25312_right.jpeg\n",
      "25314_left.jpeg\n",
      "25314_right.jpeg\n",
      "25315_left.jpeg\n",
      "25315_right.jpeg\n"
     ]
    },
    {
     "name": "stderr",
     "output_type": "stream",
     "text": [
      "\r",
      " 18%|██████████████▏                                                                | 992/5531 [00:21<01:30, 50.03it/s]"
     ]
    },
    {
     "name": "stdout",
     "output_type": "stream",
     "text": [
      "25316_left.jpeg\n",
      "25316_right.jpeg\n",
      "25317_left.jpeg\n",
      "25317_right.jpeg\n",
      "25318_left.jpeg\n",
      "25318_right.jpeg\n"
     ]
    },
    {
     "name": "stderr",
     "output_type": "stream",
     "text": [
      "\r",
      " 18%|██████████████▎                                                                | 998/5531 [00:22<01:29, 50.56it/s]"
     ]
    },
    {
     "name": "stdout",
     "output_type": "stream",
     "text": [
      "25322_left.jpeg\n",
      "25322_right.jpeg\n",
      "25330_left.jpeg\n",
      "25330_right.jpeg\n",
      "25331_left.jpeg\n",
      "25331_right.jpeg\n"
     ]
    },
    {
     "name": "stderr",
     "output_type": "stream",
     "text": [
      "\r",
      " 18%|██████████████▏                                                               | 1004/5531 [00:22<01:26, 52.27it/s]"
     ]
    },
    {
     "name": "stdout",
     "output_type": "stream",
     "text": [
      "25335_left.jpeg\n",
      "25335_right.jpeg\n",
      "25336_left.jpeg\n",
      "25336_right.jpeg\n",
      "25338_left.jpeg\n",
      "25338_right.jpeg\n"
     ]
    },
    {
     "name": "stderr",
     "output_type": "stream",
     "text": [
      "\r",
      " 18%|██████████████▏                                                               | 1010/5531 [00:22<01:23, 53.83it/s]"
     ]
    },
    {
     "name": "stdout",
     "output_type": "stream",
     "text": [
      "25345_left.jpeg\n",
      "25345_right.jpeg\n",
      "25346_left.jpeg\n",
      "25346_right.jpeg\n",
      "25351_left.jpeg\n",
      "25351_right.jpeg\n"
     ]
    },
    {
     "name": "stderr",
     "output_type": "stream",
     "text": [
      "\r",
      " 18%|██████████████▎                                                               | 1016/5531 [00:22<01:26, 52.12it/s]"
     ]
    },
    {
     "name": "stdout",
     "output_type": "stream",
     "text": [
      "25352_left.jpeg\n",
      "25352_right.jpeg\n",
      "25354_left.jpeg\n",
      "25354_right.jpeg\n",
      "25357_left.jpeg\n",
      "25357_right.jpeg\n"
     ]
    },
    {
     "name": "stderr",
     "output_type": "stream",
     "text": [
      "\r",
      " 18%|██████████████▍                                                               | 1022/5531 [00:22<01:27, 51.51it/s]"
     ]
    },
    {
     "name": "stdout",
     "output_type": "stream",
     "text": [
      "25360_left.jpeg\n",
      "25360_right.jpeg\n",
      "25361_left.jpeg\n",
      "25361_right.jpeg\n",
      "25364_left.jpeg\n",
      "25364_right.jpeg\n"
     ]
    },
    {
     "name": "stderr",
     "output_type": "stream",
     "text": [
      "\r",
      " 19%|██████████████▍                                                               | 1028/5531 [00:22<01:28, 51.09it/s]"
     ]
    },
    {
     "name": "stdout",
     "output_type": "stream",
     "text": [
      "25374_left.jpeg\n",
      "25374_right.jpeg\n",
      "25377_left.jpeg\n",
      "25377_right.jpeg\n",
      "25378_left.jpeg\n",
      "25378_right.jpeg\n"
     ]
    },
    {
     "name": "stderr",
     "output_type": "stream",
     "text": [
      "\r",
      " 19%|██████████████▌                                                               | 1034/5531 [00:22<01:28, 51.06it/s]"
     ]
    },
    {
     "name": "stdout",
     "output_type": "stream",
     "text": [
      "25379_left.jpeg\n",
      "25379_right.jpeg\n",
      "25382_left.jpeg\n",
      "25382_right.jpeg\n",
      "25385_left.jpeg\n",
      "25385_right.jpeg\n"
     ]
    },
    {
     "name": "stderr",
     "output_type": "stream",
     "text": [
      "\r",
      " 19%|██████████████▋                                                               | 1040/5531 [00:22<01:28, 50.90it/s]"
     ]
    },
    {
     "name": "stdout",
     "output_type": "stream",
     "text": [
      "25389_left.jpeg\n",
      "25389_right.jpeg\n",
      "25390_left.jpeg\n",
      "25390_right.jpeg\n",
      "25392_left.jpeg\n",
      "25392_right.jpeg\n",
      "25395_left.jpeg\n",
      "25395_right.jpeg\n"
     ]
    },
    {
     "name": "stderr",
     "output_type": "stream",
     "text": [
      "\r",
      " 19%|██████████████▊                                                               | 1048/5531 [00:22<01:19, 56.09it/s]"
     ]
    },
    {
     "name": "stdout",
     "output_type": "stream",
     "text": [
      "25396_left.jpeg\n",
      "25396_right.jpeg\n",
      "25399_left.jpeg\n",
      "25399_right.jpeg\n",
      "25401_left.jpeg\n",
      "25401_right.jpeg\n"
     ]
    },
    {
     "name": "stderr",
     "output_type": "stream",
     "text": [
      "\r",
      " 19%|██████████████▊                                                               | 1054/5531 [00:23<01:22, 54.45it/s]"
     ]
    },
    {
     "name": "stdout",
     "output_type": "stream",
     "text": [
      "25402_left.jpeg\n",
      "25402_right.jpeg\n",
      "25404_left.jpeg\n",
      "25404_right.jpeg\n",
      "25407_left.jpeg\n",
      "25407_right.jpeg\n",
      "25408_left.jpeg\n",
      "25408_right.jpeg\n",
      "25412_left.jpeg\n"
     ]
    },
    {
     "name": "stderr",
     "output_type": "stream",
     "text": [
      "\r",
      " 19%|██████████████▉                                                               | 1063/5531 [00:23<01:13, 60.93it/s]"
     ]
    },
    {
     "name": "stdout",
     "output_type": "stream",
     "text": [
      "25412_right.jpeg\n",
      "25413_left.jpeg\n",
      "25413_right.jpeg\n",
      "25417_left.jpeg\n",
      "25417_right.jpeg\n",
      "25419_left.jpeg\n",
      "25419_right.jpeg\n"
     ]
    },
    {
     "name": "stderr",
     "output_type": "stream",
     "text": [
      "\r",
      " 19%|███████████████                                                               | 1070/5531 [00:23<01:12, 61.12it/s]"
     ]
    },
    {
     "name": "stdout",
     "output_type": "stream",
     "text": [
      "25420_left.jpeg\n",
      "25420_right.jpeg\n",
      "25425_left.jpeg\n",
      "25425_right.jpeg\n",
      "25426_left.jpeg\n",
      "3418_right.jpeg\n",
      "3419_left.jpeg\n"
     ]
    },
    {
     "name": "stderr",
     "output_type": "stream",
     "text": [
      "\r",
      " 19%|███████████████▏                                                              | 1077/5531 [00:23<01:11, 62.23it/s]"
     ]
    },
    {
     "name": "stdout",
     "output_type": "stream",
     "text": [
      "3419_right.jpeg\n",
      "3420_left.jpeg\n",
      "3420_right.jpeg\n",
      "3422_left.jpeg\n",
      "3422_right.jpeg\n",
      "3423_left.jpeg\n",
      "3423_right.jpeg\n"
     ]
    },
    {
     "name": "stderr",
     "output_type": "stream",
     "text": [
      "\r",
      " 20%|███████████████▎                                                              | 1084/5531 [00:23<01:09, 63.90it/s]"
     ]
    },
    {
     "name": "stdout",
     "output_type": "stream",
     "text": [
      "3429_left.jpeg\n",
      "3429_right.jpeg\n",
      "3432_left.jpeg\n",
      "3432_right.jpeg\n",
      "3434_left.jpeg\n",
      "3434_right.jpeg\n",
      "3439_left.jpeg\n"
     ]
    },
    {
     "name": "stderr",
     "output_type": "stream",
     "text": [
      "\r",
      " 20%|███████████████▍                                                              | 1091/5531 [00:23<01:11, 62.17it/s]"
     ]
    },
    {
     "name": "stdout",
     "output_type": "stream",
     "text": [
      "3439_right.jpeg\n",
      "3440_left.jpeg\n",
      "3440_right.jpeg\n",
      "3444_left.jpeg\n",
      "3444_right.jpeg\n",
      "3446_left.jpeg\n",
      "3446_right.jpeg\n",
      "3447_left.jpeg\n"
     ]
    },
    {
     "name": "stderr",
     "output_type": "stream",
     "text": [
      "\r",
      " 20%|███████████████▍                                                              | 1099/5531 [00:23<01:06, 66.34it/s]"
     ]
    },
    {
     "name": "stdout",
     "output_type": "stream",
     "text": [
      "3447_right.jpeg\n",
      "3449_left.jpeg\n",
      "3449_right.jpeg\n",
      "3451_left.jpeg\n",
      "3451_right.jpeg\n",
      "3453_left.jpeg\n",
      "3453_right.jpeg\n",
      "3454_left.jpeg\n",
      "3454_right.jpeg\n"
     ]
    },
    {
     "name": "stderr",
     "output_type": "stream",
     "text": [
      "\r",
      " 20%|███████████████▋                                                              | 1108/5531 [00:23<01:02, 70.37it/s]"
     ]
    },
    {
     "name": "stdout",
     "output_type": "stream",
     "text": [
      "3459_left.jpeg\n",
      "3459_right.jpeg\n",
      "3461_left.jpeg\n",
      "3461_right.jpeg\n",
      "3462_left.jpeg\n",
      "3462_right.jpeg\n",
      "3464_left.jpeg\n",
      "3464_right.jpeg\n"
     ]
    },
    {
     "name": "stderr",
     "output_type": "stream",
     "text": [
      "\r",
      " 20%|███████████████▋                                                              | 1116/5531 [00:23<01:02, 70.75it/s]"
     ]
    },
    {
     "name": "stdout",
     "output_type": "stream",
     "text": [
      "3468_left.jpeg\n",
      "3468_right.jpeg\n",
      "3469_left.jpeg\n",
      "3469_right.jpeg\n",
      "3472_left.jpeg\n",
      "3472_right.jpeg\n",
      "3473_left.jpeg\n",
      "3473_right.jpeg\n"
     ]
    },
    {
     "name": "stderr",
     "output_type": "stream",
     "text": [
      "\r",
      " 20%|███████████████▊                                                              | 1124/5531 [00:24<01:04, 68.29it/s]"
     ]
    },
    {
     "name": "stdout",
     "output_type": "stream",
     "text": [
      "3478_left.jpeg\n",
      "3478_right.jpeg\n",
      "3479_left.jpeg\n",
      "3479_right.jpeg\n",
      "3485_left.jpeg\n",
      "3485_right.jpeg\n",
      "3491_left.jpeg\n",
      "3491_right.jpeg\n"
     ]
    },
    {
     "name": "stderr",
     "output_type": "stream",
     "text": [
      "\r",
      " 20%|███████████████▉                                                              | 1132/5531 [00:24<01:01, 71.09it/s]"
     ]
    },
    {
     "name": "stdout",
     "output_type": "stream",
     "text": [
      "3496_left.jpeg\n",
      "3496_right.jpeg\n",
      "3501_left.jpeg\n",
      "3501_right.jpeg\n",
      "3506_left.jpeg\n",
      "3506_right.jpeg\n",
      "3508_left.jpeg\n",
      "3508_right.jpeg\n"
     ]
    },
    {
     "name": "stderr",
     "output_type": "stream",
     "text": [
      "\r",
      " 21%|████████████████                                                              | 1140/5531 [00:24<01:00, 72.02it/s]"
     ]
    },
    {
     "name": "stdout",
     "output_type": "stream",
     "text": [
      "3509_left.jpeg\n",
      "3509_right.jpeg\n",
      "3511_left.jpeg\n",
      "3511_right.jpeg\n",
      "3513_left.jpeg\n",
      "3513_right.jpeg\n",
      "3515_left.jpeg\n",
      "3515_right.jpeg\n"
     ]
    },
    {
     "name": "stderr",
     "output_type": "stream",
     "text": [
      "\r",
      " 21%|████████████████▏                                                             | 1148/5531 [00:24<00:59, 73.88it/s]"
     ]
    },
    {
     "name": "stdout",
     "output_type": "stream",
     "text": [
      "3518_left.jpeg\n",
      "3518_right.jpeg\n",
      "3519_left.jpeg\n",
      "3519_right.jpeg\n",
      "3520_left.jpeg\n",
      "3520_right.jpeg\n",
      "3523_left.jpeg\n",
      "3523_right.jpeg\n",
      "3525_left.jpeg\n"
     ]
    },
    {
     "name": "stderr",
     "output_type": "stream",
     "text": [
      "\r",
      " 21%|████████████████▎                                                             | 1157/5531 [00:24<00:57, 76.35it/s]"
     ]
    },
    {
     "name": "stdout",
     "output_type": "stream",
     "text": [
      "3525_right.jpeg\n",
      "3526_left.jpeg\n",
      "3526_right.jpeg\n",
      "3527_left.jpeg\n",
      "3527_right.jpeg\n",
      "3530_left.jpeg\n",
      "3530_right.jpeg\n",
      "3531_left.jpeg\n"
     ]
    },
    {
     "name": "stderr",
     "output_type": "stream",
     "text": [
      "\r",
      " 21%|████████████████▍                                                             | 1165/5531 [00:24<00:59, 73.63it/s]"
     ]
    },
    {
     "name": "stdout",
     "output_type": "stream",
     "text": [
      "3531_right.jpeg\n",
      "3533_left.jpeg\n",
      "3533_right.jpeg\n",
      "35341_right.jpeg\n",
      "35343_left.jpeg\n",
      "35343_right.jpeg\n",
      "35344_left.jpeg\n",
      "35344_right.jpeg\n"
     ]
    },
    {
     "name": "stderr",
     "output_type": "stream",
     "text": [
      "\r",
      " 21%|████████████████▌                                                             | 1173/5531 [00:24<01:03, 68.70it/s]"
     ]
    },
    {
     "name": "stdout",
     "output_type": "stream",
     "text": [
      "35349_left.jpeg\n",
      "35349_right.jpeg\n",
      "35355_left.jpeg\n",
      "35355_right.jpeg\n",
      "35357_left.jpeg\n",
      "35357_right.jpeg\n",
      "35365_left.jpeg\n",
      "35365_right.jpeg\n"
     ]
    },
    {
     "name": "stderr",
     "output_type": "stream",
     "text": [
      "\r",
      " 21%|████████████████▋                                                             | 1181/5531 [00:24<01:02, 69.92it/s]"
     ]
    },
    {
     "name": "stdout",
     "output_type": "stream",
     "text": [
      "35367_left.jpeg\n",
      "35367_right.jpeg\n",
      "35368_left.jpeg\n",
      "35368_right.jpeg\n",
      "35371_left.jpeg\n",
      "35371_right.jpeg\n",
      "35374_left.jpeg\n",
      "35374_right.jpeg\n"
     ]
    },
    {
     "name": "stderr",
     "output_type": "stream",
     "text": [
      "\r",
      " 21%|████████████████▊                                                             | 1189/5531 [00:25<01:07, 64.17it/s]"
     ]
    },
    {
     "name": "stdout",
     "output_type": "stream",
     "text": [
      "35376_left.jpeg\n",
      "35376_right.jpeg\n",
      "35377_left.jpeg\n",
      "35377_right.jpeg\n",
      "35378_left.jpeg\n",
      "35378_right.jpeg\n",
      "35380_left.jpeg\n"
     ]
    },
    {
     "name": "stderr",
     "output_type": "stream",
     "text": [
      "\r",
      " 22%|████████████████▊                                                             | 1196/5531 [00:25<01:10, 61.86it/s]"
     ]
    },
    {
     "name": "stdout",
     "output_type": "stream",
     "text": [
      "35380_right.jpeg\n",
      "35383_left.jpeg\n",
      "35383_right.jpeg\n",
      "35388_left.jpeg\n",
      "35388_right.jpeg\n",
      "35389_left.jpeg\n",
      "35389_right.jpeg\n"
     ]
    },
    {
     "name": "stderr",
     "output_type": "stream",
     "text": [
      "\r",
      " 22%|████████████████▉                                                             | 1203/5531 [00:25<01:13, 58.67it/s]"
     ]
    },
    {
     "name": "stdout",
     "output_type": "stream",
     "text": [
      "35392_left.jpeg\n",
      "35392_right.jpeg\n",
      "35394_left.jpeg\n",
      "35394_right.jpeg\n",
      "35395_left.jpeg\n",
      "35395_right.jpeg\n"
     ]
    },
    {
     "name": "stderr",
     "output_type": "stream",
     "text": [
      "\r",
      " 22%|█████████████████                                                             | 1209/5531 [00:25<01:19, 54.16it/s]"
     ]
    },
    {
     "name": "stdout",
     "output_type": "stream",
     "text": [
      "35396_left.jpeg\n",
      "35396_right.jpeg\n",
      "35398_left.jpeg\n",
      "35398_right.jpeg\n",
      "35402_left.jpeg\n",
      "35402_right.jpeg\n"
     ]
    },
    {
     "name": "stderr",
     "output_type": "stream",
     "text": [
      "\r",
      " 22%|█████████████████▏                                                            | 1215/5531 [00:25<01:23, 51.40it/s]"
     ]
    },
    {
     "name": "stdout",
     "output_type": "stream",
     "text": [
      "35403_left.jpeg\n",
      "35403_right.jpeg\n",
      "35405_left.jpeg\n",
      "35405_right.jpeg\n",
      "35406_left.jpeg\n",
      "35406_right.jpeg\n"
     ]
    },
    {
     "name": "stderr",
     "output_type": "stream",
     "text": [
      "\r",
      " 22%|█████████████████▏                                                            | 1221/5531 [00:25<01:21, 53.03it/s]"
     ]
    },
    {
     "name": "stdout",
     "output_type": "stream",
     "text": [
      "35412_left.jpeg\n",
      "35412_right.jpeg\n",
      "35414_left.jpeg\n",
      "35414_right.jpeg\n",
      "35417_left.jpeg\n",
      "35417_right.jpeg\n"
     ]
    },
    {
     "name": "stderr",
     "output_type": "stream",
     "text": [
      "\r",
      " 22%|█████████████████▎                                                            | 1227/5531 [00:25<01:20, 53.24it/s]"
     ]
    },
    {
     "name": "stdout",
     "output_type": "stream",
     "text": [
      "3541_left.jpeg\n",
      "3541_right.jpeg\n",
      "35420_left.jpeg\n",
      "35420_right.jpeg\n",
      "35421_left.jpeg\n",
      "35421_right.jpeg\n"
     ]
    },
    {
     "name": "stderr",
     "output_type": "stream",
     "text": [
      "\r",
      " 22%|█████████████████▍                                                            | 1233/5531 [00:25<01:25, 50.43it/s]"
     ]
    },
    {
     "name": "stdout",
     "output_type": "stream",
     "text": [
      "35422_left.jpeg\n",
      "35422_right.jpeg\n",
      "35427_left.jpeg\n",
      "35427_right.jpeg\n",
      "35428_left.jpeg\n",
      "35428_right.jpeg\n"
     ]
    },
    {
     "name": "stderr",
     "output_type": "stream",
     "text": [
      "\r",
      " 22%|█████████████████▍                                                            | 1239/5531 [00:26<01:26, 49.71it/s]"
     ]
    },
    {
     "name": "stdout",
     "output_type": "stream",
     "text": [
      "35429_left.jpeg\n",
      "35429_right.jpeg\n",
      "3542_left.jpeg\n",
      "3542_right.jpeg\n",
      "35439_left.jpeg\n",
      "35439_right.jpeg\n"
     ]
    },
    {
     "name": "stderr",
     "output_type": "stream",
     "text": [
      "\r",
      " 23%|█████████████████▌                                                            | 1245/5531 [00:26<01:25, 50.34it/s]"
     ]
    },
    {
     "name": "stdout",
     "output_type": "stream",
     "text": [
      "3543_left.jpeg\n",
      "3543_right.jpeg\n",
      "35441_left.jpeg\n",
      "35441_right.jpeg\n",
      "35444_left.jpeg\n",
      "35444_right.jpeg\n",
      "35445_left.jpeg\n"
     ]
    },
    {
     "name": "stderr",
     "output_type": "stream",
     "text": [
      "\r",
      " 23%|█████████████████▋                                                            | 1252/5531 [00:26<01:21, 52.65it/s]"
     ]
    },
    {
     "name": "stdout",
     "output_type": "stream",
     "text": [
      "35445_right.jpeg\n",
      "35446_left.jpeg\n",
      "35446_right.jpeg\n",
      "35449_left.jpeg\n",
      "35449_right.jpeg\n",
      "35451_left.jpeg\n"
     ]
    },
    {
     "name": "stderr",
     "output_type": "stream",
     "text": [
      "\r",
      " 23%|█████████████████▋                                                            | 1258/5531 [00:26<01:28, 48.14it/s]"
     ]
    },
    {
     "name": "stdout",
     "output_type": "stream",
     "text": [
      "35451_right.jpeg\n",
      "35453_left.jpeg\n",
      "35453_right.jpeg\n",
      "35454_left.jpeg\n",
      "35454_right.jpeg\n"
     ]
    },
    {
     "name": "stderr",
     "output_type": "stream",
     "text": [
      "\r",
      " 23%|█████████████████▊                                                            | 1263/5531 [00:26<01:29, 47.88it/s]"
     ]
    },
    {
     "name": "stdout",
     "output_type": "stream",
     "text": [
      "35457_left.jpeg\n",
      "35457_right.jpeg\n",
      "35458_left.jpeg\n",
      "35458_right.jpeg\n",
      "35459_left.jpeg\n",
      "35459_right.jpeg\n"
     ]
    },
    {
     "name": "stderr",
     "output_type": "stream",
     "text": [
      "\r",
      " 23%|█████████████████▉                                                            | 1269/5531 [00:26<01:25, 50.11it/s]"
     ]
    },
    {
     "name": "stdout",
     "output_type": "stream",
     "text": [
      "35461_left.jpeg\n",
      "35461_right.jpeg\n",
      "35462_left.jpeg\n",
      "35462_right.jpeg\n",
      "35463_left.jpeg\n",
      "35463_right.jpeg\n"
     ]
    },
    {
     "name": "stderr",
     "output_type": "stream",
     "text": [
      "\r",
      " 23%|█████████████████▉                                                            | 1275/5531 [00:26<01:21, 52.48it/s]"
     ]
    },
    {
     "name": "stdout",
     "output_type": "stream",
     "text": [
      "35464_left.jpeg\n",
      "35464_right.jpeg\n",
      "35465_left.jpeg\n",
      "35465_right.jpeg\n",
      "35470_left.jpeg\n",
      "35470_right.jpeg\n"
     ]
    },
    {
     "name": "stderr",
     "output_type": "stream",
     "text": [
      "\r",
      " 23%|██████████████████                                                            | 1281/5531 [00:26<01:20, 52.98it/s]"
     ]
    },
    {
     "name": "stdout",
     "output_type": "stream",
     "text": [
      "35474_left.jpeg\n",
      "35474_right.jpeg\n",
      "35475_left.jpeg\n",
      "35475_right.jpeg\n",
      "35478_left.jpeg\n",
      "35478_right.jpeg\n"
     ]
    },
    {
     "name": "stderr",
     "output_type": "stream",
     "text": [
      "\r",
      " 23%|██████████████████▏                                                           | 1287/5531 [00:26<01:28, 48.10it/s]"
     ]
    },
    {
     "name": "stdout",
     "output_type": "stream",
     "text": [
      "35481_left.jpeg\n",
      "35481_right.jpeg\n",
      "35484_left.jpeg\n",
      "35484_right.jpeg\n",
      "35487_left.jpeg\n"
     ]
    },
    {
     "name": "stderr",
     "output_type": "stream",
     "text": [
      "\r",
      " 23%|██████████████████▏                                                           | 1292/5531 [00:27<01:30, 47.05it/s]"
     ]
    },
    {
     "name": "stdout",
     "output_type": "stream",
     "text": [
      "35487_right.jpeg\n",
      "35488_left.jpeg\n",
      "35488_right.jpeg\n",
      "35489_left.jpeg\n",
      "35489_right.jpeg\n",
      "35492_left.jpeg\n"
     ]
    },
    {
     "name": "stderr",
     "output_type": "stream",
     "text": [
      "\r",
      " 23%|██████████████████▎                                                           | 1298/5531 [00:27<01:26, 48.98it/s]"
     ]
    },
    {
     "name": "stdout",
     "output_type": "stream",
     "text": [
      "35492_right.jpeg\n",
      "35496_left.jpeg\n",
      "35496_right.jpeg\n",
      "35499_left.jpeg\n",
      "35499_right.jpeg\n",
      "35501_left.jpeg\n"
     ]
    },
    {
     "name": "stderr",
     "output_type": "stream",
     "text": [
      "\r",
      " 24%|██████████████████▍                                                           | 1304/5531 [00:27<01:24, 49.94it/s]"
     ]
    },
    {
     "name": "stdout",
     "output_type": "stream",
     "text": [
      "35501_right.jpeg\n",
      "35503_left.jpeg\n",
      "35503_right.jpeg\n",
      "35504_left.jpeg\n",
      "35504_right.jpeg\n",
      "35505_left.jpeg\n"
     ]
    },
    {
     "name": "stderr",
     "output_type": "stream",
     "text": [
      "\r",
      " 24%|██████████████████▍                                                           | 1310/5531 [00:27<01:24, 49.87it/s]"
     ]
    },
    {
     "name": "stdout",
     "output_type": "stream",
     "text": [
      "35505_right.jpeg\n",
      "35506_left.jpeg\n",
      "35506_right.jpeg\n",
      "35508_left.jpeg\n",
      "35508_right.jpeg\n",
      "35509_left.jpeg\n"
     ]
    },
    {
     "name": "stderr",
     "output_type": "stream",
     "text": [
      "\r",
      " 24%|██████████████████▌                                                           | 1316/5531 [00:27<01:24, 49.70it/s]"
     ]
    },
    {
     "name": "stdout",
     "output_type": "stream",
     "text": [
      "35509_right.jpeg\n",
      "35513_left.jpeg\n",
      "35513_right.jpeg\n",
      "35517_left.jpeg\n",
      "35517_right.jpeg\n",
      "35525_left.jpeg\n"
     ]
    },
    {
     "name": "stderr",
     "output_type": "stream",
     "text": [
      "\r",
      " 24%|██████████████████▋                                                           | 1322/5531 [00:27<01:24, 49.83it/s]"
     ]
    },
    {
     "name": "stdout",
     "output_type": "stream",
     "text": [
      "35525_right.jpeg\n",
      "35532_left.jpeg\n",
      "35532_right.jpeg\n",
      "35533_left.jpeg\n",
      "35533_right.jpeg\n",
      "35536_left.jpeg\n"
     ]
    },
    {
     "name": "stderr",
     "output_type": "stream",
     "text": [
      "\r",
      " 24%|██████████████████▋                                                           | 1328/5531 [00:27<01:24, 49.80it/s]"
     ]
    },
    {
     "name": "stdout",
     "output_type": "stream",
     "text": [
      "35536_right.jpeg\n",
      "3553_left.jpeg\n",
      "3553_right.jpeg\n",
      "35541_left.jpeg\n",
      "35541_right.jpeg\n",
      "35544_left.jpeg\n",
      "35544_right.jpeg\n"
     ]
    },
    {
     "name": "stderr",
     "output_type": "stream",
     "text": [
      "\r",
      " 24%|██████████████████▊                                                           | 1335/5531 [00:27<01:19, 52.59it/s]"
     ]
    },
    {
     "name": "stdout",
     "output_type": "stream",
     "text": [
      "35547_left.jpeg\n",
      "35547_right.jpeg\n",
      "35548_left.jpeg\n",
      "35548_right.jpeg\n",
      "3554_left.jpeg\n",
      "3554_right.jpeg\n"
     ]
    },
    {
     "name": "stderr",
     "output_type": "stream",
     "text": [
      "\r",
      " 24%|██████████████████▉                                                           | 1341/5531 [00:28<01:28, 47.53it/s]"
     ]
    },
    {
     "name": "stdout",
     "output_type": "stream",
     "text": [
      "35555_left.jpeg\n",
      "35555_right.jpeg\n",
      "35556_left.jpeg\n",
      "35556_right.jpeg\n",
      "35557_left.jpeg\n"
     ]
    },
    {
     "name": "stderr",
     "output_type": "stream",
     "text": [
      "\r",
      " 24%|██████████████████▉                                                           | 1346/5531 [00:28<01:34, 44.20it/s]"
     ]
    },
    {
     "name": "stdout",
     "output_type": "stream",
     "text": [
      "35557_right.jpeg\n",
      "35560_left.jpeg\n",
      "35560_right.jpeg\n",
      "35563_left.jpeg\n",
      "35563_right.jpeg\n",
      "35566_left.jpeg\n"
     ]
    },
    {
     "name": "stderr",
     "output_type": "stream",
     "text": [
      "\r",
      " 24%|███████████████████                                                           | 1352/5531 [00:28<01:29, 46.90it/s]"
     ]
    },
    {
     "name": "stdout",
     "output_type": "stream",
     "text": [
      "35566_right.jpeg\n",
      "35571_left.jpeg\n",
      "35571_right.jpeg\n",
      "35575_left.jpeg\n",
      "35575_right.jpeg\n",
      "35579_left.jpeg\n"
     ]
    },
    {
     "name": "stderr",
     "output_type": "stream",
     "text": [
      "\r",
      " 25%|███████████████████▏                                                          | 1358/5531 [00:28<01:26, 48.28it/s]"
     ]
    },
    {
     "name": "stdout",
     "output_type": "stream",
     "text": [
      "35579_right.jpeg\n",
      "3557_left.jpeg\n",
      "3557_right.jpeg\n",
      "35580_left.jpeg\n",
      "35580_right.jpeg\n"
     ]
    },
    {
     "name": "stderr",
     "output_type": "stream",
     "text": [
      "\r",
      " 25%|███████████████████▏                                                          | 1363/5531 [00:28<01:29, 46.77it/s]"
     ]
    },
    {
     "name": "stdout",
     "output_type": "stream",
     "text": [
      "35581_left.jpeg\n",
      "35581_right.jpeg\n",
      "35582_left.jpeg\n",
      "35582_right.jpeg\n",
      "35583_left.jpeg\n",
      "35583_right.jpeg\n"
     ]
    },
    {
     "name": "stderr",
     "output_type": "stream",
     "text": [
      "\r",
      " 25%|███████████████████▎                                                          | 1369/5531 [00:28<01:25, 48.78it/s]"
     ]
    },
    {
     "name": "stdout",
     "output_type": "stream",
     "text": [
      "35584_left.jpeg\n",
      "35584_right.jpeg\n",
      "35587_left.jpeg\n",
      "35587_right.jpeg\n",
      "3558_left.jpeg\n",
      "3558_right.jpeg\n"
     ]
    },
    {
     "name": "stderr",
     "output_type": "stream",
     "text": [
      "\r",
      " 25%|███████████████████▍                                                          | 1375/5531 [00:28<01:21, 50.93it/s]"
     ]
    },
    {
     "name": "stdout",
     "output_type": "stream",
     "text": [
      "35591_left.jpeg\n",
      "35591_right.jpeg\n",
      "35593_left.jpeg\n",
      "35593_right.jpeg\n",
      "35594_left.jpeg\n",
      "35594_right.jpeg\n"
     ]
    },
    {
     "name": "stderr",
     "output_type": "stream",
     "text": [
      "\r",
      " 25%|███████████████████▍                                                          | 1381/5531 [00:28<01:21, 50.81it/s]"
     ]
    },
    {
     "name": "stdout",
     "output_type": "stream",
     "text": [
      "35595_left.jpeg\n",
      "35595_right.jpeg\n",
      "35597_left.jpeg\n",
      "35597_right.jpeg\n",
      "35598_left.jpeg\n",
      "35598_right.jpeg\n"
     ]
    },
    {
     "name": "stderr",
     "output_type": "stream",
     "text": [
      "\r",
      " 25%|███████████████████▌                                                          | 1387/5531 [00:28<01:18, 52.74it/s]"
     ]
    },
    {
     "name": "stdout",
     "output_type": "stream",
     "text": [
      "35599_left.jpeg\n",
      "35599_right.jpeg\n",
      "35601_left.jpeg\n",
      "35601_right.jpeg\n",
      "35606_left.jpeg\n",
      "35606_right.jpeg\n"
     ]
    },
    {
     "name": "stderr",
     "output_type": "stream",
     "text": [
      "\r",
      " 25%|███████████████████▋                                                          | 1393/5531 [00:29<01:22, 50.11it/s]"
     ]
    },
    {
     "name": "stdout",
     "output_type": "stream",
     "text": [
      "35607_left.jpeg\n",
      "35607_right.jpeg\n",
      "35609_left.jpeg\n",
      "35609_right.jpeg\n",
      "3560_left.jpeg\n",
      "3560_right.jpeg\n"
     ]
    },
    {
     "name": "stderr",
     "output_type": "stream",
     "text": [
      "\r",
      " 25%|███████████████████▋                                                          | 1399/5531 [00:29<01:23, 49.50it/s]"
     ]
    },
    {
     "name": "stdout",
     "output_type": "stream",
     "text": [
      "35610_left.jpeg\n",
      "35610_right.jpeg\n",
      "35616_left.jpeg\n",
      "35616_right.jpeg\n",
      "35617_left.jpeg\n",
      "35617_right.jpeg\n"
     ]
    },
    {
     "name": "stderr",
     "output_type": "stream",
     "text": [
      "\r",
      " 25%|███████████████████▊                                                          | 1405/5531 [00:29<01:19, 51.61it/s]"
     ]
    },
    {
     "name": "stdout",
     "output_type": "stream",
     "text": [
      "35621_left.jpeg\n",
      "35621_right.jpeg\n",
      "35628_left.jpeg\n",
      "35628_right.jpeg\n",
      "35629_left.jpeg\n",
      "35629_right.jpeg\n"
     ]
    },
    {
     "name": "stderr",
     "output_type": "stream",
     "text": [
      "\r",
      " 26%|███████████████████▉                                                          | 1411/5531 [00:29<01:16, 53.62it/s]"
     ]
    },
    {
     "name": "stdout",
     "output_type": "stream",
     "text": [
      "3562_left.jpeg\n",
      "3562_right.jpeg\n",
      "35635_left.jpeg\n",
      "35635_right.jpeg\n",
      "35637_left.jpeg\n",
      "35637_right.jpeg\n"
     ]
    },
    {
     "name": "stderr",
     "output_type": "stream",
     "text": [
      "\r",
      " 26%|███████████████████▉                                                          | 1417/5531 [00:29<01:17, 52.80it/s]"
     ]
    },
    {
     "name": "stdout",
     "output_type": "stream",
     "text": [
      "35638_left.jpeg\n",
      "35638_right.jpeg\n",
      "3563_left.jpeg\n",
      "3563_right.jpeg\n",
      "35643_left.jpeg\n",
      "35643_right.jpeg\n"
     ]
    },
    {
     "name": "stderr",
     "output_type": "stream",
     "text": [
      "\r",
      " 26%|████████████████████                                                          | 1423/5531 [00:29<01:20, 51.04it/s]"
     ]
    },
    {
     "name": "stdout",
     "output_type": "stream",
     "text": [
      "35645_left.jpeg\n",
      "35645_right.jpeg\n",
      "35646_left.jpeg\n",
      "35646_right.jpeg\n",
      "35647_left.jpeg\n",
      "35647_right.jpeg\n"
     ]
    },
    {
     "name": "stderr",
     "output_type": "stream",
     "text": [
      "\r",
      " 26%|████████████████████▏                                                         | 1429/5531 [00:29<01:17, 53.05it/s]"
     ]
    },
    {
     "name": "stdout",
     "output_type": "stream",
     "text": [
      "35648_left.jpeg\n",
      "35648_right.jpeg\n",
      "3564_left.jpeg\n",
      "3564_right.jpeg\n",
      "35650_left.jpeg\n",
      "35650_right.jpeg\n"
     ]
    },
    {
     "name": "stderr",
     "output_type": "stream",
     "text": [
      "\r",
      " 26%|████████████████████▏                                                         | 1435/5531 [00:29<01:14, 54.85it/s]"
     ]
    },
    {
     "name": "stdout",
     "output_type": "stream",
     "text": [
      "35652_left.jpeg\n",
      "35652_right.jpeg\n",
      "35655_left.jpeg\n",
      "35655_right.jpeg\n",
      "35658_left.jpeg\n",
      "35658_right.jpeg\n"
     ]
    },
    {
     "name": "stderr",
     "output_type": "stream",
     "text": [
      "\r",
      " 26%|████████████████████▎                                                         | 1441/5531 [00:30<01:14, 55.10it/s]"
     ]
    },
    {
     "name": "stdout",
     "output_type": "stream",
     "text": [
      "35661_left.jpeg\n",
      "35661_right.jpeg\n",
      "35662_left.jpeg\n",
      "35662_right.jpeg\n",
      "35666_left.jpeg\n",
      "35666_right.jpeg\n"
     ]
    },
    {
     "name": "stderr",
     "output_type": "stream",
     "text": [
      "\r",
      " 26%|████████████████████▍                                                         | 1447/5531 [00:30<01:14, 54.98it/s]"
     ]
    },
    {
     "name": "stdout",
     "output_type": "stream",
     "text": [
      "35667_left.jpeg\n",
      "35667_right.jpeg\n",
      "35668_left.jpeg\n",
      "35668_right.jpeg\n",
      "35675_left.jpeg\n",
      "35675_right.jpeg\n"
     ]
    },
    {
     "name": "stderr",
     "output_type": "stream",
     "text": [
      "\r",
      " 26%|████████████████████▍                                                         | 1453/5531 [00:30<01:16, 53.29it/s]"
     ]
    },
    {
     "name": "stdout",
     "output_type": "stream",
     "text": [
      "35678_left.jpeg\n",
      "35678_right.jpeg\n",
      "35679_left.jpeg\n",
      "35679_right.jpeg\n",
      "3567_left.jpeg\n",
      "3567_right.jpeg\n"
     ]
    },
    {
     "name": "stderr",
     "output_type": "stream",
     "text": [
      "\r",
      " 26%|████████████████████▌                                                         | 1459/5531 [00:30<01:28, 46.05it/s]"
     ]
    },
    {
     "name": "stdout",
     "output_type": "stream",
     "text": [
      "35680_left.jpeg\n",
      "35680_right.jpeg\n",
      "35681_left.jpeg\n",
      "35681_right.jpeg\n",
      "35683_left.jpeg\n",
      "35683_right.jpeg\n"
     ]
    },
    {
     "name": "stderr",
     "output_type": "stream",
     "text": [
      "\r",
      " 26%|████████████████████▋                                                         | 1465/5531 [00:30<01:24, 48.23it/s]"
     ]
    },
    {
     "name": "stdout",
     "output_type": "stream",
     "text": [
      "35684_left.jpeg\n",
      "35684_right.jpeg\n",
      "35689_left.jpeg\n",
      "35689_right.jpeg\n",
      "35690_left.jpeg\n"
     ]
    },
    {
     "name": "stderr",
     "output_type": "stream",
     "text": [
      "\r",
      " 27%|████████████████████▋                                                         | 1470/5531 [00:30<01:23, 48.50it/s]"
     ]
    },
    {
     "name": "stdout",
     "output_type": "stream",
     "text": [
      "35690_right.jpeg\n",
      "35695_left.jpeg\n",
      "35695_right.jpeg\n",
      "35697_left.jpeg\n",
      "35697_right.jpeg\n",
      "35699_left.jpeg\n"
     ]
    },
    {
     "name": "stderr",
     "output_type": "stream",
     "text": [
      "\r",
      " 27%|████████████████████▊                                                         | 1476/5531 [00:30<01:19, 50.97it/s]"
     ]
    },
    {
     "name": "stdout",
     "output_type": "stream",
     "text": [
      "35699_right.jpeg\n",
      "3569_left.jpeg\n",
      "3569_right.jpeg\n",
      "35704_left.jpeg\n",
      "35704_right.jpeg\n",
      "35705_left.jpeg\n"
     ]
    },
    {
     "name": "stderr",
     "output_type": "stream",
     "text": [
      "\r",
      " 27%|████████████████████▉                                                         | 1482/5531 [00:30<01:19, 50.98it/s]"
     ]
    },
    {
     "name": "stdout",
     "output_type": "stream",
     "text": [
      "35705_right.jpeg\n",
      "35708_left.jpeg\n",
      "35708_right.jpeg\n",
      "3570_left.jpeg\n",
      "3570_right.jpeg\n",
      "35710_left.jpeg\n"
     ]
    },
    {
     "name": "stderr",
     "output_type": "stream",
     "text": [
      "\r",
      " 27%|████████████████████▉                                                         | 1488/5531 [00:30<01:16, 52.72it/s]"
     ]
    },
    {
     "name": "stdout",
     "output_type": "stream",
     "text": [
      "35710_right.jpeg\n",
      "35711_left.jpeg\n",
      "35711_right.jpeg\n",
      "35712_left.jpeg\n",
      "35712_right.jpeg\n",
      "35714_left.jpeg\n"
     ]
    },
    {
     "name": "stderr",
     "output_type": "stream",
     "text": [
      "\r",
      " 27%|█████████████████████                                                         | 1494/5531 [00:31<01:17, 51.78it/s]"
     ]
    },
    {
     "name": "stdout",
     "output_type": "stream",
     "text": [
      "35714_right.jpeg\n",
      "35717_left.jpeg\n",
      "35717_right.jpeg\n",
      "35719_left.jpeg\n",
      "35719_right.jpeg\n",
      "35721_left.jpeg\n"
     ]
    },
    {
     "name": "stderr",
     "output_type": "stream",
     "text": [
      "\r",
      " 27%|█████████████████████▏                                                        | 1500/5531 [00:31<01:18, 51.54it/s]"
     ]
    },
    {
     "name": "stdout",
     "output_type": "stream",
     "text": [
      "35721_right.jpeg\n",
      "35725_left.jpeg\n",
      "35725_right.jpeg\n",
      "35726_left.jpeg\n",
      "35726_right.jpeg\n",
      "3572_left.jpeg\n"
     ]
    },
    {
     "name": "stderr",
     "output_type": "stream",
     "text": [
      "\r",
      " 27%|█████████████████████▏                                                        | 1506/5531 [00:31<01:15, 53.28it/s]"
     ]
    },
    {
     "name": "stdout",
     "output_type": "stream",
     "text": [
      "3572_right.jpeg\n",
      "35731_left.jpeg\n",
      "3575_left.jpeg\n",
      "3575_right.jpeg\n",
      "3578_left.jpeg\n",
      "3578_right.jpeg\n"
     ]
    },
    {
     "name": "stderr",
     "output_type": "stream",
     "text": [
      "\r",
      " 27%|█████████████████████▎                                                        | 1512/5531 [00:31<01:15, 52.99it/s]"
     ]
    },
    {
     "name": "stdout",
     "output_type": "stream",
     "text": [
      "3579_left.jpeg\n",
      "3579_right.jpeg\n",
      "3580_left.jpeg\n",
      "3580_right.jpeg\n",
      "3581_left.jpeg\n",
      "3581_right.jpeg\n"
     ]
    },
    {
     "name": "stderr",
     "output_type": "stream",
     "text": [
      "\r",
      " 27%|█████████████████████▍                                                        | 1518/5531 [00:31<01:13, 54.51it/s]"
     ]
    },
    {
     "name": "stdout",
     "output_type": "stream",
     "text": [
      "3585_left.jpeg\n",
      "3585_right.jpeg\n",
      "3587_left.jpeg\n",
      "3587_right.jpeg\n",
      "3592_left.jpeg\n",
      "3592_right.jpeg\n"
     ]
    },
    {
     "name": "stderr",
     "output_type": "stream",
     "text": [
      "\r",
      " 28%|█████████████████████▍                                                        | 1524/5531 [00:31<01:15, 53.12it/s]"
     ]
    },
    {
     "name": "stdout",
     "output_type": "stream",
     "text": [
      "3593_left.jpeg\n",
      "3593_right.jpeg\n",
      "3595_left.jpeg\n",
      "3595_right.jpeg\n",
      "3598_left.jpeg\n",
      "3598_right.jpeg\n"
     ]
    },
    {
     "name": "stderr",
     "output_type": "stream",
     "text": [
      "\r",
      " 28%|█████████████████████▌                                                        | 1530/5531 [00:31<01:14, 53.72it/s]"
     ]
    },
    {
     "name": "stdout",
     "output_type": "stream",
     "text": [
      "3600_left.jpeg\n",
      "3600_right.jpeg\n",
      "3601_left.jpeg\n",
      "3601_right.jpeg\n",
      "3605_left.jpeg\n",
      "3605_right.jpeg\n"
     ]
    },
    {
     "name": "stderr",
     "output_type": "stream",
     "text": [
      "\r",
      " 28%|█████████████████████▋                                                        | 1536/5531 [00:31<01:12, 54.90it/s]"
     ]
    },
    {
     "name": "stdout",
     "output_type": "stream",
     "text": [
      "3606_left.jpeg\n",
      "3606_right.jpeg\n",
      "3607_left.jpeg\n",
      "3607_right.jpeg\n",
      "3608_left.jpeg\n",
      "3608_right.jpeg\n"
     ]
    },
    {
     "name": "stderr",
     "output_type": "stream",
     "text": [
      "\r",
      " 28%|█████████████████████▋                                                        | 1542/5531 [00:31<01:13, 54.54it/s]"
     ]
    },
    {
     "name": "stdout",
     "output_type": "stream",
     "text": [
      "3610_left.jpeg\n",
      "3610_right.jpeg\n",
      "3611_left.jpeg\n",
      "3611_right.jpeg\n",
      "3612_left.jpeg\n",
      "3612_right.jpeg\n",
      "3614_left.jpeg\n",
      "3614_right.jpeg\n"
     ]
    },
    {
     "name": "stderr",
     "output_type": "stream",
     "text": [
      "\r",
      " 28%|█████████████████████▊                                                        | 1550/5531 [00:32<01:06, 60.19it/s]"
     ]
    },
    {
     "name": "stdout",
     "output_type": "stream",
     "text": [
      "3615_left.jpeg\n",
      "3615_right.jpeg\n",
      "3619_left.jpeg\n",
      "3619_right.jpeg\n",
      "3621_left.jpeg\n",
      "3621_right.jpeg\n",
      "3622_left.jpeg\n"
     ]
    },
    {
     "name": "stderr",
     "output_type": "stream",
     "text": [
      "\r",
      " 28%|█████████████████████▉                                                        | 1557/5531 [00:32<01:04, 61.72it/s]"
     ]
    },
    {
     "name": "stdout",
     "output_type": "stream",
     "text": [
      "3622_right.jpeg\n",
      "3623_left.jpeg\n",
      "3623_right.jpeg\n",
      "3634_left.jpeg\n",
      "3634_right.jpeg\n",
      "3636_left.jpeg\n",
      "3636_right.jpeg\n",
      "3639_left.jpeg\n"
     ]
    },
    {
     "name": "stderr",
     "output_type": "stream",
     "text": [
      "\r",
      " 28%|██████████████████████                                                        | 1565/5531 [00:32<01:01, 65.02it/s]"
     ]
    },
    {
     "name": "stdout",
     "output_type": "stream",
     "text": [
      "3639_right.jpeg\n",
      "3640_left.jpeg\n",
      "3640_right.jpeg\n",
      "3641_left.jpeg\n",
      "3641_right.jpeg\n",
      "3643_left.jpeg\n",
      "3643_right.jpeg\n",
      "3646_left.jpeg\n",
      "3646_right.jpeg\n"
     ]
    },
    {
     "name": "stderr",
     "output_type": "stream",
     "text": [
      "\r",
      " 28%|██████████████████████▏                                                       | 1574/5531 [00:32<00:58, 67.92it/s]"
     ]
    },
    {
     "name": "stdout",
     "output_type": "stream",
     "text": [
      "3648_left.jpeg\n",
      "3648_right.jpeg\n",
      "3650_left.jpeg\n",
      "3650_right.jpeg\n",
      "3651_left.jpeg\n",
      "3651_right.jpeg\n",
      "3652_left.jpeg\n"
     ]
    },
    {
     "name": "stderr",
     "output_type": "stream",
     "text": [
      "\r",
      " 29%|██████████████████████▎                                                       | 1581/5531 [00:32<00:58, 67.40it/s]"
     ]
    },
    {
     "name": "stdout",
     "output_type": "stream",
     "text": [
      "3652_right.jpeg\n",
      "3653_left.jpeg\n",
      "3653_right.jpeg\n",
      "3654_left.jpeg\n",
      "3654_right.jpeg\n",
      "3655_left.jpeg\n",
      "3655_right.jpeg\n"
     ]
    },
    {
     "name": "stderr",
     "output_type": "stream",
     "text": [
      "\r",
      " 29%|██████████████████████▍                                                       | 1588/5531 [00:32<01:00, 64.81it/s]"
     ]
    },
    {
     "name": "stdout",
     "output_type": "stream",
     "text": [
      "3657_left.jpeg\n",
      "3657_right.jpeg\n",
      "3660_left.jpeg\n",
      "3660_right.jpeg\n",
      "3661_left.jpeg\n",
      "3661_right.jpeg\n",
      "3662_left.jpeg\n"
     ]
    },
    {
     "name": "stderr",
     "output_type": "stream",
     "text": [
      "\r",
      " 29%|██████████████████████▍                                                       | 1595/5531 [00:32<01:00, 65.22it/s]"
     ]
    },
    {
     "name": "stdout",
     "output_type": "stream",
     "text": [
      "3662_right.jpeg\n",
      "3671_left.jpeg\n",
      "3671_right.jpeg\n",
      "3673_left.jpeg\n",
      "3673_right.jpeg\n",
      "3677_left.jpeg\n",
      "3677_right.jpeg\n",
      "3682_left.jpeg\n"
     ]
    },
    {
     "name": "stderr",
     "output_type": "stream",
     "text": [
      "\r",
      " 29%|██████████████████████▌                                                       | 1603/5531 [00:32<00:56, 68.92it/s]"
     ]
    },
    {
     "name": "stdout",
     "output_type": "stream",
     "text": [
      "3682_right.jpeg\n",
      "3687_left.jpeg\n",
      "3687_right.jpeg\n",
      "3688_left.jpeg\n",
      "3688_right.jpeg\n",
      "3692_left.jpeg\n",
      "3692_right.jpeg\n"
     ]
    },
    {
     "name": "stderr",
     "output_type": "stream",
     "text": [
      "\r",
      " 29%|██████████████████████▋                                                       | 1610/5531 [00:32<01:05, 59.74it/s]"
     ]
    },
    {
     "name": "stdout",
     "output_type": "stream",
     "text": [
      "3693_left.jpeg\n",
      "3693_right.jpeg\n",
      "3695_left.jpeg\n",
      "3695_right.jpeg\n",
      "3697_left.jpeg\n",
      "3697_right.jpeg\n",
      "3698_left.jpeg\n",
      "3698_right.jpeg\n"
     ]
    },
    {
     "name": "stderr",
     "output_type": "stream",
     "text": [
      "\r",
      " 29%|██████████████████████▊                                                       | 1618/5531 [00:33<01:01, 63.46it/s]"
     ]
    },
    {
     "name": "stdout",
     "output_type": "stream",
     "text": [
      "3699_left.jpeg\n",
      "3699_right.jpeg\n",
      "3700_left.jpeg\n",
      "3700_right.jpeg\n",
      "3703_left.jpeg\n",
      "3703_right.jpeg\n",
      "3706_left.jpeg\n",
      "3706_right.jpeg\n",
      "3708_left.jpeg\n"
     ]
    },
    {
     "name": "stderr",
     "output_type": "stream",
     "text": [
      "\r",
      " 29%|██████████████████████▉                                                       | 1627/5531 [00:33<00:59, 65.14it/s]"
     ]
    },
    {
     "name": "stdout",
     "output_type": "stream",
     "text": [
      "3708_right.jpeg\n",
      "3710_left.jpeg\n",
      "3710_right.jpeg\n",
      "3712_left.jpeg\n",
      "3712_right.jpeg\n",
      "3721_left.jpeg\n",
      "3721_right.jpeg\n"
     ]
    },
    {
     "name": "stderr",
     "output_type": "stream",
     "text": [
      "\r",
      " 30%|███████████████████████                                                       | 1634/5531 [00:33<01:01, 63.33it/s]"
     ]
    },
    {
     "name": "stdout",
     "output_type": "stream",
     "text": [
      "3722_left.jpeg\n",
      "3722_right.jpeg\n",
      "3723_left.jpeg\n",
      "3723_right.jpeg\n",
      "3726_left.jpeg\n",
      "3726_right.jpeg\n",
      "3727_left.jpeg\n",
      "3727_right.jpeg\n"
     ]
    },
    {
     "name": "stderr",
     "output_type": "stream",
     "text": [
      "\r",
      " 30%|███████████████████████▏                                                      | 1642/5531 [00:33<00:58, 65.93it/s]"
     ]
    },
    {
     "name": "stdout",
     "output_type": "stream",
     "text": [
      "3738_left.jpeg\n",
      "3738_right.jpeg\n",
      "3740_left.jpeg\n",
      "3740_right.jpeg\n",
      "3741_left.jpeg\n",
      "3741_right.jpeg\n",
      "3742_left.jpeg\n"
     ]
    },
    {
     "name": "stderr",
     "output_type": "stream",
     "text": [
      "\r",
      " 30%|███████████████████████▎                                                      | 1649/5531 [00:33<00:58, 66.78it/s]"
     ]
    },
    {
     "name": "stdout",
     "output_type": "stream",
     "text": [
      "3742_right.jpeg\n",
      "3743_left.jpeg\n",
      "3743_right.jpeg\n",
      "3744_left.jpeg\n",
      "3744_right.jpeg\n",
      "3748_left.jpeg\n",
      "3748_right.jpeg\n"
     ]
    },
    {
     "name": "stderr",
     "output_type": "stream",
     "text": [
      "\r",
      " 30%|███████████████████████▎                                                      | 1656/5531 [00:33<01:01, 62.68it/s]"
     ]
    },
    {
     "name": "stdout",
     "output_type": "stream",
     "text": [
      "3749_left.jpeg\n",
      "3749_right.jpeg\n",
      "3750_left.jpeg\n",
      "3750_right.jpeg\n",
      "3752_left.jpeg\n",
      "3752_right.jpeg\n",
      "3754_left.jpeg\n",
      "3754_right.jpeg\n"
     ]
    },
    {
     "name": "stderr",
     "output_type": "stream",
     "text": [
      "\r",
      " 30%|███████████████████████▍                                                      | 1664/5531 [00:33<00:58, 66.41it/s]"
     ]
    },
    {
     "name": "stdout",
     "output_type": "stream",
     "text": [
      "3755_left.jpeg\n",
      "3755_right.jpeg\n",
      "3757_left.jpeg\n",
      "3757_right.jpeg\n",
      "3758_left.jpeg\n",
      "3758_right.jpeg\n",
      "3759_left.jpeg\n",
      "3759_right.jpeg\n"
     ]
    },
    {
     "name": "stderr",
     "output_type": "stream",
     "text": [
      "\r",
      " 30%|███████████████████████▌                                                      | 1672/5531 [00:33<00:55, 69.48it/s]"
     ]
    },
    {
     "name": "stdout",
     "output_type": "stream",
     "text": [
      "3762_left.jpeg\n",
      "3762_right.jpeg\n",
      "3766_left.jpeg\n",
      "3766_right.jpeg\n",
      "3767_left.jpeg\n",
      "3767_right.jpeg\n",
      "3769_left.jpeg\n",
      "3769_right.jpeg\n"
     ]
    },
    {
     "name": "stderr",
     "output_type": "stream",
     "text": [
      "\r",
      " 30%|███████████████████████▋                                                      | 1680/5531 [00:34<00:56, 67.97it/s]"
     ]
    },
    {
     "name": "stdout",
     "output_type": "stream",
     "text": [
      "3773_left.jpeg\n",
      "3773_right.jpeg\n",
      "3774_left.jpeg\n",
      "3774_right.jpeg\n",
      "3778_left.jpeg\n",
      "3778_right.jpeg\n",
      "3779_left.jpeg\n"
     ]
    },
    {
     "name": "stderr",
     "output_type": "stream",
     "text": [
      "\r",
      " 31%|███████████████████████▊                                                      | 1687/5531 [00:34<01:05, 59.09it/s]"
     ]
    },
    {
     "name": "stdout",
     "output_type": "stream",
     "text": [
      "3779_right.jpeg\n",
      "3780_left.jpeg\n",
      "3780_right.jpeg\n",
      "3782_left.jpeg\n",
      "3782_right.jpeg\n",
      "3783_left.jpeg\n",
      "3783_right.jpeg\n"
     ]
    },
    {
     "name": "stderr",
     "output_type": "stream",
     "text": [
      "\r",
      " 31%|███████████████████████▉                                                      | 1694/5531 [00:34<01:04, 59.06it/s]"
     ]
    },
    {
     "name": "stdout",
     "output_type": "stream",
     "text": [
      "3786_left.jpeg\n",
      "3786_right.jpeg\n",
      "3795_left.jpeg\n",
      "3795_right.jpeg\n",
      "3797_left.jpeg\n",
      "3797_right.jpeg\n",
      "3798_left.jpeg\n"
     ]
    },
    {
     "name": "stderr",
     "output_type": "stream",
     "text": [
      "\r",
      " 31%|███████████████████████▉                                                      | 1701/5531 [00:34<01:05, 58.89it/s]"
     ]
    },
    {
     "name": "stdout",
     "output_type": "stream",
     "text": [
      "3798_right.jpeg\n",
      "3799_left.jpeg\n",
      "3799_right.jpeg\n",
      "3802_left.jpeg\n",
      "3802_right.jpeg\n",
      "3806_left.jpeg\n",
      "3806_right.jpeg\n"
     ]
    },
    {
     "name": "stderr",
     "output_type": "stream",
     "text": [
      "\r",
      " 31%|████████████████████████                                                      | 1708/5531 [00:34<01:06, 57.47it/s]"
     ]
    },
    {
     "name": "stdout",
     "output_type": "stream",
     "text": [
      "3808_left.jpeg\n",
      "3808_right.jpeg\n",
      "3812_left.jpeg\n",
      "3812_right.jpeg\n",
      "3818_left.jpeg\n",
      "3818_right.jpeg\n"
     ]
    },
    {
     "name": "stderr",
     "output_type": "stream",
     "text": [
      "\r",
      " 31%|████████████████████████▏                                                     | 1714/5531 [00:34<01:07, 56.93it/s]"
     ]
    },
    {
     "name": "stdout",
     "output_type": "stream",
     "text": [
      "3823_left.jpeg\n",
      "3823_right.jpeg\n",
      "3824_left.jpeg\n",
      "3824_right.jpeg\n",
      "3825_left.jpeg\n",
      "3825_right.jpeg\n"
     ]
    },
    {
     "name": "stderr",
     "output_type": "stream",
     "text": [
      "\r",
      " 31%|████████████████████████▎                                                     | 1720/5531 [00:34<01:07, 56.08it/s]"
     ]
    },
    {
     "name": "stdout",
     "output_type": "stream",
     "text": [
      "3829_left.jpeg\n",
      "3829_right.jpeg\n",
      "3830_left.jpeg\n",
      "3830_right.jpeg\n",
      "3831_left.jpeg\n",
      "3831_right.jpeg\n"
     ]
    },
    {
     "name": "stderr",
     "output_type": "stream",
     "text": [
      "\r",
      " 31%|████████████████████████▎                                                     | 1726/5531 [00:34<01:07, 56.60it/s]"
     ]
    },
    {
     "name": "stdout",
     "output_type": "stream",
     "text": [
      "3832_left.jpeg\n",
      "3832_right.jpeg\n",
      "3838_left.jpeg\n",
      "3838_right.jpeg\n",
      "3844_left.jpeg\n",
      "3844_right.jpeg\n"
     ]
    },
    {
     "name": "stderr",
     "output_type": "stream",
     "text": [
      "\r",
      " 31%|████████████████████████▍                                                     | 1732/5531 [00:34<01:06, 56.81it/s]"
     ]
    },
    {
     "name": "stdout",
     "output_type": "stream",
     "text": [
      "3846_left.jpeg\n",
      "3846_right.jpeg\n",
      "3848_left.jpeg\n",
      "3848_right.jpeg\n",
      "3851_left.jpeg\n",
      "3851_right.jpeg\n"
     ]
    },
    {
     "name": "stderr",
     "output_type": "stream",
     "text": [
      "\r",
      " 31%|████████████████████████▌                                                     | 1738/5531 [00:35<01:09, 54.48it/s]"
     ]
    },
    {
     "name": "stdout",
     "output_type": "stream",
     "text": [
      "3852_left.jpeg\n",
      "3852_right.jpeg\n",
      "3856_left.jpeg\n",
      "3856_right.jpeg\n",
      "3857_left.jpeg\n",
      "3857_right.jpeg\n"
     ]
    },
    {
     "name": "stderr",
     "output_type": "stream",
     "text": [
      "\r",
      " 32%|████████████████████████▌                                                     | 1744/5531 [00:35<01:08, 55.29it/s]"
     ]
    },
    {
     "name": "stdout",
     "output_type": "stream",
     "text": [
      "3858_left.jpeg\n",
      "3858_right.jpeg\n",
      "3861_left.jpeg\n",
      "3861_right.jpeg\n",
      "3862_left.jpeg\n",
      "3862_right.jpeg\n"
     ]
    },
    {
     "name": "stderr",
     "output_type": "stream",
     "text": [
      "\r",
      " 32%|████████████████████████▋                                                     | 1750/5531 [00:35<01:09, 54.22it/s]"
     ]
    },
    {
     "name": "stdout",
     "output_type": "stream",
     "text": [
      "3865_left.jpeg\n",
      "3865_right.jpeg\n",
      "3866_left.jpeg\n",
      "3866_right.jpeg\n",
      "3868_left.jpeg\n",
      "3868_right.jpeg\n"
     ]
    },
    {
     "name": "stderr",
     "output_type": "stream",
     "text": [
      "\r",
      " 32%|████████████████████████▊                                                     | 1756/5531 [00:35<01:08, 55.10it/s]"
     ]
    },
    {
     "name": "stdout",
     "output_type": "stream",
     "text": [
      "3871_left.jpeg\n",
      "3871_right.jpeg\n",
      "3872_left.jpeg\n",
      "3872_right.jpeg\n",
      "3873_left.jpeg\n",
      "3873_right.jpeg\n"
     ]
    },
    {
     "name": "stderr",
     "output_type": "stream",
     "text": [
      "\r",
      " 32%|████████████████████████▊                                                     | 1762/5531 [00:35<01:09, 54.09it/s]"
     ]
    },
    {
     "name": "stdout",
     "output_type": "stream",
     "text": [
      "3877_left.jpeg\n",
      "3877_right.jpeg\n",
      "3880_left.jpeg\n",
      "3880_right.jpeg\n",
      "3884_left.jpeg\n",
      "3884_right.jpeg\n"
     ]
    },
    {
     "name": "stderr",
     "output_type": "stream",
     "text": [
      "\r",
      " 32%|████████████████████████▉                                                     | 1768/5531 [00:35<01:08, 55.01it/s]"
     ]
    },
    {
     "name": "stdout",
     "output_type": "stream",
     "text": [
      "3888_left.jpeg\n",
      "3888_right.jpeg\n",
      "3889_left.jpeg\n",
      "3889_right.jpeg\n",
      "3892_left.jpeg\n",
      "3892_right.jpeg\n"
     ]
    },
    {
     "name": "stderr",
     "output_type": "stream",
     "text": [
      "\r",
      " 32%|█████████████████████████                                                     | 1774/5531 [00:35<01:08, 55.07it/s]"
     ]
    },
    {
     "name": "stdout",
     "output_type": "stream",
     "text": [
      "3893_left.jpeg\n",
      "3893_right.jpeg\n",
      "3894_left.jpeg\n",
      "3894_right.jpeg\n",
      "3895_left.jpeg\n",
      "3895_right.jpeg\n"
     ]
    },
    {
     "name": "stderr",
     "output_type": "stream",
     "text": [
      "\r",
      " 32%|█████████████████████████                                                     | 1780/5531 [00:35<01:09, 54.07it/s]"
     ]
    },
    {
     "name": "stdout",
     "output_type": "stream",
     "text": [
      "3896_left.jpeg\n",
      "3896_right.jpeg\n",
      "3897_left.jpeg\n",
      "3897_right.jpeg\n",
      "3898_left.jpeg\n",
      "3898_right.jpeg\n"
     ]
    },
    {
     "name": "stderr",
     "output_type": "stream",
     "text": [
      "\r",
      " 32%|█████████████████████████▏                                                    | 1786/5531 [00:35<01:08, 54.84it/s]"
     ]
    },
    {
     "name": "stdout",
     "output_type": "stream",
     "text": [
      "3907_left.jpeg\n",
      "3907_right.jpeg\n",
      "3908_left.jpeg\n",
      "3908_right.jpeg\n",
      "3909_left.jpeg\n",
      "3909_right.jpeg\n"
     ]
    },
    {
     "name": "stderr",
     "output_type": "stream",
     "text": [
      "\r",
      " 32%|█████████████████████████▎                                                    | 1792/5531 [00:36<01:08, 54.21it/s]"
     ]
    },
    {
     "name": "stdout",
     "output_type": "stream",
     "text": [
      "3910_left.jpeg\n",
      "3910_right.jpeg\n",
      "3914_left.jpeg\n",
      "3914_right.jpeg\n",
      "3918_left.jpeg\n",
      "3918_right.jpeg\n"
     ]
    },
    {
     "name": "stderr",
     "output_type": "stream",
     "text": [
      "\r",
      " 33%|█████████████████████████▎                                                    | 1798/5531 [00:36<01:15, 49.64it/s]"
     ]
    },
    {
     "name": "stdout",
     "output_type": "stream",
     "text": [
      "3924_left.jpeg\n",
      "3924_right.jpeg\n",
      "3926_left.jpeg\n",
      "3926_right.jpeg\n",
      "3930_left.jpeg\n",
      "3930_right.jpeg\n"
     ]
    },
    {
     "name": "stderr",
     "output_type": "stream",
     "text": [
      "\r",
      " 33%|█████████████████████████▍                                                    | 1804/5531 [00:36<01:12, 51.58it/s]"
     ]
    },
    {
     "name": "stdout",
     "output_type": "stream",
     "text": [
      "3932_left.jpeg\n",
      "3932_right.jpeg\n",
      "3933_left.jpeg\n",
      "3933_right.jpeg\n",
      "3936_left.jpeg\n",
      "3936_right.jpeg\n"
     ]
    },
    {
     "name": "stderr",
     "output_type": "stream",
     "text": [
      "\r",
      " 33%|█████████████████████████▌                                                    | 1810/5531 [00:36<01:13, 50.75it/s]"
     ]
    },
    {
     "name": "stdout",
     "output_type": "stream",
     "text": [
      "3937_left.jpeg\n",
      "3937_right.jpeg\n",
      "3938_left.jpeg\n",
      "3938_right.jpeg\n",
      "3940_left.jpeg\n",
      "3940_right.jpeg\n"
     ]
    },
    {
     "name": "stderr",
     "output_type": "stream",
     "text": [
      "\r",
      " 33%|█████████████████████████▌                                                    | 1816/5531 [00:36<01:19, 47.01it/s]"
     ]
    },
    {
     "name": "stdout",
     "output_type": "stream",
     "text": [
      "3948_left.jpeg\n",
      "3948_right.jpeg\n",
      "3957_left.jpeg\n",
      "3957_right.jpeg\n",
      "3960_left.jpeg\n"
     ]
    },
    {
     "name": "stderr",
     "output_type": "stream",
     "text": [
      "\r",
      " 33%|█████████████████████████▋                                                    | 1821/5531 [00:36<01:18, 47.09it/s]"
     ]
    },
    {
     "name": "stdout",
     "output_type": "stream",
     "text": [
      "3960_right.jpeg\n",
      "3967_left.jpeg\n",
      "3967_right.jpeg\n",
      "3970_left.jpeg\n",
      "3970_right.jpeg\n",
      "3973_left.jpeg\n"
     ]
    },
    {
     "name": "stderr",
     "output_type": "stream",
     "text": [
      "\r",
      " 33%|█████████████████████████▊                                                    | 1827/5531 [00:36<01:15, 48.90it/s]"
     ]
    },
    {
     "name": "stdout",
     "output_type": "stream",
     "text": [
      "3973_right.jpeg\n",
      "3977_left.jpeg\n",
      "3977_right.jpeg\n",
      "3981_left.jpeg\n",
      "3981_right.jpeg\n"
     ]
    },
    {
     "name": "stderr",
     "output_type": "stream",
     "text": [
      "\r",
      " 33%|█████████████████████████▊                                                    | 1832/5531 [00:36<01:16, 48.55it/s]"
     ]
    },
    {
     "name": "stdout",
     "output_type": "stream",
     "text": [
      "3983_left.jpeg\n",
      "3983_right.jpeg\n",
      "3984_left.jpeg\n",
      "3984_right.jpeg\n",
      "3986_left.jpeg\n"
     ]
    },
    {
     "name": "stderr",
     "output_type": "stream",
     "text": [
      "\r",
      " 33%|█████████████████████████▉                                                    | 1837/5531 [00:37<01:44, 35.19it/s]"
     ]
    },
    {
     "name": "stdout",
     "output_type": "stream",
     "text": [
      "3986_right.jpeg\n",
      "3988_left.jpeg\n",
      "3988_right.jpeg\n",
      "3989_left.jpeg\n",
      "3989_right.jpeg\n",
      "3992_left.jpeg\n"
     ]
    },
    {
     "name": "stderr",
     "output_type": "stream",
     "text": [
      "\r",
      " 33%|█████████████████████████▉                                                    | 1843/5531 [00:37<01:32, 39.79it/s]"
     ]
    },
    {
     "name": "stdout",
     "output_type": "stream",
     "text": [
      "3992_right.jpeg\n",
      "3993_left.jpeg\n",
      "3993_right.jpeg\n",
      "3994_left.jpeg\n",
      "3994_right.jpeg\n"
     ]
    },
    {
     "name": "stderr",
     "output_type": "stream",
     "text": [
      "\r",
      " 33%|██████████████████████████                                                    | 1848/5531 [00:37<01:28, 41.47it/s]"
     ]
    },
    {
     "name": "stdout",
     "output_type": "stream",
     "text": [
      "3995_left.jpeg\n",
      "3995_right.jpeg\n",
      "4001_left.jpeg\n",
      "4001_right.jpeg\n",
      "4002_left.jpeg\n",
      "4002_right.jpeg\n"
     ]
    },
    {
     "name": "stderr",
     "output_type": "stream",
     "text": [
      "\r",
      " 34%|██████████████████████████▏                                                   | 1854/5531 [00:37<01:22, 44.42it/s]"
     ]
    },
    {
     "name": "stdout",
     "output_type": "stream",
     "text": [
      "4003_left.jpeg\n",
      "4003_right.jpeg\n",
      "4005_left.jpeg\n",
      "4005_right.jpeg\n",
      "4009_left.jpeg\n",
      "4009_right.jpeg\n"
     ]
    },
    {
     "name": "stderr",
     "output_type": "stream",
     "text": [
      "\r",
      " 34%|██████████████████████████▏                                                   | 1860/5531 [00:37<01:17, 47.18it/s]"
     ]
    },
    {
     "name": "stdout",
     "output_type": "stream",
     "text": [
      "4021_left.jpeg\n",
      "4021_right.jpeg\n",
      "4025_left.jpeg\n",
      "4025_right.jpeg\n",
      "4034_left.jpeg\n",
      "4034_right.jpeg\n"
     ]
    },
    {
     "name": "stderr",
     "output_type": "stream",
     "text": [
      "\r",
      " 34%|██████████████████████████▎                                                   | 1866/5531 [00:37<01:14, 49.21it/s]"
     ]
    },
    {
     "name": "stdout",
     "output_type": "stream",
     "text": [
      "4035_left.jpeg\n",
      "4035_right.jpeg\n",
      "4036_left.jpeg\n",
      "4036_right.jpeg\n",
      "4041_left.jpeg\n",
      "4041_right.jpeg\n"
     ]
    },
    {
     "name": "stderr",
     "output_type": "stream",
     "text": [
      "\r",
      " 34%|██████████████████████████▍                                                   | 1872/5531 [00:37<01:20, 45.65it/s]"
     ]
    },
    {
     "name": "stdout",
     "output_type": "stream",
     "text": [
      "4043_left.jpeg\n",
      "4043_right.jpeg\n",
      "4046_left.jpeg\n",
      "4046_right.jpeg\n",
      "4048_left.jpeg\n",
      "4048_right.jpeg\n"
     ]
    },
    {
     "name": "stderr",
     "output_type": "stream",
     "text": [
      "\r",
      " 34%|██████████████████████████▍                                                   | 1878/5531 [00:37<01:18, 46.58it/s]"
     ]
    },
    {
     "name": "stdout",
     "output_type": "stream",
     "text": [
      "4049_left.jpeg\n",
      "4049_right.jpeg\n",
      "4053_left.jpeg\n",
      "4053_right.jpeg\n",
      "4058_left.jpeg\n",
      "4058_right.jpeg\n"
     ]
    },
    {
     "name": "stderr",
     "output_type": "stream",
     "text": [
      "\r",
      " 34%|██████████████████████████▌                                                   | 1884/5531 [00:38<01:13, 49.47it/s]"
     ]
    },
    {
     "name": "stdout",
     "output_type": "stream",
     "text": [
      "4060_left.jpeg\n",
      "4060_right.jpeg\n",
      "4062_left.jpeg\n",
      "4062_right.jpeg\n",
      "4064_left.jpeg\n",
      "4064_right.jpeg\n"
     ]
    },
    {
     "name": "stderr",
     "output_type": "stream",
     "text": [
      "\r",
      " 34%|██████████████████████████▋                                                   | 1890/5531 [00:38<01:10, 51.45it/s]"
     ]
    },
    {
     "name": "stdout",
     "output_type": "stream",
     "text": [
      "4065_left.jpeg\n",
      "4065_right.jpeg\n",
      "4066_left.jpeg\n",
      "4066_right.jpeg\n",
      "4069_left.jpeg\n",
      "4069_right.jpeg\n"
     ]
    },
    {
     "name": "stderr",
     "output_type": "stream",
     "text": [
      "\r",
      " 34%|██████████████████████████▋                                                   | 1896/5531 [00:38<01:10, 51.58it/s]"
     ]
    },
    {
     "name": "stdout",
     "output_type": "stream",
     "text": [
      "4070_left.jpeg\n",
      "4070_right.jpeg\n",
      "4071_left.jpeg\n",
      "4071_right.jpeg\n",
      "4077_left.jpeg\n",
      "4077_right.jpeg\n"
     ]
    },
    {
     "name": "stderr",
     "output_type": "stream",
     "text": [
      "\r",
      " 34%|██████████████████████████▊                                                   | 1902/5531 [00:38<01:09, 51.93it/s]"
     ]
    },
    {
     "name": "stdout",
     "output_type": "stream",
     "text": [
      "4078_left.jpeg\n",
      "4078_right.jpeg\n",
      "4080_left.jpeg\n",
      "4080_right.jpeg\n",
      "4082_left.jpeg\n",
      "4082_right.jpeg\n"
     ]
    },
    {
     "name": "stderr",
     "output_type": "stream",
     "text": [
      "\r",
      " 34%|██████████████████████████▉                                                   | 1908/5531 [00:38<01:09, 52.04it/s]"
     ]
    },
    {
     "name": "stdout",
     "output_type": "stream",
     "text": [
      "4085_left.jpeg\n",
      "4085_right.jpeg\n",
      "4086_left.jpeg\n",
      "4086_right.jpeg\n",
      "4090_left.jpeg\n",
      "4090_right.jpeg\n"
     ]
    },
    {
     "name": "stderr",
     "output_type": "stream",
     "text": [
      "\r",
      " 35%|██████████████████████████▉                                                   | 1914/5531 [00:38<01:14, 48.71it/s]"
     ]
    },
    {
     "name": "stdout",
     "output_type": "stream",
     "text": [
      "4092_left.jpeg\n",
      "4092_right.jpeg\n",
      "4095_left.jpeg\n",
      "4095_right.jpeg\n",
      "4098_left.jpeg\n",
      "4098_right.jpeg\n"
     ]
    },
    {
     "name": "stderr",
     "output_type": "stream",
     "text": [
      "\r",
      " 35%|███████████████████████████                                                   | 1920/5531 [00:38<01:11, 50.61it/s]"
     ]
    },
    {
     "name": "stdout",
     "output_type": "stream",
     "text": [
      "4113_left.jpeg\n",
      "4113_right.jpeg\n",
      "4116_left.jpeg\n",
      "4116_right.jpeg\n",
      "4121_left.jpeg\n",
      "4121_right.jpeg\n"
     ]
    },
    {
     "name": "stderr",
     "output_type": "stream",
     "text": [
      "\r",
      " 35%|███████████████████████████▏                                                  | 1926/5531 [00:38<01:11, 50.72it/s]"
     ]
    },
    {
     "name": "stdout",
     "output_type": "stream",
     "text": [
      "4122_left.jpeg\n",
      "4122_right.jpeg\n",
      "4123_left.jpeg\n",
      "4123_right.jpeg\n",
      "4125_left.jpeg\n",
      "4125_right.jpeg\n"
     ]
    },
    {
     "name": "stderr",
     "output_type": "stream",
     "text": [
      "\r",
      " 35%|███████████████████████████▏                                                  | 1932/5531 [00:38<01:07, 53.09it/s]"
     ]
    },
    {
     "name": "stdout",
     "output_type": "stream",
     "text": [
      "4127_left.jpeg\n",
      "4127_right.jpeg\n",
      "4129_left.jpeg\n",
      "4129_right.jpeg\n",
      "4130_left.jpeg\n",
      "4130_right.jpeg\n",
      "4132_left.jpeg\n"
     ]
    },
    {
     "name": "stderr",
     "output_type": "stream",
     "text": [
      "\r",
      " 35%|███████████████████████████▎                                                  | 1939/5531 [00:39<01:04, 55.50it/s]"
     ]
    },
    {
     "name": "stdout",
     "output_type": "stream",
     "text": [
      "4132_right.jpeg\n",
      "4133_left.jpeg\n",
      "4133_right.jpeg\n",
      "4134_left.jpeg\n",
      "4134_right.jpeg\n",
      "4135_left.jpeg\n",
      "4135_right.jpeg\n",
      "4139_left.jpeg\n"
     ]
    },
    {
     "name": "stderr",
     "output_type": "stream",
     "text": [
      "\r",
      " 35%|███████████████████████████▍                                                  | 1947/5531 [00:39<01:00, 59.39it/s]"
     ]
    },
    {
     "name": "stdout",
     "output_type": "stream",
     "text": [
      "4139_right.jpeg\n",
      "4140_left.jpeg\n",
      "4140_right.jpeg\n",
      "4148_left.jpeg\n",
      "4148_right.jpeg\n",
      "4149_left.jpeg\n",
      "4149_right.jpeg\n"
     ]
    },
    {
     "name": "stderr",
     "output_type": "stream",
     "text": [
      "\r",
      " 35%|███████████████████████████▌                                                  | 1954/5531 [00:39<00:58, 61.45it/s]"
     ]
    },
    {
     "name": "stdout",
     "output_type": "stream",
     "text": [
      "4155_left.jpeg\n",
      "4155_right.jpeg\n",
      "4157_left.jpeg\n",
      "4157_right.jpeg\n",
      "4158_left.jpeg\n",
      "4158_right.jpeg\n",
      "4160_left.jpeg\n",
      "4160_right.jpeg\n"
     ]
    },
    {
     "name": "stderr",
     "output_type": "stream",
     "text": [
      "\r",
      " 35%|███████████████████████████▋                                                  | 1962/5531 [00:39<00:54, 65.92it/s]"
     ]
    },
    {
     "name": "stdout",
     "output_type": "stream",
     "text": [
      "4161_left.jpeg\n",
      "4161_right.jpeg\n",
      "4162_left.jpeg\n",
      "4162_right.jpeg\n",
      "4163_left.jpeg\n",
      "4163_right.jpeg\n",
      "4165_left.jpeg\n",
      "4165_right.jpeg\n"
     ]
    },
    {
     "name": "stderr",
     "output_type": "stream",
     "text": [
      "\r",
      " 36%|███████████████████████████▊                                                  | 1970/5531 [00:39<00:52, 67.70it/s]"
     ]
    },
    {
     "name": "stdout",
     "output_type": "stream",
     "text": [
      "4167_left.jpeg\n",
      "4167_right.jpeg\n",
      "4175_left.jpeg\n",
      "4175_right.jpeg\n",
      "4178_left.jpeg\n",
      "4178_right.jpeg\n",
      "4181_left.jpeg\n",
      "4181_right.jpeg\n"
     ]
    },
    {
     "name": "stderr",
     "output_type": "stream",
     "text": [
      "\r",
      " 36%|███████████████████████████▉                                                  | 1978/5531 [00:39<00:52, 67.78it/s]"
     ]
    },
    {
     "name": "stdout",
     "output_type": "stream",
     "text": [
      "4182_left.jpeg\n",
      "4182_right.jpeg\n",
      "4184_left.jpeg\n",
      "4184_right.jpeg\n",
      "4186_left.jpeg\n",
      "4186_right.jpeg\n",
      "4190_left.jpeg\n"
     ]
    },
    {
     "name": "stderr",
     "output_type": "stream",
     "text": [
      "\r",
      " 36%|███████████████████████████▉                                                  | 1985/5531 [00:39<00:56, 63.30it/s]"
     ]
    },
    {
     "name": "stdout",
     "output_type": "stream",
     "text": [
      "4190_right.jpeg\n",
      "4191_left.jpeg\n",
      "4191_right.jpeg\n",
      "4194_left.jpeg\n",
      "4194_right.jpeg\n",
      "4195_left.jpeg\n",
      "4195_right.jpeg\n"
     ]
    },
    {
     "name": "stderr",
     "output_type": "stream",
     "text": [
      "\r",
      " 36%|████████████████████████████                                                  | 1992/5531 [00:39<00:55, 63.80it/s]"
     ]
    },
    {
     "name": "stdout",
     "output_type": "stream",
     "text": [
      "4196_left.jpeg\n",
      "4196_right.jpeg\n",
      "4197_left.jpeg\n",
      "4197_right.jpeg\n",
      "4199_left.jpeg\n",
      "4199_right.jpeg\n",
      "4200_left.jpeg\n"
     ]
    },
    {
     "name": "stderr",
     "output_type": "stream",
     "text": [
      "\r",
      " 36%|████████████████████████████▏                                                 | 1999/5531 [00:40<01:00, 58.83it/s]"
     ]
    },
    {
     "name": "stdout",
     "output_type": "stream",
     "text": [
      "4200_right.jpeg\n",
      "4202_left.jpeg\n",
      "4202_right.jpeg\n",
      "4203_left.jpeg\n",
      "4203_right.jpeg\n",
      "4204_left.jpeg\n",
      "4204_right.jpeg\n"
     ]
    },
    {
     "name": "stderr",
     "output_type": "stream",
     "text": [
      "\r",
      " 36%|████████████████████████████▎                                                 | 2006/5531 [00:40<01:08, 51.72it/s]"
     ]
    },
    {
     "name": "stdout",
     "output_type": "stream",
     "text": [
      "4206_left.jpeg\n",
      "4206_right.jpeg\n",
      "4212_left.jpeg\n",
      "4212_right.jpeg\n",
      "4214_left.jpeg\n",
      "4214_right.jpeg\n"
     ]
    },
    {
     "name": "stderr",
     "output_type": "stream",
     "text": [
      "\r",
      " 36%|████████████████████████████▎                                                 | 2012/5531 [00:40<01:07, 52.16it/s]"
     ]
    },
    {
     "name": "stdout",
     "output_type": "stream",
     "text": [
      "4216_left.jpeg\n",
      "4216_right.jpeg\n",
      "4217_left.jpeg\n",
      "4217_right.jpeg\n",
      "4223_left.jpeg\n",
      "4223_right.jpeg\n"
     ]
    },
    {
     "name": "stderr",
     "output_type": "stream",
     "text": [
      "\r",
      " 36%|████████████████████████████▍                                                 | 2018/5531 [00:40<01:10, 49.50it/s]"
     ]
    },
    {
     "name": "stdout",
     "output_type": "stream",
     "text": [
      "4227_left.jpeg\n",
      "4227_right.jpeg\n",
      "4230_left.jpeg\n",
      "4230_right.jpeg\n",
      "4232_left.jpeg\n",
      "4232_right.jpeg\n"
     ]
    },
    {
     "name": "stderr",
     "output_type": "stream",
     "text": [
      "\r",
      " 37%|████████████████████████████▌                                                 | 2024/5531 [00:40<01:13, 47.57it/s]"
     ]
    },
    {
     "name": "stdout",
     "output_type": "stream",
     "text": [
      "4233_left.jpeg\n",
      "4233_right.jpeg\n",
      "4237_left.jpeg\n",
      "4237_right.jpeg\n",
      "4242_left.jpeg\n"
     ]
    },
    {
     "name": "stderr",
     "output_type": "stream",
     "text": [
      "\r",
      " 37%|████████████████████████████▌                                                 | 2029/5531 [00:40<01:17, 45.05it/s]"
     ]
    },
    {
     "name": "stdout",
     "output_type": "stream",
     "text": [
      "4242_right.jpeg\n",
      "4244_left.jpeg\n",
      "4244_right.jpeg\n",
      "4249_left.jpeg\n",
      "4249_right.jpeg\n",
      "4252_left.jpeg\n"
     ]
    },
    {
     "name": "stderr",
     "output_type": "stream",
     "text": [
      "\r",
      " 37%|████████████████████████████▋                                                 | 2035/5531 [00:40<01:14, 46.90it/s]"
     ]
    },
    {
     "name": "stdout",
     "output_type": "stream",
     "text": [
      "4252_right.jpeg\n",
      "4253_left.jpeg\n",
      "4253_right.jpeg\n",
      "4255_left.jpeg\n",
      "4255_right.jpeg\n",
      "4257_left.jpeg\n"
     ]
    },
    {
     "name": "stderr",
     "output_type": "stream",
     "text": [
      "\r",
      " 37%|████████████████████████████▊                                                 | 2041/5531 [00:40<01:11, 49.11it/s]"
     ]
    },
    {
     "name": "stdout",
     "output_type": "stream",
     "text": [
      "4257_right.jpeg\n",
      "4258_left.jpeg\n",
      "4258_right.jpeg\n",
      "4261_left.jpeg\n",
      "4261_right.jpeg\n",
      "4266_left.jpeg\n"
     ]
    },
    {
     "name": "stderr",
     "output_type": "stream",
     "text": [
      "\r",
      " 37%|████████████████████████████▊                                                 | 2047/5531 [00:41<01:08, 50.66it/s]"
     ]
    },
    {
     "name": "stdout",
     "output_type": "stream",
     "text": [
      "4266_right.jpeg\n",
      "4269_left.jpeg\n",
      "4269_right.jpeg\n",
      "4270_left.jpeg\n",
      "4270_right.jpeg\n",
      "4274_left.jpeg\n"
     ]
    },
    {
     "name": "stderr",
     "output_type": "stream",
     "text": [
      "\r",
      " 37%|████████████████████████████▉                                                 | 2053/5531 [00:41<01:14, 46.96it/s]"
     ]
    },
    {
     "name": "stdout",
     "output_type": "stream",
     "text": [
      "4274_right.jpeg\n",
      "4275_left.jpeg\n",
      "4275_right.jpeg\n",
      "4276_left.jpeg\n",
      "4276_right.jpeg\n",
      "4282_left.jpeg\n"
     ]
    },
    {
     "name": "stderr",
     "output_type": "stream",
     "text": [
      "\r",
      " 37%|█████████████████████████████                                                 | 2059/5531 [00:41<01:13, 47.53it/s]"
     ]
    },
    {
     "name": "stdout",
     "output_type": "stream",
     "text": [
      "4282_right.jpeg\n",
      "4285_left.jpeg\n",
      "4285_right.jpeg\n",
      "4289_left.jpeg\n",
      "4289_right.jpeg\n",
      "4290_left.jpeg\n"
     ]
    },
    {
     "name": "stderr",
     "output_type": "stream",
     "text": [
      "\r",
      " 37%|█████████████████████████████                                                 | 2065/5531 [00:41<01:09, 50.21it/s]"
     ]
    },
    {
     "name": "stdout",
     "output_type": "stream",
     "text": [
      "4290_right.jpeg\n",
      "4294_left.jpeg\n",
      "4294_right.jpeg\n",
      "4299_left.jpeg\n",
      "4299_right.jpeg\n",
      "4300_left.jpeg\n"
     ]
    },
    {
     "name": "stderr",
     "output_type": "stream",
     "text": [
      "\r",
      " 37%|█████████████████████████████▏                                                | 2071/5531 [00:41<01:10, 49.20it/s]"
     ]
    },
    {
     "name": "stdout",
     "output_type": "stream",
     "text": [
      "4300_right.jpeg\n",
      "4301_left.jpeg\n",
      "4301_right.jpeg\n",
      "4302_left.jpeg\n",
      "4302_right.jpeg\n"
     ]
    },
    {
     "name": "stderr",
     "output_type": "stream",
     "text": [
      "\r",
      " 38%|█████████████████████████████▎                                                | 2076/5531 [00:41<01:14, 46.20it/s]"
     ]
    },
    {
     "name": "stdout",
     "output_type": "stream",
     "text": [
      "4304_left.jpeg\n",
      "4304_right.jpeg\n",
      "4306_left.jpeg\n",
      "4306_right.jpeg\n",
      "4307_left.jpeg\n"
     ]
    },
    {
     "name": "stderr",
     "output_type": "stream",
     "text": [
      "\r",
      " 38%|█████████████████████████████▎                                                | 2081/5531 [00:41<01:17, 44.42it/s]"
     ]
    },
    {
     "name": "stdout",
     "output_type": "stream",
     "text": [
      "4307_right.jpeg\n",
      "4311_left.jpeg\n",
      "4311_right.jpeg\n",
      "4312_left.jpeg\n",
      "4312_right.jpeg\n"
     ]
    },
    {
     "name": "stderr",
     "output_type": "stream",
     "text": [
      "\r",
      " 38%|█████████████████████████████▍                                                | 2086/5531 [00:41<01:15, 45.49it/s]"
     ]
    },
    {
     "name": "stdout",
     "output_type": "stream",
     "text": [
      "4314_left.jpeg\n",
      "4314_right.jpeg\n",
      "4317_left.jpeg\n",
      "4317_right.jpeg\n",
      "4318_left.jpeg\n"
     ]
    },
    {
     "name": "stderr",
     "output_type": "stream",
     "text": [
      "\r",
      " 38%|█████████████████████████████▍                                                | 2091/5531 [00:41<01:14, 46.27it/s]"
     ]
    },
    {
     "name": "stdout",
     "output_type": "stream",
     "text": [
      "4318_right.jpeg\n",
      "4322_left.jpeg\n",
      "4322_right.jpeg\n",
      "4323_left.jpeg\n",
      "4323_right.jpeg\n",
      "4324_left.jpeg\n",
      "4324_right.jpeg\n",
      "4326_left.jpeg\n"
     ]
    },
    {
     "name": "stderr",
     "output_type": "stream",
     "text": [
      "\r",
      " 38%|█████████████████████████████▌                                                | 2099/5531 [00:42<01:06, 51.47it/s]"
     ]
    },
    {
     "name": "stdout",
     "output_type": "stream",
     "text": [
      "4326_right.jpeg\n",
      "4327_left.jpeg\n",
      "4327_right.jpeg\n",
      "4329_left.jpeg\n",
      "4329_right.jpeg\n",
      "4335_left.jpeg\n",
      "4335_right.jpeg\n"
     ]
    },
    {
     "name": "stderr",
     "output_type": "stream",
     "text": [
      "\r",
      " 38%|█████████████████████████████▋                                                | 2106/5531 [00:42<01:03, 53.76it/s]"
     ]
    },
    {
     "name": "stdout",
     "output_type": "stream",
     "text": [
      "4349_left.jpeg\n",
      "4349_right.jpeg\n",
      "4351_left.jpeg\n",
      "4351_right.jpeg\n",
      "4352_left.jpeg\n",
      "4352_right.jpeg\n"
     ]
    },
    {
     "name": "stderr",
     "output_type": "stream",
     "text": [
      "\r",
      " 38%|█████████████████████████████▊                                                | 2112/5531 [00:42<01:02, 54.61it/s]"
     ]
    },
    {
     "name": "stdout",
     "output_type": "stream",
     "text": [
      "4354_left.jpeg\n",
      "4354_right.jpeg\n",
      "4357_left.jpeg\n",
      "4357_right.jpeg\n",
      "4358_left.jpeg\n",
      "4358_right.jpeg\n",
      "4362_left.jpeg\n",
      "4362_right.jpeg\n"
     ]
    },
    {
     "name": "stderr",
     "output_type": "stream",
     "text": [
      "\r",
      " 38%|█████████████████████████████▉                                                | 2120/5531 [00:42<00:58, 58.81it/s]"
     ]
    },
    {
     "name": "stdout",
     "output_type": "stream",
     "text": [
      "4364_left.jpeg\n",
      "4364_right.jpeg\n",
      "4366_left.jpeg\n",
      "4366_right.jpeg\n",
      "4367_left.jpeg\n",
      "4367_right.jpeg\n",
      "4370_left.jpeg\n",
      "4370_right.jpeg\n"
     ]
    },
    {
     "name": "stderr",
     "output_type": "stream",
     "text": [
      "\r",
      " 38%|██████████████████████████████                                                | 2128/5531 [00:42<00:54, 62.73it/s]"
     ]
    },
    {
     "name": "stdout",
     "output_type": "stream",
     "text": [
      "4374_left.jpeg\n",
      "4374_right.jpeg\n",
      "4375_left.jpeg\n",
      "4375_right.jpeg\n",
      "4376_left.jpeg\n",
      "4376_right.jpeg\n",
      "43786_left.jpeg\n"
     ]
    },
    {
     "name": "stderr",
     "output_type": "stream",
     "text": [
      "\r",
      " 39%|██████████████████████████████                                                | 2135/5531 [00:42<00:57, 59.22it/s]"
     ]
    },
    {
     "name": "stdout",
     "output_type": "stream",
     "text": [
      "43786_right.jpeg\n",
      "43789_left.jpeg\n",
      "43789_right.jpeg\n",
      "43790_left.jpeg\n",
      "43790_right.jpeg\n",
      "43796_left.jpeg\n",
      "43796_right.jpeg\n"
     ]
    },
    {
     "name": "stderr",
     "output_type": "stream",
     "text": [
      "\r",
      " 39%|██████████████████████████████▏                                               | 2142/5531 [00:42<01:01, 55.10it/s]"
     ]
    },
    {
     "name": "stdout",
     "output_type": "stream",
     "text": [
      "43797_left.jpeg\n",
      "43797_right.jpeg\n",
      "43798_left.jpeg\n",
      "43798_right.jpeg\n",
      "43802_left.jpeg\n",
      "43802_right.jpeg\n"
     ]
    },
    {
     "name": "stderr",
     "output_type": "stream",
     "text": [
      "\r",
      " 39%|██████████████████████████████▎                                               | 2148/5531 [00:42<01:00, 56.37it/s]"
     ]
    },
    {
     "name": "stdout",
     "output_type": "stream",
     "text": [
      "43803_left.jpeg\n",
      "43803_right.jpeg\n",
      "43805_left.jpeg\n",
      "43805_right.jpeg\n",
      "43806_left.jpeg\n",
      "43806_right.jpeg\n",
      "4380_left.jpeg\n"
     ]
    },
    {
     "name": "stderr",
     "output_type": "stream",
     "text": [
      "\r",
      " 39%|██████████████████████████████▍                                               | 2155/5531 [00:43<00:56, 59.60it/s]"
     ]
    },
    {
     "name": "stdout",
     "output_type": "stream",
     "text": [
      "4380_right.jpeg\n",
      "43810_left.jpeg\n",
      "43810_right.jpeg\n",
      "43813_left.jpeg\n",
      "43813_right.jpeg\n",
      "43814_left.jpeg\n",
      "43814_right.jpeg\n",
      "43815_left.jpeg\n",
      "43815_right.jpeg\n"
     ]
    },
    {
     "name": "stderr",
     "output_type": "stream",
     "text": [
      "\r",
      " 39%|██████████████████████████████▌                                               | 2164/5531 [00:43<00:51, 65.08it/s]"
     ]
    },
    {
     "name": "stdout",
     "output_type": "stream",
     "text": [
      "43816_left.jpeg\n",
      "43816_right.jpeg\n",
      "4381_left.jpeg\n",
      "4381_right.jpeg\n",
      "43822_left.jpeg\n",
      "43822_right.jpeg\n",
      "43826_left.jpeg\n"
     ]
    },
    {
     "name": "stderr",
     "output_type": "stream",
     "text": [
      "\r",
      " 39%|██████████████████████████████▌                                               | 2171/5531 [00:43<00:52, 63.81it/s]"
     ]
    },
    {
     "name": "stdout",
     "output_type": "stream",
     "text": [
      "43826_right.jpeg\n",
      "43827_left.jpeg\n",
      "43827_right.jpeg\n",
      "43829_left.jpeg\n",
      "43829_right.jpeg\n",
      "43830_left.jpeg\n",
      "43830_right.jpeg\n"
     ]
    },
    {
     "name": "stderr",
     "output_type": "stream",
     "text": [
      "\r",
      " 39%|██████████████████████████████▋                                               | 2178/5531 [00:43<00:53, 62.28it/s]"
     ]
    },
    {
     "name": "stdout",
     "output_type": "stream",
     "text": [
      "43831_left.jpeg\n",
      "43831_right.jpeg\n",
      "43832_left.jpeg\n",
      "43832_right.jpeg\n",
      "43833_left.jpeg\n",
      "43833_right.jpeg\n",
      "43835_left.jpeg\n"
     ]
    },
    {
     "name": "stderr",
     "output_type": "stream",
     "text": [
      "\r",
      " 40%|██████████████████████████████▊                                               | 2185/5531 [00:43<00:52, 64.28it/s]"
     ]
    },
    {
     "name": "stdout",
     "output_type": "stream",
     "text": [
      "43835_right.jpeg\n",
      "43836_left.jpeg\n",
      "43836_right.jpeg\n",
      "43839_left.jpeg\n",
      "43839_right.jpeg\n",
      "4383_left.jpeg\n",
      "4383_right.jpeg\n",
      "43840_left.jpeg\n"
     ]
    },
    {
     "name": "stderr",
     "output_type": "stream",
     "text": [
      "\r",
      " 40%|██████████████████████████████▉                                               | 2193/5531 [00:43<00:49, 67.83it/s]"
     ]
    },
    {
     "name": "stdout",
     "output_type": "stream",
     "text": [
      "43840_right.jpeg\n",
      "43852_left.jpeg\n",
      "43852_right.jpeg\n",
      "43853_left.jpeg\n",
      "43853_right.jpeg\n",
      "43854_left.jpeg\n",
      "43854_right.jpeg\n"
     ]
    },
    {
     "name": "stderr",
     "output_type": "stream",
     "text": [
      "\r",
      " 40%|███████████████████████████████                                               | 2200/5531 [00:43<00:53, 62.31it/s]"
     ]
    },
    {
     "name": "stdout",
     "output_type": "stream",
     "text": [
      "4385_left.jpeg\n",
      "4385_right.jpeg\n",
      "43861_left.jpeg\n",
      "43861_right.jpeg\n",
      "43862_left.jpeg\n",
      "43862_right.jpeg\n",
      "43863_left.jpeg\n",
      "43863_right.jpeg\n"
     ]
    },
    {
     "name": "stderr",
     "output_type": "stream",
     "text": [
      "\r",
      " 40%|███████████████████████████████▏                                              | 2208/5531 [00:43<00:51, 65.00it/s]"
     ]
    },
    {
     "name": "stdout",
     "output_type": "stream",
     "text": [
      "43867_left.jpeg\n",
      "43867_right.jpeg\n",
      "43871_left.jpeg\n",
      "43871_right.jpeg\n",
      "43872_left.jpeg\n",
      "43872_right.jpeg\n",
      "43873_left.jpeg\n"
     ]
    },
    {
     "name": "stderr",
     "output_type": "stream",
     "text": [
      "\r",
      " 40%|███████████████████████████████▏                                              | 2215/5531 [00:43<00:51, 64.11it/s]"
     ]
    },
    {
     "name": "stdout",
     "output_type": "stream",
     "text": [
      "43873_right.jpeg\n",
      "43887_left.jpeg\n",
      "43887_right.jpeg\n",
      "43890_left.jpeg\n",
      "43890_right.jpeg\n",
      "43892_left.jpeg\n",
      "43892_right.jpeg\n"
     ]
    },
    {
     "name": "stderr",
     "output_type": "stream",
     "text": [
      "\r",
      " 40%|███████████████████████████████▎                                              | 2222/5531 [00:44<00:54, 61.01it/s]"
     ]
    },
    {
     "name": "stdout",
     "output_type": "stream",
     "text": [
      "43893_left.jpeg\n",
      "43893_right.jpeg\n",
      "43894_left.jpeg\n",
      "43894_right.jpeg\n",
      "43897_left.jpeg\n",
      "43897_right.jpeg\n",
      "43898_left.jpeg\n"
     ]
    },
    {
     "name": "stderr",
     "output_type": "stream",
     "text": [
      "\r",
      " 40%|███████████████████████████████▍                                              | 2229/5531 [00:44<00:55, 59.32it/s]"
     ]
    },
    {
     "name": "stdout",
     "output_type": "stream",
     "text": [
      "43898_right.jpeg\n",
      "43899_left.jpeg\n",
      "43899_right.jpeg\n",
      "43901_left.jpeg\n",
      "43901_right.jpeg\n",
      "43902_left.jpeg\n",
      "43902_right.jpeg\n"
     ]
    },
    {
     "name": "stderr",
     "output_type": "stream",
     "text": [
      "\r",
      " 40%|███████████████████████████████▌                                              | 2236/5531 [00:44<01:01, 53.53it/s]"
     ]
    },
    {
     "name": "stdout",
     "output_type": "stream",
     "text": [
      "43903_left.jpeg\n",
      "43903_right.jpeg\n",
      "43904_left.jpeg\n",
      "43904_right.jpeg\n",
      "43908_left.jpeg\n",
      "43908_right.jpeg\n"
     ]
    },
    {
     "name": "stderr",
     "output_type": "stream",
     "text": [
      "\r",
      " 41%|███████████████████████████████▌                                              | 2242/5531 [00:44<01:08, 48.06it/s]"
     ]
    },
    {
     "name": "stdout",
     "output_type": "stream",
     "text": [
      "4390_left.jpeg\n",
      "4390_right.jpeg\n",
      "43911_left.jpeg\n",
      "43911_right.jpeg\n",
      "43912_left.jpeg\n",
      "43912_right.jpeg\n"
     ]
    },
    {
     "name": "stderr",
     "output_type": "stream",
     "text": [
      "\r",
      " 41%|███████████████████████████████▋                                              | 2248/5531 [00:44<01:10, 46.52it/s]"
     ]
    },
    {
     "name": "stdout",
     "output_type": "stream",
     "text": [
      "4391_left.jpeg\n",
      "4391_right.jpeg\n",
      "43921_left.jpeg\n",
      "43921_right.jpeg\n",
      "43923_left.jpeg\n",
      "43923_right.jpeg\n"
     ]
    },
    {
     "name": "stderr",
     "output_type": "stream",
     "text": [
      "\r",
      " 41%|███████████████████████████████▊                                              | 2254/5531 [00:44<01:07, 48.70it/s]"
     ]
    },
    {
     "name": "stdout",
     "output_type": "stream",
     "text": [
      "43927_left.jpeg\n",
      "43927_right.jpeg\n",
      "43929_left.jpeg\n",
      "43929_right.jpeg\n",
      "43932_left.jpeg\n",
      "43932_right.jpeg\n"
     ]
    },
    {
     "name": "stderr",
     "output_type": "stream",
     "text": [
      "\r",
      " 41%|███████████████████████████████▊                                              | 2260/5531 [00:44<01:05, 50.11it/s]"
     ]
    },
    {
     "name": "stdout",
     "output_type": "stream",
     "text": [
      "43933_left.jpeg\n",
      "43933_right.jpeg\n",
      "43934_left.jpeg\n",
      "43934_right.jpeg\n",
      "43935_left.jpeg\n",
      "43935_right.jpeg\n"
     ]
    },
    {
     "name": "stderr",
     "output_type": "stream",
     "text": [
      "\r",
      " 41%|███████████████████████████████▉                                              | 2266/5531 [00:44<01:04, 50.88it/s]"
     ]
    },
    {
     "name": "stdout",
     "output_type": "stream",
     "text": [
      "43936_left.jpeg\n",
      "43936_right.jpeg\n",
      "43943_left.jpeg\n",
      "43943_right.jpeg\n",
      "43945_left.jpeg\n",
      "43945_right.jpeg\n"
     ]
    },
    {
     "name": "stderr",
     "output_type": "stream",
     "text": [
      "\r",
      " 41%|████████████████████████████████                                              | 2272/5531 [00:45<01:12, 44.97it/s]"
     ]
    },
    {
     "name": "stdout",
     "output_type": "stream",
     "text": [
      "43946_left.jpeg\n",
      "43946_right.jpeg\n",
      "43948_left.jpeg\n",
      "43948_right.jpeg\n",
      "4394_left.jpeg\n"
     ]
    },
    {
     "name": "stderr",
     "output_type": "stream",
     "text": [
      "\r",
      " 41%|████████████████████████████████                                              | 2277/5531 [00:45<01:11, 45.52it/s]"
     ]
    },
    {
     "name": "stdout",
     "output_type": "stream",
     "text": [
      "4394_right.jpeg\n",
      "43957_left.jpeg\n",
      "43957_right.jpeg\n",
      "43959_left.jpeg\n",
      "43959_right.jpeg\n",
      "4395_left.jpeg\n"
     ]
    },
    {
     "name": "stderr",
     "output_type": "stream",
     "text": [
      "\r",
      " 41%|████████████████████████████████▏                                             | 2283/5531 [00:45<01:09, 46.70it/s]"
     ]
    },
    {
     "name": "stdout",
     "output_type": "stream",
     "text": [
      "4395_right.jpeg\n",
      "43960_left.jpeg\n",
      "43960_right.jpeg\n",
      "43965_left.jpeg\n",
      "43965_right.jpeg\n",
      "43966_left.jpeg\n"
     ]
    },
    {
     "name": "stderr",
     "output_type": "stream",
     "text": [
      "\r",
      " 41%|████████████████████████████████▎                                             | 2289/5531 [00:45<01:07, 48.37it/s]"
     ]
    },
    {
     "name": "stdout",
     "output_type": "stream",
     "text": [
      "43966_right.jpeg\n",
      "43973_left.jpeg\n",
      "43973_right.jpeg\n",
      "43975_left.jpeg\n",
      "43975_right.jpeg\n",
      "43976_left.jpeg\n"
     ]
    },
    {
     "name": "stderr",
     "output_type": "stream",
     "text": [
      "\r",
      " 41%|████████████████████████████████▎                                             | 2295/5531 [00:45<01:05, 49.25it/s]"
     ]
    },
    {
     "name": "stdout",
     "output_type": "stream",
     "text": [
      "43976_right.jpeg\n",
      "43978_left.jpeg\n",
      "43978_right.jpeg\n",
      "43980_left.jpeg\n",
      "43980_right.jpeg\n",
      "43982_left.jpeg\n"
     ]
    },
    {
     "name": "stderr",
     "output_type": "stream",
     "text": [
      "\r",
      " 42%|████████████████████████████████▍                                             | 2301/5531 [00:45<01:05, 49.03it/s]"
     ]
    },
    {
     "name": "stdout",
     "output_type": "stream",
     "text": [
      "43982_right.jpeg\n",
      "43985_left.jpeg\n",
      "43985_right.jpeg\n",
      "43987_left.jpeg\n",
      "43987_right.jpeg\n"
     ]
    },
    {
     "name": "stderr",
     "output_type": "stream",
     "text": [
      "\r",
      " 42%|████████████████████████████████▌                                             | 2306/5531 [00:45<01:08, 46.99it/s]"
     ]
    },
    {
     "name": "stdout",
     "output_type": "stream",
     "text": [
      "43988_left.jpeg\n",
      "43988_right.jpeg\n",
      "4398_left.jpeg\n",
      "4398_right.jpeg\n",
      "43993_left.jpeg\n"
     ]
    },
    {
     "name": "stderr",
     "output_type": "stream",
     "text": [
      "\r",
      " 42%|████████████████████████████████▌                                             | 2311/5531 [00:45<01:10, 45.67it/s]"
     ]
    },
    {
     "name": "stdout",
     "output_type": "stream",
     "text": [
      "43993_right.jpeg\n",
      "43995_left.jpeg\n",
      "43995_right.jpeg\n",
      "43996_left.jpeg\n",
      "43996_right.jpeg\n",
      "43997_left.jpeg\n"
     ]
    },
    {
     "name": "stderr",
     "output_type": "stream",
     "text": [
      "\r",
      " 42%|████████████████████████████████▋                                             | 2317/5531 [00:46<01:07, 47.59it/s]"
     ]
    },
    {
     "name": "stdout",
     "output_type": "stream",
     "text": [
      "43997_right.jpeg\n",
      "43998_left.jpeg\n",
      "43998_right.jpeg\n",
      "4399_left.jpeg\n",
      "4399_right.jpeg\n"
     ]
    },
    {
     "name": "stderr",
     "output_type": "stream",
     "text": [
      "\r",
      " 42%|████████████████████████████████▋                                             | 2322/5531 [00:46<01:11, 45.07it/s]"
     ]
    },
    {
     "name": "stdout",
     "output_type": "stream",
     "text": [
      "44003_left.jpeg\n",
      "44003_right.jpeg\n",
      "44005_left.jpeg\n",
      "44005_right.jpeg\n",
      "44007_left.jpeg\n",
      "44007_right.jpeg\n"
     ]
    },
    {
     "name": "stderr",
     "output_type": "stream",
     "text": [
      "\r",
      " 42%|████████████████████████████████▊                                             | 2328/5531 [00:46<01:07, 47.24it/s]"
     ]
    },
    {
     "name": "stdout",
     "output_type": "stream",
     "text": [
      "44008_left.jpeg\n",
      "44008_right.jpeg\n",
      "44009_left.jpeg\n",
      "44009_right.jpeg\n",
      "4400_left.jpeg\n",
      "4400_right.jpeg\n"
     ]
    },
    {
     "name": "stderr",
     "output_type": "stream",
     "text": [
      "\r",
      " 42%|████████████████████████████████▉                                             | 2334/5531 [00:46<01:06, 48.19it/s]"
     ]
    },
    {
     "name": "stdout",
     "output_type": "stream",
     "text": [
      "44010_left.jpeg\n",
      "44010_right.jpeg\n",
      "44012_left.jpeg\n",
      "44012_right.jpeg\n",
      "44013_left.jpeg\n",
      "44013_right.jpeg\n"
     ]
    },
    {
     "name": "stderr",
     "output_type": "stream",
     "text": [
      "\r",
      " 42%|████████████████████████████████▉                                             | 2340/5531 [00:46<01:04, 49.60it/s]"
     ]
    },
    {
     "name": "stdout",
     "output_type": "stream",
     "text": [
      "44014_left.jpeg\n",
      "44014_right.jpeg\n",
      "44018_left.jpeg\n",
      "44018_right.jpeg\n",
      "44019_left.jpeg\n",
      "44019_right.jpeg\n"
     ]
    },
    {
     "name": "stderr",
     "output_type": "stream",
     "text": [
      "\r",
      " 42%|█████████████████████████████████                                             | 2346/5531 [00:46<01:02, 50.90it/s]"
     ]
    },
    {
     "name": "stdout",
     "output_type": "stream",
     "text": [
      "44020_left.jpeg\n",
      "44020_right.jpeg\n",
      "44022_left.jpeg\n",
      "44022_right.jpeg\n",
      "44023_left.jpeg\n",
      "44023_right.jpeg\n"
     ]
    },
    {
     "name": "stderr",
     "output_type": "stream",
     "text": [
      "\r",
      " 43%|█████████████████████████████████▏                                            | 2352/5531 [00:46<01:02, 50.54it/s]"
     ]
    },
    {
     "name": "stdout",
     "output_type": "stream",
     "text": [
      "44025_left.jpeg\n",
      "44025_right.jpeg\n",
      "44027_left.jpeg\n",
      "44027_right.jpeg\n",
      "44029_left.jpeg\n",
      "44029_right.jpeg\n"
     ]
    },
    {
     "name": "stderr",
     "output_type": "stream",
     "text": [
      "\r",
      " 43%|█████████████████████████████████▎                                            | 2358/5531 [00:46<01:00, 52.25it/s]"
     ]
    },
    {
     "name": "stdout",
     "output_type": "stream",
     "text": [
      "44030_left.jpeg\n",
      "44030_right.jpeg\n",
      "44032_left.jpeg\n",
      "44032_right.jpeg\n",
      "44036_left.jpeg\n",
      "44036_right.jpeg\n"
     ]
    },
    {
     "name": "stderr",
     "output_type": "stream",
     "text": [
      "\r",
      " 43%|█████████████████████████████████▎                                            | 2364/5531 [00:46<00:59, 52.82it/s]"
     ]
    },
    {
     "name": "stdout",
     "output_type": "stream",
     "text": [
      "4403_left.jpeg\n",
      "4403_right.jpeg\n",
      "44042_left.jpeg\n",
      "44042_right.jpeg\n",
      "4404_left.jpeg\n",
      "4404_right.jpeg\n"
     ]
    },
    {
     "name": "stderr",
     "output_type": "stream",
     "text": [
      "\r",
      " 43%|█████████████████████████████████▍                                            | 2370/5531 [00:47<00:59, 52.95it/s]"
     ]
    },
    {
     "name": "stdout",
     "output_type": "stream",
     "text": [
      "44050_left.jpeg\n",
      "44050_right.jpeg\n",
      "44053_left.jpeg\n",
      "44053_right.jpeg\n",
      "44056_left.jpeg\n",
      "44056_right.jpeg\n"
     ]
    },
    {
     "name": "stderr",
     "output_type": "stream",
     "text": [
      "\r",
      " 43%|█████████████████████████████████▌                                            | 2376/5531 [00:47<00:58, 53.89it/s]"
     ]
    },
    {
     "name": "stdout",
     "output_type": "stream",
     "text": [
      "44059_left.jpeg\n",
      "44059_right.jpeg\n",
      "44062_left.jpeg\n",
      "44062_right.jpeg\n",
      "44064_left.jpeg\n",
      "44064_right.jpeg\n"
     ]
    },
    {
     "name": "stderr",
     "output_type": "stream",
     "text": [
      "\r",
      " 43%|█████████████████████████████████▌                                            | 2382/5531 [00:47<00:56, 55.32it/s]"
     ]
    },
    {
     "name": "stdout",
     "output_type": "stream",
     "text": [
      "44065_left.jpeg\n",
      "44065_right.jpeg\n",
      "44066_left.jpeg\n",
      "44066_right.jpeg\n",
      "44068_left.jpeg\n",
      "44068_right.jpeg\n"
     ]
    },
    {
     "name": "stderr",
     "output_type": "stream",
     "text": [
      "\r",
      " 43%|█████████████████████████████████▋                                            | 2388/5531 [00:47<00:56, 55.90it/s]"
     ]
    },
    {
     "name": "stdout",
     "output_type": "stream",
     "text": [
      "44069_left.jpeg\n",
      "44069_right.jpeg\n",
      "44070_left.jpeg\n",
      "44070_right.jpeg\n",
      "44073_left.jpeg\n",
      "44073_right.jpeg\n"
     ]
    },
    {
     "name": "stderr",
     "output_type": "stream",
     "text": [
      "\r",
      " 43%|█████████████████████████████████▊                                            | 2394/5531 [00:47<00:58, 53.75it/s]"
     ]
    },
    {
     "name": "stdout",
     "output_type": "stream",
     "text": [
      "44076_left.jpeg\n",
      "44076_right.jpeg\n",
      "44079_left.jpeg\n",
      "44079_right.jpeg\n",
      "44081_left.jpeg\n",
      "44081_right.jpeg\n"
     ]
    },
    {
     "name": "stderr",
     "output_type": "stream",
     "text": [
      "\r",
      " 43%|█████████████████████████████████▊                                            | 2400/5531 [00:47<01:00, 51.93it/s]"
     ]
    },
    {
     "name": "stdout",
     "output_type": "stream",
     "text": [
      "44083_left.jpeg\n",
      "44083_right.jpeg\n",
      "44084_left.jpeg\n",
      "44084_right.jpeg\n",
      "44086_left.jpeg\n",
      "44086_right.jpeg\n"
     ]
    },
    {
     "name": "stderr",
     "output_type": "stream",
     "text": [
      "\r",
      " 44%|█████████████████████████████████▉                                            | 2406/5531 [00:47<01:04, 48.75it/s]"
     ]
    },
    {
     "name": "stdout",
     "output_type": "stream",
     "text": [
      "44088_left.jpeg\n",
      "44088_right.jpeg\n",
      "44091_left.jpeg\n",
      "44091_right.jpeg\n",
      "44092_left.jpeg\n",
      "44092_right.jpeg\n"
     ]
    },
    {
     "name": "stderr",
     "output_type": "stream",
     "text": [
      "\r",
      " 44%|██████████████████████████████████                                            | 2412/5531 [00:47<01:01, 50.78it/s]"
     ]
    },
    {
     "name": "stdout",
     "output_type": "stream",
     "text": [
      "44093_left.jpeg\n",
      "44093_right.jpeg\n",
      "44095_left.jpeg\n",
      "44095_right.jpeg\n",
      "44096_left.jpeg\n",
      "44096_right.jpeg\n"
     ]
    },
    {
     "name": "stderr",
     "output_type": "stream",
     "text": [
      "\r",
      " 44%|██████████████████████████████████                                            | 2418/5531 [00:48<01:01, 50.58it/s]"
     ]
    },
    {
     "name": "stdout",
     "output_type": "stream",
     "text": [
      "44097_left.jpeg\n",
      "44097_right.jpeg\n",
      "44099_left.jpeg\n",
      "44099_right.jpeg\n",
      "4409_left.jpeg\n",
      "4409_right.jpeg\n"
     ]
    },
    {
     "name": "stderr",
     "output_type": "stream",
     "text": [
      "\r",
      " 44%|██████████████████████████████████▏                                           | 2424/5531 [00:48<01:05, 47.35it/s]"
     ]
    },
    {
     "name": "stdout",
     "output_type": "stream",
     "text": [
      "44100_left.jpeg\n",
      "44100_right.jpeg\n",
      "44103_left.jpeg\n",
      "44103_right.jpeg\n",
      "44107_left.jpeg\n",
      "44107_right.jpeg\n"
     ]
    },
    {
     "name": "stderr",
     "output_type": "stream",
     "text": [
      "\r",
      " 44%|██████████████████████████████████▎                                           | 2430/5531 [00:48<01:03, 48.98it/s]"
     ]
    },
    {
     "name": "stdout",
     "output_type": "stream",
     "text": [
      "44113_left.jpeg\n",
      "44113_right.jpeg\n",
      "44114_left.jpeg\n",
      "44114_right.jpeg\n",
      "44115_left.jpeg\n",
      "44115_right.jpeg\n"
     ]
    },
    {
     "name": "stderr",
     "output_type": "stream",
     "text": [
      "\r",
      " 44%|██████████████████████████████████▎                                           | 2436/5531 [00:48<01:01, 49.93it/s]"
     ]
    },
    {
     "name": "stdout",
     "output_type": "stream",
     "text": [
      "44117_left.jpeg\n",
      "44117_right.jpeg\n",
      "44118_left.jpeg\n",
      "44118_right.jpeg\n",
      "44122_left.jpeg\n",
      "44122_right.jpeg\n"
     ]
    },
    {
     "name": "stderr",
     "output_type": "stream",
     "text": [
      "\r",
      " 44%|██████████████████████████████████▍                                           | 2442/5531 [00:48<01:03, 48.31it/s]"
     ]
    },
    {
     "name": "stdout",
     "output_type": "stream",
     "text": [
      "44123_left.jpeg\n",
      "44123_right.jpeg\n",
      "44127_left.jpeg\n",
      "44127_right.jpeg\n",
      "44133_left.jpeg\n"
     ]
    },
    {
     "name": "stderr",
     "output_type": "stream",
     "text": [
      "\r",
      " 44%|██████████████████████████████████▌                                           | 2447/5531 [00:48<01:12, 42.40it/s]"
     ]
    },
    {
     "name": "stdout",
     "output_type": "stream",
     "text": [
      "44133_right.jpeg\n",
      "44134_left.jpeg\n",
      "44134_right.jpeg\n",
      "44141_left.jpeg\n",
      "44141_right.jpeg\n"
     ]
    },
    {
     "name": "stderr",
     "output_type": "stream",
     "text": [
      "\r",
      " 44%|██████████████████████████████████▌                                           | 2452/5531 [00:48<01:09, 44.10it/s]"
     ]
    },
    {
     "name": "stdout",
     "output_type": "stream",
     "text": [
      "44145_left.jpeg\n",
      "44145_right.jpeg\n",
      "44146_left.jpeg\n",
      "44146_right.jpeg\n",
      "44148_left.jpeg\n"
     ]
    },
    {
     "name": "stderr",
     "output_type": "stream",
     "text": [
      "\r",
      " 44%|██████████████████████████████████▋                                           | 2457/5531 [00:48<01:09, 44.42it/s]"
     ]
    },
    {
     "name": "stdout",
     "output_type": "stream",
     "text": [
      "44148_right.jpeg\n",
      "44150_left.jpeg\n",
      "44150_right.jpeg\n",
      "44151_left.jpeg\n",
      "44151_right.jpeg\n"
     ]
    },
    {
     "name": "stderr",
     "output_type": "stream",
     "text": [
      "\r",
      " 45%|██████████████████████████████████▋                                           | 2462/5531 [00:49<01:07, 45.37it/s]"
     ]
    },
    {
     "name": "stdout",
     "output_type": "stream",
     "text": [
      "44152_left.jpeg\n",
      "44152_right.jpeg\n",
      "44157_left.jpeg\n",
      "44157_right.jpeg\n",
      "44159_left.jpeg\n"
     ]
    },
    {
     "name": "stderr",
     "output_type": "stream",
     "text": [
      "\r",
      " 45%|██████████████████████████████████▊                                           | 2467/5531 [00:49<01:07, 45.18it/s]"
     ]
    },
    {
     "name": "stdout",
     "output_type": "stream",
     "text": [
      "44159_right.jpeg\n",
      "44163_left.jpeg\n",
      "44163_right.jpeg\n",
      "44165_left.jpeg\n",
      "44165_right.jpeg\n"
     ]
    },
    {
     "name": "stderr",
     "output_type": "stream",
     "text": [
      "\r",
      " 45%|██████████████████████████████████▊                                           | 2472/5531 [00:49<01:10, 43.53it/s]"
     ]
    },
    {
     "name": "stdout",
     "output_type": "stream",
     "text": [
      "44168_left.jpeg\n",
      "44168_right.jpeg\n",
      "4416_left.jpeg\n",
      "4416_right.jpeg\n",
      "44170_left.jpeg\n"
     ]
    },
    {
     "name": "stderr",
     "output_type": "stream",
     "text": [
      "\r",
      " 45%|██████████████████████████████████▉                                           | 2477/5531 [00:49<01:08, 44.48it/s]"
     ]
    },
    {
     "name": "stdout",
     "output_type": "stream",
     "text": [
      "44170_right.jpeg\n",
      "44172_left.jpeg\n",
      "44172_right.jpeg\n",
      "44175_left.jpeg\n",
      "44175_right.jpeg\n"
     ]
    },
    {
     "name": "stderr",
     "output_type": "stream",
     "text": [
      "\r",
      " 45%|███████████████████████████████████                                           | 2482/5531 [00:49<01:07, 44.92it/s]"
     ]
    },
    {
     "name": "stdout",
     "output_type": "stream",
     "text": [
      "44178_left.jpeg\n",
      "44178_right.jpeg\n",
      "44179_left.jpeg\n",
      "44179_right.jpeg\n",
      "44185_left.jpeg\n",
      "44185_right.jpeg\n"
     ]
    },
    {
     "name": "stderr",
     "output_type": "stream",
     "text": [
      "\r",
      " 45%|███████████████████████████████████                                           | 2488/5531 [00:49<01:05, 46.69it/s]"
     ]
    },
    {
     "name": "stdout",
     "output_type": "stream",
     "text": [
      "44186_left.jpeg\n",
      "44186_right.jpeg\n",
      "44187_left.jpeg\n",
      "44187_right.jpeg\n",
      "44188_left.jpeg\n"
     ]
    },
    {
     "name": "stderr",
     "output_type": "stream",
     "text": [
      "\r",
      " 45%|███████████████████████████████████▏                                          | 2493/5531 [00:49<01:06, 45.35it/s]"
     ]
    },
    {
     "name": "stdout",
     "output_type": "stream",
     "text": [
      "44188_right.jpeg\n",
      "44189_left.jpeg\n",
      "44189_right.jpeg\n",
      "4418_left.jpeg\n",
      "4418_right.jpeg\n"
     ]
    },
    {
     "name": "stderr",
     "output_type": "stream",
     "text": [
      "\r",
      " 45%|███████████████████████████████████▏                                          | 2498/5531 [00:49<01:05, 46.17it/s]"
     ]
    },
    {
     "name": "stdout",
     "output_type": "stream",
     "text": [
      "44191_left.jpeg\n",
      "44191_right.jpeg\n",
      "44192_left.jpeg\n",
      "44192_right.jpeg\n",
      "44193_left.jpeg\n"
     ]
    },
    {
     "name": "stderr",
     "output_type": "stream",
     "text": [
      "\r",
      " 45%|███████████████████████████████████▎                                          | 2503/5531 [00:49<01:09, 43.82it/s]"
     ]
    },
    {
     "name": "stdout",
     "output_type": "stream",
     "text": [
      "44193_right.jpeg\n",
      "44195_left.jpeg\n",
      "44195_right.jpeg\n",
      "44196_left.jpeg\n",
      "44196_right.jpeg\n"
     ]
    },
    {
     "name": "stderr",
     "output_type": "stream",
     "text": [
      "\r",
      " 45%|███████████████████████████████████▎                                          | 2508/5531 [00:50<01:09, 43.41it/s]"
     ]
    },
    {
     "name": "stdout",
     "output_type": "stream",
     "text": [
      "44199_left.jpeg\n",
      "44199_right.jpeg\n",
      "4419_left.jpeg\n",
      "4419_right.jpeg\n",
      "44200_left.jpeg\n"
     ]
    },
    {
     "name": "stderr",
     "output_type": "stream",
     "text": [
      "\r",
      " 45%|███████████████████████████████████▍                                          | 2513/5531 [00:50<01:11, 42.15it/s]"
     ]
    },
    {
     "name": "stdout",
     "output_type": "stream",
     "text": [
      "44200_right.jpeg\n",
      "44204_left.jpeg\n",
      "44204_right.jpeg\n",
      "44205_left.jpeg\n",
      "44205_right.jpeg\n"
     ]
    },
    {
     "name": "stderr",
     "output_type": "stream",
     "text": [
      "\r",
      " 46%|███████████████████████████████████▌                                          | 2518/5531 [00:50<01:08, 43.69it/s]"
     ]
    },
    {
     "name": "stdout",
     "output_type": "stream",
     "text": [
      "44213_left.jpeg\n",
      "44213_right.jpeg\n",
      "44214_left.jpeg\n",
      "44214_right.jpeg\n",
      "44215_left.jpeg\n",
      "44215_right.jpeg\n"
     ]
    },
    {
     "name": "stderr",
     "output_type": "stream",
     "text": [
      "\r",
      " 46%|███████████████████████████████████▌                                          | 2524/5531 [00:50<01:05, 45.96it/s]"
     ]
    },
    {
     "name": "stdout",
     "output_type": "stream",
     "text": [
      "44217_left.jpeg\n",
      "44217_right.jpeg\n",
      "44218_left.jpeg\n",
      "44218_right.jpeg\n",
      "4421_left.jpeg\n"
     ]
    },
    {
     "name": "stderr",
     "output_type": "stream",
     "text": [
      "\r",
      " 46%|███████████████████████████████████▋                                          | 2529/5531 [00:50<01:04, 46.74it/s]"
     ]
    },
    {
     "name": "stdout",
     "output_type": "stream",
     "text": [
      "4421_right.jpeg\n",
      "44220_left.jpeg\n",
      "44220_right.jpeg\n",
      "44221_left.jpeg\n",
      "44221_right.jpeg\n",
      "44222_left.jpeg\n"
     ]
    },
    {
     "name": "stderr",
     "output_type": "stream",
     "text": [
      "\r",
      " 46%|███████████████████████████████████▋                                          | 2535/5531 [00:50<01:02, 48.05it/s]"
     ]
    },
    {
     "name": "stdout",
     "output_type": "stream",
     "text": [
      "44222_right.jpeg\n",
      "44223_left.jpeg\n",
      "44223_right.jpeg\n",
      "44225_left.jpeg\n",
      "44225_right.jpeg\n"
     ]
    },
    {
     "name": "stderr",
     "output_type": "stream",
     "text": [
      "\r",
      " 46%|███████████████████████████████████▊                                          | 2540/5531 [00:50<01:03, 46.75it/s]"
     ]
    },
    {
     "name": "stdout",
     "output_type": "stream",
     "text": [
      "44228_left.jpeg\n",
      "44228_right.jpeg\n",
      "44229_left.jpeg\n",
      "44229_right.jpeg\n",
      "44231_left.jpeg\n"
     ]
    },
    {
     "name": "stderr",
     "output_type": "stream",
     "text": [
      "\r",
      " 46%|███████████████████████████████████▉                                          | 2545/5531 [00:50<01:05, 45.88it/s]"
     ]
    },
    {
     "name": "stdout",
     "output_type": "stream",
     "text": [
      "44231_right.jpeg\n",
      "44232_left.jpeg\n",
      "44232_right.jpeg\n",
      "44235_left.jpeg\n",
      "44235_right.jpeg\n"
     ]
    },
    {
     "name": "stderr",
     "output_type": "stream",
     "text": [
      "\r",
      " 46%|███████████████████████████████████▉                                          | 2550/5531 [00:50<01:04, 46.17it/s]"
     ]
    },
    {
     "name": "stdout",
     "output_type": "stream",
     "text": [
      "44236_left.jpeg\n",
      "44236_right.jpeg\n",
      "44237_left.jpeg\n",
      "44237_right.jpeg\n",
      "44238_left.jpeg\n",
      "44238_right.jpeg\n"
     ]
    },
    {
     "name": "stderr",
     "output_type": "stream",
     "text": [
      "\r",
      " 46%|████████████████████████████████████                                          | 2556/5531 [00:51<01:01, 48.32it/s]"
     ]
    },
    {
     "name": "stdout",
     "output_type": "stream",
     "text": [
      "44240_left.jpeg\n",
      "44240_right.jpeg\n",
      "44241_left.jpeg\n",
      "44241_right.jpeg\n",
      "44242_left.jpeg\n",
      "44242_right.jpeg\n",
      "44243_left.jpeg\n",
      "44243_right.jpeg\n"
     ]
    },
    {
     "name": "stderr",
     "output_type": "stream",
     "text": [
      "\r",
      " 46%|████████████████████████████████████▏                                         | 2564/5531 [00:51<00:54, 54.42it/s]"
     ]
    },
    {
     "name": "stdout",
     "output_type": "stream",
     "text": [
      "44247_left.jpeg\n",
      "44247_right.jpeg\n",
      "44249_left.jpeg\n",
      "44249_right.jpeg\n",
      "4424_left.jpeg\n",
      "4424_right.jpeg\n",
      "44253_left.jpeg\n",
      "44253_right.jpeg\n"
     ]
    },
    {
     "name": "stderr",
     "output_type": "stream",
     "text": [
      "\r",
      " 47%|████████████████████████████████████▎                                         | 2572/5531 [00:51<00:50, 58.90it/s]"
     ]
    },
    {
     "name": "stdout",
     "output_type": "stream",
     "text": [
      "44254_left.jpeg\n",
      "44254_right.jpeg\n",
      "44257_left.jpeg\n",
      "44257_right.jpeg\n",
      "44260_left.jpeg\n",
      "44260_right.jpeg\n",
      "44261_left.jpeg\n"
     ]
    },
    {
     "name": "stderr",
     "output_type": "stream",
     "text": [
      "\r",
      " 47%|████████████████████████████████████▎                                         | 2579/5531 [00:51<00:48, 60.91it/s]"
     ]
    },
    {
     "name": "stdout",
     "output_type": "stream",
     "text": [
      "44261_right.jpeg\n",
      "44262_left.jpeg\n",
      "44262_right.jpeg\n",
      "44263_left.jpeg\n",
      "44263_right.jpeg\n",
      "44264_left.jpeg\n",
      "44264_right.jpeg\n",
      "44265_left.jpeg\n"
     ]
    },
    {
     "name": "stderr",
     "output_type": "stream",
     "text": [
      "\r",
      " 47%|████████████████████████████████████▍                                         | 2587/5531 [00:51<00:47, 62.14it/s]"
     ]
    },
    {
     "name": "stdout",
     "output_type": "stream",
     "text": [
      "44265_right.jpeg\n",
      "44267_left.jpeg\n",
      "44267_right.jpeg\n",
      "44268_left.jpeg\n",
      "44268_right.jpeg\n",
      "44275_left.jpeg\n",
      "44275_right.jpeg\n"
     ]
    },
    {
     "name": "stderr",
     "output_type": "stream",
     "text": [
      "\r",
      " 47%|████████████████████████████████████▌                                         | 2594/5531 [00:51<00:47, 62.14it/s]"
     ]
    },
    {
     "name": "stdout",
     "output_type": "stream",
     "text": [
      "44278_left.jpeg\n",
      "44278_right.jpeg\n",
      "44280_left.jpeg\n",
      "44280_right.jpeg\n",
      "44281_left.jpeg\n",
      "44281_right.jpeg\n",
      "44282_left.jpeg\n"
     ]
    },
    {
     "name": "stderr",
     "output_type": "stream",
     "text": [
      "\r",
      " 47%|████████████████████████████████████▋                                         | 2601/5531 [00:51<00:46, 63.47it/s]"
     ]
    },
    {
     "name": "stdout",
     "output_type": "stream",
     "text": [
      "44282_right.jpeg\n",
      "44284_left.jpeg\n",
      "44284_right.jpeg\n",
      "44285_left.jpeg\n",
      "44285_right.jpeg\n",
      "44287_left.jpeg\n",
      "44287_right.jpeg\n"
     ]
    },
    {
     "name": "stderr",
     "output_type": "stream",
     "text": [
      "\r",
      " 47%|████████████████████████████████████▊                                         | 2608/5531 [00:51<00:45, 64.81it/s]"
     ]
    },
    {
     "name": "stdout",
     "output_type": "stream",
     "text": [
      "44298_left.jpeg\n",
      "44298_right.jpeg\n",
      "44306_left.jpeg\n",
      "44306_right.jpeg\n",
      "44308_left.jpeg\n",
      "44308_right.jpeg\n",
      "44309_left.jpeg\n"
     ]
    },
    {
     "name": "stderr",
     "output_type": "stream",
     "text": [
      "\r",
      " 47%|████████████████████████████████████▉                                         | 2615/5531 [00:51<00:45, 63.63it/s]"
     ]
    },
    {
     "name": "stdout",
     "output_type": "stream",
     "text": [
      "44309_right.jpeg\n",
      "44317_left.jpeg\n",
      "44317_right.jpeg\n",
      "44323_left.jpeg\n",
      "44323_right.jpeg\n",
      "44325_left.jpeg\n",
      "44325_right.jpeg\n"
     ]
    },
    {
     "name": "stderr",
     "output_type": "stream",
     "text": [
      "\r",
      " 47%|████████████████████████████████████▉                                         | 2622/5531 [00:52<00:45, 64.56it/s]"
     ]
    },
    {
     "name": "stdout",
     "output_type": "stream",
     "text": [
      "44327_left.jpeg\n",
      "44327_right.jpeg\n",
      "44328_left.jpeg\n",
      "44328_right.jpeg\n",
      "44330_left.jpeg\n",
      "44330_right.jpeg\n",
      "44331_left.jpeg\n",
      "44331_right.jpeg\n"
     ]
    },
    {
     "name": "stderr",
     "output_type": "stream",
     "text": [
      "\r",
      " 48%|█████████████████████████████████████                                         | 2630/5531 [00:52<00:42, 67.70it/s]"
     ]
    },
    {
     "name": "stdout",
     "output_type": "stream",
     "text": [
      "44334_left.jpeg\n",
      "44334_right.jpeg\n",
      "44337_left.jpeg\n",
      "44337_right.jpeg\n",
      "44338_left.jpeg\n",
      "44338_right.jpeg\n",
      "44339_left.jpeg\n",
      "44339_right.jpeg\n"
     ]
    },
    {
     "name": "stderr",
     "output_type": "stream",
     "text": [
      "\r",
      " 48%|█████████████████████████████████████▏                                        | 2638/5531 [00:52<00:42, 67.96it/s]"
     ]
    },
    {
     "name": "stdout",
     "output_type": "stream",
     "text": [
      "44343_left.jpeg\n",
      "44343_right.jpeg\n",
      "44347_left.jpeg\n",
      "44347_right.jpeg\n",
      "44348_left.jpeg\n",
      "44348_right.jpeg\n",
      "44349_left.jpeg\n",
      "44349_right.jpeg\n"
     ]
    },
    {
     "name": "stderr",
     "output_type": "stream",
     "text": [
      "\r",
      " 48%|█████████████████████████████████████▎                                        | 2646/5531 [00:52<00:41, 69.74it/s]"
     ]
    },
    {
     "name": "stdout",
     "output_type": "stream",
     "text": [
      "4434_left.jpeg\n",
      "4434_right.jpeg\n",
      "4436_left.jpeg\n",
      "4436_right.jpeg\n",
      "4437_left.jpeg\n",
      "4437_right.jpeg\n",
      "4443_left.jpeg\n",
      "4443_right.jpeg\n"
     ]
    },
    {
     "name": "stderr",
     "output_type": "stream",
     "text": [
      "\r",
      " 48%|█████████████████████████████████████▍                                        | 2654/5531 [00:52<00:41, 69.56it/s]"
     ]
    },
    {
     "name": "stdout",
     "output_type": "stream",
     "text": [
      "4444_left.jpeg\n",
      "4444_right.jpeg\n",
      "4448_left.jpeg\n",
      "4448_right.jpeg\n",
      "4450_left.jpeg\n",
      "4450_right.jpeg\n",
      "4452_left.jpeg\n"
     ]
    },
    {
     "name": "stderr",
     "output_type": "stream",
     "text": [
      "\r",
      " 48%|█████████████████████████████████████▌                                        | 2661/5531 [00:52<00:42, 66.77it/s]"
     ]
    },
    {
     "name": "stdout",
     "output_type": "stream",
     "text": [
      "4452_right.jpeg\n",
      "4460_left.jpeg\n",
      "4460_right.jpeg\n",
      "4462_left.jpeg\n",
      "4462_right.jpeg\n",
      "4464_left.jpeg\n",
      "4464_right.jpeg\n"
     ]
    },
    {
     "name": "stderr",
     "output_type": "stream",
     "text": [
      "\r",
      " 48%|█████████████████████████████████████▋                                        | 2668/5531 [00:52<00:44, 64.05it/s]"
     ]
    },
    {
     "name": "stdout",
     "output_type": "stream",
     "text": [
      "4466_left.jpeg\n",
      "4466_right.jpeg\n",
      "4470_left.jpeg\n",
      "4470_right.jpeg\n",
      "4471_left.jpeg\n",
      "4471_right.jpeg\n",
      "4472_left.jpeg\n"
     ]
    },
    {
     "name": "stderr",
     "output_type": "stream",
     "text": [
      "\r",
      " 48%|█████████████████████████████████████▋                                        | 2675/5531 [00:52<00:43, 65.40it/s]"
     ]
    },
    {
     "name": "stdout",
     "output_type": "stream",
     "text": [
      "4472_right.jpeg\n",
      "4475_left.jpeg\n",
      "4475_right.jpeg\n",
      "4478_left.jpeg\n",
      "4478_right.jpeg\n",
      "4479_left.jpeg\n",
      "4479_right.jpeg\n",
      "4482_left.jpeg\n"
     ]
    },
    {
     "name": "stderr",
     "output_type": "stream",
     "text": [
      "\r",
      " 49%|█████████████████████████████████████▊                                        | 2683/5531 [00:52<00:41, 68.53it/s]"
     ]
    },
    {
     "name": "stdout",
     "output_type": "stream",
     "text": [
      "4482_right.jpeg\n",
      "4484_left.jpeg\n",
      "4484_right.jpeg\n",
      "4485_left.jpeg\n",
      "4485_right.jpeg\n",
      "4488_left.jpeg\n",
      "4488_right.jpeg\n",
      "4490_left.jpeg\n"
     ]
    },
    {
     "name": "stderr",
     "output_type": "stream",
     "text": [
      "\r",
      " 49%|█████████████████████████████████████▉                                        | 2691/5531 [00:53<00:40, 70.90it/s]"
     ]
    },
    {
     "name": "stdout",
     "output_type": "stream",
     "text": [
      "4490_right.jpeg\n",
      "4491_left.jpeg\n",
      "4491_right.jpeg\n",
      "4495_left.jpeg\n",
      "4495_right.jpeg\n",
      "4496_left.jpeg\n",
      "4496_right.jpeg\n",
      "4497_left.jpeg\n"
     ]
    },
    {
     "name": "stderr",
     "output_type": "stream",
     "text": [
      "\r",
      " 49%|██████████████████████████████████████                                        | 2699/5531 [00:53<00:39, 71.49it/s]"
     ]
    },
    {
     "name": "stdout",
     "output_type": "stream",
     "text": [
      "4497_right.jpeg\n",
      "4498_left.jpeg\n",
      "4498_right.jpeg\n",
      "4499_left.jpeg\n",
      "4499_right.jpeg\n",
      "4506_left.jpeg\n",
      "4506_right.jpeg\n",
      "4508_left.jpeg\n"
     ]
    },
    {
     "name": "stderr",
     "output_type": "stream",
     "text": [
      "\r",
      " 49%|██████████████████████████████████████▏                                       | 2707/5531 [00:53<00:40, 69.85it/s]"
     ]
    },
    {
     "name": "stdout",
     "output_type": "stream",
     "text": [
      "4508_right.jpeg\n",
      "4513_left.jpeg\n",
      "4513_right.jpeg\n",
      "4514_left.jpeg\n",
      "4514_right.jpeg\n",
      "4518_left.jpeg\n",
      "4518_right.jpeg\n",
      "4519_left.jpeg\n"
     ]
    },
    {
     "name": "stderr",
     "output_type": "stream",
     "text": [
      "\r",
      " 49%|██████████████████████████████████████▎                                       | 2715/5531 [00:53<00:41, 67.53it/s]"
     ]
    },
    {
     "name": "stdout",
     "output_type": "stream",
     "text": [
      "4519_right.jpeg\n",
      "4523_left.jpeg\n",
      "4523_right.jpeg\n",
      "4524_left.jpeg\n",
      "4524_right.jpeg\n",
      "4526_left.jpeg\n",
      "4526_right.jpeg\n"
     ]
    },
    {
     "name": "stderr",
     "output_type": "stream",
     "text": [
      "\r",
      " 49%|██████████████████████████████████████▍                                       | 2722/5531 [00:53<00:50, 55.24it/s]"
     ]
    },
    {
     "name": "stdout",
     "output_type": "stream",
     "text": [
      "4527_left.jpeg\n",
      "4527_right.jpeg\n",
      "4531_left.jpeg\n",
      "4531_right.jpeg\n",
      "4532_left.jpeg\n",
      "4532_right.jpeg\n"
     ]
    },
    {
     "name": "stderr",
     "output_type": "stream",
     "text": [
      "\r",
      " 49%|██████████████████████████████████████▍                                       | 2728/5531 [00:53<01:00, 46.71it/s]"
     ]
    },
    {
     "name": "stdout",
     "output_type": "stream",
     "text": [
      "4533_left.jpeg\n",
      "4533_right.jpeg\n",
      "4534_left.jpeg\n",
      "4534_right.jpeg\n",
      "4535_left.jpeg\n",
      "4535_right.jpeg\n"
     ]
    },
    {
     "name": "stderr",
     "output_type": "stream",
     "text": [
      "\r",
      " 49%|██████████████████████████████████████▌                                       | 2734/5531 [00:53<01:00, 45.94it/s]"
     ]
    },
    {
     "name": "stdout",
     "output_type": "stream",
     "text": [
      "4538_left.jpeg\n",
      "4538_right.jpeg\n",
      "4544_left.jpeg\n",
      "4544_right.jpeg\n",
      "4545_left.jpeg\n"
     ]
    },
    {
     "name": "stderr",
     "output_type": "stream",
     "text": [
      "\r",
      " 50%|██████████████████████████████████████▋                                       | 2739/5531 [00:53<01:04, 43.56it/s]"
     ]
    },
    {
     "name": "stdout",
     "output_type": "stream",
     "text": [
      "4545_right.jpeg\n",
      "4548_left.jpeg\n",
      "4548_right.jpeg\n",
      "4550_left.jpeg\n",
      "4550_right.jpeg\n"
     ]
    },
    {
     "name": "stderr",
     "output_type": "stream",
     "text": [
      "\r",
      " 50%|██████████████████████████████████████▋                                       | 2744/5531 [00:54<01:19, 35.21it/s]"
     ]
    },
    {
     "name": "stdout",
     "output_type": "stream",
     "text": [
      "4551_left.jpeg\n",
      "4551_right.jpeg\n",
      "4555_left.jpeg\n",
      "4555_right.jpeg\n"
     ]
    },
    {
     "name": "stderr",
     "output_type": "stream",
     "text": [
      "\r",
      " 50%|██████████████████████████████████████▊                                       | 2748/5531 [00:54<01:21, 34.01it/s]"
     ]
    },
    {
     "name": "stdout",
     "output_type": "stream",
     "text": [
      "4558_left.jpeg\n",
      "4558_right.jpeg\n",
      "4559_left.jpeg\n",
      "4559_right.jpeg\n"
     ]
    },
    {
     "name": "stderr",
     "output_type": "stream",
     "text": [
      "\r",
      " 50%|██████████████████████████████████████▊                                       | 2752/5531 [00:54<01:19, 34.81it/s]"
     ]
    },
    {
     "name": "stdout",
     "output_type": "stream",
     "text": [
      "4561_left.jpeg\n",
      "4561_right.jpeg\n",
      "4563_left.jpeg\n",
      "4563_right.jpeg\n",
      "4567_left.jpeg\n"
     ]
    },
    {
     "name": "stderr",
     "output_type": "stream",
     "text": [
      "\r",
      " 50%|██████████████████████████████████████▉                                       | 2757/5531 [00:54<01:15, 36.88it/s]"
     ]
    },
    {
     "name": "stdout",
     "output_type": "stream",
     "text": [
      "4567_right.jpeg\n",
      "4568_left.jpeg\n",
      "4568_right.jpeg\n",
      "4569_left.jpeg\n",
      "4569_right.jpeg\n",
      "4570_left.jpeg\n",
      "4570_right.jpeg\n"
     ]
    },
    {
     "name": "stderr",
     "output_type": "stream",
     "text": [
      "\r",
      " 50%|██████████████████████████████████████▉                                       | 2764/5531 [00:54<01:05, 42.07it/s]"
     ]
    },
    {
     "name": "stdout",
     "output_type": "stream",
     "text": [
      "4571_left.jpeg\n",
      "4571_right.jpeg\n",
      "4581_left.jpeg\n",
      "4581_right.jpeg\n",
      "4582_left.jpeg\n",
      "4582_right.jpeg\n",
      "4583_left.jpeg\n"
     ]
    },
    {
     "name": "stderr",
     "output_type": "stream",
     "text": [
      "\r",
      " 50%|███████████████████████████████████████                                       | 2771/5531 [00:54<01:00, 45.67it/s]"
     ]
    },
    {
     "name": "stdout",
     "output_type": "stream",
     "text": [
      "4583_right.jpeg\n",
      "4584_left.jpeg\n",
      "4584_right.jpeg\n",
      "4593_left.jpeg\n",
      "4593_right.jpeg\n",
      "4594_left.jpeg\n"
     ]
    },
    {
     "name": "stderr",
     "output_type": "stream",
     "text": [
      "\r",
      " 50%|███████████████████████████████████████▏                                      | 2777/5531 [00:54<00:58, 47.37it/s]"
     ]
    },
    {
     "name": "stdout",
     "output_type": "stream",
     "text": [
      "4594_right.jpeg\n",
      "4595_left.jpeg\n",
      "4595_right.jpeg\n",
      "4599_left.jpeg\n",
      "4599_right.jpeg\n",
      "4601_left.jpeg\n"
     ]
    },
    {
     "name": "stderr",
     "output_type": "stream",
     "text": [
      "\r",
      " 50%|███████████████████████████████████████▏                                      | 2783/5531 [00:55<00:55, 49.23it/s]"
     ]
    },
    {
     "name": "stdout",
     "output_type": "stream",
     "text": [
      "4601_right.jpeg\n",
      "4602_left.jpeg\n",
      "4602_right.jpeg\n",
      "4604_left.jpeg\n",
      "4604_right.jpeg\n",
      "4609_left.jpeg\n"
     ]
    },
    {
     "name": "stderr",
     "output_type": "stream",
     "text": [
      "\r",
      " 50%|███████████████████████████████████████▎                                      | 2789/5531 [00:55<00:54, 50.75it/s]"
     ]
    },
    {
     "name": "stdout",
     "output_type": "stream",
     "text": [
      "4609_right.jpeg\n",
      "4614_left.jpeg\n",
      "4614_right.jpeg\n",
      "4615_left.jpeg\n",
      "4615_right.jpeg\n",
      "4620_left.jpeg\n"
     ]
    },
    {
     "name": "stderr",
     "output_type": "stream",
     "text": [
      "\r",
      " 51%|███████████████████████████████████████▍                                      | 2795/5531 [00:55<00:53, 51.08it/s]"
     ]
    },
    {
     "name": "stdout",
     "output_type": "stream",
     "text": [
      "4620_right.jpeg\n",
      "4624_left.jpeg\n",
      "4624_right.jpeg\n",
      "4626_left.jpeg\n",
      "4626_right.jpeg\n",
      "4629_left.jpeg\n"
     ]
    },
    {
     "name": "stderr",
     "output_type": "stream",
     "text": [
      "\r",
      " 51%|███████████████████████████████████████▌                                      | 2801/5531 [00:55<00:52, 51.84it/s]"
     ]
    },
    {
     "name": "stdout",
     "output_type": "stream",
     "text": [
      "4629_right.jpeg\n",
      "4631_left.jpeg\n",
      "4631_right.jpeg\n",
      "4632_left.jpeg\n",
      "4632_right.jpeg\n",
      "4633_left.jpeg\n"
     ]
    },
    {
     "name": "stderr",
     "output_type": "stream",
     "text": [
      "\r",
      " 51%|███████████████████████████████████████▌                                      | 2807/5531 [00:55<00:54, 50.16it/s]"
     ]
    },
    {
     "name": "stdout",
     "output_type": "stream",
     "text": [
      "4633_right.jpeg\n",
      "4641_left.jpeg\n",
      "4641_right.jpeg\n",
      "4642_left.jpeg\n",
      "4642_right.jpeg\n",
      "4649_left.jpeg\n"
     ]
    },
    {
     "name": "stderr",
     "output_type": "stream",
     "text": [
      "\r",
      " 51%|███████████████████████████████████████▋                                      | 2813/5531 [00:55<00:53, 50.41it/s]"
     ]
    },
    {
     "name": "stdout",
     "output_type": "stream",
     "text": [
      "4649_right.jpeg\n",
      "4652_left.jpeg\n",
      "4652_right.jpeg\n",
      "4657_left.jpeg\n",
      "4657_right.jpeg\n",
      "4658_left.jpeg\n"
     ]
    },
    {
     "name": "stderr",
     "output_type": "stream",
     "text": [
      "\r",
      " 51%|███████████████████████████████████████▊                                      | 2819/5531 [00:55<00:55, 48.62it/s]"
     ]
    },
    {
     "name": "stdout",
     "output_type": "stream",
     "text": [
      "4658_right.jpeg\n",
      "4659_left.jpeg\n",
      "4659_right.jpeg\n",
      "4665_left.jpeg\n",
      "4665_right.jpeg\n",
      "4672_left.jpeg\n"
     ]
    },
    {
     "name": "stderr",
     "output_type": "stream",
     "text": [
      "\r",
      " 51%|███████████████████████████████████████▊                                      | 2825/5531 [00:55<00:54, 49.55it/s]"
     ]
    },
    {
     "name": "stdout",
     "output_type": "stream",
     "text": [
      "4672_right.jpeg\n",
      "4674_left.jpeg\n",
      "4674_right.jpeg\n",
      "4676_left.jpeg\n",
      "4676_right.jpeg\n",
      "4685_left.jpeg\n"
     ]
    },
    {
     "name": "stderr",
     "output_type": "stream",
     "text": [
      "\r",
      " 51%|███████████████████████████████████████▉                                      | 2831/5531 [00:55<00:52, 51.25it/s]"
     ]
    },
    {
     "name": "stdout",
     "output_type": "stream",
     "text": [
      "4685_right.jpeg\n",
      "4687_left.jpeg\n",
      "4687_right.jpeg\n",
      "4688_left.jpeg\n",
      "4688_right.jpeg\n",
      "4689_left.jpeg\n"
     ]
    },
    {
     "name": "stderr",
     "output_type": "stream",
     "text": [
      "\r",
      " 51%|████████████████████████████████████████                                      | 2837/5531 [00:56<00:52, 51.43it/s]"
     ]
    },
    {
     "name": "stdout",
     "output_type": "stream",
     "text": [
      "4689_right.jpeg\n",
      "4690_left.jpeg\n",
      "4690_right.jpeg\n",
      "4693_left.jpeg\n",
      "4693_right.jpeg\n",
      "4694_left.jpeg\n"
     ]
    },
    {
     "name": "stderr",
     "output_type": "stream",
     "text": [
      "\r",
      " 51%|████████████████████████████████████████                                      | 2843/5531 [00:56<00:52, 51.56it/s]"
     ]
    },
    {
     "name": "stdout",
     "output_type": "stream",
     "text": [
      "4694_right.jpeg\n",
      "4695_left.jpeg\n",
      "4695_right.jpeg\n",
      "4696_left.jpeg\n",
      "4696_right.jpeg\n",
      "4697_left.jpeg\n"
     ]
    },
    {
     "name": "stderr",
     "output_type": "stream",
     "text": [
      "\r",
      " 52%|████████████████████████████████████████▏                                     | 2849/5531 [00:56<00:52, 51.38it/s]"
     ]
    },
    {
     "name": "stdout",
     "output_type": "stream",
     "text": [
      "4697_right.jpeg\n",
      "4698_left.jpeg\n",
      "4698_right.jpeg\n",
      "4702_left.jpeg\n",
      "4702_right.jpeg\n",
      "4703_left.jpeg\n"
     ]
    },
    {
     "name": "stderr",
     "output_type": "stream",
     "text": [
      "\r",
      " 52%|████████████████████████████████████████▎                                     | 2855/5531 [00:56<00:51, 51.79it/s]"
     ]
    },
    {
     "name": "stdout",
     "output_type": "stream",
     "text": [
      "4703_right.jpeg\n",
      "4710_left.jpeg\n",
      "4710_right.jpeg\n",
      "4711_left.jpeg\n",
      "4711_right.jpeg\n",
      "4713_left.jpeg\n"
     ]
    },
    {
     "name": "stderr",
     "output_type": "stream",
     "text": [
      "\r",
      " 52%|████████████████████████████████████████▎                                     | 2861/5531 [00:56<00:54, 48.91it/s]"
     ]
    },
    {
     "name": "stdout",
     "output_type": "stream",
     "text": [
      "4713_right.jpeg\n",
      "4714_left.jpeg\n",
      "4714_right.jpeg\n",
      "4716_left.jpeg\n",
      "4716_right.jpeg\n",
      "4721_left.jpeg\n"
     ]
    },
    {
     "name": "stderr",
     "output_type": "stream",
     "text": [
      "\r",
      " 52%|████████████████████████████████████████▍                                     | 2867/5531 [00:56<00:53, 50.01it/s]"
     ]
    },
    {
     "name": "stdout",
     "output_type": "stream",
     "text": [
      "4721_right.jpeg\n",
      "4722_left.jpeg\n",
      "4722_right.jpeg\n",
      "4723_left.jpeg\n",
      "4723_right.jpeg\n",
      "4724_left.jpeg\n"
     ]
    },
    {
     "name": "stderr",
     "output_type": "stream",
     "text": [
      "\r",
      " 52%|████████████████████████████████████████▌                                     | 2873/5531 [00:56<00:52, 50.55it/s]"
     ]
    },
    {
     "name": "stdout",
     "output_type": "stream",
     "text": [
      "4724_right.jpeg\n",
      "4727_left.jpeg\n",
      "4727_right.jpeg\n",
      "4731_left.jpeg\n",
      "4731_right.jpeg\n",
      "4732_left.jpeg\n"
     ]
    },
    {
     "name": "stderr",
     "output_type": "stream",
     "text": [
      "\r",
      " 52%|████████████████████████████████████████▌                                     | 2879/5531 [00:56<00:51, 51.07it/s]"
     ]
    },
    {
     "name": "stdout",
     "output_type": "stream",
     "text": [
      "4732_right.jpeg\n",
      "4734_left.jpeg\n",
      "4734_right.jpeg\n",
      "4735_left.jpeg\n",
      "4735_right.jpeg\n",
      "4738_left.jpeg\n"
     ]
    },
    {
     "name": "stderr",
     "output_type": "stream",
     "text": [
      "\r",
      " 52%|████████████████████████████████████████▋                                     | 2885/5531 [00:57<00:52, 50.78it/s]"
     ]
    },
    {
     "name": "stdout",
     "output_type": "stream",
     "text": [
      "4738_right.jpeg\n",
      "4739_left.jpeg\n",
      "4739_right.jpeg\n",
      "4740_left.jpeg\n",
      "4740_right.jpeg\n",
      "4741_left.jpeg\n"
     ]
    },
    {
     "name": "stderr",
     "output_type": "stream",
     "text": [
      "\r",
      " 52%|████████████████████████████████████████▊                                     | 2891/5531 [00:57<00:52, 50.71it/s]"
     ]
    },
    {
     "name": "stdout",
     "output_type": "stream",
     "text": [
      "4741_right.jpeg\n",
      "4750_left.jpeg\n",
      "4750_right.jpeg\n",
      "4754_left.jpeg\n",
      "4754_right.jpeg\n",
      "4755_left.jpeg\n"
     ]
    },
    {
     "name": "stderr",
     "output_type": "stream",
     "text": [
      "\r",
      " 52%|████████████████████████████████████████▊                                     | 2897/5531 [00:57<00:51, 51.31it/s]"
     ]
    },
    {
     "name": "stdout",
     "output_type": "stream",
     "text": [
      "4755_right.jpeg\n",
      "4757_left.jpeg\n",
      "4757_right.jpeg\n",
      "4764_left.jpeg\n",
      "4764_right.jpeg\n",
      "4765_left.jpeg\n"
     ]
    },
    {
     "name": "stderr",
     "output_type": "stream",
     "text": [
      "\r",
      " 52%|████████████████████████████████████████▉                                     | 2903/5531 [00:57<00:49, 53.25it/s]"
     ]
    },
    {
     "name": "stdout",
     "output_type": "stream",
     "text": [
      "4765_right.jpeg\n",
      "4766_left.jpeg\n",
      "4766_right.jpeg\n",
      "4769_left.jpeg\n",
      "4769_right.jpeg\n",
      "4771_left.jpeg\n"
     ]
    },
    {
     "name": "stderr",
     "output_type": "stream",
     "text": [
      "\r",
      " 53%|█████████████████████████████████████████                                     | 2909/5531 [00:57<00:49, 52.97it/s]"
     ]
    },
    {
     "name": "stdout",
     "output_type": "stream",
     "text": [
      "4771_right.jpeg\n",
      "4773_left.jpeg\n",
      "4773_right.jpeg\n",
      "4776_left.jpeg\n",
      "4776_right.jpeg\n",
      "4779_left.jpeg\n"
     ]
    },
    {
     "name": "stderr",
     "output_type": "stream",
     "text": [
      "\r",
      " 53%|█████████████████████████████████████████                                     | 2915/5531 [00:57<00:49, 52.49it/s]"
     ]
    },
    {
     "name": "stdout",
     "output_type": "stream",
     "text": [
      "4779_right.jpeg\n",
      "4780_left.jpeg\n",
      "4780_right.jpeg\n",
      "4781_left.jpeg\n",
      "4781_right.jpeg\n",
      "4784_left.jpeg\n"
     ]
    },
    {
     "name": "stderr",
     "output_type": "stream",
     "text": [
      "\r",
      " 53%|█████████████████████████████████████████▏                                    | 2921/5531 [00:57<00:48, 53.70it/s]"
     ]
    },
    {
     "name": "stdout",
     "output_type": "stream",
     "text": [
      "4784_right.jpeg\n",
      "4788_left.jpeg\n",
      "4788_right.jpeg\n",
      "4793_left.jpeg\n",
      "4793_right.jpeg\n",
      "4795_left.jpeg\n"
     ]
    },
    {
     "name": "stderr",
     "output_type": "stream",
     "text": [
      "\r",
      " 53%|█████████████████████████████████████████▎                                    | 2927/5531 [00:57<00:50, 52.03it/s]"
     ]
    },
    {
     "name": "stdout",
     "output_type": "stream",
     "text": [
      "4795_right.jpeg\n",
      "4798_left.jpeg\n",
      "4798_right.jpeg\n",
      "4799_left.jpeg\n",
      "4799_right.jpeg\n",
      "4800_left.jpeg\n",
      "4800_right.jpeg\n"
     ]
    },
    {
     "name": "stderr",
     "output_type": "stream",
     "text": [
      "\r",
      " 53%|█████████████████████████████████████████▍                                    | 2934/5531 [00:57<00:47, 54.32it/s]"
     ]
    },
    {
     "name": "stdout",
     "output_type": "stream",
     "text": [
      "4802_left.jpeg\n",
      "4802_right.jpeg\n",
      "4804_left.jpeg\n",
      "4804_right.jpeg\n",
      "4805_left.jpeg\n",
      "4805_right.jpeg\n"
     ]
    },
    {
     "name": "stderr",
     "output_type": "stream",
     "text": [
      "\r",
      " 53%|█████████████████████████████████████████▍                                    | 2940/5531 [00:58<00:48, 53.70it/s]"
     ]
    },
    {
     "name": "stdout",
     "output_type": "stream",
     "text": [
      "4807_left.jpeg\n",
      "4807_right.jpeg\n",
      "4810_left.jpeg\n",
      "4810_right.jpeg\n",
      "4811_left.jpeg\n",
      "4811_right.jpeg\n",
      "4818_left.jpeg\n"
     ]
    },
    {
     "name": "stderr",
     "output_type": "stream",
     "text": [
      "\r",
      " 53%|█████████████████████████████████████████▌                                    | 2947/5531 [00:58<00:46, 55.94it/s]"
     ]
    },
    {
     "name": "stdout",
     "output_type": "stream",
     "text": [
      "4818_right.jpeg\n",
      "4821_left.jpeg\n",
      "4821_right.jpeg\n",
      "4824_left.jpeg\n",
      "4824_right.jpeg\n",
      "4827_left.jpeg\n",
      "4827_right.jpeg\n",
      "4829_left.jpeg\n",
      "4829_right.jpeg\n"
     ]
    },
    {
     "name": "stderr",
     "output_type": "stream",
     "text": [
      "\r",
      " 53%|█████████████████████████████████████████▋                                    | 2956/5531 [00:58<00:42, 61.21it/s]"
     ]
    },
    {
     "name": "stdout",
     "output_type": "stream",
     "text": [
      "4830_left.jpeg\n",
      "4830_right.jpeg\n",
      "4831_left.jpeg\n",
      "4831_right.jpeg\n",
      "4838_left.jpeg\n",
      "4838_right.jpeg\n",
      "4839_left.jpeg\n",
      "4839_right.jpeg\n",
      "4840_left.jpeg\n",
      "4840_right.jpeg\n"
     ]
    },
    {
     "name": "stderr",
     "output_type": "stream",
     "text": [
      "\r",
      " 54%|█████████████████████████████████████████▊                                    | 2966/5531 [00:58<00:37, 68.74it/s]"
     ]
    },
    {
     "name": "stdout",
     "output_type": "stream",
     "text": [
      "4842_left.jpeg\n",
      "4842_right.jpeg\n",
      "4843_left.jpeg\n",
      "4843_right.jpeg\n",
      "4844_left.jpeg\n",
      "4844_right.jpeg\n",
      "4847_left.jpeg\n",
      "4847_right.jpeg\n"
     ]
    },
    {
     "name": "stderr",
     "output_type": "stream",
     "text": [
      "\r",
      " 54%|█████████████████████████████████████████▉                                    | 2974/5531 [00:58<00:36, 70.69it/s]"
     ]
    },
    {
     "name": "stdout",
     "output_type": "stream",
     "text": [
      "4850_left.jpeg\n",
      "4850_right.jpeg\n",
      "4851_left.jpeg\n",
      "4851_right.jpeg\n",
      "4852_left.jpeg\n",
      "4852_right.jpeg\n",
      "4856_left.jpeg\n",
      "4856_right.jpeg\n"
     ]
    },
    {
     "name": "stderr",
     "output_type": "stream",
     "text": [
      "\r",
      " 54%|██████████████████████████████████████████                                    | 2982/5531 [00:58<00:35, 72.49it/s]"
     ]
    },
    {
     "name": "stdout",
     "output_type": "stream",
     "text": [
      "4857_left.jpeg\n",
      "4857_right.jpeg\n",
      "4861_left.jpeg\n",
      "4861_right.jpeg\n",
      "4864_left.jpeg\n",
      "4864_right.jpeg\n",
      "4869_left.jpeg\n",
      "4869_right.jpeg\n"
     ]
    },
    {
     "name": "stderr",
     "output_type": "stream",
     "text": [
      "\r",
      " 54%|██████████████████████████████████████████▏                                   | 2990/5531 [00:58<00:35, 71.85it/s]"
     ]
    },
    {
     "name": "stdout",
     "output_type": "stream",
     "text": [
      "4876_left.jpeg\n",
      "4876_right.jpeg\n",
      "4878_left.jpeg\n",
      "4878_right.jpeg\n",
      "4884_left.jpeg\n",
      "4884_right.jpeg\n",
      "4885_left.jpeg\n",
      "4885_right.jpeg\n"
     ]
    },
    {
     "name": "stderr",
     "output_type": "stream",
     "text": [
      "\r",
      " 54%|██████████████████████████████████████████▎                                   | 2998/5531 [00:58<00:35, 71.39it/s]"
     ]
    },
    {
     "name": "stdout",
     "output_type": "stream",
     "text": [
      "4886_left.jpeg\n",
      "4886_right.jpeg\n",
      "4887_left.jpeg\n",
      "4887_right.jpeg\n",
      "4892_left.jpeg\n",
      "4892_right.jpeg\n",
      "4899_left.jpeg\n",
      "4899_right.jpeg\n"
     ]
    },
    {
     "name": "stderr",
     "output_type": "stream",
     "text": [
      "\r",
      " 54%|██████████████████████████████████████████▍                                   | 3006/5531 [00:58<00:37, 67.67it/s]"
     ]
    },
    {
     "name": "stdout",
     "output_type": "stream",
     "text": [
      "4901_left.jpeg\n",
      "4901_right.jpeg\n",
      "4902_left.jpeg\n",
      "4902_right.jpeg\n",
      "4903_left.jpeg\n",
      "4903_right.jpeg\n",
      "4904_left.jpeg\n",
      "4904_right.jpeg\n"
     ]
    },
    {
     "name": "stderr",
     "output_type": "stream",
     "text": [
      "\r",
      " 54%|██████████████████████████████████████████▌                                   | 3014/5531 [00:59<00:36, 69.52it/s]"
     ]
    },
    {
     "name": "stdout",
     "output_type": "stream",
     "text": [
      "4909_left.jpeg\n",
      "4909_right.jpeg\n",
      "4911_left.jpeg\n",
      "4911_right.jpeg\n",
      "4914_left.jpeg\n",
      "4914_right.jpeg\n",
      "4915_left.jpeg\n",
      "4915_right.jpeg\n"
     ]
    },
    {
     "name": "stderr",
     "output_type": "stream",
     "text": [
      "\r",
      " 55%|██████████████████████████████████████████▌                                   | 3022/5531 [00:59<00:39, 64.24it/s]"
     ]
    },
    {
     "name": "stdout",
     "output_type": "stream",
     "text": [
      "4916_left.jpeg\n",
      "4916_right.jpeg\n",
      "4917_left.jpeg\n",
      "4917_right.jpeg\n",
      "4919_left.jpeg\n",
      "4919_right.jpeg\n",
      "4922_left.jpeg\n"
     ]
    },
    {
     "name": "stderr",
     "output_type": "stream",
     "text": [
      "\r",
      " 55%|██████████████████████████████████████████▋                                   | 3029/5531 [00:59<00:39, 62.73it/s]"
     ]
    },
    {
     "name": "stdout",
     "output_type": "stream",
     "text": [
      "4922_right.jpeg\n",
      "4928_left.jpeg\n",
      "4928_right.jpeg\n",
      "4930_left.jpeg\n",
      "4930_right.jpeg\n",
      "4931_left.jpeg\n",
      "4931_right.jpeg\n"
     ]
    },
    {
     "name": "stderr",
     "output_type": "stream",
     "text": [
      "\r",
      " 55%|██████████████████████████████████████████▊                                   | 3036/5531 [00:59<00:40, 61.40it/s]"
     ]
    },
    {
     "name": "stdout",
     "output_type": "stream",
     "text": [
      "4933_left.jpeg\n",
      "4933_right.jpeg\n",
      "4936_left.jpeg\n",
      "4936_right.jpeg\n",
      "4937_left.jpeg\n",
      "4937_right.jpeg\n",
      "4939_left.jpeg\n"
     ]
    },
    {
     "name": "stderr",
     "output_type": "stream",
     "text": [
      "\r",
      " 55%|██████████████████████████████████████████▉                                   | 3043/5531 [00:59<00:42, 58.82it/s]"
     ]
    },
    {
     "name": "stdout",
     "output_type": "stream",
     "text": [
      "4939_right.jpeg\n",
      "4941_left.jpeg\n",
      "4941_right.jpeg\n",
      "4946_left.jpeg\n",
      "4946_right.jpeg\n",
      "4951_left.jpeg\n"
     ]
    },
    {
     "name": "stderr",
     "output_type": "stream",
     "text": [
      "\r",
      " 55%|██████████████████████████████████████████▉                                   | 3049/5531 [00:59<00:43, 57.03it/s]"
     ]
    },
    {
     "name": "stdout",
     "output_type": "stream",
     "text": [
      "4951_right.jpeg\n",
      "4953_left.jpeg\n",
      "4953_right.jpeg\n",
      "4954_left.jpeg\n",
      "4954_right.jpeg\n",
      "4955_left.jpeg\n"
     ]
    },
    {
     "name": "stderr",
     "output_type": "stream",
     "text": [
      "\r",
      " 55%|███████████████████████████████████████████                                   | 3055/5531 [00:59<00:43, 56.95it/s]"
     ]
    },
    {
     "name": "stdout",
     "output_type": "stream",
     "text": [
      "4955_right.jpeg\n",
      "4959_left.jpeg\n",
      "4959_right.jpeg\n",
      "4965_left.jpeg\n",
      "4965_right.jpeg\n",
      "4967_left.jpeg\n"
     ]
    },
    {
     "name": "stderr",
     "output_type": "stream",
     "text": [
      "\r",
      " 55%|███████████████████████████████████████████▏                                  | 3061/5531 [00:59<00:45, 54.27it/s]"
     ]
    },
    {
     "name": "stdout",
     "output_type": "stream",
     "text": [
      "4967_right.jpeg\n",
      "4969_left.jpeg\n",
      "4969_right.jpeg\n",
      "4970_left.jpeg\n",
      "4970_right.jpeg\n",
      "4972_left.jpeg\n"
     ]
    },
    {
     "name": "stderr",
     "output_type": "stream",
     "text": [
      "\r",
      " 55%|███████████████████████████████████████████▎                                  | 3067/5531 [01:00<00:45, 54.54it/s]"
     ]
    },
    {
     "name": "stdout",
     "output_type": "stream",
     "text": [
      "4972_right.jpeg\n",
      "4973_left.jpeg\n",
      "4973_right.jpeg\n",
      "4980_left.jpeg\n",
      "4980_right.jpeg\n",
      "4984_left.jpeg\n"
     ]
    },
    {
     "name": "stderr",
     "output_type": "stream",
     "text": [
      "\r",
      " 56%|███████████████████████████████████████████▎                                  | 3073/5531 [01:00<00:44, 55.49it/s]"
     ]
    },
    {
     "name": "stdout",
     "output_type": "stream",
     "text": [
      "4984_right.jpeg\n",
      "4985_left.jpeg\n",
      "4985_right.jpeg\n",
      "4987_left.jpeg\n",
      "4987_right.jpeg\n",
      "4990_left.jpeg\n"
     ]
    },
    {
     "name": "stderr",
     "output_type": "stream",
     "text": [
      "\r",
      " 56%|███████████████████████████████████████████▍                                  | 3079/5531 [01:00<00:46, 52.37it/s]"
     ]
    },
    {
     "name": "stdout",
     "output_type": "stream",
     "text": [
      "4990_right.jpeg\n",
      "4992_left.jpeg\n",
      "4992_right.jpeg\n",
      "4997_left.jpeg\n",
      "4997_right.jpeg\n",
      "4998_left.jpeg\n"
     ]
    },
    {
     "name": "stderr",
     "output_type": "stream",
     "text": [
      "\r",
      " 56%|███████████████████████████████████████████▌                                  | 3085/5531 [01:00<00:48, 50.13it/s]"
     ]
    },
    {
     "name": "stdout",
     "output_type": "stream",
     "text": [
      "4998_right.jpeg\n",
      "4999_left.jpeg\n",
      "4999_right.jpeg\n",
      "5004_left.jpeg\n",
      "5004_right.jpeg\n",
      "5007_left.jpeg\n"
     ]
    },
    {
     "name": "stderr",
     "output_type": "stream",
     "text": [
      "\r",
      " 56%|███████████████████████████████████████████▌                                  | 3091/5531 [01:00<00:52, 46.85it/s]"
     ]
    },
    {
     "name": "stdout",
     "output_type": "stream",
     "text": [
      "5007_right.jpeg\n",
      "5008_left.jpeg\n",
      "5008_right.jpeg\n",
      "5009_left.jpeg\n",
      "5009_right.jpeg\n"
     ]
    },
    {
     "name": "stderr",
     "output_type": "stream",
     "text": [
      "\r",
      " 56%|███████████████████████████████████████████▋                                  | 3096/5531 [01:00<00:51, 47.38it/s]"
     ]
    },
    {
     "name": "stdout",
     "output_type": "stream",
     "text": [
      "5010_left.jpeg\n",
      "5010_right.jpeg\n",
      "5013_left.jpeg\n",
      "5013_right.jpeg\n",
      "5014_left.jpeg\n",
      "5014_right.jpeg\n"
     ]
    },
    {
     "name": "stderr",
     "output_type": "stream",
     "text": [
      "\r",
      " 56%|███████████████████████████████████████████▋                                  | 3102/5531 [01:00<00:49, 49.36it/s]"
     ]
    },
    {
     "name": "stdout",
     "output_type": "stream",
     "text": [
      "5015_left.jpeg\n",
      "5015_right.jpeg\n",
      "5018_left.jpeg\n",
      "5018_right.jpeg\n",
      "5019_left.jpeg\n",
      "5019_right.jpeg\n"
     ]
    },
    {
     "name": "stderr",
     "output_type": "stream",
     "text": [
      "\r",
      " 56%|███████████████████████████████████████████▊                                  | 3108/5531 [01:00<00:47, 51.24it/s]"
     ]
    },
    {
     "name": "stdout",
     "output_type": "stream",
     "text": [
      "5021_left.jpeg\n",
      "5021_right.jpeg\n",
      "5023_left.jpeg\n",
      "5023_right.jpeg\n",
      "5024_left.jpeg\n",
      "5024_right.jpeg\n"
     ]
    },
    {
     "name": "stderr",
     "output_type": "stream",
     "text": [
      "\r",
      " 56%|███████████████████████████████████████████▉                                  | 3114/5531 [01:00<00:45, 52.92it/s]"
     ]
    },
    {
     "name": "stdout",
     "output_type": "stream",
     "text": [
      "5029_left.jpeg\n",
      "5029_right.jpeg\n",
      "5032_left.jpeg\n",
      "5032_right.jpeg\n",
      "5033_left.jpeg\n",
      "5033_right.jpeg\n"
     ]
    },
    {
     "name": "stderr",
     "output_type": "stream",
     "text": [
      "\r",
      " 56%|███████████████████████████████████████████▉                                  | 3120/5531 [01:01<00:48, 49.36it/s]"
     ]
    },
    {
     "name": "stdout",
     "output_type": "stream",
     "text": [
      "5035_left.jpeg\n",
      "5035_right.jpeg\n",
      "5039_left.jpeg\n",
      "5039_right.jpeg\n",
      "5041_left.jpeg\n",
      "5041_right.jpeg\n"
     ]
    },
    {
     "name": "stderr",
     "output_type": "stream",
     "text": [
      "\r",
      " 57%|████████████████████████████████████████████                                  | 3126/5531 [01:01<00:48, 49.84it/s]"
     ]
    },
    {
     "name": "stdout",
     "output_type": "stream",
     "text": [
      "5042_left.jpeg\n",
      "5042_right.jpeg\n",
      "5044_left.jpeg\n",
      "5044_right.jpeg\n",
      "5045_left.jpeg\n",
      "5045_right.jpeg\n"
     ]
    },
    {
     "name": "stderr",
     "output_type": "stream",
     "text": [
      "\r",
      " 57%|████████████████████████████████████████████▏                                 | 3132/5531 [01:01<00:46, 51.33it/s]"
     ]
    },
    {
     "name": "stdout",
     "output_type": "stream",
     "text": [
      "5047_left.jpeg\n",
      "5047_right.jpeg\n",
      "5049_left.jpeg\n",
      "5049_right.jpeg\n",
      "5052_left.jpeg\n",
      "5052_right.jpeg\n"
     ]
    },
    {
     "name": "stderr",
     "output_type": "stream",
     "text": [
      "\r",
      " 57%|████████████████████████████████████████████▎                                 | 3138/5531 [01:01<00:49, 47.92it/s]"
     ]
    },
    {
     "name": "stdout",
     "output_type": "stream",
     "text": [
      "5054_left.jpeg\n",
      "5054_right.jpeg\n",
      "5058_left.jpeg\n",
      "5058_right.jpeg\n",
      "5059_left.jpeg\n",
      "5059_right.jpeg\n"
     ]
    },
    {
     "name": "stderr",
     "output_type": "stream",
     "text": [
      "\r",
      " 57%|████████████████████████████████████████████▎                                 | 3144/5531 [01:01<00:48, 49.52it/s]"
     ]
    },
    {
     "name": "stdout",
     "output_type": "stream",
     "text": [
      "5061_left.jpeg\n",
      "5061_right.jpeg\n",
      "5062_left.jpeg\n",
      "5062_right.jpeg\n",
      "5063_left.jpeg\n",
      "5063_right.jpeg\n"
     ]
    },
    {
     "name": "stderr",
     "output_type": "stream",
     "text": [
      "\r",
      " 57%|████████████████████████████████████████████▍                                 | 3150/5531 [01:01<00:48, 49.22it/s]"
     ]
    },
    {
     "name": "stdout",
     "output_type": "stream",
     "text": [
      "5065_left.jpeg\n",
      "5065_right.jpeg\n",
      "5066_left.jpeg\n",
      "5066_right.jpeg\n",
      "5067_left.jpeg\n",
      "5067_right.jpeg\n"
     ]
    },
    {
     "name": "stderr",
     "output_type": "stream",
     "text": [
      "\r",
      " 57%|████████████████████████████████████████████▌                                 | 3156/5531 [01:01<00:47, 49.73it/s]"
     ]
    },
    {
     "name": "stdout",
     "output_type": "stream",
     "text": [
      "5070_left.jpeg\n",
      "5070_right.jpeg\n",
      "5071_left.jpeg\n",
      "5071_right.jpeg\n",
      "5073_left.jpeg\n",
      "5073_right.jpeg\n"
     ]
    },
    {
     "name": "stderr",
     "output_type": "stream",
     "text": [
      "\r",
      " 57%|████████████████████████████████████████████▌                                 | 3162/5531 [01:01<00:47, 49.48it/s]"
     ]
    },
    {
     "name": "stdout",
     "output_type": "stream",
     "text": [
      "5075_left.jpeg\n",
      "5075_right.jpeg\n",
      "5082_left.jpeg\n",
      "5082_right.jpeg\n",
      "5083_left.jpeg\n",
      "5083_right.jpeg\n"
     ]
    },
    {
     "name": "stderr",
     "output_type": "stream",
     "text": [
      "\r",
      " 57%|████████████████████████████████████████████▋                                 | 3168/5531 [01:02<00:46, 50.94it/s]"
     ]
    },
    {
     "name": "stdout",
     "output_type": "stream",
     "text": [
      "5084_left.jpeg\n",
      "5084_right.jpeg\n",
      "5086_left.jpeg\n",
      "5086_right.jpeg\n",
      "5088_left.jpeg\n",
      "5088_right.jpeg\n"
     ]
    },
    {
     "name": "stderr",
     "output_type": "stream",
     "text": [
      "\r",
      " 57%|████████████████████████████████████████████▊                                 | 3174/5531 [01:02<00:44, 52.83it/s]"
     ]
    },
    {
     "name": "stdout",
     "output_type": "stream",
     "text": [
      "5089_left.jpeg\n",
      "5089_right.jpeg\n",
      "5090_left.jpeg\n",
      "5090_right.jpeg\n",
      "5092_left.jpeg\n",
      "5092_right.jpeg\n"
     ]
    },
    {
     "name": "stderr",
     "output_type": "stream",
     "text": [
      "\r",
      " 57%|████████████████████████████████████████████▊                                 | 3180/5531 [01:02<00:45, 51.33it/s]"
     ]
    },
    {
     "name": "stdout",
     "output_type": "stream",
     "text": [
      "5095_left.jpeg\n",
      "5095_right.jpeg\n",
      "5096_left.jpeg\n",
      "5096_right.jpeg\n",
      "5100_left.jpeg\n",
      "5100_right.jpeg\n"
     ]
    },
    {
     "name": "stderr",
     "output_type": "stream",
     "text": [
      "\r",
      " 58%|████████████████████████████████████████████▉                                 | 3186/5531 [01:02<00:44, 52.84it/s]"
     ]
    },
    {
     "name": "stdout",
     "output_type": "stream",
     "text": [
      "5101_left.jpeg\n",
      "5101_right.jpeg\n",
      "5105_left.jpeg\n",
      "5105_right.jpeg\n",
      "5106_left.jpeg\n",
      "5106_right.jpeg\n"
     ]
    },
    {
     "name": "stderr",
     "output_type": "stream",
     "text": [
      "\r",
      " 58%|█████████████████████████████████████████████                                 | 3192/5531 [01:02<00:42, 54.40it/s]"
     ]
    },
    {
     "name": "stdout",
     "output_type": "stream",
     "text": [
      "5108_left.jpeg\n",
      "5108_right.jpeg\n",
      "5110_left.jpeg\n",
      "5110_right.jpeg\n",
      "5112_left.jpeg\n",
      "5112_right.jpeg\n"
     ]
    },
    {
     "name": "stderr",
     "output_type": "stream",
     "text": [
      "\r",
      " 58%|█████████████████████████████████████████████                                 | 3198/5531 [01:02<00:43, 53.76it/s]"
     ]
    },
    {
     "name": "stdout",
     "output_type": "stream",
     "text": [
      "5117_left.jpeg\n",
      "5117_right.jpeg\n",
      "5118_left.jpeg\n",
      "5118_right.jpeg\n",
      "5128_left.jpeg\n",
      "5128_right.jpeg\n"
     ]
    },
    {
     "name": "stderr",
     "output_type": "stream",
     "text": [
      "\r",
      " 58%|█████████████████████████████████████████████▏                                | 3204/5531 [01:02<00:43, 53.46it/s]"
     ]
    },
    {
     "name": "stdout",
     "output_type": "stream",
     "text": [
      "5131_left.jpeg\n",
      "5131_right.jpeg\n",
      "5134_left.jpeg\n",
      "5134_right.jpeg\n",
      "5137_left.jpeg\n",
      "5137_right.jpeg\n"
     ]
    },
    {
     "name": "stderr",
     "output_type": "stream",
     "text": [
      "\r",
      " 58%|█████████████████████████████████████████████▎                                | 3210/5531 [01:02<00:42, 54.70it/s]"
     ]
    },
    {
     "name": "stdout",
     "output_type": "stream",
     "text": [
      "5139_left.jpeg\n",
      "5139_right.jpeg\n",
      "5140_left.jpeg\n",
      "5140_right.jpeg\n",
      "5141_left.jpeg\n",
      "5141_right.jpeg\n"
     ]
    },
    {
     "name": "stderr",
     "output_type": "stream",
     "text": [
      "\r",
      " 58%|█████████████████████████████████████████████▎                                | 3216/5531 [01:02<00:48, 47.56it/s]"
     ]
    },
    {
     "name": "stdout",
     "output_type": "stream",
     "text": [
      "5144_left.jpeg\n",
      "5144_right.jpeg\n",
      "5145_left.jpeg\n",
      "5145_right.jpeg\n",
      "5146_left.jpeg\n",
      "5146_right.jpeg\n"
     ]
    },
    {
     "name": "stderr",
     "output_type": "stream",
     "text": [
      "\r",
      " 58%|█████████████████████████████████████████████▍                                | 3222/5531 [01:03<00:46, 50.11it/s]"
     ]
    },
    {
     "name": "stdout",
     "output_type": "stream",
     "text": [
      "5147_left.jpeg\n",
      "5147_right.jpeg\n",
      "5149_left.jpeg\n",
      "5149_right.jpeg\n",
      "5153_left.jpeg\n",
      "5153_right.jpeg\n",
      "5154_left.jpeg\n",
      "5154_right.jpeg\n"
     ]
    },
    {
     "name": "stderr",
     "output_type": "stream",
     "text": [
      "\r",
      " 58%|█████████████████████████████████████████████▌                                | 3230/5531 [01:03<00:41, 56.12it/s]"
     ]
    },
    {
     "name": "stdout",
     "output_type": "stream",
     "text": [
      "5155_left.jpeg\n",
      "5155_right.jpeg\n",
      "5156_left.jpeg\n",
      "5156_right.jpeg\n",
      "5171_left.jpeg\n",
      "5171_right.jpeg\n",
      "5177_left.jpeg\n",
      "5177_right.jpeg\n"
     ]
    },
    {
     "name": "stderr",
     "output_type": "stream",
     "text": [
      "\r",
      " 59%|█████████████████████████████████████████████▋                                | 3238/5531 [01:03<00:37, 60.97it/s]"
     ]
    },
    {
     "name": "stdout",
     "output_type": "stream",
     "text": [
      "5178_left.jpeg\n",
      "5178_right.jpeg\n",
      "5180_left.jpeg\n",
      "5180_right.jpeg\n",
      "5183_left.jpeg\n",
      "5183_right.jpeg\n",
      "5185_left.jpeg\n"
     ]
    },
    {
     "name": "stderr",
     "output_type": "stream",
     "text": [
      "\r",
      " 59%|█████████████████████████████████████████████▊                                | 3245/5531 [01:03<00:39, 57.68it/s]"
     ]
    },
    {
     "name": "stdout",
     "output_type": "stream",
     "text": [
      "5185_right.jpeg\n",
      "5186_left.jpeg\n",
      "5186_right.jpeg\n",
      "5192_left.jpeg\n",
      "5192_right.jpeg\n",
      "5194_left.jpeg\n",
      "5194_right.jpeg\n"
     ]
    },
    {
     "name": "stderr",
     "output_type": "stream",
     "text": [
      "\r",
      " 59%|█████████████████████████████████████████████▊                                | 3252/5531 [01:03<00:38, 59.85it/s]"
     ]
    },
    {
     "name": "stdout",
     "output_type": "stream",
     "text": [
      "5196_left.jpeg\n",
      "5196_right.jpeg\n",
      "5198_left.jpeg\n",
      "5198_right.jpeg\n",
      "5200_left.jpeg\n",
      "5200_right.jpeg\n",
      "5201_left.jpeg\n",
      "5201_right.jpeg\n",
      "5203_left.jpeg\n"
     ]
    },
    {
     "name": "stderr",
     "output_type": "stream",
     "text": [
      "\r",
      " 59%|█████████████████████████████████████████████▉                                | 3261/5531 [01:03<00:35, 64.44it/s]"
     ]
    },
    {
     "name": "stdout",
     "output_type": "stream",
     "text": [
      "5203_right.jpeg\n",
      "5205_left.jpeg\n",
      "5205_right.jpeg\n",
      "5209_left.jpeg\n",
      "5209_right.jpeg\n",
      "5212_left.jpeg\n",
      "5212_right.jpeg\n",
      "5213_left.jpeg\n"
     ]
    },
    {
     "name": "stderr",
     "output_type": "stream",
     "text": [
      "\r",
      " 59%|██████████████████████████████████████████████                                | 3269/5531 [01:03<00:33, 67.27it/s]"
     ]
    },
    {
     "name": "stdout",
     "output_type": "stream",
     "text": [
      "5213_right.jpeg\n",
      "5215_left.jpeg\n",
      "5215_right.jpeg\n",
      "5219_left.jpeg\n",
      "5219_right.jpeg\n",
      "5220_left.jpeg\n",
      "5220_right.jpeg\n"
     ]
    },
    {
     "name": "stderr",
     "output_type": "stream",
     "text": [
      "\r",
      " 59%|██████████████████████████████████████████████▏                               | 3276/5531 [01:03<00:34, 64.73it/s]"
     ]
    },
    {
     "name": "stdout",
     "output_type": "stream",
     "text": [
      "5227_left.jpeg\n",
      "5227_right.jpeg\n",
      "5233_left.jpeg\n",
      "5233_right.jpeg\n",
      "5237_left.jpeg\n",
      "5237_right.jpeg\n",
      "5240_left.jpeg\n"
     ]
    },
    {
     "name": "stderr",
     "output_type": "stream",
     "text": [
      "\r",
      " 59%|██████████████████████████████████████████████▎                               | 3283/5531 [01:03<00:34, 66.09it/s]"
     ]
    },
    {
     "name": "stdout",
     "output_type": "stream",
     "text": [
      "5240_right.jpeg\n",
      "5241_left.jpeg\n",
      "5241_right.jpeg\n",
      "5243_left.jpeg\n",
      "5243_right.jpeg\n",
      "5245_left.jpeg\n",
      "5245_right.jpeg\n"
     ]
    },
    {
     "name": "stderr",
     "output_type": "stream",
     "text": [
      "\r",
      " 59%|██████████████████████████████████████████████▍                               | 3290/5531 [01:04<00:33, 66.88it/s]"
     ]
    },
    {
     "name": "stdout",
     "output_type": "stream",
     "text": [
      "5250_left.jpeg\n",
      "5250_right.jpeg\n",
      "5255_left.jpeg\n",
      "5255_right.jpeg\n",
      "5257_left.jpeg\n",
      "5257_right.jpeg\n",
      "5258_left.jpeg\n",
      "5258_right.jpeg\n",
      "5259_left.jpeg\n"
     ]
    },
    {
     "name": "stderr",
     "output_type": "stream",
     "text": [
      "\r",
      " 60%|██████████████████████████████████████████████▌                               | 3299/5531 [01:04<00:33, 66.57it/s]"
     ]
    },
    {
     "name": "stdout",
     "output_type": "stream",
     "text": [
      "5259_right.jpeg\n",
      "5260_left.jpeg\n",
      "5260_right.jpeg\n",
      "5267_left.jpeg\n",
      "5267_right.jpeg\n",
      "5274_left.jpeg\n",
      "5274_right.jpeg\n"
     ]
    },
    {
     "name": "stderr",
     "output_type": "stream",
     "text": [
      "\r",
      " 60%|██████████████████████████████████████████████▌                               | 3306/5531 [01:04<00:34, 64.99it/s]"
     ]
    },
    {
     "name": "stdout",
     "output_type": "stream",
     "text": [
      "5275_left.jpeg\n",
      "5275_right.jpeg\n",
      "5276_left.jpeg\n",
      "5276_right.jpeg\n",
      "5283_left.jpeg\n",
      "5283_right.jpeg\n",
      "5284_left.jpeg\n",
      "5284_right.jpeg\n"
     ]
    },
    {
     "name": "stderr",
     "output_type": "stream",
     "text": [
      "\r",
      " 60%|██████████████████████████████████████████████▋                               | 3314/5531 [01:04<00:33, 66.68it/s]"
     ]
    },
    {
     "name": "stdout",
     "output_type": "stream",
     "text": [
      "5285_left.jpeg\n",
      "5285_right.jpeg\n",
      "5288_left.jpeg\n",
      "5288_right.jpeg\n",
      "5291_left.jpeg\n",
      "5291_right.jpeg\n",
      "5293_left.jpeg\n"
     ]
    },
    {
     "name": "stderr",
     "output_type": "stream",
     "text": [
      "\r",
      " 60%|██████████████████████████████████████████████▊                               | 3321/5531 [01:04<00:33, 66.92it/s]"
     ]
    },
    {
     "name": "stdout",
     "output_type": "stream",
     "text": [
      "5293_right.jpeg\n",
      "5295_left.jpeg\n",
      "5295_right.jpeg\n",
      "5296_left.jpeg\n",
      "5296_right.jpeg\n",
      "5298_left.jpeg\n",
      "5298_right.jpeg\n",
      "5303_left.jpeg\n"
     ]
    },
    {
     "name": "stderr",
     "output_type": "stream",
     "text": [
      "\r",
      " 60%|██████████████████████████████████████████████▉                               | 3329/5531 [01:04<00:32, 68.09it/s]"
     ]
    },
    {
     "name": "stdout",
     "output_type": "stream",
     "text": [
      "5303_right.jpeg\n",
      "5304_left.jpeg\n",
      "5304_right.jpeg\n",
      "5305_left.jpeg\n",
      "5305_right.jpeg\n",
      "5308_left.jpeg\n",
      "5308_right.jpeg\n",
      "5309_left.jpeg\n"
     ]
    },
    {
     "name": "stderr",
     "output_type": "stream",
     "text": [
      "\r",
      " 60%|███████████████████████████████████████████████                               | 3337/5531 [01:04<00:30, 71.14it/s]"
     ]
    },
    {
     "name": "stdout",
     "output_type": "stream",
     "text": [
      "5309_right.jpeg\n",
      "5315_left.jpeg\n",
      "5315_right.jpeg\n",
      "5316_left.jpeg\n",
      "5316_right.jpeg\n",
      "5318_left.jpeg\n",
      "5318_right.jpeg\n",
      "5319_left.jpeg\n"
     ]
    },
    {
     "name": "stderr",
     "output_type": "stream",
     "text": [
      "\r",
      " 60%|███████████████████████████████████████████████▏                              | 3345/5531 [01:04<00:30, 71.86it/s]"
     ]
    },
    {
     "name": "stdout",
     "output_type": "stream",
     "text": [
      "5319_right.jpeg\n",
      "5324_left.jpeg\n",
      "5324_right.jpeg\n",
      "5329_left.jpeg\n",
      "5329_right.jpeg\n",
      "5332_left.jpeg\n",
      "5332_right.jpeg\n",
      "5336_left.jpeg\n"
     ]
    },
    {
     "name": "stderr",
     "output_type": "stream",
     "text": [
      "\r",
      " 61%|███████████████████████████████████████████████▎                              | 3353/5531 [01:04<00:30, 70.45it/s]"
     ]
    },
    {
     "name": "stdout",
     "output_type": "stream",
     "text": [
      "5336_right.jpeg\n",
      "5340_left.jpeg\n",
      "5340_right.jpeg\n",
      "5342_left.jpeg\n",
      "5342_right.jpeg\n",
      "5343_left.jpeg\n",
      "5343_right.jpeg\n",
      "5344_left.jpeg\n"
     ]
    },
    {
     "name": "stderr",
     "output_type": "stream",
     "text": [
      "\r",
      " 61%|███████████████████████████████████████████████▍                              | 3361/5531 [01:05<00:29, 72.53it/s]"
     ]
    },
    {
     "name": "stdout",
     "output_type": "stream",
     "text": [
      "5344_right.jpeg\n",
      "5346_left.jpeg\n",
      "5346_right.jpeg\n",
      "5349_left.jpeg\n",
      "5349_right.jpeg\n",
      "5352_left.jpeg\n",
      "5352_right.jpeg\n",
      "5355_left.jpeg\n"
     ]
    },
    {
     "name": "stderr",
     "output_type": "stream",
     "text": [
      "\r",
      " 61%|███████████████████████████████████████████████▌                              | 3369/5531 [01:05<00:32, 67.01it/s]"
     ]
    },
    {
     "name": "stdout",
     "output_type": "stream",
     "text": [
      "5355_right.jpeg\n",
      "5358_left.jpeg\n",
      "5358_right.jpeg\n",
      "5361_left.jpeg\n",
      "5361_right.jpeg\n",
      "5365_left.jpeg\n",
      "5365_right.jpeg\n"
     ]
    },
    {
     "name": "stderr",
     "output_type": "stream",
     "text": [
      "\r",
      " 61%|███████████████████████████████████████████████▌                              | 3376/5531 [01:05<00:34, 61.83it/s]"
     ]
    },
    {
     "name": "stdout",
     "output_type": "stream",
     "text": [
      "5367_left.jpeg\n",
      "5367_right.jpeg\n",
      "5368_left.jpeg\n",
      "5368_right.jpeg\n",
      "5380_left.jpeg\n",
      "5380_right.jpeg\n",
      "5383_left.jpeg\n"
     ]
    },
    {
     "name": "stderr",
     "output_type": "stream",
     "text": [
      "\r",
      " 61%|███████████████████████████████████████████████▋                              | 3383/5531 [01:05<00:35, 60.47it/s]"
     ]
    },
    {
     "name": "stdout",
     "output_type": "stream",
     "text": [
      "5383_right.jpeg\n",
      "5385_left.jpeg\n",
      "5385_right.jpeg\n",
      "5386_left.jpeg\n",
      "5386_right.jpeg\n",
      "5387_left.jpeg\n",
      "5387_right.jpeg\n"
     ]
    },
    {
     "name": "stderr",
     "output_type": "stream",
     "text": [
      "\r",
      " 61%|███████████████████████████████████████████████▊                              | 3390/5531 [01:05<00:36, 57.94it/s]"
     ]
    },
    {
     "name": "stdout",
     "output_type": "stream",
     "text": [
      "5391_left.jpeg\n",
      "5391_right.jpeg\n",
      "5392_left.jpeg\n",
      "5392_right.jpeg\n",
      "5394_left.jpeg\n",
      "5394_right.jpeg\n"
     ]
    },
    {
     "name": "stderr",
     "output_type": "stream",
     "text": [
      "\r",
      " 61%|███████████████████████████████████████████████▉                              | 3396/5531 [01:05<00:37, 57.25it/s]"
     ]
    },
    {
     "name": "stdout",
     "output_type": "stream",
     "text": [
      "5396_left.jpeg\n",
      "5396_right.jpeg\n",
      "5404_left.jpeg\n",
      "5404_right.jpeg\n",
      "5406_left.jpeg\n",
      "5406_right.jpeg\n"
     ]
    },
    {
     "name": "stderr",
     "output_type": "stream",
     "text": [
      "\r",
      " 62%|███████████████████████████████████████████████▉                              | 3402/5531 [01:05<00:38, 55.06it/s]"
     ]
    },
    {
     "name": "stdout",
     "output_type": "stream",
     "text": [
      "5407_left.jpeg\n",
      "5407_right.jpeg\n",
      "5409_left.jpeg\n",
      "5409_right.jpeg\n",
      "5410_left.jpeg\n",
      "5410_right.jpeg\n"
     ]
    },
    {
     "name": "stderr",
     "output_type": "stream",
     "text": [
      "\r",
      " 62%|████████████████████████████████████████████████                              | 3408/5531 [01:05<00:41, 51.16it/s]"
     ]
    },
    {
     "name": "stdout",
     "output_type": "stream",
     "text": [
      "5420_left.jpeg\n",
      "5420_right.jpeg\n",
      "5421_left.jpeg\n",
      "5421_right.jpeg\n",
      "5423_left.jpeg\n",
      "5423_right.jpeg\n"
     ]
    },
    {
     "name": "stderr",
     "output_type": "stream",
     "text": [
      "\r",
      " 62%|████████████████████████████████████████████████▏                             | 3414/5531 [01:06<00:44, 47.82it/s]"
     ]
    },
    {
     "name": "stdout",
     "output_type": "stream",
     "text": [
      "5425_left.jpeg\n",
      "5425_right.jpeg\n",
      "5430_left.jpeg\n",
      "5430_right.jpeg\n",
      "5431_left.jpeg\n",
      "5431_right.jpeg\n"
     ]
    },
    {
     "name": "stderr",
     "output_type": "stream",
     "text": [
      "\r",
      " 62%|████████████████████████████████████████████████▏                             | 3420/5531 [01:06<00:44, 47.91it/s]"
     ]
    },
    {
     "name": "stdout",
     "output_type": "stream",
     "text": [
      "5435_left.jpeg\n",
      "5435_right.jpeg\n",
      "5436_left.jpeg\n",
      "5436_right.jpeg\n",
      "5437_left.jpeg\n",
      "5437_right.jpeg\n"
     ]
    },
    {
     "name": "stderr",
     "output_type": "stream",
     "text": [
      "\r",
      " 62%|████████████████████████████████████████████████▎                             | 3426/5531 [01:06<00:41, 50.77it/s]"
     ]
    },
    {
     "name": "stdout",
     "output_type": "stream",
     "text": [
      "5441_left.jpeg\n",
      "5441_right.jpeg\n",
      "5443_left.jpeg\n",
      "5443_right.jpeg\n",
      "5444_left.jpeg\n",
      "5444_right.jpeg\n"
     ]
    },
    {
     "name": "stderr",
     "output_type": "stream",
     "text": [
      "\r",
      " 62%|████████████████████████████████████████████████▍                             | 3432/5531 [01:06<00:40, 51.35it/s]"
     ]
    },
    {
     "name": "stdout",
     "output_type": "stream",
     "text": [
      "5448_left.jpeg\n",
      "5448_right.jpeg\n",
      "5453_left.jpeg\n",
      "5453_right.jpeg\n",
      "5454_left.jpeg\n",
      "5454_right.jpeg\n"
     ]
    },
    {
     "name": "stderr",
     "output_type": "stream",
     "text": [
      "\r",
      " 62%|████████████████████████████████████████████████▍                             | 3438/5531 [01:06<00:39, 52.59it/s]"
     ]
    },
    {
     "name": "stdout",
     "output_type": "stream",
     "text": [
      "5456_left.jpeg\n",
      "5456_right.jpeg\n",
      "5457_left.jpeg\n",
      "5457_right.jpeg\n",
      "5459_left.jpeg\n",
      "5459_right.jpeg\n"
     ]
    },
    {
     "name": "stderr",
     "output_type": "stream",
     "text": [
      "\r",
      " 62%|████████████████████████████████████████████████▌                             | 3444/5531 [01:06<00:42, 48.68it/s]"
     ]
    },
    {
     "name": "stdout",
     "output_type": "stream",
     "text": [
      "5465_left.jpeg\n",
      "5465_right.jpeg\n",
      "5467_left.jpeg\n",
      "5467_right.jpeg\n",
      "5468_left.jpeg\n",
      "5468_right.jpeg\n"
     ]
    },
    {
     "name": "stderr",
     "output_type": "stream",
     "text": [
      "\r",
      " 62%|████████████████████████████████████████████████▋                             | 3450/5531 [01:06<00:41, 49.72it/s]"
     ]
    },
    {
     "name": "stdout",
     "output_type": "stream",
     "text": [
      "5471_left.jpeg\n",
      "5471_right.jpeg\n",
      "5472_left.jpeg\n",
      "5472_right.jpeg\n",
      "5473_left.jpeg\n",
      "5473_right.jpeg\n"
     ]
    },
    {
     "name": "stderr",
     "output_type": "stream",
     "text": [
      "\r",
      " 62%|████████████████████████████████████████████████▋                             | 3456/5531 [01:06<00:41, 50.47it/s]"
     ]
    },
    {
     "name": "stdout",
     "output_type": "stream",
     "text": [
      "5475_left.jpeg\n",
      "5475_right.jpeg\n",
      "5482_left.jpeg\n",
      "5482_right.jpeg\n",
      "5488_left.jpeg\n",
      "5488_right.jpeg\n"
     ]
    },
    {
     "name": "stderr",
     "output_type": "stream",
     "text": [
      "\r",
      " 63%|████████████████████████████████████████████████▊                             | 3462/5531 [01:07<00:39, 52.89it/s]"
     ]
    },
    {
     "name": "stdout",
     "output_type": "stream",
     "text": [
      "5490_left.jpeg\n",
      "5490_right.jpeg\n",
      "5492_left.jpeg\n",
      "5492_right.jpeg\n",
      "5496_left.jpeg\n",
      "5496_right.jpeg\n"
     ]
    },
    {
     "name": "stderr",
     "output_type": "stream",
     "text": [
      "\r",
      " 63%|████████████████████████████████████████████████▉                             | 3468/5531 [01:07<00:38, 53.28it/s]"
     ]
    },
    {
     "name": "stdout",
     "output_type": "stream",
     "text": [
      "5497_left.jpeg\n",
      "5497_right.jpeg\n",
      "5500_left.jpeg\n",
      "5500_right.jpeg\n",
      "5501_left.jpeg\n",
      "5501_right.jpeg\n"
     ]
    },
    {
     "name": "stderr",
     "output_type": "stream",
     "text": [
      "\r",
      " 63%|████████████████████████████████████████████████▉                             | 3474/5531 [01:07<00:38, 54.13it/s]"
     ]
    },
    {
     "name": "stdout",
     "output_type": "stream",
     "text": [
      "5505_left.jpeg\n",
      "5505_right.jpeg\n",
      "5506_left.jpeg\n",
      "5506_right.jpeg\n",
      "5508_left.jpeg\n",
      "5508_right.jpeg\n"
     ]
    },
    {
     "name": "stderr",
     "output_type": "stream",
     "text": [
      "\r",
      " 63%|█████████████████████████████████████████████████                             | 3480/5531 [01:07<00:39, 51.37it/s]"
     ]
    },
    {
     "name": "stdout",
     "output_type": "stream",
     "text": [
      "5511_left.jpeg\n",
      "5511_right.jpeg\n",
      "5512_left.jpeg\n",
      "5512_right.jpeg\n",
      "5513_left.jpeg\n",
      "5513_right.jpeg\n"
     ]
    },
    {
     "name": "stderr",
     "output_type": "stream",
     "text": [
      "\r",
      " 63%|█████████████████████████████████████████████████▏                            | 3486/5531 [01:07<00:40, 50.87it/s]"
     ]
    },
    {
     "name": "stdout",
     "output_type": "stream",
     "text": [
      "5514_left.jpeg\n",
      "5514_right.jpeg\n",
      "5515_left.jpeg\n",
      "5515_right.jpeg\n",
      "5516_left.jpeg\n",
      "5516_right.jpeg\n"
     ]
    },
    {
     "name": "stderr",
     "output_type": "stream",
     "text": [
      "\r",
      " 63%|█████████████████████████████████████████████████▏                            | 3492/5531 [01:07<00:39, 51.42it/s]"
     ]
    },
    {
     "name": "stdout",
     "output_type": "stream",
     "text": [
      "5520_left.jpeg\n",
      "5520_right.jpeg\n",
      "5521_left.jpeg\n",
      "5521_right.jpeg\n",
      "5523_left.jpeg\n",
      "5523_right.jpeg\n"
     ]
    },
    {
     "name": "stderr",
     "output_type": "stream",
     "text": [
      "\r",
      " 63%|█████████████████████████████████████████████████▎                            | 3498/5531 [01:07<00:38, 52.64it/s]"
     ]
    },
    {
     "name": "stdout",
     "output_type": "stream",
     "text": [
      "5525_left.jpeg\n",
      "5525_right.jpeg\n",
      "5526_left.jpeg\n",
      "5526_right.jpeg\n",
      "5530_left.jpeg\n",
      "5530_right.jpeg\n"
     ]
    },
    {
     "name": "stderr",
     "output_type": "stream",
     "text": [
      "\r",
      " 63%|█████████████████████████████████████████████████▍                            | 3504/5531 [01:07<00:39, 51.86it/s]"
     ]
    },
    {
     "name": "stdout",
     "output_type": "stream",
     "text": [
      "5533_left.jpeg\n",
      "5533_right.jpeg\n",
      "5534_left.jpeg\n",
      "5534_right.jpeg\n",
      "5537_left.jpeg\n",
      "5537_right.jpeg\n"
     ]
    },
    {
     "name": "stderr",
     "output_type": "stream",
     "text": [
      "\r",
      " 63%|█████████████████████████████████████████████████▍                            | 3510/5531 [01:07<00:37, 53.52it/s]"
     ]
    },
    {
     "name": "stdout",
     "output_type": "stream",
     "text": [
      "5538_left.jpeg\n",
      "5538_right.jpeg\n",
      "5540_left.jpeg\n",
      "5540_right.jpeg\n",
      "5541_left.jpeg\n",
      "5541_right.jpeg\n",
      "5542_left.jpeg\n"
     ]
    },
    {
     "name": "stderr",
     "output_type": "stream",
     "text": [
      "\r",
      " 64%|█████████████████████████████████████████████████▌                            | 3517/5531 [01:08<00:36, 55.84it/s]"
     ]
    },
    {
     "name": "stdout",
     "output_type": "stream",
     "text": [
      "5542_right.jpeg\n",
      "5543_left.jpeg\n",
      "5543_right.jpeg\n",
      "5558_left.jpeg\n",
      "5558_right.jpeg\n",
      "5559_left.jpeg\n"
     ]
    },
    {
     "name": "stderr",
     "output_type": "stream",
     "text": [
      "\r",
      " 64%|█████████████████████████████████████████████████▋                            | 3523/5531 [01:08<00:36, 55.64it/s]"
     ]
    },
    {
     "name": "stdout",
     "output_type": "stream",
     "text": [
      "5559_right.jpeg\n",
      "5562_left.jpeg\n",
      "5562_right.jpeg\n",
      "5563_left.jpeg\n",
      "5563_right.jpeg\n",
      "5569_left.jpeg\n"
     ]
    },
    {
     "name": "stderr",
     "output_type": "stream",
     "text": [
      "\r",
      " 64%|█████████████████████████████████████████████████▊                            | 3529/5531 [01:08<00:36, 55.51it/s]"
     ]
    },
    {
     "name": "stdout",
     "output_type": "stream",
     "text": [
      "5569_right.jpeg\n",
      "5570_left.jpeg\n",
      "5570_right.jpeg\n",
      "5572_left.jpeg\n",
      "5572_right.jpeg\n",
      "5573_left.jpeg\n"
     ]
    },
    {
     "name": "stderr",
     "output_type": "stream",
     "text": [
      "\r",
      " 64%|█████████████████████████████████████████████████▊                            | 3535/5531 [01:08<00:35, 55.72it/s]"
     ]
    },
    {
     "name": "stdout",
     "output_type": "stream",
     "text": [
      "5573_right.jpeg\n",
      "5577_left.jpeg\n",
      "5577_right.jpeg\n",
      "5579_left.jpeg\n",
      "5579_right.jpeg\n",
      "5581_left.jpeg\n"
     ]
    },
    {
     "name": "stderr",
     "output_type": "stream",
     "text": [
      "\r",
      " 64%|█████████████████████████████████████████████████▉                            | 3541/5531 [01:08<00:35, 56.03it/s]"
     ]
    },
    {
     "name": "stdout",
     "output_type": "stream",
     "text": [
      "5581_right.jpeg\n",
      "5589_left.jpeg\n",
      "5589_right.jpeg\n",
      "5590_left.jpeg\n",
      "5590_right.jpeg\n",
      "5592_left.jpeg\n"
     ]
    },
    {
     "name": "stderr",
     "output_type": "stream",
     "text": [
      "\r",
      " 64%|██████████████████████████████████████████████████                            | 3547/5531 [01:08<00:39, 50.44it/s]"
     ]
    },
    {
     "name": "stdout",
     "output_type": "stream",
     "text": [
      "5592_right.jpeg\n",
      "5595_left.jpeg\n",
      "5595_right.jpeg\n",
      "5596_left.jpeg\n",
      "5596_right.jpeg\n",
      "5598_left.jpeg\n",
      "5598_right.jpeg\n"
     ]
    },
    {
     "name": "stderr",
     "output_type": "stream",
     "text": [
      "\r",
      " 64%|██████████████████████████████████████████████████                            | 3554/5531 [01:08<00:37, 52.97it/s]"
     ]
    },
    {
     "name": "stdout",
     "output_type": "stream",
     "text": [
      "5605_left.jpeg\n",
      "5605_right.jpeg\n",
      "5606_left.jpeg\n",
      "5606_right.jpeg\n",
      "5608_left.jpeg\n",
      "5608_right.jpeg\n"
     ]
    },
    {
     "name": "stderr",
     "output_type": "stream",
     "text": [
      "\r",
      " 64%|██████████████████████████████████████████████████▏                           | 3560/5531 [01:08<00:36, 54.05it/s]"
     ]
    },
    {
     "name": "stdout",
     "output_type": "stream",
     "text": [
      "5610_left.jpeg\n",
      "5610_right.jpeg\n",
      "5613_left.jpeg\n",
      "5613_right.jpeg\n",
      "5615_left.jpeg\n",
      "5615_right.jpeg\n"
     ]
    },
    {
     "name": "stderr",
     "output_type": "stream",
     "text": [
      "\r",
      " 64%|██████████████████████████████████████████████████▎                           | 3566/5531 [01:08<00:35, 55.60it/s]"
     ]
    },
    {
     "name": "stdout",
     "output_type": "stream",
     "text": [
      "5618_left.jpeg\n",
      "5618_right.jpeg\n",
      "5622_left.jpeg\n",
      "5622_right.jpeg\n",
      "5623_left.jpeg\n",
      "5623_right.jpeg\n",
      "5626_left.jpeg\n"
     ]
    },
    {
     "name": "stderr",
     "output_type": "stream",
     "text": [
      "\r",
      " 65%|██████████████████████████████████████████████████▍                           | 3573/5531 [01:09<00:34, 56.71it/s]"
     ]
    },
    {
     "name": "stdout",
     "output_type": "stream",
     "text": [
      "5626_right.jpeg\n",
      "5632_left.jpeg\n",
      "5632_right.jpeg\n",
      "5633_left.jpeg\n",
      "5633_right.jpeg\n",
      "5640_left.jpeg\n"
     ]
    },
    {
     "name": "stderr",
     "output_type": "stream",
     "text": [
      "\r",
      " 65%|██████████████████████████████████████████████████▍                           | 3579/5531 [01:09<00:33, 57.54it/s]"
     ]
    },
    {
     "name": "stdout",
     "output_type": "stream",
     "text": [
      "5640_right.jpeg\n",
      "5641_left.jpeg\n",
      "5641_right.jpeg\n",
      "5645_left.jpeg\n",
      "5645_right.jpeg\n",
      "5646_left.jpeg\n"
     ]
    },
    {
     "name": "stderr",
     "output_type": "stream",
     "text": [
      "\r",
      " 65%|██████████████████████████████████████████████████▌                           | 3585/5531 [01:09<00:37, 52.23it/s]"
     ]
    },
    {
     "name": "stdout",
     "output_type": "stream",
     "text": [
      "5646_right.jpeg\n",
      "5647_left.jpeg\n",
      "5647_right.jpeg\n",
      "5650_left.jpeg\n",
      "5650_right.jpeg\n",
      "5652_left.jpeg\n"
     ]
    },
    {
     "name": "stderr",
     "output_type": "stream",
     "text": [
      "\r",
      " 65%|██████████████████████████████████████████████████▋                           | 3591/5531 [01:09<00:37, 52.12it/s]"
     ]
    },
    {
     "name": "stdout",
     "output_type": "stream",
     "text": [
      "5652_right.jpeg\n",
      "5655_left.jpeg\n",
      "5655_right.jpeg\n",
      "5657_left.jpeg\n",
      "5657_right.jpeg\n",
      "5659_left.jpeg\n"
     ]
    },
    {
     "name": "stderr",
     "output_type": "stream",
     "text": [
      "\r",
      " 65%|██████████████████████████████████████████████████▋                           | 3597/5531 [01:09<00:36, 52.59it/s]"
     ]
    },
    {
     "name": "stdout",
     "output_type": "stream",
     "text": [
      "5659_right.jpeg\n",
      "5664_left.jpeg\n",
      "5664_right.jpeg\n",
      "5667_left.jpeg\n",
      "5667_right.jpeg\n",
      "5668_left.jpeg\n"
     ]
    },
    {
     "name": "stderr",
     "output_type": "stream",
     "text": [
      "\r",
      " 65%|██████████████████████████████████████████████████▊                           | 3603/5531 [01:09<00:36, 53.06it/s]"
     ]
    },
    {
     "name": "stdout",
     "output_type": "stream",
     "text": [
      "5668_right.jpeg\n",
      "5670_left.jpeg\n",
      "5670_right.jpeg\n",
      "5676_left.jpeg\n",
      "5676_right.jpeg\n",
      "5679_left.jpeg\n"
     ]
    },
    {
     "name": "stderr",
     "output_type": "stream",
     "text": [
      "\r",
      " 65%|██████████████████████████████████████████████████▉                           | 3609/5531 [01:09<00:35, 53.97it/s]"
     ]
    },
    {
     "name": "stdout",
     "output_type": "stream",
     "text": [
      "5679_right.jpeg\n",
      "5680_left.jpeg\n",
      "5680_right.jpeg\n",
      "5685_left.jpeg\n",
      "5685_right.jpeg\n",
      "5690_left.jpeg\n"
     ]
    },
    {
     "name": "stderr",
     "output_type": "stream",
     "text": [
      "\r",
      " 65%|██████████████████████████████████████████████████▉                           | 3615/5531 [01:09<00:34, 54.78it/s]"
     ]
    },
    {
     "name": "stdout",
     "output_type": "stream",
     "text": [
      "5690_right.jpeg\n",
      "5692_left.jpeg\n",
      "5692_right.jpeg\n",
      "5693_left.jpeg\n",
      "5693_right.jpeg\n",
      "5694_left.jpeg\n",
      "5694_right.jpeg\n"
     ]
    },
    {
     "name": "stderr",
     "output_type": "stream",
     "text": [
      "\r",
      " 65%|███████████████████████████████████████████████████                           | 3622/5531 [01:10<00:34, 56.11it/s]"
     ]
    },
    {
     "name": "stdout",
     "output_type": "stream",
     "text": [
      "5695_left.jpeg\n",
      "5695_right.jpeg\n",
      "5696_left.jpeg\n",
      "5696_right.jpeg\n",
      "5697_left.jpeg\n",
      "5697_right.jpeg\n"
     ]
    },
    {
     "name": "stderr",
     "output_type": "stream",
     "text": [
      "\r",
      " 66%|███████████████████████████████████████████████████▏                          | 3628/5531 [01:10<00:37, 50.36it/s]"
     ]
    },
    {
     "name": "stdout",
     "output_type": "stream",
     "text": [
      "5700_left.jpeg\n",
      "5700_right.jpeg\n",
      "5702_left.jpeg\n",
      "5702_right.jpeg\n",
      "5708_left.jpeg\n",
      "5708_right.jpeg\n"
     ]
    },
    {
     "name": "stderr",
     "output_type": "stream",
     "text": [
      "\r",
      " 66%|███████████████████████████████████████████████████▏                          | 3634/5531 [01:10<00:36, 52.40it/s]"
     ]
    },
    {
     "name": "stdout",
     "output_type": "stream",
     "text": [
      "5710_left.jpeg\n",
      "5710_right.jpeg\n",
      "5713_left.jpeg\n",
      "5713_right.jpeg\n",
      "5715_left.jpeg\n",
      "5715_right.jpeg\n"
     ]
    },
    {
     "name": "stderr",
     "output_type": "stream",
     "text": [
      "\r",
      " 66%|███████████████████████████████████████████████████▎                          | 3640/5531 [01:10<00:35, 52.65it/s]"
     ]
    },
    {
     "name": "stdout",
     "output_type": "stream",
     "text": [
      "5720_left.jpeg\n",
      "5720_right.jpeg\n",
      "5725_left.jpeg\n",
      "5725_right.jpeg\n",
      "5728_left.jpeg\n",
      "5728_right.jpeg\n"
     ]
    },
    {
     "name": "stderr",
     "output_type": "stream",
     "text": [
      "\r",
      " 66%|███████████████████████████████████████████████████▍                          | 3646/5531 [01:10<00:40, 46.68it/s]"
     ]
    },
    {
     "name": "stdout",
     "output_type": "stream",
     "text": [
      "5729_left.jpeg\n",
      "5729_right.jpeg\n",
      "5732_left.jpeg\n",
      "5732_right.jpeg\n",
      "5738_left.jpeg\n",
      "5738_right.jpeg\n"
     ]
    },
    {
     "name": "stderr",
     "output_type": "stream",
     "text": [
      "\r",
      " 66%|███████████████████████████████████████████████████▌                          | 3652/5531 [01:10<00:38, 49.30it/s]"
     ]
    },
    {
     "name": "stdout",
     "output_type": "stream",
     "text": [
      "5740_left.jpeg\n",
      "5740_right.jpeg\n",
      "5742_left.jpeg\n",
      "5742_right.jpeg\n",
      "5743_left.jpeg\n",
      "5743_right.jpeg\n",
      "5750_left.jpeg\n"
     ]
    },
    {
     "name": "stderr",
     "output_type": "stream",
     "text": [
      "\r",
      " 66%|███████████████████████████████████████████████████▌                          | 3659/5531 [01:10<00:35, 52.55it/s]"
     ]
    },
    {
     "name": "stdout",
     "output_type": "stream",
     "text": [
      "5750_right.jpeg\n",
      "5752_left.jpeg\n",
      "5752_right.jpeg\n",
      "5757_left.jpeg\n",
      "5757_right.jpeg\n",
      "5758_left.jpeg\n"
     ]
    },
    {
     "name": "stderr",
     "output_type": "stream",
     "text": [
      "\r",
      " 66%|███████████████████████████████████████████████████▋                          | 3665/5531 [01:10<00:34, 54.18it/s]"
     ]
    },
    {
     "name": "stdout",
     "output_type": "stream",
     "text": [
      "5758_right.jpeg\n",
      "5759_left.jpeg\n",
      "5759_right.jpeg\n",
      "5763_left.jpeg\n",
      "5763_right.jpeg\n",
      "5766_left.jpeg\n",
      "5766_right.jpeg\n"
     ]
    },
    {
     "name": "stderr",
     "output_type": "stream",
     "text": [
      "\r",
      " 66%|███████████████████████████████████████████████████▊                          | 3672/5531 [01:10<00:32, 56.34it/s]"
     ]
    },
    {
     "name": "stdout",
     "output_type": "stream",
     "text": [
      "5769_left.jpeg\n",
      "5769_right.jpeg\n",
      "5770_left.jpeg\n",
      "5770_right.jpeg\n",
      "5772_left.jpeg\n",
      "5772_right.jpeg\n"
     ]
    },
    {
     "name": "stderr",
     "output_type": "stream",
     "text": [
      "\r",
      " 66%|███████████████████████████████████████████████████▊                          | 3678/5531 [01:11<00:32, 56.95it/s]"
     ]
    },
    {
     "name": "stdout",
     "output_type": "stream",
     "text": [
      "5773_left.jpeg\n",
      "5773_right.jpeg\n",
      "5776_left.jpeg\n",
      "5776_right.jpeg\n",
      "5778_left.jpeg\n",
      "5778_right.jpeg\n"
     ]
    },
    {
     "name": "stderr",
     "output_type": "stream",
     "text": [
      "\r",
      " 67%|███████████████████████████████████████████████████▉                          | 3684/5531 [01:11<00:33, 55.17it/s]"
     ]
    },
    {
     "name": "stdout",
     "output_type": "stream",
     "text": [
      "5779_left.jpeg\n",
      "5779_right.jpeg\n",
      "5780_left.jpeg\n",
      "5780_right.jpeg\n",
      "5781_left.jpeg\n",
      "5781_right.jpeg\n",
      "5782_left.jpeg\n"
     ]
    },
    {
     "name": "stderr",
     "output_type": "stream",
     "text": [
      "\r",
      " 67%|████████████████████████████████████████████████████                          | 3691/5531 [01:11<00:32, 56.80it/s]"
     ]
    },
    {
     "name": "stdout",
     "output_type": "stream",
     "text": [
      "5782_right.jpeg\n",
      "5783_left.jpeg\n",
      "5783_right.jpeg\n",
      "5784_left.jpeg\n",
      "5784_right.jpeg\n",
      "5788_left.jpeg\n"
     ]
    },
    {
     "name": "stderr",
     "output_type": "stream",
     "text": [
      "\r",
      " 67%|████████████████████████████████████████████████████▏                         | 3697/5531 [01:11<00:31, 57.44it/s]"
     ]
    },
    {
     "name": "stdout",
     "output_type": "stream",
     "text": [
      "5788_right.jpeg\n",
      "5789_left.jpeg\n",
      "5789_right.jpeg\n",
      "5790_left.jpeg\n",
      "5790_right.jpeg\n",
      "5791_left.jpeg\n"
     ]
    },
    {
     "name": "stderr",
     "output_type": "stream",
     "text": [
      "\r",
      " 67%|████████████████████████████████████████████████████▏                         | 3703/5531 [01:11<00:35, 52.04it/s]"
     ]
    },
    {
     "name": "stdout",
     "output_type": "stream",
     "text": [
      "5791_right.jpeg\n",
      "5792_left.jpeg\n",
      "5792_right.jpeg\n",
      "5793_left.jpeg\n",
      "5793_right.jpeg\n",
      "5795_left.jpeg\n"
     ]
    },
    {
     "name": "stderr",
     "output_type": "stream",
     "text": [
      "\r",
      " 67%|████████████████████████████████████████████████████▎                         | 3709/5531 [01:11<00:39, 46.66it/s]"
     ]
    },
    {
     "name": "stdout",
     "output_type": "stream",
     "text": [
      "5795_right.jpeg\n",
      "5800_left.jpeg\n",
      "5800_right.jpeg\n",
      "5803_left.jpeg\n",
      "5803_right.jpeg\n",
      "5804_left.jpeg\n"
     ]
    },
    {
     "name": "stderr",
     "output_type": "stream",
     "text": [
      "\r",
      " 67%|████████████████████████████████████████████████████▍                         | 3715/5531 [01:11<00:37, 47.99it/s]"
     ]
    },
    {
     "name": "stdout",
     "output_type": "stream",
     "text": [
      "5804_right.jpeg\n",
      "5806_left.jpeg\n",
      "5806_right.jpeg\n",
      "5807_left.jpeg\n",
      "5807_right.jpeg\n",
      "5811_left.jpeg\n"
     ]
    },
    {
     "name": "stderr",
     "output_type": "stream",
     "text": [
      "\r",
      " 67%|████████████████████████████████████████████████████▍                         | 3721/5531 [01:11<00:36, 48.97it/s]"
     ]
    },
    {
     "name": "stdout",
     "output_type": "stream",
     "text": [
      "5811_right.jpeg\n",
      "5812_left.jpeg\n",
      "5812_right.jpeg\n",
      "5813_left.jpeg\n",
      "5813_right.jpeg\n",
      "5814_left.jpeg\n"
     ]
    },
    {
     "name": "stderr",
     "output_type": "stream",
     "text": [
      "\r",
      " 67%|████████████████████████████████████████████████████▌                         | 3727/5531 [01:12<00:36, 49.32it/s]"
     ]
    },
    {
     "name": "stdout",
     "output_type": "stream",
     "text": [
      "5814_right.jpeg\n",
      "5816_left.jpeg\n",
      "5816_right.jpeg\n",
      "5817_left.jpeg\n",
      "5817_right.jpeg\n",
      "5819_left.jpeg\n"
     ]
    },
    {
     "name": "stderr",
     "output_type": "stream",
     "text": [
      "\r",
      " 67%|████████████████████████████████████████████████████▋                         | 3733/5531 [01:12<00:35, 50.81it/s]"
     ]
    },
    {
     "name": "stdout",
     "output_type": "stream",
     "text": [
      "5819_right.jpeg\n",
      "5821_left.jpeg\n",
      "5821_right.jpeg\n",
      "5823_left.jpeg\n",
      "5823_right.jpeg\n",
      "5824_left.jpeg\n",
      "5824_right.jpeg\n",
      "5825_left.jpeg\n"
     ]
    },
    {
     "name": "stderr",
     "output_type": "stream",
     "text": [
      "\r",
      " 68%|████████████████████████████████████████████████████▊                         | 3741/5531 [01:12<00:32, 55.54it/s]"
     ]
    },
    {
     "name": "stdout",
     "output_type": "stream",
     "text": [
      "5825_right.jpeg\n",
      "5827_left.jpeg\n",
      "5827_right.jpeg\n",
      "5831_left.jpeg\n",
      "5831_right.jpeg\n",
      "5833_left.jpeg\n",
      "5833_right.jpeg\n",
      "5835_left.jpeg\n"
     ]
    },
    {
     "name": "stderr",
     "output_type": "stream",
     "text": [
      "\r",
      " 68%|████████████████████████████████████████████████████▊                         | 3749/5531 [01:12<00:29, 59.43it/s]"
     ]
    },
    {
     "name": "stdout",
     "output_type": "stream",
     "text": [
      "5835_right.jpeg\n",
      "5837_left.jpeg\n",
      "5837_right.jpeg\n",
      "5838_left.jpeg\n",
      "5838_right.jpeg\n",
      "5841_left.jpeg\n",
      "5841_right.jpeg\n"
     ]
    },
    {
     "name": "stderr",
     "output_type": "stream",
     "text": [
      "\r",
      " 68%|████████████████████████████████████████████████████▉                         | 3756/5531 [01:12<00:32, 55.36it/s]"
     ]
    },
    {
     "name": "stdout",
     "output_type": "stream",
     "text": [
      "5842_left.jpeg\n",
      "5842_right.jpeg\n",
      "5844_left.jpeg\n",
      "5844_right.jpeg\n",
      "5845_left.jpeg\n",
      "5845_right.jpeg\n"
     ]
    },
    {
     "name": "stderr",
     "output_type": "stream",
     "text": [
      "\r",
      " 68%|█████████████████████████████████████████████████████                         | 3762/5531 [01:12<00:33, 52.84it/s]"
     ]
    },
    {
     "name": "stdout",
     "output_type": "stream",
     "text": [
      "5847_left.jpeg\n",
      "5847_right.jpeg\n",
      "5848_left.jpeg\n",
      "5848_right.jpeg\n",
      "5852_left.jpeg\n",
      "5852_right.jpeg\n",
      "5853_left.jpeg\n",
      "5853_right.jpeg\n",
      "5856_left.jpeg\n",
      "5856_right.jpeg\n"
     ]
    },
    {
     "name": "stderr",
     "output_type": "stream",
     "text": [
      "\r",
      " 68%|█████████████████████████████████████████████████████▏                        | 3772/5531 [01:12<00:28, 60.68it/s]"
     ]
    },
    {
     "name": "stdout",
     "output_type": "stream",
     "text": [
      "5858_left.jpeg\n",
      "5858_right.jpeg\n",
      "5859_left.jpeg\n",
      "5859_right.jpeg\n",
      "5861_left.jpeg\n",
      "5861_right.jpeg\n",
      "5869_left.jpeg\n",
      "5869_right.jpeg\n",
      "5872_left.jpeg\n"
     ]
    },
    {
     "name": "stderr",
     "output_type": "stream",
     "text": [
      "\r",
      " 68%|█████████████████████████████████████████████████████▎                        | 3781/5531 [01:12<00:26, 65.67it/s]"
     ]
    },
    {
     "name": "stdout",
     "output_type": "stream",
     "text": [
      "5872_right.jpeg\n",
      "5874_left.jpeg\n",
      "5874_right.jpeg\n",
      "5876_left.jpeg\n",
      "5876_right.jpeg\n",
      "5877_left.jpeg\n",
      "5877_right.jpeg\n",
      "5878_left.jpeg\n"
     ]
    },
    {
     "name": "stderr",
     "output_type": "stream",
     "text": [
      "\r",
      " 69%|█████████████████████████████████████████████████████▍                        | 3789/5531 [01:12<00:25, 68.04it/s]"
     ]
    },
    {
     "name": "stdout",
     "output_type": "stream",
     "text": [
      "5878_right.jpeg\n",
      "5879_left.jpeg\n",
      "5879_right.jpeg\n",
      "5885_left.jpeg\n",
      "5885_right.jpeg\n",
      "5890_left.jpeg\n",
      "5890_right.jpeg\n",
      "5891_left.jpeg\n"
     ]
    },
    {
     "name": "stderr",
     "output_type": "stream",
     "text": [
      "\r",
      " 69%|█████████████████████████████████████████████████████▌                        | 3797/5531 [01:13<00:27, 62.90it/s]"
     ]
    },
    {
     "name": "stdout",
     "output_type": "stream",
     "text": [
      "5891_right.jpeg\n",
      "5896_left.jpeg\n",
      "5896_right.jpeg\n",
      "5900_left.jpeg\n",
      "5900_right.jpeg\n",
      "5901_left.jpeg\n",
      "5901_right.jpeg\n"
     ]
    },
    {
     "name": "stderr",
     "output_type": "stream",
     "text": [
      "\r",
      " 69%|█████████████████████████████████████████████████████▋                        | 3804/5531 [01:13<00:26, 64.56it/s]"
     ]
    },
    {
     "name": "stdout",
     "output_type": "stream",
     "text": [
      "5902_left.jpeg\n",
      "5902_right.jpeg\n",
      "5906_left.jpeg\n",
      "5906_right.jpeg\n",
      "5911_left.jpeg\n",
      "5911_right.jpeg\n",
      "5913_left.jpeg\n",
      "5913_right.jpeg\n",
      "5914_left.jpeg\n",
      "5914_right.jpeg\n"
     ]
    },
    {
     "name": "stderr",
     "output_type": "stream",
     "text": [
      "\r",
      " 69%|█████████████████████████████████████████████████████▊                        | 3814/5531 [01:13<00:24, 71.06it/s]"
     ]
    },
    {
     "name": "stdout",
     "output_type": "stream",
     "text": [
      "5916_left.jpeg\n",
      "5916_right.jpeg\n",
      "5921_left.jpeg\n",
      "5921_right.jpeg\n",
      "5922_left.jpeg\n",
      "5922_right.jpeg\n",
      "5924_left.jpeg\n",
      "5924_right.jpeg\n",
      "5927_left.jpeg\n"
     ]
    },
    {
     "name": "stderr",
     "output_type": "stream",
     "text": [
      "\r",
      " 69%|█████████████████████████████████████████████████████▉                        | 3823/5531 [01:13<00:22, 74.96it/s]"
     ]
    },
    {
     "name": "stdout",
     "output_type": "stream",
     "text": [
      "5927_right.jpeg\n",
      "5930_left.jpeg\n",
      "5930_right.jpeg\n",
      "5933_left.jpeg\n",
      "5933_right.jpeg\n",
      "5934_left.jpeg\n",
      "5934_right.jpeg\n",
      "5935_left.jpeg\n"
     ]
    },
    {
     "name": "stderr",
     "output_type": "stream",
     "text": [
      "\r",
      " 69%|██████████████████████████████████████████████████████                        | 3831/5531 [01:13<00:22, 74.89it/s]"
     ]
    },
    {
     "name": "stdout",
     "output_type": "stream",
     "text": [
      "5935_right.jpeg\n",
      "5936_left.jpeg\n",
      "5936_right.jpeg\n",
      "5938_left.jpeg\n",
      "5938_right.jpeg\n",
      "5944_left.jpeg\n",
      "5944_right.jpeg\n",
      "5945_left.jpeg\n"
     ]
    },
    {
     "name": "stderr",
     "output_type": "stream",
     "text": [
      "\r",
      " 69%|██████████████████████████████████████████████████████▏                       | 3839/5531 [01:13<00:24, 68.39it/s]"
     ]
    },
    {
     "name": "stdout",
     "output_type": "stream",
     "text": [
      "5945_right.jpeg\n",
      "5947_left.jpeg\n",
      "5947_right.jpeg\n",
      "5948_left.jpeg\n",
      "5948_right.jpeg\n",
      "5949_left.jpeg\n",
      "5949_right.jpeg\n",
      "5952_left.jpeg\n"
     ]
    },
    {
     "name": "stderr",
     "output_type": "stream",
     "text": [
      "\r",
      " 70%|██████████████████████████████████████████████████████▎                       | 3847/5531 [01:13<00:26, 63.84it/s]"
     ]
    },
    {
     "name": "stdout",
     "output_type": "stream",
     "text": [
      "5952_right.jpeg\n",
      "5953_left.jpeg\n",
      "5953_right.jpeg\n",
      "5960_left.jpeg\n",
      "5960_right.jpeg\n",
      "5961_left.jpeg\n",
      "5961_right.jpeg\n",
      "5962_left.jpeg\n"
     ]
    },
    {
     "name": "stderr",
     "output_type": "stream",
     "text": [
      "\r",
      " 70%|██████████████████████████████████████████████████████▎                       | 3855/5531 [01:13<00:25, 66.49it/s]"
     ]
    },
    {
     "name": "stdout",
     "output_type": "stream",
     "text": [
      "5962_right.jpeg\n",
      "5963_left.jpeg\n",
      "5963_right.jpeg\n",
      "5964_left.jpeg\n",
      "5964_right.jpeg\n",
      "5965_left.jpeg\n",
      "5965_right.jpeg\n"
     ]
    },
    {
     "name": "stderr",
     "output_type": "stream",
     "text": [
      "\r",
      " 70%|██████████████████████████████████████████████████████▍                       | 3862/5531 [01:14<00:25, 65.29it/s]"
     ]
    },
    {
     "name": "stdout",
     "output_type": "stream",
     "text": [
      "5968_left.jpeg\n",
      "5968_right.jpeg\n",
      "5974_left.jpeg\n",
      "5974_right.jpeg\n",
      "5976_left.jpeg\n",
      "5976_right.jpeg\n",
      "5978_left.jpeg\n"
     ]
    },
    {
     "name": "stderr",
     "output_type": "stream",
     "text": [
      "\r",
      " 70%|██████████████████████████████████████████████████████▌                       | 3869/5531 [01:14<00:29, 57.23it/s]"
     ]
    },
    {
     "name": "stdout",
     "output_type": "stream",
     "text": [
      "5978_right.jpeg\n",
      "5980_left.jpeg\n",
      "5980_right.jpeg\n",
      "5982_left.jpeg\n",
      "5982_right.jpeg\n",
      "5990_left.jpeg\n",
      "5990_right.jpeg\n"
     ]
    },
    {
     "name": "stderr",
     "output_type": "stream",
     "text": [
      "\r",
      " 70%|██████████████████████████████████████████████████████▋                       | 3876/5531 [01:14<00:29, 55.55it/s]"
     ]
    },
    {
     "name": "stdout",
     "output_type": "stream",
     "text": [
      "5991_left.jpeg\n",
      "5991_right.jpeg\n",
      "5992_left.jpeg\n",
      "5992_right.jpeg\n",
      "5993_left.jpeg\n",
      "5993_right.jpeg\n"
     ]
    },
    {
     "name": "stderr",
     "output_type": "stream",
     "text": [
      "\r",
      " 70%|██████████████████████████████████████████████████████▋                       | 3882/5531 [01:14<00:30, 54.69it/s]"
     ]
    },
    {
     "name": "stdout",
     "output_type": "stream",
     "text": [
      "5994_left.jpeg\n",
      "5994_right.jpeg\n",
      "5995_left.jpeg\n",
      "5995_right.jpeg\n",
      "5999_left.jpeg\n",
      "5999_right.jpeg\n"
     ]
    },
    {
     "name": "stderr",
     "output_type": "stream",
     "text": [
      "\r",
      " 70%|██████████████████████████████████████████████████████▊                       | 3888/5531 [01:14<00:29, 55.29it/s]"
     ]
    },
    {
     "name": "stdout",
     "output_type": "stream",
     "text": [
      "6001_left.jpeg\n",
      "6001_right.jpeg\n",
      "6005_left.jpeg\n",
      "6005_right.jpeg\n",
      "6010_left.jpeg\n",
      "6010_right.jpeg\n"
     ]
    },
    {
     "name": "stderr",
     "output_type": "stream",
     "text": [
      "\r",
      " 70%|██████████████████████████████████████████████████████▉                       | 3894/5531 [01:14<00:30, 53.35it/s]"
     ]
    },
    {
     "name": "stdout",
     "output_type": "stream",
     "text": [
      "6011_left.jpeg\n",
      "6011_right.jpeg\n",
      "6014_left.jpeg\n",
      "6014_right.jpeg\n",
      "6015_left.jpeg\n",
      "6015_right.jpeg\n",
      "6017_left.jpeg\n"
     ]
    },
    {
     "name": "stderr",
     "output_type": "stream",
     "text": [
      "\r",
      " 71%|███████████████████████████████████████████████████████                       | 3901/5531 [01:14<00:29, 55.31it/s]"
     ]
    },
    {
     "name": "stdout",
     "output_type": "stream",
     "text": [
      "6017_right.jpeg\n",
      "6018_left.jpeg\n",
      "6018_right.jpeg\n",
      "6021_left.jpeg\n",
      "6021_right.jpeg\n",
      "6022_left.jpeg\n"
     ]
    },
    {
     "name": "stderr",
     "output_type": "stream",
     "text": [
      "\r",
      " 71%|███████████████████████████████████████████████████████                       | 3907/5531 [01:14<00:29, 55.58it/s]"
     ]
    },
    {
     "name": "stdout",
     "output_type": "stream",
     "text": [
      "6022_right.jpeg\n",
      "6024_left.jpeg\n",
      "6024_right.jpeg\n",
      "6025_left.jpeg\n",
      "6025_right.jpeg\n",
      "6030_left.jpeg\n"
     ]
    },
    {
     "name": "stderr",
     "output_type": "stream",
     "text": [
      "\r",
      " 71%|███████████████████████████████████████████████████████▏                      | 3913/5531 [01:15<00:29, 55.47it/s]"
     ]
    },
    {
     "name": "stdout",
     "output_type": "stream",
     "text": [
      "6030_right.jpeg\n",
      "6032_left.jpeg\n",
      "6032_right.jpeg\n",
      "6035_left.jpeg\n",
      "6035_right.jpeg\n",
      "6041_left.jpeg\n"
     ]
    },
    {
     "name": "stderr",
     "output_type": "stream",
     "text": [
      "\r",
      " 71%|███████████████████████████████████████████████████████▎                      | 3919/5531 [01:15<00:30, 53.04it/s]"
     ]
    },
    {
     "name": "stdout",
     "output_type": "stream",
     "text": [
      "6041_right.jpeg\n",
      "6048_left.jpeg\n",
      "6048_right.jpeg\n",
      "6049_left.jpeg\n",
      "6049_right.jpeg\n",
      "6053_left.jpeg\n"
     ]
    },
    {
     "name": "stderr",
     "output_type": "stream",
     "text": [
      "\r",
      " 71%|███████████████████████████████████████████████████████▎                      | 3925/5531 [01:15<00:29, 54.69it/s]"
     ]
    },
    {
     "name": "stdout",
     "output_type": "stream",
     "text": [
      "6053_right.jpeg\n",
      "6062_left.jpeg\n",
      "6062_right.jpeg\n",
      "6065_left.jpeg\n",
      "6065_right.jpeg\n",
      "6066_left.jpeg\n"
     ]
    },
    {
     "name": "stderr",
     "output_type": "stream",
     "text": [
      "\r",
      " 71%|███████████████████████████████████████████████████████▍                      | 3931/5531 [01:15<00:32, 48.71it/s]"
     ]
    },
    {
     "name": "stdout",
     "output_type": "stream",
     "text": [
      "6066_right.jpeg\n",
      "6067_left.jpeg\n",
      "6067_right.jpeg\n",
      "6071_left.jpeg\n",
      "6071_right.jpeg\n",
      "6072_left.jpeg\n"
     ]
    },
    {
     "name": "stderr",
     "output_type": "stream",
     "text": [
      "\r",
      " 71%|███████████████████████████████████████████████████████▌                      | 3937/5531 [01:15<00:32, 48.42it/s]"
     ]
    },
    {
     "name": "stdout",
     "output_type": "stream",
     "text": [
      "6072_right.jpeg\n",
      "6073_left.jpeg\n",
      "6073_right.jpeg\n",
      "6075_left.jpeg\n",
      "6075_right.jpeg\n",
      "6079_left.jpeg\n"
     ]
    },
    {
     "name": "stderr",
     "output_type": "stream",
     "text": [
      "\r",
      " 71%|███████████████████████████████████████████████████████▌                      | 3943/5531 [01:15<00:32, 49.53it/s]"
     ]
    },
    {
     "name": "stdout",
     "output_type": "stream",
     "text": [
      "6079_right.jpeg\n",
      "6080_left.jpeg\n",
      "6080_right.jpeg\n",
      "6085_left.jpeg\n",
      "6085_right.jpeg\n",
      "6087_left.jpeg\n"
     ]
    },
    {
     "name": "stderr",
     "output_type": "stream",
     "text": [
      "\r",
      " 71%|███████████████████████████████████████████████████████▋                      | 3949/5531 [01:15<00:31, 50.46it/s]"
     ]
    },
    {
     "name": "stdout",
     "output_type": "stream",
     "text": [
      "6087_right.jpeg\n",
      "6088_left.jpeg\n",
      "6088_right.jpeg\n",
      "6089_left.jpeg\n",
      "6089_right.jpeg\n",
      "6093_left.jpeg\n"
     ]
    },
    {
     "name": "stderr",
     "output_type": "stream",
     "text": [
      "\r",
      " 72%|███████████████████████████████████████████████████████▊                      | 3955/5531 [01:15<00:31, 50.11it/s]"
     ]
    },
    {
     "name": "stdout",
     "output_type": "stream",
     "text": [
      "6093_right.jpeg\n",
      "6095_left.jpeg\n",
      "6095_right.jpeg\n",
      "6096_left.jpeg\n",
      "6096_right.jpeg\n",
      "6102_left.jpeg\n"
     ]
    },
    {
     "name": "stderr",
     "output_type": "stream",
     "text": [
      "\r",
      " 72%|███████████████████████████████████████████████████████▊                      | 3961/5531 [01:16<00:34, 44.95it/s]"
     ]
    },
    {
     "name": "stdout",
     "output_type": "stream",
     "text": [
      "6102_right.jpeg\n",
      "6104_left.jpeg\n",
      "6104_right.jpeg\n",
      "6106_left.jpeg\n",
      "6106_right.jpeg\n",
      "6110_left.jpeg\n"
     ]
    },
    {
     "name": "stderr",
     "output_type": "stream",
     "text": [
      "\r",
      " 72%|███████████████████████████████████████████████████████▉                      | 3967/5531 [01:16<00:32, 48.29it/s]"
     ]
    },
    {
     "name": "stdout",
     "output_type": "stream",
     "text": [
      "6110_right.jpeg\n",
      "6116_left.jpeg\n",
      "6116_right.jpeg\n",
      "6118_left.jpeg\n",
      "6118_right.jpeg\n"
     ]
    },
    {
     "name": "stderr",
     "output_type": "stream",
     "text": [
      "\r",
      " 72%|████████████████████████████████████████████████████████                      | 3972/5531 [01:16<00:34, 45.50it/s]"
     ]
    },
    {
     "name": "stdout",
     "output_type": "stream",
     "text": [
      "6125_left.jpeg\n",
      "6125_right.jpeg\n",
      "6127_left.jpeg\n",
      "6127_right.jpeg\n",
      "6129_left.jpeg\n"
     ]
    },
    {
     "name": "stderr",
     "output_type": "stream",
     "text": [
      "\r",
      " 72%|████████████████████████████████████████████████████████                      | 3977/5531 [01:16<00:33, 46.41it/s]"
     ]
    },
    {
     "name": "stdout",
     "output_type": "stream",
     "text": [
      "6129_right.jpeg\n",
      "6131_left.jpeg\n",
      "6131_right.jpeg\n",
      "6133_left.jpeg\n",
      "6133_right.jpeg\n"
     ]
    },
    {
     "name": "stderr",
     "output_type": "stream",
     "text": [
      "\r",
      " 72%|████████████████████████████████████████████████████████▏                     | 3982/5531 [01:16<00:33, 45.90it/s]"
     ]
    },
    {
     "name": "stdout",
     "output_type": "stream",
     "text": [
      "6134_left.jpeg\n",
      "6134_right.jpeg\n",
      "6136_left.jpeg\n",
      "6136_right.jpeg\n",
      "6138_left.jpeg\n",
      "6138_right.jpeg\n"
     ]
    },
    {
     "name": "stderr",
     "output_type": "stream",
     "text": [
      "\r",
      " 72%|████████████████████████████████████████████████████████▏                     | 3988/5531 [01:16<00:33, 46.55it/s]"
     ]
    },
    {
     "name": "stdout",
     "output_type": "stream",
     "text": [
      "6139_left.jpeg\n",
      "6139_right.jpeg\n",
      "6141_left.jpeg\n",
      "6141_right.jpeg\n",
      "6144_left.jpeg\n",
      "6144_right.jpeg\n"
     ]
    },
    {
     "name": "stderr",
     "output_type": "stream",
     "text": [
      "\r",
      " 72%|████████████████████████████████████████████████████████▎                     | 3994/5531 [01:16<00:31, 48.84it/s]"
     ]
    },
    {
     "name": "stdout",
     "output_type": "stream",
     "text": [
      "6148_left.jpeg\n",
      "6148_right.jpeg\n",
      "6149_left.jpeg\n",
      "6149_right.jpeg\n",
      "6155_left.jpeg\n",
      "6155_right.jpeg\n"
     ]
    },
    {
     "name": "stderr",
     "output_type": "stream",
     "text": [
      "\r",
      " 72%|████████████████████████████████████████████████████████▍                     | 4000/5531 [01:16<00:29, 51.11it/s]"
     ]
    },
    {
     "name": "stdout",
     "output_type": "stream",
     "text": [
      "6158_left.jpeg\n",
      "6158_right.jpeg\n",
      "6163_left.jpeg\n",
      "6163_right.jpeg\n",
      "6165_left.jpeg\n",
      "6165_right.jpeg\n"
     ]
    },
    {
     "name": "stderr",
     "output_type": "stream",
     "text": [
      "\r",
      " 72%|████████████████████████████████████████████████████████▍                     | 4006/5531 [01:16<00:28, 53.10it/s]"
     ]
    },
    {
     "name": "stdout",
     "output_type": "stream",
     "text": [
      "6166_left.jpeg\n",
      "6166_right.jpeg\n",
      "6167_left.jpeg\n",
      "6167_right.jpeg\n",
      "6168_left.jpeg\n",
      "6168_right.jpeg\n"
     ]
    },
    {
     "name": "stderr",
     "output_type": "stream",
     "text": [
      "\r",
      " 73%|████████████████████████████████████████████████████████▌                     | 4012/5531 [01:17<00:27, 54.59it/s]"
     ]
    },
    {
     "name": "stdout",
     "output_type": "stream",
     "text": [
      "6169_left.jpeg\n",
      "6169_right.jpeg\n",
      "6175_left.jpeg\n",
      "6175_right.jpeg\n",
      "6182_left.jpeg\n",
      "6182_right.jpeg\n"
     ]
    },
    {
     "name": "stderr",
     "output_type": "stream",
     "text": [
      "\r",
      " 73%|████████████████████████████████████████████████████████▋                     | 4018/5531 [01:17<00:28, 53.31it/s]"
     ]
    },
    {
     "name": "stdout",
     "output_type": "stream",
     "text": [
      "6183_left.jpeg\n",
      "6183_right.jpeg\n",
      "6186_left.jpeg\n",
      "6186_right.jpeg\n",
      "6189_left.jpeg\n",
      "6189_right.jpeg\n"
     ]
    },
    {
     "name": "stderr",
     "output_type": "stream",
     "text": [
      "\r",
      " 73%|████████████████████████████████████████████████████████▋                     | 4024/5531 [01:17<00:28, 52.73it/s]"
     ]
    },
    {
     "name": "stdout",
     "output_type": "stream",
     "text": [
      "6190_left.jpeg\n",
      "6190_right.jpeg\n",
      "6193_left.jpeg\n",
      "6193_right.jpeg\n",
      "6194_left.jpeg\n",
      "6194_right.jpeg\n"
     ]
    },
    {
     "name": "stderr",
     "output_type": "stream",
     "text": [
      "\r",
      " 73%|████████████████████████████████████████████████████████▊                     | 4030/5531 [01:17<00:27, 54.46it/s]"
     ]
    },
    {
     "name": "stdout",
     "output_type": "stream",
     "text": [
      "6196_left.jpeg\n",
      "6196_right.jpeg\n",
      "6198_left.jpeg\n",
      "6198_right.jpeg\n",
      "6199_left.jpeg\n",
      "6199_right.jpeg\n"
     ]
    },
    {
     "name": "stderr",
     "output_type": "stream",
     "text": [
      "\r",
      " 73%|████████████████████████████████████████████████████████▉                     | 4036/5531 [01:17<00:27, 54.23it/s]"
     ]
    },
    {
     "name": "stdout",
     "output_type": "stream",
     "text": [
      "6200_left.jpeg\n",
      "6200_right.jpeg\n",
      "6203_left.jpeg\n",
      "6203_right.jpeg\n",
      "6205_left.jpeg\n",
      "6205_right.jpeg\n"
     ]
    },
    {
     "name": "stderr",
     "output_type": "stream",
     "text": [
      "\r",
      " 73%|█████████████████████████████████████████████████████████                     | 4042/5531 [01:17<00:27, 54.82it/s]"
     ]
    },
    {
     "name": "stdout",
     "output_type": "stream",
     "text": [
      "6207_left.jpeg\n",
      "6207_right.jpeg\n",
      "6210_left.jpeg\n",
      "6210_right.jpeg\n",
      "6217_left.jpeg\n",
      "6217_right.jpeg\n"
     ]
    },
    {
     "name": "stderr",
     "output_type": "stream",
     "text": [
      "\r",
      " 73%|█████████████████████████████████████████████████████████                     | 4048/5531 [01:17<00:27, 53.61it/s]"
     ]
    },
    {
     "name": "stdout",
     "output_type": "stream",
     "text": [
      "6219_left.jpeg\n",
      "6219_right.jpeg\n",
      "6221_left.jpeg\n",
      "6221_right.jpeg\n",
      "6227_left.jpeg\n",
      "6227_right.jpeg\n"
     ]
    },
    {
     "name": "stderr",
     "output_type": "stream",
     "text": [
      "\r",
      " 73%|█████████████████████████████████████████████████████████▏                    | 4054/5531 [01:17<00:28, 52.65it/s]"
     ]
    },
    {
     "name": "stdout",
     "output_type": "stream",
     "text": [
      "6228_left.jpeg\n",
      "6228_right.jpeg\n",
      "6234_left.jpeg\n",
      "6234_right.jpeg\n",
      "6235_left.jpeg\n",
      "6235_right.jpeg\n"
     ]
    },
    {
     "name": "stderr",
     "output_type": "stream",
     "text": [
      "\r",
      " 73%|█████████████████████████████████████████████████████████▎                    | 4060/5531 [01:17<00:27, 54.26it/s]"
     ]
    },
    {
     "name": "stdout",
     "output_type": "stream",
     "text": [
      "6236_left.jpeg\n",
      "6236_right.jpeg\n",
      "6237_left.jpeg\n",
      "6237_right.jpeg\n",
      "6240_left.jpeg\n",
      "6240_right.jpeg\n"
     ]
    },
    {
     "name": "stderr",
     "output_type": "stream",
     "text": [
      "\r",
      " 74%|█████████████████████████████████████████████████████████▎                    | 4066/5531 [01:18<00:27, 52.81it/s]"
     ]
    },
    {
     "name": "stdout",
     "output_type": "stream",
     "text": [
      "6244_left.jpeg\n",
      "6244_right.jpeg\n",
      "6245_left.jpeg\n",
      "6245_right.jpeg\n",
      "6251_left.jpeg\n",
      "6251_right.jpeg\n"
     ]
    },
    {
     "name": "stderr",
     "output_type": "stream",
     "text": [
      "\r",
      " 74%|█████████████████████████████████████████████████████████▍                    | 4072/5531 [01:18<00:27, 53.08it/s]"
     ]
    },
    {
     "name": "stdout",
     "output_type": "stream",
     "text": [
      "6254_left.jpeg\n",
      "6254_right.jpeg\n",
      "6259_left.jpeg\n",
      "6259_right.jpeg\n",
      "6261_left.jpeg\n",
      "6261_right.jpeg\n"
     ]
    },
    {
     "name": "stderr",
     "output_type": "stream",
     "text": [
      "\r",
      " 74%|█████████████████████████████████████████████████████████▌                    | 4078/5531 [01:18<00:26, 54.28it/s]"
     ]
    },
    {
     "name": "stdout",
     "output_type": "stream",
     "text": [
      "6263_left.jpeg\n",
      "6263_right.jpeg\n",
      "6269_left.jpeg\n",
      "6269_right.jpeg\n",
      "6272_left.jpeg\n",
      "6272_right.jpeg\n"
     ]
    },
    {
     "name": "stderr",
     "output_type": "stream",
     "text": [
      "\r",
      " 74%|█████████████████████████████████████████████████████████▌                    | 4084/5531 [01:18<00:26, 55.61it/s]"
     ]
    },
    {
     "name": "stdout",
     "output_type": "stream",
     "text": [
      "6273_left.jpeg\n",
      "6273_right.jpeg\n",
      "6275_left.jpeg\n",
      "6275_right.jpeg\n",
      "6276_left.jpeg\n",
      "6276_right.jpeg\n"
     ]
    },
    {
     "name": "stderr",
     "output_type": "stream",
     "text": [
      "\r",
      " 74%|█████████████████████████████████████████████████████████▋                    | 4090/5531 [01:18<00:25, 55.64it/s]"
     ]
    },
    {
     "name": "stdout",
     "output_type": "stream",
     "text": [
      "6278_left.jpeg\n",
      "6278_right.jpeg\n",
      "6287_left.jpeg\n",
      "6287_right.jpeg\n",
      "6289_left.jpeg\n",
      "6289_right.jpeg\n"
     ]
    },
    {
     "name": "stderr",
     "output_type": "stream",
     "text": [
      "\r",
      " 74%|█████████████████████████████████████████████████████████▊                    | 4096/5531 [01:18<00:27, 52.73it/s]"
     ]
    },
    {
     "name": "stdout",
     "output_type": "stream",
     "text": [
      "6290_left.jpeg\n",
      "6290_right.jpeg\n",
      "6291_left.jpeg\n",
      "6291_right.jpeg\n",
      "6298_left.jpeg\n",
      "6298_right.jpeg\n"
     ]
    },
    {
     "name": "stderr",
     "output_type": "stream",
     "text": [
      "\r",
      " 74%|█████████████████████████████████████████████████████████▊                    | 4102/5531 [01:18<00:27, 52.19it/s]"
     ]
    },
    {
     "name": "stdout",
     "output_type": "stream",
     "text": [
      "6299_left.jpeg\n",
      "6299_right.jpeg\n",
      "6301_left.jpeg\n",
      "6301_right.jpeg\n",
      "6302_left.jpeg\n",
      "6302_right.jpeg\n"
     ]
    },
    {
     "name": "stderr",
     "output_type": "stream",
     "text": [
      "\r",
      " 74%|█████████████████████████████████████████████████████████▉                    | 4108/5531 [01:18<00:26, 53.77it/s]"
     ]
    },
    {
     "name": "stdout",
     "output_type": "stream",
     "text": [
      "6304_left.jpeg\n",
      "6304_right.jpeg\n",
      "6305_left.jpeg\n",
      "6305_right.jpeg\n",
      "6311_left.jpeg\n",
      "6311_right.jpeg\n"
     ]
    },
    {
     "name": "stderr",
     "output_type": "stream",
     "text": [
      "\r",
      " 74%|██████████████████████████████████████████████████████████                    | 4114/5531 [01:18<00:25, 55.39it/s]"
     ]
    },
    {
     "name": "stdout",
     "output_type": "stream",
     "text": [
      "6313_left.jpeg\n",
      "6313_right.jpeg\n",
      "6314_left.jpeg\n",
      "6314_right.jpeg\n",
      "6316_left.jpeg\n",
      "6316_right.jpeg\n"
     ]
    },
    {
     "name": "stderr",
     "output_type": "stream",
     "text": [
      "\r",
      " 74%|██████████████████████████████████████████████████████████                    | 4120/5531 [01:19<00:26, 52.57it/s]"
     ]
    },
    {
     "name": "stdout",
     "output_type": "stream",
     "text": [
      "6317_left.jpeg\n",
      "6317_right.jpeg\n",
      "6318_left.jpeg\n",
      "6318_right.jpeg\n",
      "6321_left.jpeg\n",
      "6321_right.jpeg\n"
     ]
    },
    {
     "name": "stderr",
     "output_type": "stream",
     "text": [
      "\r",
      " 75%|██████████████████████████████████████████████████████████▏                   | 4126/5531 [01:19<00:27, 51.29it/s]"
     ]
    },
    {
     "name": "stdout",
     "output_type": "stream",
     "text": [
      "6323_left.jpeg\n",
      "6323_right.jpeg\n",
      "6333_left.jpeg\n",
      "6333_right.jpeg\n",
      "6335_left.jpeg\n",
      "6335_right.jpeg\n"
     ]
    },
    {
     "name": "stderr",
     "output_type": "stream",
     "text": [
      "\r",
      " 75%|██████████████████████████████████████████████████████████▎                   | 4132/5531 [01:19<00:26, 52.81it/s]"
     ]
    },
    {
     "name": "stdout",
     "output_type": "stream",
     "text": [
      "6337_left.jpeg\n",
      "6337_right.jpeg\n",
      "6339_left.jpeg\n",
      "6339_right.jpeg\n",
      "6342_left.jpeg\n",
      "6342_right.jpeg\n"
     ]
    },
    {
     "name": "stderr",
     "output_type": "stream",
     "text": [
      "\r",
      " 75%|██████████████████████████████████████████████████████████▎                   | 4138/5531 [01:19<00:27, 51.45it/s]"
     ]
    },
    {
     "name": "stdout",
     "output_type": "stream",
     "text": [
      "6344_left.jpeg\n",
      "6344_right.jpeg\n",
      "6347_left.jpeg\n",
      "6347_right.jpeg\n",
      "6348_left.jpeg\n",
      "6348_right.jpeg\n"
     ]
    },
    {
     "name": "stderr",
     "output_type": "stream",
     "text": [
      "\r",
      " 75%|██████████████████████████████████████████████████████████▍                   | 4144/5531 [01:19<00:26, 52.93it/s]"
     ]
    },
    {
     "name": "stdout",
     "output_type": "stream",
     "text": [
      "6360_left.jpeg\n",
      "6360_right.jpeg\n",
      "6364_left.jpeg\n",
      "6364_right.jpeg\n",
      "6367_left.jpeg\n",
      "6367_right.jpeg\n"
     ]
    },
    {
     "name": "stderr",
     "output_type": "stream",
     "text": [
      "\r",
      " 75%|██████████████████████████████████████████████████████████▌                   | 4150/5531 [01:19<00:26, 52.47it/s]"
     ]
    },
    {
     "name": "stdout",
     "output_type": "stream",
     "text": [
      "6368_left.jpeg\n",
      "6368_right.jpeg\n",
      "6371_left.jpeg\n",
      "6371_right.jpeg\n",
      "6374_left.jpeg\n",
      "6374_right.jpeg\n"
     ]
    },
    {
     "name": "stderr",
     "output_type": "stream",
     "text": [
      "\r",
      " 75%|██████████████████████████████████████████████████████████▌                   | 4156/5531 [01:19<00:25, 53.12it/s]"
     ]
    },
    {
     "name": "stdout",
     "output_type": "stream",
     "text": [
      "6376_left.jpeg\n",
      "6376_right.jpeg\n",
      "6377_left.jpeg\n",
      "6377_right.jpeg\n",
      "6378_left.jpeg\n",
      "6378_right.jpeg\n"
     ]
    },
    {
     "name": "stderr",
     "output_type": "stream",
     "text": [
      "\r",
      " 75%|██████████████████████████████████████████████████████████▋                   | 4162/5531 [01:19<00:25, 54.16it/s]"
     ]
    },
    {
     "name": "stdout",
     "output_type": "stream",
     "text": [
      "6379_left.jpeg\n",
      "6379_right.jpeg\n",
      "6385_left.jpeg\n",
      "6385_right.jpeg\n",
      "6389_left.jpeg\n",
      "6389_right.jpeg\n"
     ]
    },
    {
     "name": "stderr",
     "output_type": "stream",
     "text": [
      "\r",
      " 75%|██████████████████████████████████████████████████████████▊                   | 4168/5531 [01:19<00:25, 53.73it/s]"
     ]
    },
    {
     "name": "stdout",
     "output_type": "stream",
     "text": [
      "6391_left.jpeg\n",
      "6391_right.jpeg\n",
      "6397_left.jpeg\n",
      "6397_right.jpeg\n",
      "6402_left.jpeg\n",
      "6402_right.jpeg\n"
     ]
    },
    {
     "name": "stderr",
     "output_type": "stream",
     "text": [
      "\r",
      " 75%|██████████████████████████████████████████████████████████▊                   | 4174/5531 [01:20<00:25, 53.44it/s]"
     ]
    },
    {
     "name": "stdout",
     "output_type": "stream",
     "text": [
      "6403_left.jpeg\n",
      "6403_right.jpeg\n",
      "6404_left.jpeg\n",
      "6404_right.jpeg\n",
      "6407_left.jpeg\n",
      "6407_right.jpeg\n"
     ]
    },
    {
     "name": "stderr",
     "output_type": "stream",
     "text": [
      "\r",
      " 76%|██████████████████████████████████████████████████████████▉                   | 4180/5531 [01:20<00:25, 52.41it/s]"
     ]
    },
    {
     "name": "stdout",
     "output_type": "stream",
     "text": [
      "6410_left.jpeg\n",
      "6410_right.jpeg\n",
      "6412_left.jpeg\n",
      "6412_right.jpeg\n",
      "6413_left.jpeg\n",
      "6413_right.jpeg\n",
      "6415_left.jpeg\n",
      "6415_right.jpeg\n",
      "6416_left.jpeg\n"
     ]
    },
    {
     "name": "stderr",
     "output_type": "stream",
     "text": [
      "\r",
      " 76%|███████████████████████████████████████████████████████████                   | 4189/5531 [01:20<00:22, 59.35it/s]"
     ]
    },
    {
     "name": "stdout",
     "output_type": "stream",
     "text": [
      "6416_right.jpeg\n",
      "6417_left.jpeg\n",
      "6417_right.jpeg\n",
      "6418_left.jpeg\n",
      "6418_right.jpeg\n",
      "6420_left.jpeg\n",
      "6420_right.jpeg\n",
      "6423_left.jpeg\n",
      "6423_right.jpeg\n"
     ]
    },
    {
     "name": "stderr",
     "output_type": "stream",
     "text": [
      "\r",
      " 76%|███████████████████████████████████████████████████████████▏                  | 4198/5531 [01:20<00:20, 65.86it/s]"
     ]
    },
    {
     "name": "stdout",
     "output_type": "stream",
     "text": [
      "6424_left.jpeg\n",
      "6424_right.jpeg\n",
      "6427_left.jpeg\n",
      "6427_right.jpeg\n",
      "6428_left.jpeg\n",
      "6428_right.jpeg\n",
      "6429_left.jpeg\n",
      "6429_right.jpeg\n",
      "6433_left.jpeg\n"
     ]
    },
    {
     "name": "stderr",
     "output_type": "stream",
     "text": [
      "\r",
      " 76%|███████████████████████████████████████████████████████████▎                  | 4207/5531 [01:20<00:18, 70.82it/s]"
     ]
    },
    {
     "name": "stdout",
     "output_type": "stream",
     "text": [
      "6433_right.jpeg\n",
      "6434_left.jpeg\n",
      "6434_right.jpeg\n",
      "6435_left.jpeg\n",
      "6435_right.jpeg\n",
      "6440_left.jpeg\n",
      "6440_right.jpeg\n",
      "6442_left.jpeg\n",
      "6442_right.jpeg\n"
     ]
    },
    {
     "name": "stderr",
     "output_type": "stream",
     "text": [
      "\r",
      " 76%|███████████████████████████████████████████████████████████▍                  | 4216/5531 [01:20<00:17, 75.14it/s]"
     ]
    },
    {
     "name": "stdout",
     "output_type": "stream",
     "text": [
      "6443_left.jpeg\n",
      "6443_right.jpeg\n",
      "6445_left.jpeg\n",
      "6445_right.jpeg\n",
      "6447_left.jpeg\n",
      "6447_right.jpeg\n",
      "6449_left.jpeg\n",
      "6449_right.jpeg\n"
     ]
    },
    {
     "name": "stderr",
     "output_type": "stream",
     "text": [
      "\r",
      " 76%|███████████████████████████████████████████████████████████▌                  | 4224/5531 [01:20<00:17, 73.24it/s]"
     ]
    },
    {
     "name": "stdout",
     "output_type": "stream",
     "text": [
      "6450_left.jpeg\n",
      "6450_right.jpeg\n",
      "6451_left.jpeg\n",
      "6451_right.jpeg\n",
      "6452_left.jpeg\n",
      "6452_right.jpeg\n",
      "6455_left.jpeg\n",
      "6455_right.jpeg\n",
      "6458_left.jpeg\n"
     ]
    },
    {
     "name": "stderr",
     "output_type": "stream",
     "text": [
      "\r",
      " 77%|███████████████████████████████████████████████████████████▋                  | 4233/5531 [01:20<00:17, 76.06it/s]"
     ]
    },
    {
     "name": "stdout",
     "output_type": "stream",
     "text": [
      "6458_right.jpeg\n",
      "6459_left.jpeg\n",
      "6459_right.jpeg\n",
      "6460_left.jpeg\n",
      "6460_right.jpeg\n",
      "6467_left.jpeg\n",
      "6467_right.jpeg\n",
      "6468_left.jpeg\n",
      "6468_right.jpeg\n"
     ]
    },
    {
     "name": "stderr",
     "output_type": "stream",
     "text": [
      "\r",
      " 77%|███████████████████████████████████████████████████████████▊                  | 4242/5531 [01:20<00:16, 78.98it/s]"
     ]
    },
    {
     "name": "stdout",
     "output_type": "stream",
     "text": [
      "6471_left.jpeg\n",
      "6471_right.jpeg\n",
      "6473_left.jpeg\n",
      "6473_right.jpeg\n",
      "6474_left.jpeg\n",
      "6474_right.jpeg\n",
      "6478_left.jpeg\n",
      "6478_right.jpeg\n",
      "6482_left.jpeg\n"
     ]
    },
    {
     "name": "stderr",
     "output_type": "stream",
     "text": [
      "\r",
      " 77%|███████████████████████████████████████████████████████████▉                  | 4251/5531 [01:21<00:17, 71.52it/s]"
     ]
    },
    {
     "name": "stdout",
     "output_type": "stream",
     "text": [
      "6482_right.jpeg\n",
      "6483_left.jpeg\n",
      "6483_right.jpeg\n",
      "6484_left.jpeg\n",
      "6484_right.jpeg\n",
      "6488_left.jpeg\n",
      "6488_right.jpeg\n",
      "6490_left.jpeg\n",
      "6490_right.jpeg\n",
      "6493_left.jpeg\n"
     ]
    },
    {
     "name": "stderr",
     "output_type": "stream",
     "text": [
      "\r",
      " 77%|████████████████████████████████████████████████████████████                  | 4261/5531 [01:21<00:16, 77.16it/s]"
     ]
    },
    {
     "name": "stdout",
     "output_type": "stream",
     "text": [
      "6493_right.jpeg\n",
      "6497_left.jpeg\n",
      "6497_right.jpeg\n",
      "6498_left.jpeg\n",
      "6498_right.jpeg\n",
      "6501_left.jpeg\n",
      "6501_right.jpeg\n",
      "6502_left.jpeg\n",
      "6502_right.jpeg\n"
     ]
    },
    {
     "name": "stderr",
     "output_type": "stream",
     "text": [
      "\r",
      " 77%|████████████████████████████████████████████████████████████▏                 | 4270/5531 [01:21<00:16, 76.37it/s]"
     ]
    },
    {
     "name": "stdout",
     "output_type": "stream",
     "text": [
      "6506_left.jpeg\n",
      "6506_right.jpeg\n",
      "6511_left.jpeg\n",
      "6511_right.jpeg\n",
      "6512_left.jpeg\n",
      "6512_right.jpeg\n",
      "6514_left.jpeg\n",
      "6514_right.jpeg\n"
     ]
    },
    {
     "name": "stderr",
     "output_type": "stream",
     "text": [
      "\r",
      " 77%|████████████████████████████████████████████████████████████▎                 | 4278/5531 [01:21<00:17, 73.24it/s]"
     ]
    },
    {
     "name": "stdout",
     "output_type": "stream",
     "text": [
      "6518_left.jpeg\n",
      "6518_right.jpeg\n",
      "6519_left.jpeg\n",
      "6519_right.jpeg\n",
      "6523_left.jpeg\n",
      "6523_right.jpeg\n",
      "6524_left.jpeg\n",
      "6524_right.jpeg\n",
      "6525_left.jpeg\n"
     ]
    },
    {
     "name": "stderr",
     "output_type": "stream",
     "text": [
      "\r",
      " 78%|████████████████████████████████████████████████████████████▍                 | 4287/5531 [01:21<00:16, 75.86it/s]"
     ]
    },
    {
     "name": "stdout",
     "output_type": "stream",
     "text": [
      "6525_right.jpeg\n",
      "6529_left.jpeg\n",
      "6529_right.jpeg\n",
      "6530_left.jpeg\n",
      "6530_right.jpeg\n",
      "6532_left.jpeg\n",
      "6532_right.jpeg\n",
      "6535_left.jpeg\n"
     ]
    },
    {
     "name": "stderr",
     "output_type": "stream",
     "text": [
      "\r",
      " 78%|████████████████████████████████████████████████████████████▌                 | 4295/5531 [01:21<00:17, 70.23it/s]"
     ]
    },
    {
     "name": "stdout",
     "output_type": "stream",
     "text": [
      "6535_right.jpeg\n",
      "6537_left.jpeg\n",
      "6537_right.jpeg\n",
      "6539_left.jpeg\n",
      "6539_right.jpeg\n",
      "6541_left.jpeg\n",
      "6541_right.jpeg\n",
      "6544_left.jpeg\n"
     ]
    },
    {
     "name": "stderr",
     "output_type": "stream",
     "text": [
      "\r",
      " 78%|████████████████████████████████████████████████████████████▋                 | 4303/5531 [01:21<00:17, 69.36it/s]"
     ]
    },
    {
     "name": "stdout",
     "output_type": "stream",
     "text": [
      "6544_right.jpeg\n",
      "6545_left.jpeg\n",
      "6545_right.jpeg\n",
      "6546_left.jpeg\n",
      "6546_right.jpeg\n",
      "6547_left.jpeg\n",
      "6547_right.jpeg\n",
      "6549_left.jpeg\n",
      "6549_right.jpeg\n"
     ]
    },
    {
     "name": "stderr",
     "output_type": "stream",
     "text": [
      "\r",
      " 78%|████████████████████████████████████████████████████████████▊                 | 4312/5531 [01:21<00:16, 72.91it/s]"
     ]
    },
    {
     "name": "stdout",
     "output_type": "stream",
     "text": [
      "6550_left.jpeg\n",
      "6550_right.jpeg\n",
      "6551_left.jpeg\n",
      "6551_right.jpeg\n",
      "6552_left.jpeg\n",
      "6552_right.jpeg\n",
      "6555_left.jpeg\n",
      "6555_right.jpeg\n"
     ]
    },
    {
     "name": "stderr",
     "output_type": "stream",
     "text": [
      "\r",
      " 78%|████████████████████████████████████████████████████████████▉                 | 4320/5531 [01:22<00:16, 73.52it/s]"
     ]
    },
    {
     "name": "stdout",
     "output_type": "stream",
     "text": [
      "6558_left.jpeg\n",
      "6558_right.jpeg\n",
      "6560_left.jpeg\n",
      "6560_right.jpeg\n",
      "6561_left.jpeg\n",
      "6561_right.jpeg\n",
      "6567_left.jpeg\n",
      "6567_right.jpeg\n"
     ]
    },
    {
     "name": "stderr",
     "output_type": "stream",
     "text": [
      "\r",
      " 78%|█████████████████████████████████████████████████████████████                 | 4328/5531 [01:22<00:17, 67.59it/s]"
     ]
    },
    {
     "name": "stdout",
     "output_type": "stream",
     "text": [
      "6568_left.jpeg\n",
      "6568_right.jpeg\n",
      "6569_left.jpeg\n",
      "6569_right.jpeg\n",
      "6573_left.jpeg\n",
      "6573_right.jpeg\n",
      "6574_left.jpeg\n"
     ]
    },
    {
     "name": "stderr",
     "output_type": "stream",
     "text": [
      "\r",
      " 78%|█████████████████████████████████████████████████████████████▏                | 4335/5531 [01:22<00:18, 65.48it/s]"
     ]
    },
    {
     "name": "stdout",
     "output_type": "stream",
     "text": [
      "6574_right.jpeg\n",
      "6577_left.jpeg\n",
      "6577_right.jpeg\n",
      "6578_left.jpeg\n",
      "6578_right.jpeg\n",
      "6584_left.jpeg\n",
      "6584_right.jpeg\n"
     ]
    },
    {
     "name": "stderr",
     "output_type": "stream",
     "text": [
      "\r",
      " 79%|█████████████████████████████████████████████████████████████▏                | 4342/5531 [01:22<00:19, 62.54it/s]"
     ]
    },
    {
     "name": "stdout",
     "output_type": "stream",
     "text": [
      "6585_left.jpeg\n",
      "6585_right.jpeg\n",
      "6586_left.jpeg\n",
      "6586_right.jpeg\n",
      "6591_left.jpeg\n",
      "6591_right.jpeg\n",
      "6592_left.jpeg\n"
     ]
    },
    {
     "name": "stderr",
     "output_type": "stream",
     "text": [
      "\r",
      " 79%|█████████████████████████████████████████████████████████████▎                | 4349/5531 [01:22<00:20, 57.79it/s]"
     ]
    },
    {
     "name": "stdout",
     "output_type": "stream",
     "text": [
      "6592_right.jpeg\n",
      "6593_left.jpeg\n",
      "6593_right.jpeg\n",
      "6594_left.jpeg\n",
      "6594_right.jpeg\n",
      "6595_left.jpeg\n"
     ]
    },
    {
     "name": "stderr",
     "output_type": "stream",
     "text": [
      "\r",
      " 79%|█████████████████████████████████████████████████████████████▍                | 4355/5531 [01:22<00:21, 53.77it/s]"
     ]
    },
    {
     "name": "stdout",
     "output_type": "stream",
     "text": [
      "6595_right.jpeg\n",
      "6596_left.jpeg\n",
      "6596_right.jpeg\n",
      "6599_left.jpeg\n",
      "6599_right.jpeg\n",
      "6603_left.jpeg\n"
     ]
    },
    {
     "name": "stderr",
     "output_type": "stream",
     "text": [
      "\r",
      " 79%|█████████████████████████████████████████████████████████████▌                | 4361/5531 [01:22<00:21, 54.93it/s]"
     ]
    },
    {
     "name": "stdout",
     "output_type": "stream",
     "text": [
      "6603_right.jpeg\n",
      "6605_left.jpeg\n",
      "6605_right.jpeg\n",
      "6607_left.jpeg\n",
      "6607_right.jpeg\n",
      "6609_left.jpeg\n"
     ]
    },
    {
     "name": "stderr",
     "output_type": "stream",
     "text": [
      "\r",
      " 79%|█████████████████████████████████████████████████████████████▌                | 4367/5531 [01:22<00:21, 54.41it/s]"
     ]
    },
    {
     "name": "stdout",
     "output_type": "stream",
     "text": [
      "6609_right.jpeg\n",
      "6611_left.jpeg\n",
      "6611_right.jpeg\n",
      "6613_left.jpeg\n",
      "6613_right.jpeg\n",
      "6617_left.jpeg\n",
      "6617_right.jpeg\n"
     ]
    },
    {
     "name": "stderr",
     "output_type": "stream",
     "text": [
      "\r",
      " 79%|█████████████████████████████████████████████████████████████▋                | 4374/5531 [01:22<00:20, 56.11it/s]"
     ]
    },
    {
     "name": "stdout",
     "output_type": "stream",
     "text": [
      "6618_left.jpeg\n",
      "6618_right.jpeg\n",
      "6622_left.jpeg\n",
      "6622_right.jpeg\n",
      "6623_left.jpeg\n",
      "6623_right.jpeg\n",
      "6624_left.jpeg\n"
     ]
    },
    {
     "name": "stderr",
     "output_type": "stream",
     "text": [
      "\r",
      " 79%|█████████████████████████████████████████████████████████████▊                | 4381/5531 [01:23<00:19, 57.64it/s]"
     ]
    },
    {
     "name": "stdout",
     "output_type": "stream",
     "text": [
      "6624_right.jpeg\n",
      "6631_left.jpeg\n",
      "6631_right.jpeg\n",
      "6638_left.jpeg\n",
      "6638_right.jpeg\n",
      "6639_left.jpeg\n"
     ]
    },
    {
     "name": "stderr",
     "output_type": "stream",
     "text": [
      "\r",
      " 79%|█████████████████████████████████████████████████████████████▊                | 4387/5531 [01:23<00:22, 50.19it/s]"
     ]
    },
    {
     "name": "stdout",
     "output_type": "stream",
     "text": [
      "6639_right.jpeg\n",
      "6640_left.jpeg\n",
      "6640_right.jpeg\n",
      "6643_left.jpeg\n",
      "6643_right.jpeg\n",
      "6645_left.jpeg\n"
     ]
    },
    {
     "name": "stderr",
     "output_type": "stream",
     "text": [
      "\r",
      " 79%|█████████████████████████████████████████████████████████████▉                | 4393/5531 [01:23<00:23, 48.71it/s]"
     ]
    },
    {
     "name": "stdout",
     "output_type": "stream",
     "text": [
      "6645_right.jpeg\n",
      "6652_left.jpeg\n",
      "6652_right.jpeg\n",
      "6653_left.jpeg\n",
      "6653_right.jpeg\n",
      "6654_left.jpeg\n"
     ]
    },
    {
     "name": "stderr",
     "output_type": "stream",
     "text": [
      "\r",
      " 80%|██████████████████████████████████████████████████████████████                | 4399/5531 [01:23<00:22, 49.49it/s]"
     ]
    },
    {
     "name": "stdout",
     "output_type": "stream",
     "text": [
      "6654_right.jpeg\n",
      "6656_left.jpeg\n",
      "6656_right.jpeg\n",
      "6665_left.jpeg\n",
      "6665_right.jpeg\n",
      "6666_left.jpeg\n"
     ]
    },
    {
     "name": "stderr",
     "output_type": "stream",
     "text": [
      "\r",
      " 80%|██████████████████████████████████████████████████████████████                | 4405/5531 [01:23<00:21, 51.34it/s]"
     ]
    },
    {
     "name": "stdout",
     "output_type": "stream",
     "text": [
      "6666_right.jpeg\n",
      "6668_left.jpeg\n",
      "6668_right.jpeg\n",
      "6669_left.jpeg\n",
      "6669_right.jpeg\n",
      "6670_left.jpeg\n"
     ]
    },
    {
     "name": "stderr",
     "output_type": "stream",
     "text": [
      "\r",
      " 80%|██████████████████████████████████████████████████████████████▏               | 4411/5531 [01:23<00:21, 52.30it/s]"
     ]
    },
    {
     "name": "stdout",
     "output_type": "stream",
     "text": [
      "6670_right.jpeg\n",
      "6671_left.jpeg\n",
      "6671_right.jpeg\n",
      "6678_left.jpeg\n",
      "6678_right.jpeg\n",
      "6683_left.jpeg\n"
     ]
    },
    {
     "name": "stderr",
     "output_type": "stream",
     "text": [
      "\r",
      " 80%|██████████████████████████████████████████████████████████████▎               | 4417/5531 [01:23<00:23, 47.70it/s]"
     ]
    },
    {
     "name": "stdout",
     "output_type": "stream",
     "text": [
      "6683_right.jpeg\n",
      "6684_left.jpeg\n",
      "6684_right.jpeg\n",
      "6687_left.jpeg\n",
      "6687_right.jpeg\n"
     ]
    },
    {
     "name": "stderr",
     "output_type": "stream",
     "text": [
      "\r",
      " 80%|██████████████████████████████████████████████████████████████▎               | 4422/5531 [01:23<00:22, 48.27it/s]"
     ]
    },
    {
     "name": "stdout",
     "output_type": "stream",
     "text": [
      "6691_left.jpeg\n",
      "6691_right.jpeg\n",
      "6696_left.jpeg\n",
      "6696_right.jpeg\n",
      "6697_left.jpeg\n",
      "6697_right.jpeg\n"
     ]
    },
    {
     "name": "stderr",
     "output_type": "stream",
     "text": [
      "\r",
      " 80%|██████████████████████████████████████████████████████████████▍               | 4428/5531 [01:24<00:21, 50.28it/s]"
     ]
    },
    {
     "name": "stdout",
     "output_type": "stream",
     "text": [
      "6700_left.jpeg\n",
      "6700_right.jpeg\n",
      "6701_left.jpeg\n",
      "6701_right.jpeg\n",
      "6702_left.jpeg\n",
      "6702_right.jpeg\n"
     ]
    },
    {
     "name": "stderr",
     "output_type": "stream",
     "text": [
      "\r",
      " 80%|██████████████████████████████████████████████████████████████▌               | 4434/5531 [01:24<00:21, 52.20it/s]"
     ]
    },
    {
     "name": "stdout",
     "output_type": "stream",
     "text": [
      "6704_left.jpeg\n",
      "6704_right.jpeg\n",
      "6705_left.jpeg\n",
      "6705_right.jpeg\n",
      "6707_left.jpeg\n",
      "6707_right.jpeg\n",
      "6713_left.jpeg\n"
     ]
    },
    {
     "name": "stderr",
     "output_type": "stream",
     "text": [
      "\r",
      " 80%|██████████████████████████████████████████████████████████████▋               | 4441/5531 [01:24<00:19, 54.82it/s]"
     ]
    },
    {
     "name": "stdout",
     "output_type": "stream",
     "text": [
      "6713_right.jpeg\n",
      "6715_left.jpeg\n",
      "6715_right.jpeg\n",
      "6719_left.jpeg\n",
      "6719_right.jpeg\n",
      "6724_left.jpeg\n"
     ]
    },
    {
     "name": "stderr",
     "output_type": "stream",
     "text": [
      "\r",
      " 80%|██████████████████████████████████████████████████████████████▋               | 4447/5531 [01:24<00:19, 54.93it/s]"
     ]
    },
    {
     "name": "stdout",
     "output_type": "stream",
     "text": [
      "6724_right.jpeg\n",
      "6725_left.jpeg\n",
      "6725_right.jpeg\n",
      "6727_left.jpeg\n",
      "6727_right.jpeg\n",
      "6729_left.jpeg\n"
     ]
    },
    {
     "name": "stderr",
     "output_type": "stream",
     "text": [
      "\r",
      " 81%|██████████████████████████████████████████████████████████████▊               | 4453/5531 [01:24<00:21, 50.57it/s]"
     ]
    },
    {
     "name": "stdout",
     "output_type": "stream",
     "text": [
      "6729_right.jpeg\n",
      "6730_left.jpeg\n",
      "6730_right.jpeg\n",
      "6731_left.jpeg\n",
      "6731_right.jpeg\n",
      "6732_left.jpeg\n"
     ]
    },
    {
     "name": "stderr",
     "output_type": "stream",
     "text": [
      "\r",
      " 81%|██████████████████████████████████████████████████████████████▉               | 4459/5531 [01:24<00:20, 51.34it/s]"
     ]
    },
    {
     "name": "stdout",
     "output_type": "stream",
     "text": [
      "6732_right.jpeg\n",
      "6734_left.jpeg\n",
      "6734_right.jpeg\n",
      "6736_left.jpeg\n",
      "6736_right.jpeg\n",
      "6739_left.jpeg\n"
     ]
    },
    {
     "name": "stderr",
     "output_type": "stream",
     "text": [
      "\r",
      " 81%|██████████████████████████████████████████████████████████████▉               | 4465/5531 [01:24<00:20, 53.28it/s]"
     ]
    },
    {
     "name": "stdout",
     "output_type": "stream",
     "text": [
      "6739_right.jpeg\n",
      "6740_left.jpeg\n",
      "6740_right.jpeg\n",
      "6744_left.jpeg\n",
      "6744_right.jpeg\n",
      "6745_left.jpeg\n"
     ]
    },
    {
     "name": "stderr",
     "output_type": "stream",
     "text": [
      "\r",
      " 81%|███████████████████████████████████████████████████████████████               | 4471/5531 [01:24<00:19, 53.98it/s]"
     ]
    },
    {
     "name": "stdout",
     "output_type": "stream",
     "text": [
      "6745_right.jpeg\n",
      "6750_left.jpeg\n",
      "6750_right.jpeg\n",
      "6757_left.jpeg\n",
      "6757_right.jpeg\n",
      "6759_left.jpeg\n"
     ]
    },
    {
     "name": "stderr",
     "output_type": "stream",
     "text": [
      "\r",
      " 81%|███████████████████████████████████████████████████████████████▏              | 4477/5531 [01:25<00:20, 52.63it/s]"
     ]
    },
    {
     "name": "stdout",
     "output_type": "stream",
     "text": [
      "6759_right.jpeg\n",
      "6760_left.jpeg\n",
      "6760_right.jpeg\n",
      "6763_left.jpeg\n",
      "6763_right.jpeg\n",
      "6765_left.jpeg\n"
     ]
    },
    {
     "name": "stderr",
     "output_type": "stream",
     "text": [
      "\r",
      " 81%|███████████████████████████████████████████████████████████████▏              | 4483/5531 [01:25<00:19, 52.81it/s]"
     ]
    },
    {
     "name": "stdout",
     "output_type": "stream",
     "text": [
      "6765_right.jpeg\n",
      "6772_left.jpeg\n",
      "6772_right.jpeg\n",
      "6780_left.jpeg\n",
      "6780_right.jpeg\n",
      "6782_left.jpeg\n"
     ]
    },
    {
     "name": "stderr",
     "output_type": "stream",
     "text": [
      "\r",
      " 81%|███████████████████████████████████████████████████████████████▎              | 4489/5531 [01:25<00:20, 51.44it/s]"
     ]
    },
    {
     "name": "stdout",
     "output_type": "stream",
     "text": [
      "6782_right.jpeg\n",
      "6785_left.jpeg\n",
      "6785_right.jpeg\n",
      "6786_left.jpeg\n",
      "6786_right.jpeg\n",
      "6788_left.jpeg\n"
     ]
    },
    {
     "name": "stderr",
     "output_type": "stream",
     "text": [
      "\r",
      " 81%|███████████████████████████████████████████████████████████████▍              | 4495/5531 [01:25<00:20, 51.70it/s]"
     ]
    },
    {
     "name": "stdout",
     "output_type": "stream",
     "text": [
      "6788_right.jpeg\n",
      "6793_left.jpeg\n",
      "6793_right.jpeg\n",
      "6795_left.jpeg\n",
      "6795_right.jpeg\n",
      "6796_left.jpeg\n"
     ]
    },
    {
     "name": "stderr",
     "output_type": "stream",
     "text": [
      "\r",
      " 81%|███████████████████████████████████████████████████████████████▍              | 4501/5531 [01:25<00:19, 52.98it/s]"
     ]
    },
    {
     "name": "stdout",
     "output_type": "stream",
     "text": [
      "6796_right.jpeg\n",
      "6799_left.jpeg\n",
      "6799_right.jpeg\n",
      "6800_left.jpeg\n",
      "6800_right.jpeg\n",
      "6801_left.jpeg\n"
     ]
    },
    {
     "name": "stderr",
     "output_type": "stream",
     "text": [
      "\r",
      " 81%|███████████████████████████████████████████████████████████████▌              | 4507/5531 [01:25<00:19, 52.37it/s]"
     ]
    },
    {
     "name": "stdout",
     "output_type": "stream",
     "text": [
      "6801_right.jpeg\n",
      "6806_left.jpeg\n",
      "6806_right.jpeg\n",
      "6807_left.jpeg\n",
      "6807_right.jpeg\n",
      "6808_left.jpeg\n"
     ]
    },
    {
     "name": "stderr",
     "output_type": "stream",
     "text": [
      "\r",
      " 82%|███████████████████████████████████████████████████████████████▋              | 4513/5531 [01:25<00:19, 53.04it/s]"
     ]
    },
    {
     "name": "stdout",
     "output_type": "stream",
     "text": [
      "6808_right.jpeg\n",
      "6809_left.jpeg\n",
      "6809_right.jpeg\n",
      "6810_left.jpeg\n",
      "6810_right.jpeg\n",
      "6811_left.jpeg\n",
      "6811_right.jpeg\n"
     ]
    },
    {
     "name": "stderr",
     "output_type": "stream",
     "text": [
      "\r",
      " 82%|███████████████████████████████████████████████████████████████▋              | 4520/5531 [01:25<00:18, 55.21it/s]"
     ]
    },
    {
     "name": "stdout",
     "output_type": "stream",
     "text": [
      "6816_left.jpeg\n",
      "6816_right.jpeg\n",
      "6817_left.jpeg\n",
      "6817_right.jpeg\n",
      "6819_left.jpeg\n",
      "6819_right.jpeg\n"
     ]
    },
    {
     "name": "stderr",
     "output_type": "stream",
     "text": [
      "\r",
      " 82%|███████████████████████████████████████████████████████████████▊              | 4526/5531 [01:25<00:18, 55.21it/s]"
     ]
    },
    {
     "name": "stdout",
     "output_type": "stream",
     "text": [
      "6822_left.jpeg\n",
      "6822_right.jpeg\n",
      "6823_left.jpeg\n",
      "6823_right.jpeg\n",
      "6825_left.jpeg\n",
      "6825_right.jpeg\n"
     ]
    },
    {
     "name": "stderr",
     "output_type": "stream",
     "text": [
      "\r",
      " 82%|███████████████████████████████████████████████████████████████▉              | 4532/5531 [01:26<00:17, 55.66it/s]"
     ]
    },
    {
     "name": "stdout",
     "output_type": "stream",
     "text": [
      "6827_left.jpeg\n",
      "6827_right.jpeg\n",
      "6828_left.jpeg\n",
      "6828_right.jpeg\n",
      "6831_left.jpeg\n",
      "6831_right.jpeg\n"
     ]
    },
    {
     "name": "stderr",
     "output_type": "stream",
     "text": [
      "\r",
      " 82%|███████████████████████████████████████████████████████████████▉              | 4538/5531 [01:26<00:20, 47.84it/s]"
     ]
    },
    {
     "name": "stdout",
     "output_type": "stream",
     "text": [
      "6832_left.jpeg\n",
      "6832_right.jpeg\n",
      "6833_left.jpeg\n",
      "6833_right.jpeg\n",
      "6835_left.jpeg\n"
     ]
    },
    {
     "name": "stderr",
     "output_type": "stream",
     "text": [
      "\r",
      " 82%|████████████████████████████████████████████████████████████████              | 4543/5531 [01:26<00:23, 41.83it/s]"
     ]
    },
    {
     "name": "stdout",
     "output_type": "stream",
     "text": [
      "6835_right.jpeg\n",
      "6836_left.jpeg\n",
      "6836_right.jpeg\n",
      "6837_left.jpeg\n",
      "6837_right.jpeg\n"
     ]
    },
    {
     "name": "stderr",
     "output_type": "stream",
     "text": [
      "\r",
      " 82%|████████████████████████████████████████████████████████████████▏             | 4548/5531 [01:26<00:24, 40.89it/s]"
     ]
    },
    {
     "name": "stdout",
     "output_type": "stream",
     "text": [
      "6839_left.jpeg\n",
      "6839_right.jpeg\n",
      "6840_left.jpeg\n",
      "6840_right.jpeg\n",
      "6849_left.jpeg\n",
      "6849_right.jpeg\n"
     ]
    },
    {
     "name": "stderr",
     "output_type": "stream",
     "text": [
      "\r",
      " 82%|████████████████████████████████████████████████████████████████▏             | 4554/5531 [01:26<00:21, 44.73it/s]"
     ]
    },
    {
     "name": "stdout",
     "output_type": "stream",
     "text": [
      "6850_left.jpeg\n",
      "6850_right.jpeg\n",
      "6851_left.jpeg\n",
      "6851_right.jpeg\n",
      "6854_left.jpeg\n",
      "6854_right.jpeg\n"
     ]
    },
    {
     "name": "stderr",
     "output_type": "stream",
     "text": [
      "\r",
      " 82%|████████████████████████████████████████████████████████████████▎             | 4560/5531 [01:26<00:20, 46.44it/s]"
     ]
    },
    {
     "name": "stdout",
     "output_type": "stream",
     "text": [
      "6855_left.jpeg\n",
      "6855_right.jpeg\n",
      "6857_left.jpeg\n",
      "6857_right.jpeg\n",
      "6863_left.jpeg\n",
      "6863_right.jpeg\n"
     ]
    },
    {
     "name": "stderr",
     "output_type": "stream",
     "text": [
      "\r",
      " 83%|████████████████████████████████████████████████████████████████▍             | 4566/5531 [01:26<00:19, 49.00it/s]"
     ]
    },
    {
     "name": "stdout",
     "output_type": "stream",
     "text": [
      "6865_left.jpeg\n",
      "6865_right.jpeg\n",
      "6870_left.jpeg\n",
      "6870_right.jpeg\n",
      "6872_left.jpeg\n",
      "6872_right.jpeg\n"
     ]
    },
    {
     "name": "stderr",
     "output_type": "stream",
     "text": [
      "\r",
      " 83%|████████████████████████████████████████████████████████████████▍             | 4572/5531 [01:26<00:19, 50.45it/s]"
     ]
    },
    {
     "name": "stdout",
     "output_type": "stream",
     "text": [
      "6874_left.jpeg\n",
      "6874_right.jpeg\n",
      "6875_left.jpeg\n",
      "6875_right.jpeg\n",
      "6878_left.jpeg\n",
      "6878_right.jpeg\n"
     ]
    },
    {
     "name": "stderr",
     "output_type": "stream",
     "text": [
      "\r",
      " 83%|████████████████████████████████████████████████████████████████▌             | 4578/5531 [01:27<00:18, 52.88it/s]"
     ]
    },
    {
     "name": "stdout",
     "output_type": "stream",
     "text": [
      "6879_left.jpeg\n",
      "6879_right.jpeg\n",
      "6881_left.jpeg\n",
      "6881_right.jpeg\n",
      "6883_left.jpeg\n",
      "6883_right.jpeg\n",
      "6886_left.jpeg\n"
     ]
    },
    {
     "name": "stderr",
     "output_type": "stream",
     "text": [
      "\r",
      " 83%|████████████████████████████████████████████████████████████████▋             | 4585/5531 [01:27<00:17, 55.09it/s]"
     ]
    },
    {
     "name": "stdout",
     "output_type": "stream",
     "text": [
      "6886_right.jpeg\n",
      "6888_left.jpeg\n",
      "6888_right.jpeg\n",
      "6889_left.jpeg\n",
      "6889_right.jpeg\n",
      "6896_left.jpeg\n"
     ]
    },
    {
     "name": "stderr",
     "output_type": "stream",
     "text": [
      "\r",
      " 83%|████████████████████████████████████████████████████████████████▋             | 4591/5531 [01:27<00:17, 52.80it/s]"
     ]
    },
    {
     "name": "stdout",
     "output_type": "stream",
     "text": [
      "6896_right.jpeg\n",
      "6898_left.jpeg\n",
      "6898_right.jpeg\n",
      "6901_left.jpeg\n",
      "6901_right.jpeg\n",
      "6915_left.jpeg\n",
      "6915_right.jpeg\n"
     ]
    },
    {
     "name": "stderr",
     "output_type": "stream",
     "text": [
      "\r",
      " 83%|████████████████████████████████████████████████████████████████▊             | 4598/5531 [01:27<00:16, 55.28it/s]"
     ]
    },
    {
     "name": "stdout",
     "output_type": "stream",
     "text": [
      "6917_left.jpeg\n",
      "6917_right.jpeg\n",
      "6918_left.jpeg\n",
      "6918_right.jpeg\n",
      "6920_left.jpeg\n",
      "6920_right.jpeg\n"
     ]
    },
    {
     "name": "stderr",
     "output_type": "stream",
     "text": [
      "\r",
      " 83%|████████████████████████████████████████████████████████████████▉             | 4604/5531 [01:27<00:16, 54.80it/s]"
     ]
    },
    {
     "name": "stdout",
     "output_type": "stream",
     "text": [
      "6923_left.jpeg\n",
      "6923_right.jpeg\n",
      "6927_left.jpeg\n",
      "6927_right.jpeg\n",
      "6936_left.jpeg\n",
      "6936_right.jpeg\n",
      "6937_left.jpeg\n"
     ]
    },
    {
     "name": "stderr",
     "output_type": "stream",
     "text": [
      "\r",
      " 83%|█████████████████████████████████████████████████████████████████             | 4611/5531 [01:27<00:16, 56.53it/s]"
     ]
    },
    {
     "name": "stdout",
     "output_type": "stream",
     "text": [
      "6937_right.jpeg\n",
      "6938_left.jpeg\n",
      "6938_right.jpeg\n",
      "6940_left.jpeg\n",
      "6940_right.jpeg\n",
      "6943_left.jpeg\n"
     ]
    },
    {
     "name": "stderr",
     "output_type": "stream",
     "text": [
      "\r",
      " 83%|█████████████████████████████████████████████████████████████████             | 4617/5531 [01:27<00:16, 54.30it/s]"
     ]
    },
    {
     "name": "stdout",
     "output_type": "stream",
     "text": [
      "6943_right.jpeg\n",
      "6947_left.jpeg\n",
      "6947_right.jpeg\n",
      "6956_left.jpeg\n",
      "6956_right.jpeg\n",
      "6958_left.jpeg\n"
     ]
    },
    {
     "name": "stderr",
     "output_type": "stream",
     "text": [
      "\r",
      " 84%|█████████████████████████████████████████████████████████████████▏            | 4623/5531 [01:27<00:17, 51.09it/s]"
     ]
    },
    {
     "name": "stdout",
     "output_type": "stream",
     "text": [
      "6958_right.jpeg\n",
      "6962_left.jpeg\n",
      "6962_right.jpeg\n",
      "6963_left.jpeg\n",
      "6963_right.jpeg\n",
      "6964_left.jpeg\n",
      "6964_right.jpeg\n"
     ]
    },
    {
     "name": "stderr",
     "output_type": "stream",
     "text": [
      "\r",
      " 84%|█████████████████████████████████████████████████████████████████▎            | 4630/5531 [01:27<00:16, 53.72it/s]"
     ]
    },
    {
     "name": "stdout",
     "output_type": "stream",
     "text": [
      "6965_left.jpeg\n",
      "6965_right.jpeg\n",
      "6967_left.jpeg\n",
      "6967_right.jpeg\n",
      "6970_left.jpeg\n",
      "6970_right.jpeg\n"
     ]
    },
    {
     "name": "stderr",
     "output_type": "stream",
     "text": [
      "\r",
      " 84%|█████████████████████████████████████████████████████████████████▍            | 4636/5531 [01:28<00:16, 55.04it/s]"
     ]
    },
    {
     "name": "stdout",
     "output_type": "stream",
     "text": [
      "6971_left.jpeg\n",
      "6971_right.jpeg\n",
      "6972_left.jpeg\n",
      "6972_right.jpeg\n",
      "6975_left.jpeg\n",
      "6975_right.jpeg\n",
      "6977_left.jpeg\n"
     ]
    },
    {
     "name": "stderr",
     "output_type": "stream",
     "text": [
      "\r",
      " 84%|█████████████████████████████████████████████████████████████████▍            | 4643/5531 [01:28<00:15, 56.71it/s]"
     ]
    },
    {
     "name": "stdout",
     "output_type": "stream",
     "text": [
      "6977_right.jpeg\n",
      "6978_left.jpeg\n",
      "6978_right.jpeg\n",
      "6983_left.jpeg\n",
      "6983_right.jpeg\n",
      "6984_left.jpeg\n",
      "6984_right.jpeg\n"
     ]
    },
    {
     "name": "stderr",
     "output_type": "stream",
     "text": [
      "\r",
      " 84%|█████████████████████████████████████████████████████████████████▌            | 4650/5531 [01:28<00:14, 59.41it/s]"
     ]
    },
    {
     "name": "stdout",
     "output_type": "stream",
     "text": [
      "6986_left.jpeg\n",
      "6986_right.jpeg\n",
      "6987_left.jpeg\n",
      "6987_right.jpeg\n",
      "6990_left.jpeg\n",
      "6990_right.jpeg\n",
      "6995_left.jpeg\n",
      "6995_right.jpeg\n",
      "6997_left.jpeg\n"
     ]
    },
    {
     "name": "stderr",
     "output_type": "stream",
     "text": [
      "\r",
      " 84%|█████████████████████████████████████████████████████████████████▋            | 4659/5531 [01:28<00:13, 64.49it/s]"
     ]
    },
    {
     "name": "stdout",
     "output_type": "stream",
     "text": [
      "6997_right.jpeg\n",
      "7003_left.jpeg\n",
      "7003_right.jpeg\n",
      "7008_left.jpeg\n",
      "7008_right.jpeg\n",
      "7009_left.jpeg\n",
      "7009_right.jpeg\n",
      "7011_left.jpeg\n",
      "7011_right.jpeg\n"
     ]
    },
    {
     "name": "stderr",
     "output_type": "stream",
     "text": [
      "\r",
      " 84%|█████████████████████████████████████████████████████████████████▊            | 4668/5531 [01:28<00:12, 69.55it/s]"
     ]
    },
    {
     "name": "stdout",
     "output_type": "stream",
     "text": [
      "7013_left.jpeg\n",
      "7013_right.jpeg\n",
      "7014_left.jpeg\n",
      "7014_right.jpeg\n",
      "7016_left.jpeg\n",
      "7016_right.jpeg\n",
      "7017_left.jpeg\n",
      "7017_right.jpeg\n",
      "7020_left.jpeg\n",
      "7020_right.jpeg\n"
     ]
    },
    {
     "name": "stderr",
     "output_type": "stream",
     "text": [
      "\r",
      " 85%|█████████████████████████████████████████████████████████████████▉            | 4678/5531 [01:28<00:11, 75.04it/s]"
     ]
    },
    {
     "name": "stdout",
     "output_type": "stream",
     "text": [
      "7022_left.jpeg\n",
      "7022_right.jpeg\n",
      "7024_left.jpeg\n",
      "7024_right.jpeg\n",
      "7025_left.jpeg\n",
      "7025_right.jpeg\n",
      "7026_left.jpeg\n",
      "7026_right.jpeg\n"
     ]
    },
    {
     "name": "stderr",
     "output_type": "stream",
     "text": [
      "\r",
      " 85%|██████████████████████████████████████████████████████████████████            | 4686/5531 [01:28<00:11, 70.47it/s]"
     ]
    },
    {
     "name": "stdout",
     "output_type": "stream",
     "text": [
      "7032_left.jpeg\n",
      "7032_right.jpeg\n",
      "7035_left.jpeg\n",
      "7035_right.jpeg\n",
      "7036_left.jpeg\n",
      "7036_right.jpeg\n",
      "7038_left.jpeg\n",
      "7038_right.jpeg\n",
      "7048_left.jpeg\n",
      "7048_right.jpeg\n"
     ]
    },
    {
     "name": "stderr",
     "output_type": "stream",
     "text": [
      "\r",
      " 85%|██████████████████████████████████████████████████████████████████▏           | 4696/5531 [01:28<00:10, 76.48it/s]"
     ]
    },
    {
     "name": "stdout",
     "output_type": "stream",
     "text": [
      "7050_left.jpeg\n",
      "7050_right.jpeg\n",
      "7051_left.jpeg\n",
      "7051_right.jpeg\n",
      "7057_left.jpeg\n",
      "7057_right.jpeg\n",
      "7058_left.jpeg\n",
      "7058_right.jpeg\n"
     ]
    },
    {
     "name": "stderr",
     "output_type": "stream",
     "text": [
      "\r",
      " 85%|██████████████████████████████████████████████████████████████████▎           | 4704/5531 [01:28<00:10, 76.24it/s]"
     ]
    },
    {
     "name": "stdout",
     "output_type": "stream",
     "text": [
      "7059_left.jpeg\n",
      "7059_right.jpeg\n",
      "7060_left.jpeg\n",
      "7060_right.jpeg\n",
      "7061_left.jpeg\n",
      "7061_right.jpeg\n",
      "7063_left.jpeg\n",
      "7063_right.jpeg\n",
      "7065_left.jpeg\n",
      "7065_right.jpeg\n"
     ]
    },
    {
     "name": "stderr",
     "output_type": "stream",
     "text": [
      "\r",
      " 85%|██████████████████████████████████████████████████████████████████▍           | 4714/5531 [01:29<00:10, 81.15it/s]"
     ]
    },
    {
     "name": "stdout",
     "output_type": "stream",
     "text": [
      "7067_left.jpeg\n",
      "7067_right.jpeg\n",
      "7070_left.jpeg\n",
      "7070_right.jpeg\n",
      "7073_left.jpeg\n",
      "7073_right.jpeg\n",
      "7075_left.jpeg\n",
      "7075_right.jpeg\n",
      "7082_left.jpeg\n",
      "7082_right.jpeg\n"
     ]
    },
    {
     "name": "stderr",
     "output_type": "stream",
     "text": [
      "\r",
      " 85%|██████████████████████████████████████████████████████████████████▌           | 4724/5531 [01:29<00:09, 83.91it/s]"
     ]
    },
    {
     "name": "stdout",
     "output_type": "stream",
     "text": [
      "7083_left.jpeg\n",
      "7083_right.jpeg\n",
      "7084_left.jpeg\n",
      "7084_right.jpeg\n",
      "7085_left.jpeg\n",
      "7085_right.jpeg\n",
      "7087_left.jpeg\n",
      "7087_right.jpeg\n",
      "7088_left.jpeg\n"
     ]
    },
    {
     "name": "stderr",
     "output_type": "stream",
     "text": [
      "\r",
      " 86%|██████████████████████████████████████████████████████████████████▋           | 4733/5531 [01:29<00:09, 82.65it/s]"
     ]
    },
    {
     "name": "stdout",
     "output_type": "stream",
     "text": [
      "7088_right.jpeg\n",
      "7091_left.jpeg\n",
      "7091_right.jpeg\n",
      "7092_left.jpeg\n",
      "7092_right.jpeg\n",
      "7093_left.jpeg\n",
      "7093_right.jpeg\n",
      "7094_left.jpeg\n",
      "7094_right.jpeg\n"
     ]
    },
    {
     "name": "stderr",
     "output_type": "stream",
     "text": [
      "\r",
      " 86%|██████████████████████████████████████████████████████████████████▊           | 4742/5531 [01:29<00:09, 81.13it/s]"
     ]
    },
    {
     "name": "stdout",
     "output_type": "stream",
     "text": [
      "7098_left.jpeg\n",
      "7098_right.jpeg\n",
      "7106_left.jpeg\n",
      "7106_right.jpeg\n",
      "7107_left.jpeg\n",
      "7107_right.jpeg\n",
      "7108_left.jpeg\n",
      "7108_right.jpeg\n",
      "7109_left.jpeg\n",
      "7109_right.jpeg\n"
     ]
    },
    {
     "name": "stderr",
     "output_type": "stream",
     "text": [
      "\r",
      " 86%|███████████████████████████████████████████████████████████████████           | 4752/5531 [01:29<00:09, 83.69it/s]"
     ]
    },
    {
     "name": "stdout",
     "output_type": "stream",
     "text": [
      "7110_left.jpeg\n",
      "7110_right.jpeg\n",
      "7111_left.jpeg\n",
      "7111_right.jpeg\n",
      "7117_left.jpeg\n",
      "7117_right.jpeg\n",
      "7119_left.jpeg\n",
      "7119_right.jpeg\n",
      "7120_left.jpeg\n"
     ]
    },
    {
     "name": "stderr",
     "output_type": "stream",
     "text": [
      "\r",
      " 86%|███████████████████████████████████████████████████████████████████▏          | 4761/5531 [01:29<00:10, 76.62it/s]"
     ]
    },
    {
     "name": "stdout",
     "output_type": "stream",
     "text": [
      "7120_right.jpeg\n",
      "7130_left.jpeg\n",
      "7130_right.jpeg\n",
      "7131_left.jpeg\n",
      "7131_right.jpeg\n",
      "7133_left.jpeg\n",
      "7133_right.jpeg\n",
      "7137_left.jpeg\n",
      "7137_right.jpeg\n"
     ]
    },
    {
     "name": "stderr",
     "output_type": "stream",
     "text": [
      "\r",
      " 86%|███████████████████████████████████████████████████████████████████▎          | 4770/5531 [01:29<00:09, 80.04it/s]"
     ]
    },
    {
     "name": "stdout",
     "output_type": "stream",
     "text": [
      "7139_left.jpeg\n",
      "7139_right.jpeg\n",
      "7142_left.jpeg\n",
      "7142_right.jpeg\n",
      "7144_left.jpeg\n",
      "7144_right.jpeg\n",
      "7151_left.jpeg\n",
      "7151_right.jpeg\n",
      "7156_left.jpeg\n",
      "7156_right.jpeg\n"
     ]
    },
    {
     "name": "stderr",
     "output_type": "stream",
     "text": [
      "\r",
      " 86%|███████████████████████████████████████████████████████████████████▍          | 4780/5531 [01:29<00:09, 81.65it/s]"
     ]
    },
    {
     "name": "stdout",
     "output_type": "stream",
     "text": [
      "7158_left.jpeg\n",
      "7158_right.jpeg\n",
      "7162_left.jpeg\n",
      "7162_right.jpeg\n",
      "7164_left.jpeg\n",
      "7164_right.jpeg\n",
      "7167_left.jpeg\n",
      "7167_right.jpeg\n",
      "7169_left.jpeg\n"
     ]
    },
    {
     "name": "stderr",
     "output_type": "stream",
     "text": [
      "\r",
      " 87%|███████████████████████████████████████████████████████████████████▌          | 4789/5531 [01:29<00:09, 77.75it/s]"
     ]
    },
    {
     "name": "stdout",
     "output_type": "stream",
     "text": [
      "7169_right.jpeg\n",
      "7171_left.jpeg\n",
      "7171_right.jpeg\n",
      "7172_left.jpeg\n",
      "7172_right.jpeg\n",
      "7173_left.jpeg\n",
      "7173_right.jpeg\n",
      "7174_left.jpeg\n",
      "7174_right.jpeg\n",
      "7175_left.jpeg\n"
     ]
    },
    {
     "name": "stderr",
     "output_type": "stream",
     "text": [
      "\r",
      " 87%|███████████████████████████████████████████████████████████████████▋          | 4799/5531 [01:30<00:08, 81.54it/s]"
     ]
    },
    {
     "name": "stdout",
     "output_type": "stream",
     "text": [
      "7175_right.jpeg\n",
      "7179_left.jpeg\n",
      "7179_right.jpeg\n",
      "7182_left.jpeg\n",
      "7182_right.jpeg\n",
      "7185_left.jpeg\n",
      "7185_right.jpeg\n",
      "7187_left.jpeg\n",
      "7187_right.jpeg\n"
     ]
    },
    {
     "name": "stderr",
     "output_type": "stream",
     "text": [
      "\r",
      " 87%|███████████████████████████████████████████████████████████████████▊          | 4808/5531 [01:30<00:09, 76.11it/s]"
     ]
    },
    {
     "name": "stdout",
     "output_type": "stream",
     "text": [
      "7190_left.jpeg\n",
      "7190_right.jpeg\n",
      "7192_left.jpeg\n",
      "7192_right.jpeg\n",
      "7193_left.jpeg\n",
      "7193_right.jpeg\n",
      "7198_left.jpeg\n",
      "7198_right.jpeg\n"
     ]
    },
    {
     "name": "stderr",
     "output_type": "stream",
     "text": [
      "\r",
      " 87%|███████████████████████████████████████████████████████████████████▉          | 4816/5531 [01:30<00:11, 62.49it/s]"
     ]
    },
    {
     "name": "stdout",
     "output_type": "stream",
     "text": [
      "7346_right.jpeg\n",
      "7349_left.jpeg\n",
      "7349_right.jpeg\n",
      "7351_left.jpeg\n",
      "7351_right.jpeg\n",
      "7352_left.jpeg\n",
      "7352_right.jpeg\n"
     ]
    },
    {
     "name": "stderr",
     "output_type": "stream",
     "text": [
      "\r",
      " 87%|████████████████████████████████████████████████████████████████████          | 4823/5531 [01:30<00:11, 62.54it/s]"
     ]
    },
    {
     "name": "stdout",
     "output_type": "stream",
     "text": [
      "7354_left.jpeg\n",
      "7354_right.jpeg\n",
      "7357_left.jpeg\n",
      "7357_right.jpeg\n",
      "7359_left.jpeg\n",
      "7359_right.jpeg\n",
      "7360_left.jpeg\n"
     ]
    },
    {
     "name": "stderr",
     "output_type": "stream",
     "text": [
      "\r",
      " 87%|████████████████████████████████████████████████████████████████████          | 4830/5531 [01:30<00:11, 61.11it/s]"
     ]
    },
    {
     "name": "stdout",
     "output_type": "stream",
     "text": [
      "7360_right.jpeg\n",
      "7361_left.jpeg\n",
      "7361_right.jpeg\n",
      "7363_left.jpeg\n",
      "7363_right.jpeg\n",
      "7366_left.jpeg\n",
      "7366_right.jpeg\n"
     ]
    },
    {
     "name": "stderr",
     "output_type": "stream",
     "text": [
      "\r",
      " 87%|████████████████████████████████████████████████████████████████████▏         | 4837/5531 [01:30<00:11, 57.91it/s]"
     ]
    },
    {
     "name": "stdout",
     "output_type": "stream",
     "text": [
      "7368_left.jpeg\n",
      "7368_right.jpeg\n",
      "7371_left.jpeg\n",
      "7371_right.jpeg\n",
      "7375_left.jpeg\n",
      "7375_right.jpeg\n",
      "7378_left.jpeg\n"
     ]
    },
    {
     "name": "stderr",
     "output_type": "stream",
     "text": [
      "\r",
      " 88%|████████████████████████████████████████████████████████████████████▎         | 4844/5531 [01:30<00:12, 57.23it/s]"
     ]
    },
    {
     "name": "stdout",
     "output_type": "stream",
     "text": [
      "7378_right.jpeg\n",
      "7379_left.jpeg\n",
      "7379_right.jpeg\n",
      "7383_left.jpeg\n",
      "7383_right.jpeg\n",
      "7390_left.jpeg\n"
     ]
    },
    {
     "name": "stderr",
     "output_type": "stream",
     "text": [
      "\r",
      " 88%|████████████████████████████████████████████████████████████████████▍         | 4850/5531 [01:31<00:12, 56.60it/s]"
     ]
    },
    {
     "name": "stdout",
     "output_type": "stream",
     "text": [
      "7390_right.jpeg\n",
      "7391_left.jpeg\n",
      "7391_right.jpeg\n",
      "7393_left.jpeg\n",
      "7393_right.jpeg\n",
      "7395_left.jpeg\n"
     ]
    },
    {
     "name": "stderr",
     "output_type": "stream",
     "text": [
      "\r",
      " 88%|████████████████████████████████████████████████████████████████████▍         | 4856/5531 [01:31<00:12, 55.86it/s]"
     ]
    },
    {
     "name": "stdout",
     "output_type": "stream",
     "text": [
      "7395_right.jpeg\n",
      "7396_left.jpeg\n",
      "7396_right.jpeg\n",
      "7397_left.jpeg\n",
      "7397_right.jpeg\n",
      "7398_left.jpeg\n"
     ]
    },
    {
     "name": "stderr",
     "output_type": "stream",
     "text": [
      "\r",
      " 88%|████████████████████████████████████████████████████████████████████▌         | 4862/5531 [01:31<00:12, 54.60it/s]"
     ]
    },
    {
     "name": "stdout",
     "output_type": "stream",
     "text": [
      "7398_right.jpeg\n",
      "7403_left.jpeg\n",
      "7403_right.jpeg\n",
      "7404_left.jpeg\n",
      "7404_right.jpeg\n",
      "7405_left.jpeg\n"
     ]
    },
    {
     "name": "stderr",
     "output_type": "stream",
     "text": [
      "\r",
      " 88%|████████████████████████████████████████████████████████████████████▋         | 4868/5531 [01:31<00:12, 52.21it/s]"
     ]
    },
    {
     "name": "stdout",
     "output_type": "stream",
     "text": [
      "7405_right.jpeg\n",
      "7410_left.jpeg\n",
      "7410_right.jpeg\n",
      "7411_left.jpeg\n",
      "7411_right.jpeg\n",
      "7415_left.jpeg\n"
     ]
    },
    {
     "name": "stderr",
     "output_type": "stream",
     "text": [
      "\r",
      " 88%|████████████████████████████████████████████████████████████████████▋         | 4874/5531 [01:31<00:12, 53.78it/s]"
     ]
    },
    {
     "name": "stdout",
     "output_type": "stream",
     "text": [
      "7415_right.jpeg\n",
      "7417_left.jpeg\n",
      "7417_right.jpeg\n",
      "7419_left.jpeg\n",
      "7419_right.jpeg\n",
      "7425_left.jpeg\n"
     ]
    },
    {
     "name": "stderr",
     "output_type": "stream",
     "text": [
      "\r",
      " 88%|████████████████████████████████████████████████████████████████████▊         | 4880/5531 [01:31<00:11, 54.79it/s]"
     ]
    },
    {
     "name": "stdout",
     "output_type": "stream",
     "text": [
      "7425_right.jpeg\n",
      "7426_left.jpeg\n",
      "7426_right.jpeg\n",
      "7429_left.jpeg\n",
      "7429_right.jpeg\n",
      "7430_left.jpeg\n"
     ]
    },
    {
     "name": "stderr",
     "output_type": "stream",
     "text": [
      "\r",
      " 88%|████████████████████████████████████████████████████████████████████▉         | 4886/5531 [01:31<00:12, 52.74it/s]"
     ]
    },
    {
     "name": "stdout",
     "output_type": "stream",
     "text": [
      "7430_right.jpeg\n",
      "7437_left.jpeg\n",
      "7437_right.jpeg\n",
      "7438_left.jpeg\n",
      "7438_right.jpeg\n",
      "7439_left.jpeg\n"
     ]
    },
    {
     "name": "stderr",
     "output_type": "stream",
     "text": [
      "\r",
      " 88%|████████████████████████████████████████████████████████████████████▉         | 4892/5531 [01:31<00:12, 52.89it/s]"
     ]
    },
    {
     "name": "stdout",
     "output_type": "stream",
     "text": [
      "7439_right.jpeg\n",
      "7445_left.jpeg\n",
      "7445_right.jpeg\n",
      "7446_left.jpeg\n",
      "7446_right.jpeg\n",
      "7448_left.jpeg\n"
     ]
    },
    {
     "name": "stderr",
     "output_type": "stream",
     "text": [
      "\r",
      " 89%|█████████████████████████████████████████████████████████████████████         | 4898/5531 [01:31<00:11, 54.43it/s]"
     ]
    },
    {
     "name": "stdout",
     "output_type": "stream",
     "text": [
      "7448_right.jpeg\n",
      "7457_left.jpeg\n",
      "7457_right.jpeg\n",
      "7459_left.jpeg\n",
      "7459_right.jpeg\n",
      "7460_left.jpeg\n"
     ]
    },
    {
     "name": "stderr",
     "output_type": "stream",
     "text": [
      "\r",
      " 89%|█████████████████████████████████████████████████████████████████████▏        | 4904/5531 [01:32<00:11, 54.96it/s]"
     ]
    },
    {
     "name": "stdout",
     "output_type": "stream",
     "text": [
      "7460_right.jpeg\n",
      "7461_left.jpeg\n",
      "7461_right.jpeg\n",
      "7463_left.jpeg\n",
      "7463_right.jpeg\n",
      "7464_left.jpeg\n"
     ]
    },
    {
     "name": "stderr",
     "output_type": "stream",
     "text": [
      "\r",
      " 89%|█████████████████████████████████████████████████████████████████████▏        | 4910/5531 [01:32<00:11, 55.18it/s]"
     ]
    },
    {
     "name": "stdout",
     "output_type": "stream",
     "text": [
      "7464_right.jpeg\n",
      "7466_left.jpeg\n",
      "7466_right.jpeg\n",
      "7468_left.jpeg\n",
      "7468_right.jpeg\n",
      "7470_left.jpeg\n"
     ]
    },
    {
     "name": "stderr",
     "output_type": "stream",
     "text": [
      "\r",
      " 89%|█████████████████████████████████████████████████████████████████████▎        | 4916/5531 [01:32<00:12, 50.46it/s]"
     ]
    },
    {
     "name": "stdout",
     "output_type": "stream",
     "text": [
      "7470_right.jpeg\n",
      "7474_left.jpeg\n",
      "7474_right.jpeg\n",
      "7475_left.jpeg\n",
      "7475_right.jpeg\n",
      "7481_left.jpeg\n"
     ]
    },
    {
     "name": "stderr",
     "output_type": "stream",
     "text": [
      "\r",
      " 89%|█████████████████████████████████████████████████████████████████████▍        | 4922/5531 [01:32<00:11, 51.13it/s]"
     ]
    },
    {
     "name": "stdout",
     "output_type": "stream",
     "text": [
      "7481_right.jpeg\n",
      "7486_left.jpeg\n",
      "7486_right.jpeg\n",
      "7487_left.jpeg\n",
      "7487_right.jpeg\n",
      "7492_left.jpeg\n"
     ]
    },
    {
     "name": "stderr",
     "output_type": "stream",
     "text": [
      "\r",
      " 89%|█████████████████████████████████████████████████████████████████████▍        | 4928/5531 [01:32<00:11, 50.83it/s]"
     ]
    },
    {
     "name": "stdout",
     "output_type": "stream",
     "text": [
      "7492_right.jpeg\n",
      "7494_left.jpeg\n",
      "7494_right.jpeg\n",
      "7497_left.jpeg\n",
      "7497_right.jpeg\n",
      "7502_left.jpeg\n"
     ]
    },
    {
     "name": "stderr",
     "output_type": "stream",
     "text": [
      "\r",
      " 89%|█████████████████████████████████████████████████████████████████████▌        | 4934/5531 [01:32<00:11, 52.75it/s]"
     ]
    },
    {
     "name": "stdout",
     "output_type": "stream",
     "text": [
      "7502_right.jpeg\n",
      "7504_left.jpeg\n",
      "7504_right.jpeg\n",
      "7505_left.jpeg\n",
      "7505_right.jpeg\n",
      "7506_left.jpeg\n"
     ]
    },
    {
     "name": "stderr",
     "output_type": "stream",
     "text": [
      "\r",
      " 89%|█████████████████████████████████████████████████████████████████████▋        | 4940/5531 [01:32<00:11, 51.67it/s]"
     ]
    },
    {
     "name": "stdout",
     "output_type": "stream",
     "text": [
      "7506_right.jpeg\n",
      "7512_left.jpeg\n",
      "7512_right.jpeg\n",
      "7514_left.jpeg\n",
      "7514_right.jpeg\n",
      "7515_left.jpeg\n",
      "7515_right.jpeg\n"
     ]
    },
    {
     "name": "stderr",
     "output_type": "stream",
     "text": [
      "\r",
      " 89%|█████████████████████████████████████████████████████████████████████▊        | 4947/5531 [01:32<00:10, 54.41it/s]"
     ]
    },
    {
     "name": "stdout",
     "output_type": "stream",
     "text": [
      "7516_left.jpeg\n",
      "7516_right.jpeg\n",
      "7518_left.jpeg\n",
      "7518_right.jpeg\n",
      "7520_left.jpeg\n",
      "7520_right.jpeg\n",
      "7521_left.jpeg\n"
     ]
    },
    {
     "name": "stderr",
     "output_type": "stream",
     "text": [
      "\r",
      " 90%|█████████████████████████████████████████████████████████████████████▊        | 4954/5531 [01:32<00:10, 56.38it/s]"
     ]
    },
    {
     "name": "stdout",
     "output_type": "stream",
     "text": [
      "7521_right.jpeg\n",
      "7522_left.jpeg\n",
      "7522_right.jpeg\n",
      "7523_left.jpeg\n",
      "7523_right.jpeg\n",
      "7527_left.jpeg\n"
     ]
    },
    {
     "name": "stderr",
     "output_type": "stream",
     "text": [
      "\r",
      " 90%|█████████████████████████████████████████████████████████████████████▉        | 4960/5531 [01:33<00:10, 55.71it/s]"
     ]
    },
    {
     "name": "stdout",
     "output_type": "stream",
     "text": [
      "7527_right.jpeg\n",
      "7531_left.jpeg\n",
      "7531_right.jpeg\n",
      "7533_left.jpeg\n",
      "7533_right.jpeg\n",
      "7544_left.jpeg\n"
     ]
    },
    {
     "name": "stderr",
     "output_type": "stream",
     "text": [
      "\r",
      " 90%|██████████████████████████████████████████████████████████████████████        | 4966/5531 [01:33<00:10, 54.49it/s]"
     ]
    },
    {
     "name": "stdout",
     "output_type": "stream",
     "text": [
      "7544_right.jpeg\n",
      "7550_left.jpeg\n",
      "7550_right.jpeg\n",
      "7552_left.jpeg\n",
      "7552_right.jpeg\n",
      "7553_left.jpeg\n"
     ]
    },
    {
     "name": "stderr",
     "output_type": "stream",
     "text": [
      "\r",
      " 90%|██████████████████████████████████████████████████████████████████████        | 4972/5531 [01:33<00:10, 54.41it/s]"
     ]
    },
    {
     "name": "stdout",
     "output_type": "stream",
     "text": [
      "7553_right.jpeg\n",
      "7554_left.jpeg\n",
      "7554_right.jpeg\n",
      "7555_left.jpeg\n",
      "7555_right.jpeg\n",
      "7556_left.jpeg\n"
     ]
    },
    {
     "name": "stderr",
     "output_type": "stream",
     "text": [
      "\r",
      " 90%|██████████████████████████████████████████████████████████████████████▏       | 4978/5531 [01:33<00:10, 54.20it/s]"
     ]
    },
    {
     "name": "stdout",
     "output_type": "stream",
     "text": [
      "7556_right.jpeg\n",
      "7558_left.jpeg\n",
      "7558_right.jpeg\n",
      "7559_left.jpeg\n",
      "7559_right.jpeg\n",
      "7560_left.jpeg\n"
     ]
    },
    {
     "name": "stderr",
     "output_type": "stream",
     "text": [
      "\r",
      " 90%|██████████████████████████████████████████████████████████████████████▎       | 4984/5531 [01:33<00:10, 54.64it/s]"
     ]
    },
    {
     "name": "stdout",
     "output_type": "stream",
     "text": [
      "7560_right.jpeg\n",
      "7563_left.jpeg\n",
      "7563_right.jpeg\n",
      "7568_left.jpeg\n",
      "7568_right.jpeg\n",
      "7573_left.jpeg\n",
      "7573_right.jpeg\n"
     ]
    },
    {
     "name": "stderr",
     "output_type": "stream",
     "text": [
      "\r",
      " 90%|██████████████████████████████████████████████████████████████████████▍       | 4991/5531 [01:33<00:09, 56.41it/s]"
     ]
    },
    {
     "name": "stdout",
     "output_type": "stream",
     "text": [
      "7574_left.jpeg\n",
      "7574_right.jpeg\n",
      "7579_left.jpeg\n",
      "7579_right.jpeg\n",
      "7580_left.jpeg\n",
      "7580_right.jpeg\n"
     ]
    },
    {
     "name": "stderr",
     "output_type": "stream",
     "text": [
      "\r",
      " 90%|██████████████████████████████████████████████████████████████████████▍       | 4997/5531 [01:33<00:09, 56.67it/s]"
     ]
    },
    {
     "name": "stdout",
     "output_type": "stream",
     "text": [
      "7582_left.jpeg\n",
      "7582_right.jpeg\n",
      "7586_left.jpeg\n",
      "7586_right.jpeg\n",
      "7588_left.jpeg\n",
      "7588_right.jpeg\n"
     ]
    },
    {
     "name": "stderr",
     "output_type": "stream",
     "text": [
      "\r",
      " 90%|██████████████████████████████████████████████████████████████████████▌       | 5003/5531 [01:33<00:09, 56.86it/s]"
     ]
    },
    {
     "name": "stdout",
     "output_type": "stream",
     "text": [
      "7589_left.jpeg\n",
      "7589_right.jpeg\n",
      "7590_left.jpeg\n",
      "7590_right.jpeg\n",
      "7591_left.jpeg\n",
      "7591_right.jpeg\n"
     ]
    },
    {
     "name": "stderr",
     "output_type": "stream",
     "text": [
      "\r",
      " 91%|██████████████████████████████████████████████████████████████████████▋       | 5009/5531 [01:33<00:09, 55.57it/s]"
     ]
    },
    {
     "name": "stdout",
     "output_type": "stream",
     "text": [
      "7596_left.jpeg\n",
      "7596_right.jpeg\n",
      "7597_left.jpeg\n",
      "7597_right.jpeg\n",
      "7601_left.jpeg\n",
      "7601_right.jpeg\n"
     ]
    },
    {
     "name": "stderr",
     "output_type": "stream",
     "text": [
      "\r",
      " 91%|██████████████████████████████████████████████████████████████████████▋       | 5015/5531 [01:34<00:09, 54.55it/s]"
     ]
    },
    {
     "name": "stdout",
     "output_type": "stream",
     "text": [
      "7603_left.jpeg\n",
      "7603_right.jpeg\n",
      "7605_left.jpeg\n",
      "7605_right.jpeg\n",
      "7606_left.jpeg\n",
      "7606_right.jpeg\n"
     ]
    },
    {
     "name": "stderr",
     "output_type": "stream",
     "text": [
      "\r",
      " 91%|██████████████████████████████████████████████████████████████████████▊       | 5021/5531 [01:34<00:09, 52.87it/s]"
     ]
    },
    {
     "name": "stdout",
     "output_type": "stream",
     "text": [
      "7607_left.jpeg\n",
      "7607_right.jpeg\n",
      "7608_left.jpeg\n",
      "7608_right.jpeg\n",
      "7612_left.jpeg\n",
      "7612_right.jpeg\n"
     ]
    },
    {
     "name": "stderr",
     "output_type": "stream",
     "text": [
      "\r",
      " 91%|██████████████████████████████████████████████████████████████████████▉       | 5027/5531 [01:34<00:09, 52.70it/s]"
     ]
    },
    {
     "name": "stdout",
     "output_type": "stream",
     "text": [
      "7613_left.jpeg\n",
      "7613_right.jpeg\n",
      "7615_left.jpeg\n",
      "7615_right.jpeg\n",
      "7616_left.jpeg\n",
      "7616_right.jpeg\n"
     ]
    },
    {
     "name": "stderr",
     "output_type": "stream",
     "text": [
      "\r",
      " 91%|██████████████████████████████████████████████████████████████████████▉       | 5033/5531 [01:34<00:09, 52.31it/s]"
     ]
    },
    {
     "name": "stdout",
     "output_type": "stream",
     "text": [
      "7617_left.jpeg\n",
      "7617_right.jpeg\n",
      "7623_left.jpeg\n",
      "7623_right.jpeg\n",
      "7629_left.jpeg\n",
      "7629_right.jpeg\n",
      "7631_left.jpeg\n"
     ]
    },
    {
     "name": "stderr",
     "output_type": "stream",
     "text": [
      "\r",
      " 91%|███████████████████████████████████████████████████████████████████████       | 5040/5531 [01:34<00:08, 55.17it/s]"
     ]
    },
    {
     "name": "stdout",
     "output_type": "stream",
     "text": [
      "7631_right.jpeg\n",
      "7633_left.jpeg\n",
      "7633_right.jpeg\n",
      "7637_left.jpeg\n",
      "7637_right.jpeg\n",
      "7638_left.jpeg\n"
     ]
    },
    {
     "name": "stderr",
     "output_type": "stream",
     "text": [
      "\r",
      " 91%|███████████████████████████████████████████████████████████████████████▏      | 5046/5531 [01:34<00:08, 55.48it/s]"
     ]
    },
    {
     "name": "stdout",
     "output_type": "stream",
     "text": [
      "7638_right.jpeg\n",
      "7640_left.jpeg\n",
      "7640_right.jpeg\n",
      "7644_left.jpeg\n",
      "7644_right.jpeg\n",
      "7646_left.jpeg\n"
     ]
    },
    {
     "name": "stderr",
     "output_type": "stream",
     "text": [
      "\r",
      " 91%|███████████████████████████████████████████████████████████████████████▏      | 5052/5531 [01:34<00:09, 50.01it/s]"
     ]
    },
    {
     "name": "stdout",
     "output_type": "stream",
     "text": [
      "7646_right.jpeg\n",
      "7647_left.jpeg\n",
      "7647_right.jpeg\n",
      "7648_left.jpeg\n",
      "7648_right.jpeg\n",
      "7650_left.jpeg\n"
     ]
    },
    {
     "name": "stderr",
     "output_type": "stream",
     "text": [
      "\r",
      " 91%|███████████████████████████████████████████████████████████████████████▎      | 5058/5531 [01:34<00:09, 51.33it/s]"
     ]
    },
    {
     "name": "stdout",
     "output_type": "stream",
     "text": [
      "7650_right.jpeg\n",
      "7651_left.jpeg\n",
      "7651_right.jpeg\n",
      "7654_left.jpeg\n",
      "7654_right.jpeg\n",
      "7660_left.jpeg\n"
     ]
    },
    {
     "name": "stderr",
     "output_type": "stream",
     "text": [
      "\r",
      " 92%|███████████████████████████████████████████████████████████████████████▍      | 5064/5531 [01:34<00:08, 52.84it/s]"
     ]
    },
    {
     "name": "stdout",
     "output_type": "stream",
     "text": [
      "7660_right.jpeg\n",
      "7665_left.jpeg\n",
      "7665_right.jpeg\n",
      "7667_left.jpeg\n",
      "7667_right.jpeg\n",
      "7668_left.jpeg\n"
     ]
    },
    {
     "name": "stderr",
     "output_type": "stream",
     "text": [
      "\r",
      " 92%|███████████████████████████████████████████████████████████████████████▍      | 5070/5531 [01:35<00:08, 52.68it/s]"
     ]
    },
    {
     "name": "stdout",
     "output_type": "stream",
     "text": [
      "7668_right.jpeg\n",
      "7672_left.jpeg\n",
      "7672_right.jpeg\n",
      "7675_left.jpeg\n",
      "7675_right.jpeg\n",
      "7676_left.jpeg\n"
     ]
    },
    {
     "name": "stderr",
     "output_type": "stream",
     "text": [
      "\r",
      " 92%|███████████████████████████████████████████████████████████████████████▌      | 5076/5531 [01:35<00:09, 46.48it/s]"
     ]
    },
    {
     "name": "stdout",
     "output_type": "stream",
     "text": [
      "7676_right.jpeg\n",
      "7677_left.jpeg\n",
      "7677_right.jpeg\n",
      "7679_left.jpeg\n",
      "7679_right.jpeg\n"
     ]
    },
    {
     "name": "stderr",
     "output_type": "stream",
     "text": [
      "\r",
      " 92%|███████████████████████████████████████████████████████████████████████▋      | 5081/5531 [01:35<00:09, 46.72it/s]"
     ]
    },
    {
     "name": "stdout",
     "output_type": "stream",
     "text": [
      "7682_left.jpeg\n",
      "7682_right.jpeg\n",
      "7684_left.jpeg\n",
      "7684_right.jpeg\n",
      "7685_left.jpeg\n"
     ]
    },
    {
     "name": "stderr",
     "output_type": "stream",
     "text": [
      "\r",
      " 92%|███████████████████████████████████████████████████████████████████████▋      | 5086/5531 [01:35<00:09, 47.42it/s]"
     ]
    },
    {
     "name": "stdout",
     "output_type": "stream",
     "text": [
      "7685_right.jpeg\n",
      "7686_left.jpeg\n",
      "7686_right.jpeg\n",
      "7688_left.jpeg\n",
      "7688_right.jpeg\n"
     ]
    },
    {
     "name": "stderr",
     "output_type": "stream",
     "text": [
      "\r",
      " 92%|███████████████████████████████████████████████████████████████████████▊      | 5091/5531 [01:35<00:09, 47.93it/s]"
     ]
    },
    {
     "name": "stdout",
     "output_type": "stream",
     "text": [
      "7689_left.jpeg\n",
      "7689_right.jpeg\n",
      "7690_left.jpeg\n",
      "7690_right.jpeg\n",
      "7695_left.jpeg\n"
     ]
    },
    {
     "name": "stderr",
     "output_type": "stream",
     "text": [
      "\r",
      " 92%|███████████████████████████████████████████████████████████████████████▊      | 5096/5531 [01:35<00:09, 46.41it/s]"
     ]
    },
    {
     "name": "stdout",
     "output_type": "stream",
     "text": [
      "7695_right.jpeg\n",
      "7700_left.jpeg\n",
      "7700_right.jpeg\n",
      "7701_left.jpeg\n",
      "7701_right.jpeg\n"
     ]
    },
    {
     "name": "stderr",
     "output_type": "stream",
     "text": [
      "\r",
      " 92%|███████████████████████████████████████████████████████████████████████▉      | 5101/5531 [01:35<00:09, 44.92it/s]"
     ]
    },
    {
     "name": "stdout",
     "output_type": "stream",
     "text": [
      "7702_left.jpeg\n",
      "7702_right.jpeg\n",
      "7703_left.jpeg\n",
      "7703_right.jpeg\n",
      "7708_left.jpeg\n"
     ]
    },
    {
     "name": "stderr",
     "output_type": "stream",
     "text": [
      "\r",
      " 92%|████████████████████████████████████████████████████████████████████████      | 5106/5531 [01:35<00:09, 42.58it/s]"
     ]
    },
    {
     "name": "stdout",
     "output_type": "stream",
     "text": [
      "7708_right.jpeg\n",
      "7718_left.jpeg\n",
      "7718_right.jpeg\n",
      "7722_left.jpeg\n",
      "7722_right.jpeg\n",
      "7724_left.jpeg\n"
     ]
    },
    {
     "name": "stderr",
     "output_type": "stream",
     "text": [
      "\r",
      " 92%|████████████████████████████████████████████████████████████████████████      | 5112/5531 [01:36<00:09, 45.93it/s]"
     ]
    },
    {
     "name": "stdout",
     "output_type": "stream",
     "text": [
      "7724_right.jpeg\n",
      "7725_left.jpeg\n",
      "7725_right.jpeg\n",
      "7726_left.jpeg\n",
      "7726_right.jpeg\n",
      "7727_left.jpeg\n"
     ]
    },
    {
     "name": "stderr",
     "output_type": "stream",
     "text": [
      "\r",
      " 93%|████████████████████████████████████████████████████████████████████████▏     | 5118/5531 [01:36<00:08, 48.13it/s]"
     ]
    },
    {
     "name": "stdout",
     "output_type": "stream",
     "text": [
      "7727_right.jpeg\n",
      "7730_left.jpeg\n",
      "7730_right.jpeg\n",
      "7731_left.jpeg\n",
      "7731_right.jpeg\n"
     ]
    },
    {
     "name": "stderr",
     "output_type": "stream",
     "text": [
      "\r",
      " 93%|████████████████████████████████████████████████████████████████████████▏     | 5123/5531 [01:36<00:08, 46.94it/s]"
     ]
    },
    {
     "name": "stdout",
     "output_type": "stream",
     "text": [
      "7732_left.jpeg\n",
      "7732_right.jpeg\n",
      "7733_left.jpeg\n",
      "7733_right.jpeg\n",
      "7736_left.jpeg\n",
      "7736_right.jpeg\n"
     ]
    },
    {
     "name": "stderr",
     "output_type": "stream",
     "text": [
      "\r",
      " 93%|████████████████████████████████████████████████████████████████████████▎     | 5129/5531 [01:36<00:08, 49.26it/s]"
     ]
    },
    {
     "name": "stdout",
     "output_type": "stream",
     "text": [
      "7739_left.jpeg\n",
      "7739_right.jpeg\n",
      "7741_left.jpeg\n",
      "7741_right.jpeg\n",
      "7743_left.jpeg\n",
      "7743_right.jpeg\n"
     ]
    },
    {
     "name": "stderr",
     "output_type": "stream",
     "text": [
      "\r",
      " 93%|████████████████████████████████████████████████████████████████████████▍     | 5135/5531 [01:36<00:07, 50.39it/s]"
     ]
    },
    {
     "name": "stdout",
     "output_type": "stream",
     "text": [
      "7746_left.jpeg\n",
      "7746_right.jpeg\n",
      "7750_left.jpeg\n",
      "7750_right.jpeg\n",
      "7751_left.jpeg\n",
      "7751_right.jpeg\n"
     ]
    },
    {
     "name": "stderr",
     "output_type": "stream",
     "text": [
      "\r",
      " 93%|████████████████████████████████████████████████████████████████████████▌     | 5141/5531 [01:36<00:07, 51.48it/s]"
     ]
    },
    {
     "name": "stdout",
     "output_type": "stream",
     "text": [
      "7754_left.jpeg\n",
      "7754_right.jpeg\n",
      "7757_left.jpeg\n",
      "7757_right.jpeg\n",
      "7761_left.jpeg\n",
      "7761_right.jpeg\n"
     ]
    },
    {
     "name": "stderr",
     "output_type": "stream",
     "text": [
      "\r",
      " 93%|████████████████████████████████████████████████████████████████████████▌     | 5147/5531 [01:36<00:07, 51.59it/s]"
     ]
    },
    {
     "name": "stdout",
     "output_type": "stream",
     "text": [
      "7763_left.jpeg\n",
      "7763_right.jpeg\n",
      "7764_left.jpeg\n",
      "7764_right.jpeg\n",
      "7767_left.jpeg\n",
      "7767_right.jpeg\n"
     ]
    },
    {
     "name": "stderr",
     "output_type": "stream",
     "text": [
      "\r",
      " 93%|████████████████████████████████████████████████████████████████████████▋     | 5153/5531 [01:36<00:07, 51.54it/s]"
     ]
    },
    {
     "name": "stdout",
     "output_type": "stream",
     "text": [
      "7773_left.jpeg\n",
      "7773_right.jpeg\n",
      "7774_left.jpeg\n",
      "7774_right.jpeg\n",
      "7776_left.jpeg\n",
      "7776_right.jpeg\n"
     ]
    },
    {
     "name": "stderr",
     "output_type": "stream",
     "text": [
      "\r",
      " 93%|████████████████████████████████████████████████████████████████████████▊     | 5159/5531 [01:36<00:07, 52.58it/s]"
     ]
    },
    {
     "name": "stdout",
     "output_type": "stream",
     "text": [
      "7784_left.jpeg\n",
      "7784_right.jpeg\n",
      "7785_left.jpeg\n",
      "7785_right.jpeg\n",
      "7786_left.jpeg\n",
      "7786_right.jpeg\n"
     ]
    },
    {
     "name": "stderr",
     "output_type": "stream",
     "text": [
      "\r",
      " 93%|████████████████████████████████████████████████████████████████████████▊     | 5165/5531 [01:37<00:06, 53.34it/s]"
     ]
    },
    {
     "name": "stdout",
     "output_type": "stream",
     "text": [
      "7788_left.jpeg\n",
      "7788_right.jpeg\n",
      "7793_left.jpeg\n",
      "7793_right.jpeg\n",
      "7795_left.jpeg\n",
      "7795_right.jpeg\n"
     ]
    },
    {
     "name": "stderr",
     "output_type": "stream",
     "text": [
      "\r",
      " 93%|████████████████████████████████████████████████████████████████████████▉     | 5171/5531 [01:37<00:06, 53.31it/s]"
     ]
    },
    {
     "name": "stdout",
     "output_type": "stream",
     "text": [
      "7796_left.jpeg\n",
      "7796_right.jpeg\n",
      "7797_left.jpeg\n",
      "7797_right.jpeg\n",
      "7798_left.jpeg\n",
      "7798_right.jpeg\n"
     ]
    },
    {
     "name": "stderr",
     "output_type": "stream",
     "text": [
      "\r",
      " 94%|█████████████████████████████████████████████████████████████████████████     | 5177/5531 [01:37<00:06, 52.32it/s]"
     ]
    },
    {
     "name": "stdout",
     "output_type": "stream",
     "text": [
      "7800_left.jpeg\n",
      "7800_right.jpeg\n",
      "7801_left.jpeg\n",
      "7801_right.jpeg\n",
      "7802_left.jpeg\n",
      "7802_right.jpeg\n",
      "7804_left.jpeg\n"
     ]
    },
    {
     "name": "stderr",
     "output_type": "stream",
     "text": [
      "\r",
      " 94%|█████████████████████████████████████████████████████████████████████████     | 5184/5531 [01:37<00:06, 54.91it/s]"
     ]
    },
    {
     "name": "stdout",
     "output_type": "stream",
     "text": [
      "7804_right.jpeg\n",
      "7805_left.jpeg\n",
      "7805_right.jpeg\n",
      "7807_left.jpeg\n",
      "7807_right.jpeg\n",
      "7808_left.jpeg\n",
      "7808_right.jpeg\n"
     ]
    },
    {
     "name": "stderr",
     "output_type": "stream",
     "text": [
      "\r",
      " 94%|█████████████████████████████████████████████████████████████████████████▏    | 5191/5531 [01:37<00:05, 58.46it/s]"
     ]
    },
    {
     "name": "stdout",
     "output_type": "stream",
     "text": [
      "7810_left.jpeg\n",
      "7810_right.jpeg\n",
      "7811_left.jpeg\n",
      "7811_right.jpeg\n",
      "7817_left.jpeg\n",
      "7817_right.jpeg\n",
      "7818_left.jpeg\n",
      "7818_right.jpeg\n"
     ]
    },
    {
     "name": "stderr",
     "output_type": "stream",
     "text": [
      "\r",
      " 94%|█████████████████████████████████████████████████████████████████████████▎    | 5199/5531 [01:37<00:05, 61.72it/s]"
     ]
    },
    {
     "name": "stdout",
     "output_type": "stream",
     "text": [
      "7819_left.jpeg\n",
      "7819_right.jpeg\n",
      "7821_left.jpeg\n",
      "7821_right.jpeg\n",
      "7822_left.jpeg\n",
      "7822_right.jpeg\n",
      "7823_left.jpeg\n"
     ]
    },
    {
     "name": "stderr",
     "output_type": "stream",
     "text": [
      "\r",
      " 94%|█████████████████████████████████████████████████████████████████████████▍    | 5206/5531 [01:37<00:05, 63.52it/s]"
     ]
    },
    {
     "name": "stdout",
     "output_type": "stream",
     "text": [
      "7823_right.jpeg\n",
      "7825_left.jpeg\n",
      "7825_right.jpeg\n",
      "7828_left.jpeg\n",
      "7828_right.jpeg\n",
      "7829_left.jpeg\n",
      "7829_right.jpeg\n"
     ]
    },
    {
     "name": "stderr",
     "output_type": "stream",
     "text": [
      "\r",
      " 94%|█████████████████████████████████████████████████████████████████████████▌    | 5213/5531 [01:37<00:04, 64.84it/s]"
     ]
    },
    {
     "name": "stdout",
     "output_type": "stream",
     "text": [
      "7831_left.jpeg\n",
      "7831_right.jpeg\n",
      "7832_left.jpeg\n",
      "7832_right.jpeg\n",
      "7836_left.jpeg\n",
      "7836_right.jpeg\n",
      "7838_left.jpeg\n",
      "7838_right.jpeg\n",
      "7842_left.jpeg\n"
     ]
    },
    {
     "name": "stderr",
     "output_type": "stream",
     "text": [
      "\r",
      " 94%|█████████████████████████████████████████████████████████████████████████▋    | 5222/5531 [01:37<00:04, 69.03it/s]"
     ]
    },
    {
     "name": "stdout",
     "output_type": "stream",
     "text": [
      "7842_right.jpeg\n",
      "7844_left.jpeg\n",
      "7844_right.jpeg\n",
      "7847_left.jpeg\n",
      "7847_right.jpeg\n",
      "7849_left.jpeg\n",
      "7849_right.jpeg\n",
      "7850_left.jpeg\n"
     ]
    },
    {
     "name": "stderr",
     "output_type": "stream",
     "text": [
      "\r",
      " 95%|█████████████████████████████████████████████████████████████████████████▊    | 5230/5531 [01:38<00:04, 70.15it/s]"
     ]
    },
    {
     "name": "stdout",
     "output_type": "stream",
     "text": [
      "7850_right.jpeg\n",
      "7851_left.jpeg\n",
      "7851_right.jpeg\n",
      "7852_left.jpeg\n",
      "7852_right.jpeg\n",
      "7853_left.jpeg\n",
      "7853_right.jpeg\n",
      "7854_left.jpeg\n"
     ]
    },
    {
     "name": "stderr",
     "output_type": "stream",
     "text": [
      "\r",
      " 95%|█████████████████████████████████████████████████████████████████████████▊    | 5238/5531 [01:38<00:04, 72.69it/s]"
     ]
    },
    {
     "name": "stdout",
     "output_type": "stream",
     "text": [
      "7854_right.jpeg\n",
      "7857_left.jpeg\n",
      "7857_right.jpeg\n",
      "7859_left.jpeg\n",
      "7859_right.jpeg\n",
      "7862_left.jpeg\n",
      "7862_right.jpeg\n",
      "7863_left.jpeg\n"
     ]
    },
    {
     "name": "stderr",
     "output_type": "stream",
     "text": [
      "\r",
      " 95%|█████████████████████████████████████████████████████████████████████████▉    | 5246/5531 [01:38<00:03, 74.39it/s]"
     ]
    },
    {
     "name": "stdout",
     "output_type": "stream",
     "text": [
      "7863_right.jpeg\n",
      "7869_left.jpeg\n",
      "7869_right.jpeg\n",
      "7875_left.jpeg\n",
      "7875_right.jpeg\n",
      "7876_left.jpeg\n",
      "7876_right.jpeg\n",
      "7880_left.jpeg\n"
     ]
    },
    {
     "name": "stderr",
     "output_type": "stream",
     "text": [
      "\r",
      " 95%|██████████████████████████████████████████████████████████████████████████    | 5254/5531 [01:38<00:04, 67.58it/s]"
     ]
    },
    {
     "name": "stdout",
     "output_type": "stream",
     "text": [
      "7880_right.jpeg\n",
      "7881_left.jpeg\n",
      "7881_right.jpeg\n",
      "7883_left.jpeg\n",
      "7883_right.jpeg\n",
      "7884_left.jpeg\n",
      "7884_right.jpeg\n"
     ]
    },
    {
     "name": "stderr",
     "output_type": "stream",
     "text": [
      "\r",
      " 95%|██████████████████████████████████████████████████████████████████████████▏   | 5261/5531 [01:38<00:04, 65.84it/s]"
     ]
    },
    {
     "name": "stdout",
     "output_type": "stream",
     "text": [
      "7886_left.jpeg\n",
      "7886_right.jpeg\n",
      "7887_left.jpeg\n",
      "7887_right.jpeg\n",
      "7888_left.jpeg\n",
      "7888_right.jpeg\n",
      "7890_left.jpeg\n",
      "7890_right.jpeg\n"
     ]
    },
    {
     "name": "stderr",
     "output_type": "stream",
     "text": [
      "\r",
      " 95%|██████████████████████████████████████████████████████████████████████████▎   | 5269/5531 [01:38<00:03, 67.65it/s]"
     ]
    },
    {
     "name": "stdout",
     "output_type": "stream",
     "text": [
      "7894_left.jpeg\n",
      "7894_right.jpeg\n",
      "7896_left.jpeg\n",
      "7896_right.jpeg\n",
      "7898_left.jpeg\n",
      "7898_right.jpeg\n",
      "7899_left.jpeg\n"
     ]
    },
    {
     "name": "stderr",
     "output_type": "stream",
     "text": [
      "\r",
      " 95%|██████████████████████████████████████████████████████████████████████████▍   | 5276/5531 [01:38<00:04, 63.74it/s]"
     ]
    },
    {
     "name": "stdout",
     "output_type": "stream",
     "text": [
      "7899_right.jpeg\n",
      "7905_left.jpeg\n",
      "7905_right.jpeg\n",
      "7906_left.jpeg\n",
      "7906_right.jpeg\n",
      "7910_left.jpeg\n",
      "7910_right.jpeg\n",
      "7911_left.jpeg\n",
      "7911_right.jpeg\n",
      "7922_left.jpeg\n",
      "7922_right.jpeg\n"
     ]
    },
    {
     "name": "stderr",
     "output_type": "stream",
     "text": [
      "\r",
      " 96%|██████████████████████████████████████████████████████████████████████████▌   | 5287/5531 [01:38<00:03, 71.55it/s]"
     ]
    },
    {
     "name": "stdout",
     "output_type": "stream",
     "text": [
      "7923_left.jpeg\n",
      "7923_right.jpeg\n",
      "7929_left.jpeg\n",
      "7929_right.jpeg\n",
      "7932_left.jpeg\n",
      "7932_right.jpeg\n",
      "7934_left.jpeg\n",
      "7934_right.jpeg\n"
     ]
    },
    {
     "name": "stderr",
     "output_type": "stream",
     "text": [
      "\r",
      " 96%|██████████████████████████████████████████████████████████████████████████▋   | 5295/5531 [01:38<00:03, 73.55it/s]"
     ]
    },
    {
     "name": "stdout",
     "output_type": "stream",
     "text": [
      "7937_left.jpeg\n",
      "7937_right.jpeg\n",
      "7938_left.jpeg\n",
      "7938_right.jpeg\n",
      "7940_left.jpeg\n",
      "7940_right.jpeg\n",
      "7943_left.jpeg\n",
      "7943_right.jpeg\n"
     ]
    },
    {
     "name": "stderr",
     "output_type": "stream",
     "text": [
      "\r",
      " 96%|██████████████████████████████████████████████████████████████████████████▊   | 5303/5531 [01:39<00:03, 71.59it/s]"
     ]
    },
    {
     "name": "stdout",
     "output_type": "stream",
     "text": [
      "7944_left.jpeg\n",
      "7944_right.jpeg\n",
      "7945_left.jpeg\n",
      "7945_right.jpeg\n",
      "7946_left.jpeg\n",
      "7946_right.jpeg\n",
      "7947_left.jpeg\n",
      "7947_right.jpeg\n",
      "7948_left.jpeg\n",
      "7948_right.jpeg\n"
     ]
    },
    {
     "name": "stderr",
     "output_type": "stream",
     "text": [
      "\r",
      " 96%|██████████████████████████████████████████████████████████████████████████▉   | 5313/5531 [01:39<00:02, 76.86it/s]"
     ]
    },
    {
     "name": "stdout",
     "output_type": "stream",
     "text": [
      "7949_left.jpeg\n",
      "7949_right.jpeg\n",
      "7952_left.jpeg\n",
      "7952_right.jpeg\n",
      "7953_left.jpeg\n",
      "7953_right.jpeg\n",
      "7959_left.jpeg\n",
      "7959_right.jpeg\n",
      "7961_left.jpeg\n"
     ]
    },
    {
     "name": "stderr",
     "output_type": "stream",
     "text": [
      "\r",
      " 96%|███████████████████████████████████████████████████████████████████████████   | 5322/5531 [01:39<00:02, 78.76it/s]"
     ]
    },
    {
     "name": "stdout",
     "output_type": "stream",
     "text": [
      "7961_right.jpeg\n",
      "7962_left.jpeg\n",
      "7962_right.jpeg\n",
      "7964_left.jpeg\n",
      "7964_right.jpeg\n",
      "7965_left.jpeg\n",
      "7965_right.jpeg\n",
      "7966_left.jpeg\n",
      "7966_right.jpeg\n"
     ]
    },
    {
     "name": "stderr",
     "output_type": "stream",
     "text": [
      "\r",
      " 96%|███████████████████████████████████████████████████████████████████████████▏  | 5331/5531 [01:39<00:02, 69.10it/s]"
     ]
    },
    {
     "name": "stdout",
     "output_type": "stream",
     "text": [
      "7971_left.jpeg\n",
      "7971_right.jpeg\n",
      "7974_left.jpeg\n",
      "7974_right.jpeg\n",
      "7976_left.jpeg\n",
      "7976_right.jpeg\n",
      "7980_left.jpeg\n",
      "7980_right.jpeg\n"
     ]
    },
    {
     "name": "stderr",
     "output_type": "stream",
     "text": [
      "\r",
      " 97%|███████████████████████████████████████████████████████████████████████████▎  | 5339/5531 [01:39<00:02, 64.45it/s]"
     ]
    },
    {
     "name": "stdout",
     "output_type": "stream",
     "text": [
      "7981_left.jpeg\n",
      "7981_right.jpeg\n",
      "7982_left.jpeg\n",
      "7982_right.jpeg\n",
      "7983_left.jpeg\n",
      "7983_right.jpeg\n",
      "7985_left.jpeg\n"
     ]
    },
    {
     "name": "stderr",
     "output_type": "stream",
     "text": [
      "\r",
      " 97%|███████████████████████████████████████████████████████████████████████████▍  | 5346/5531 [01:39<00:03, 59.21it/s]"
     ]
    },
    {
     "name": "stdout",
     "output_type": "stream",
     "text": [
      "7985_right.jpeg\n",
      "7989_left.jpeg\n",
      "7989_right.jpeg\n",
      "7991_left.jpeg\n",
      "7991_right.jpeg\n",
      "7992_left.jpeg\n",
      "7992_right.jpeg\n"
     ]
    },
    {
     "name": "stderr",
     "output_type": "stream",
     "text": [
      "\r",
      " 97%|███████████████████████████████████████████████████████████████████████████▍  | 5353/5531 [01:39<00:03, 56.43it/s]"
     ]
    },
    {
     "name": "stdout",
     "output_type": "stream",
     "text": [
      "7993_left.jpeg\n",
      "7993_right.jpeg\n",
      "7996_left.jpeg\n",
      "7996_right.jpeg\n",
      "7998_left.jpeg\n",
      "7998_right.jpeg\n"
     ]
    },
    {
     "name": "stderr",
     "output_type": "stream",
     "text": [
      "\r",
      " 97%|███████████████████████████████████████████████████████████████████████████▌  | 5359/5531 [01:39<00:03, 56.69it/s]"
     ]
    },
    {
     "name": "stdout",
     "output_type": "stream",
     "text": [
      "8000_left.jpeg\n",
      "8000_right.jpeg\n",
      "8002_left.jpeg\n",
      "8002_right.jpeg\n",
      "8003_left.jpeg\n",
      "8003_right.jpeg\n"
     ]
    },
    {
     "name": "stderr",
     "output_type": "stream",
     "text": [
      "\r",
      " 97%|███████████████████████████████████████████████████████████████████████████▋  | 5365/5531 [01:40<00:02, 56.23it/s]"
     ]
    },
    {
     "name": "stdout",
     "output_type": "stream",
     "text": [
      "8006_left.jpeg\n",
      "8006_right.jpeg\n",
      "8007_left.jpeg\n",
      "8007_right.jpeg\n",
      "8011_left.jpeg\n",
      "8011_right.jpeg\n"
     ]
    },
    {
     "name": "stderr",
     "output_type": "stream",
     "text": [
      "\r",
      " 97%|███████████████████████████████████████████████████████████████████████████▋  | 5371/5531 [01:40<00:03, 50.05it/s]"
     ]
    },
    {
     "name": "stdout",
     "output_type": "stream",
     "text": [
      "8013_left.jpeg\n",
      "8013_right.jpeg\n",
      "8014_left.jpeg\n",
      "8014_right.jpeg\n",
      "8015_left.jpeg\n",
      "8015_right.jpeg\n"
     ]
    },
    {
     "name": "stderr",
     "output_type": "stream",
     "text": [
      "\r",
      " 97%|███████████████████████████████████████████████████████████████████████████▊  | 5377/5531 [01:40<00:03, 47.58it/s]"
     ]
    },
    {
     "name": "stdout",
     "output_type": "stream",
     "text": [
      "8020_left.jpeg\n",
      "8020_right.jpeg\n",
      "8023_left.jpeg\n",
      "8023_right.jpeg\n",
      "8025_left.jpeg\n",
      "8025_right.jpeg\n"
     ]
    },
    {
     "name": "stderr",
     "output_type": "stream",
     "text": [
      "\r",
      " 97%|███████████████████████████████████████████████████████████████████████████▉  | 5383/5531 [01:40<00:03, 49.27it/s]"
     ]
    },
    {
     "name": "stdout",
     "output_type": "stream",
     "text": [
      "8026_left.jpeg\n",
      "8026_right.jpeg\n",
      "8027_left.jpeg\n",
      "8027_right.jpeg\n",
      "8028_left.jpeg\n",
      "8028_right.jpeg\n"
     ]
    },
    {
     "name": "stderr",
     "output_type": "stream",
     "text": [
      "\r",
      " 97%|███████████████████████████████████████████████████████████████████████████▉  | 5389/5531 [01:40<00:02, 50.15it/s]"
     ]
    },
    {
     "name": "stdout",
     "output_type": "stream",
     "text": [
      "8029_left.jpeg\n",
      "8029_right.jpeg\n",
      "8030_left.jpeg\n",
      "8030_right.jpeg\n",
      "8032_left.jpeg\n",
      "8032_right.jpeg\n"
     ]
    },
    {
     "name": "stderr",
     "output_type": "stream",
     "text": [
      "\r",
      " 98%|████████████████████████████████████████████████████████████████████████████  | 5395/5531 [01:40<00:02, 48.33it/s]"
     ]
    },
    {
     "name": "stdout",
     "output_type": "stream",
     "text": [
      "8034_left.jpeg\n",
      "8034_right.jpeg\n",
      "8036_left.jpeg\n",
      "8036_right.jpeg\n",
      "8038_left.jpeg\n"
     ]
    },
    {
     "name": "stderr",
     "output_type": "stream",
     "text": [
      "\r",
      " 98%|████████████████████████████████████████████████████████████████████████████▏ | 5400/5531 [01:40<00:02, 47.20it/s]"
     ]
    },
    {
     "name": "stdout",
     "output_type": "stream",
     "text": [
      "8038_right.jpeg\n",
      "8039_left.jpeg\n",
      "8039_right.jpeg\n",
      "8040_left.jpeg\n",
      "8040_right.jpeg\n",
      "8041_left.jpeg\n"
     ]
    },
    {
     "name": "stderr",
     "output_type": "stream",
     "text": [
      "\r",
      " 98%|████████████████████████████████████████████████████████████████████████████▏ | 5406/5531 [01:40<00:02, 50.21it/s]"
     ]
    },
    {
     "name": "stdout",
     "output_type": "stream",
     "text": [
      "8041_right.jpeg\n",
      "8043_left.jpeg\n",
      "8043_right.jpeg\n",
      "8047_left.jpeg\n",
      "8047_right.jpeg\n",
      "8050_left.jpeg\n"
     ]
    },
    {
     "name": "stderr",
     "output_type": "stream",
     "text": [
      "\r",
      " 98%|████████████████████████████████████████████████████████████████████████████▎ | 5412/5531 [01:41<00:02, 51.21it/s]"
     ]
    },
    {
     "name": "stdout",
     "output_type": "stream",
     "text": [
      "8050_right.jpeg\n",
      "8052_left.jpeg\n",
      "8052_right.jpeg\n",
      "8059_left.jpeg\n",
      "8059_right.jpeg\n",
      "8061_left.jpeg\n"
     ]
    },
    {
     "name": "stderr",
     "output_type": "stream",
     "text": [
      "\r",
      " 98%|████████████████████████████████████████████████████████████████████████████▍ | 5418/5531 [01:41<00:02, 53.32it/s]"
     ]
    },
    {
     "name": "stdout",
     "output_type": "stream",
     "text": [
      "8061_right.jpeg\n",
      "8062_left.jpeg\n",
      "8062_right.jpeg\n",
      "8067_left.jpeg\n",
      "8067_right.jpeg\n",
      "8072_left.jpeg\n"
     ]
    },
    {
     "name": "stderr",
     "output_type": "stream",
     "text": [
      "\r",
      " 98%|████████████████████████████████████████████████████████████████████████████▍ | 5424/5531 [01:41<00:01, 53.87it/s]"
     ]
    },
    {
     "name": "stdout",
     "output_type": "stream",
     "text": [
      "8072_right.jpeg\n",
      "8073_left.jpeg\n",
      "8073_right.jpeg\n",
      "8074_left.jpeg\n",
      "8074_right.jpeg\n",
      "8080_left.jpeg\n"
     ]
    },
    {
     "name": "stderr",
     "output_type": "stream",
     "text": [
      "\r",
      " 98%|████████████████████████████████████████████████████████████████████████████▌ | 5430/5531 [01:41<00:01, 50.95it/s]"
     ]
    },
    {
     "name": "stdout",
     "output_type": "stream",
     "text": [
      "8080_right.jpeg\n",
      "8087_left.jpeg\n",
      "8087_right.jpeg\n",
      "8089_left.jpeg\n",
      "8089_right.jpeg\n",
      "8090_left.jpeg\n"
     ]
    },
    {
     "name": "stderr",
     "output_type": "stream",
     "text": [
      "\r",
      " 98%|████████████████████████████████████████████████████████████████████████████▋ | 5436/5531 [01:41<00:01, 52.02it/s]"
     ]
    },
    {
     "name": "stdout",
     "output_type": "stream",
     "text": [
      "8090_right.jpeg\n",
      "8091_left.jpeg\n",
      "8091_right.jpeg\n",
      "8092_left.jpeg\n",
      "8092_right.jpeg\n",
      "8093_left.jpeg\n"
     ]
    },
    {
     "name": "stderr",
     "output_type": "stream",
     "text": [
      "\r",
      " 98%|████████████████████████████████████████████████████████████████████████████▋ | 5442/5531 [01:41<00:01, 50.15it/s]"
     ]
    },
    {
     "name": "stdout",
     "output_type": "stream",
     "text": [
      "8093_right.jpeg\n",
      "8096_left.jpeg\n",
      "8096_right.jpeg\n",
      "8105_left.jpeg\n",
      "8105_right.jpeg\n",
      "8107_left.jpeg\n"
     ]
    },
    {
     "name": "stderr",
     "output_type": "stream",
     "text": [
      "\r",
      " 98%|████████████████████████████████████████████████████████████████████████████▊ | 5448/5531 [01:41<00:01, 50.78it/s]"
     ]
    },
    {
     "name": "stdout",
     "output_type": "stream",
     "text": [
      "8107_right.jpeg\n",
      "8110_left.jpeg\n",
      "8110_right.jpeg\n",
      "8111_left.jpeg\n",
      "8111_right.jpeg\n",
      "8113_left.jpeg\n"
     ]
    },
    {
     "name": "stderr",
     "output_type": "stream",
     "text": [
      "\r",
      " 99%|████████████████████████████████████████████████████████████████████████████▉ | 5454/5531 [01:41<00:01, 52.16it/s]"
     ]
    },
    {
     "name": "stdout",
     "output_type": "stream",
     "text": [
      "8113_right.jpeg\n",
      "8114_left.jpeg\n",
      "8114_right.jpeg\n",
      "8115_left.jpeg\n",
      "8115_right.jpeg\n",
      "8116_left.jpeg\n"
     ]
    },
    {
     "name": "stderr",
     "output_type": "stream",
     "text": [
      "\r",
      " 99%|████████████████████████████████████████████████████████████████████████████▉ | 5460/5531 [01:41<00:01, 52.21it/s]"
     ]
    },
    {
     "name": "stdout",
     "output_type": "stream",
     "text": [
      "8116_right.jpeg\n",
      "8121_left.jpeg\n",
      "8121_right.jpeg\n",
      "8122_left.jpeg\n",
      "8122_right.jpeg\n",
      "8123_left.jpeg\n"
     ]
    },
    {
     "name": "stderr",
     "output_type": "stream",
     "text": [
      "\r",
      " 99%|█████████████████████████████████████████████████████████████████████████████ | 5466/5531 [01:42<00:01, 52.10it/s]"
     ]
    },
    {
     "name": "stdout",
     "output_type": "stream",
     "text": [
      "8123_right.jpeg\n",
      "8126_left.jpeg\n",
      "8126_right.jpeg\n",
      "8129_left.jpeg\n",
      "8129_right.jpeg\n",
      "8132_left.jpeg\n"
     ]
    },
    {
     "name": "stderr",
     "output_type": "stream",
     "text": [
      "\r",
      " 99%|█████████████████████████████████████████████████████████████████████████████▏| 5472/5531 [01:42<00:01, 52.72it/s]"
     ]
    },
    {
     "name": "stdout",
     "output_type": "stream",
     "text": [
      "8132_right.jpeg\n",
      "8133_left.jpeg\n",
      "8133_right.jpeg\n",
      "8134_left.jpeg\n",
      "8134_right.jpeg\n",
      "8141_left.jpeg\n"
     ]
    },
    {
     "name": "stderr",
     "output_type": "stream",
     "text": [
      "\r",
      " 99%|█████████████████████████████████████████████████████████████████████████████▎| 5478/5531 [01:42<00:01, 52.73it/s]"
     ]
    },
    {
     "name": "stdout",
     "output_type": "stream",
     "text": [
      "8141_right.jpeg\n",
      "8143_left.jpeg\n",
      "8143_right.jpeg\n",
      "8144_left.jpeg\n",
      "8144_right.jpeg\n",
      "8146_left.jpeg\n",
      "8146_right.jpeg\n"
     ]
    },
    {
     "name": "stderr",
     "output_type": "stream",
     "text": [
      "\r",
      " 99%|█████████████████████████████████████████████████████████████████████████████▎| 5485/5531 [01:42<00:00, 55.63it/s]"
     ]
    },
    {
     "name": "stdout",
     "output_type": "stream",
     "text": [
      "8153_left.jpeg\n",
      "8153_right.jpeg\n",
      "8155_left.jpeg\n",
      "8155_right.jpeg\n",
      "8160_left.jpeg\n",
      "8160_right.jpeg\n",
      "8162_left.jpeg\n",
      "8162_right.jpeg\n"
     ]
    },
    {
     "name": "stderr",
     "output_type": "stream",
     "text": [
      "\r",
      " 99%|█████████████████████████████████████████████████████████████████████████████▍| 5493/5531 [01:42<00:00, 60.98it/s]"
     ]
    },
    {
     "name": "stdout",
     "output_type": "stream",
     "text": [
      "8168_left.jpeg\n",
      "8168_right.jpeg\n",
      "8169_left.jpeg\n",
      "8169_right.jpeg\n",
      "8180_left.jpeg\n",
      "8180_right.jpeg\n",
      "8181_left.jpeg\n",
      "8181_right.jpeg\n",
      "8187_left.jpeg\n"
     ]
    },
    {
     "name": "stderr",
     "output_type": "stream",
     "text": [
      "\r",
      " 99%|█████████████████████████████████████████████████████████████████████████████▌| 5502/5531 [01:42<00:00, 66.07it/s]"
     ]
    },
    {
     "name": "stdout",
     "output_type": "stream",
     "text": [
      "8187_right.jpeg\n",
      "8190_left.jpeg\n",
      "8190_right.jpeg\n",
      "8191_left.jpeg\n",
      "8191_right.jpeg\n",
      "8202_left.jpeg\n",
      "8202_right.jpeg\n",
      "8203_left.jpeg\n",
      "8203_right.jpeg\n"
     ]
    },
    {
     "name": "stderr",
     "output_type": "stream",
     "text": [
      "\r",
      "100%|█████████████████████████████████████████████████████████████████████████████▋| 5511/5531 [01:42<00:00, 70.33it/s]"
     ]
    },
    {
     "name": "stdout",
     "output_type": "stream",
     "text": [
      "8207_left.jpeg\n",
      "8207_right.jpeg\n",
      "8209_left.jpeg\n",
      "8209_right.jpeg\n",
      "8215_left.jpeg\n",
      "8215_right.jpeg\n",
      "8216_left.jpeg\n",
      "8216_right.jpeg\n",
      "8217_left.jpeg\n"
     ]
    },
    {
     "name": "stderr",
     "output_type": "stream",
     "text": [
      "\r",
      "100%|█████████████████████████████████████████████████████████████████████████████▊| 5520/5531 [01:42<00:00, 74.94it/s]"
     ]
    },
    {
     "name": "stdout",
     "output_type": "stream",
     "text": [
      "8217_right.jpeg\n",
      "8221_left.jpeg\n",
      "8221_right.jpeg\n",
      "8222_left.jpeg\n",
      "8222_right.jpeg\n",
      "8223_left.jpeg\n",
      "8223_right.jpeg\n",
      "8227_left.jpeg\n"
     ]
    },
    {
     "name": "stderr",
     "output_type": "stream",
     "text": [
      "\r",
      "100%|█████████████████████████████████████████████████████████████████████████████▉| 5528/5531 [01:42<00:00, 72.90it/s]"
     ]
    },
    {
     "name": "stdout",
     "output_type": "stream",
     "text": [
      "8227_right.jpeg\n",
      "8229_left.jpeg\n",
      "8229_right.jpeg\n"
     ]
    },
    {
     "name": "stderr",
     "output_type": "stream",
     "text": [
      "100%|██████████████████████████████████████████████████████████████████████████████| 5531/5531 [01:43<00:00, 53.69it/s]\n"
     ]
    }
   ],
   "source": [
    "import cv2\n",
    "from tqdm import tqdm\n",
    "\n",
    "for file in tqdm(lst):\n",
    "    base = os.path.basename(\"./retinopathy detection dataset/resized_train_1/\" + file)\n",
    "    print(file)\n",
    "    fileName = os.path.splitext(base)[0]\n",
    "    imlabels.append(train_labels.loc[train_labels.image==fileName, 'level'].values[0])\n",
    "    im = cv2.imread(\"./retinopathy detection dataset/resized_train_1/\" + file)   \n",
    "    img = cv2.resize(im,(rows,cols))\n",
    "    immatrix.append(np.array(img))"
   ]
  },
  {
   "cell_type": "code",
   "execution_count": 14,
   "metadata": {},
   "outputs": [],
   "source": [
    "immatrix = np.asarray(immatrix)\n",
    "imlabels = np.asarray(imlabels)"
   ]
  },
  {
   "cell_type": "code",
   "execution_count": 15,
   "metadata": {},
   "outputs": [
    {
     "data": {
      "text/plain": [
       "array([0, 0, 0, 0, 0, 0, 0, 0, 2, 2, 1, 0, 0, 0, 0, 0, 2, 2, 0, 0, 0, 0,\n",
       "       0, 0, 0, 0, 0, 0, 0, 0, 2, 0, 2, 2, 0, 0, 0, 0, 0, 0, 0, 0, 3, 3,\n",
       "       0, 0, 0, 0, 1, 0], dtype=int64)"
      ]
     },
     "execution_count": 15,
     "metadata": {},
     "output_type": "execute_result"
    }
   ],
   "source": [
    "imlabels[:50]"
   ]
  },
  {
   "cell_type": "code",
   "execution_count": null,
   "metadata": {},
   "outputs": [],
   "source": []
  },
  {
   "cell_type": "code",
   "execution_count": 16,
   "metadata": {},
   "outputs": [
    {
     "data": {
      "text/plain": [
       "(5531, 224, 224, 3)"
      ]
     },
     "execution_count": 16,
     "metadata": {},
     "output_type": "execute_result"
    }
   ],
   "source": [
    "immatrix.shape"
   ]
  },
  {
   "cell_type": "code",
   "execution_count": 17,
   "metadata": {},
   "outputs": [
    {
     "data": {
      "text/plain": [
       "(5531,)"
      ]
     },
     "execution_count": 17,
     "metadata": {},
     "output_type": "execute_result"
    }
   ],
   "source": [
    "imlabels.shape"
   ]
  },
  {
   "cell_type": "code",
   "execution_count": 18,
   "metadata": {},
   "outputs": [],
   "source": [
    "from sklearn.utils import shuffle\n",
    "with tf.device(\"/gpu:0\"):\n",
    "    data,Label = shuffle(immatrix,imlabels, random_state=2)\n",
    "    train_data = [data,Label]\n",
    "    type(train_data)"
   ]
  },
  {
   "cell_type": "code",
   "execution_count": 19,
   "metadata": {},
   "outputs": [],
   "source": [
    "(X,y) = (train_data[0],train_data[1])"
   ]
  },
  {
   "cell_type": "code",
   "execution_count": 20,
   "metadata": {},
   "outputs": [
    {
     "name": "stdout",
     "output_type": "stream",
     "text": [
      "(4424, 224, 224, 3)\n",
      "(1106, 224, 224, 3)\n",
      "X_train shape: (4424, 224, 224, 3)\n",
      "4424 train samples\n",
      "1106 test samples\n"
     ]
    }
   ],
   "source": [
    "from sklearn.model_selection import train_test_split\n",
    "with tf.device(\"/gpu:0\"):\n",
    "    X_train, X_test, y_train, y_test = train_test_split(X[1:35124], y[1:35124], test_size=0.2, random_state=4)\n",
    "\n",
    "    print(X_train.shape)\n",
    "    print(X_test.shape)\n",
    "\n",
    "    X_train = X_train.astype('float32')\n",
    "    X_test = X_test.astype('float32')\n",
    "\n",
    "    #Normalizing Data Between [0,1]\n",
    "    X_train /= 255\n",
    "    X_test /= 255\n",
    "\n",
    "    print('X_train shape:', X_train.shape)\n",
    "    print(X_train.shape[0], 'train samples')\n",
    "    print(X_test.shape[0], 'test samples')\n",
    "    \n",
    "    "
   ]
  },
  {
   "cell_type": "code",
   "execution_count": 21,
   "metadata": {},
   "outputs": [
    {
     "data": {
      "text/plain": [
       "1"
      ]
     },
     "execution_count": 21,
     "metadata": {},
     "output_type": "execute_result"
    }
   ],
   "source": [
    "y_train[0]"
   ]
  },
  {
   "cell_type": "code",
   "execution_count": 22,
   "metadata": {},
   "outputs": [
    {
     "data": {
      "text/plain": [
       "(224, 224, 3)"
      ]
     },
     "execution_count": 22,
     "metadata": {},
     "output_type": "execute_result"
    }
   ],
   "source": [
    "X_train[0].shape"
   ]
  },
  {
   "cell_type": "code",
   "execution_count": 23,
   "metadata": {},
   "outputs": [],
   "source": [
    "from keras.utils import np_utils\n",
    "\n",
    "n_classes = 5\n",
    "\n",
    "Y_train = np_utils.to_categorical(y_train, n_classes)\n",
    "Y_test = np_utils.to_categorical(y_test, n_classes)"
   ]
  },
  {
   "cell_type": "code",
   "execution_count": 24,
   "metadata": {},
   "outputs": [
    {
     "data": {
      "text/plain": [
       "array([[0., 1., 0., 0., 0.],\n",
       "       [1., 0., 0., 0., 0.],\n",
       "       [1., 0., 0., 0., 0.],\n",
       "       ...,\n",
       "       [0., 1., 0., 0., 0.],\n",
       "       [0., 0., 0., 1., 0.],\n",
       "       [0., 0., 1., 0., 0.]], dtype=float32)"
      ]
     },
     "execution_count": 24,
     "metadata": {},
     "output_type": "execute_result"
    }
   ],
   "source": [
    "Y_train"
   ]
  },
  {
   "cell_type": "code",
   "execution_count": 25,
   "metadata": {},
   "outputs": [
    {
     "name": "stdout",
     "output_type": "stream",
     "text": [
      "_________________________________________________________________\n",
      "Layer (type)                 Output Shape              Param #   \n",
      "=================================================================\n",
      "input_1 (InputLayer)         (None, 224, 224, 3)       0         \n",
      "_________________________________________________________________\n",
      "block1_conv1 (Conv2D)        (None, 224, 224, 64)      1792      \n",
      "_________________________________________________________________\n",
      "block1_conv2 (Conv2D)        (None, 224, 224, 64)      36928     \n",
      "_________________________________________________________________\n",
      "block1_pool (MaxPooling2D)   (None, 112, 112, 64)      0         \n",
      "_________________________________________________________________\n",
      "block2_conv1 (Conv2D)        (None, 112, 112, 128)     73856     \n",
      "_________________________________________________________________\n",
      "block2_conv2 (Conv2D)        (None, 112, 112, 128)     147584    \n",
      "_________________________________________________________________\n",
      "block2_pool (MaxPooling2D)   (None, 56, 56, 128)       0         \n",
      "_________________________________________________________________\n",
      "block3_conv1 (Conv2D)        (None, 56, 56, 256)       295168    \n",
      "_________________________________________________________________\n",
      "block3_conv2 (Conv2D)        (None, 56, 56, 256)       590080    \n",
      "_________________________________________________________________\n",
      "block3_conv3 (Conv2D)        (None, 56, 56, 256)       590080    \n",
      "_________________________________________________________________\n",
      "block3_pool (MaxPooling2D)   (None, 28, 28, 256)       0         \n",
      "_________________________________________________________________\n",
      "block4_conv1 (Conv2D)        (None, 28, 28, 512)       1180160   \n",
      "_________________________________________________________________\n",
      "block4_conv2 (Conv2D)        (None, 28, 28, 512)       2359808   \n",
      "_________________________________________________________________\n",
      "block4_conv3 (Conv2D)        (None, 28, 28, 512)       2359808   \n",
      "_________________________________________________________________\n",
      "block4_pool (MaxPooling2D)   (None, 14, 14, 512)       0         \n",
      "_________________________________________________________________\n",
      "block5_conv1 (Conv2D)        (None, 14, 14, 512)       2359808   \n",
      "_________________________________________________________________\n",
      "block5_conv2 (Conv2D)        (None, 14, 14, 512)       2359808   \n",
      "_________________________________________________________________\n",
      "block5_conv3 (Conv2D)        (None, 14, 14, 512)       2359808   \n",
      "_________________________________________________________________\n",
      "block5_pool (MaxPooling2D)   (None, 7, 7, 512)         0         \n",
      "=================================================================\n",
      "Total params: 14,714,688\n",
      "Trainable params: 14,714,688\n",
      "Non-trainable params: 0\n",
      "_________________________________________________________________\n",
      "None\n"
     ]
    }
   ],
   "source": [
    "from keras.applications.vgg16 import VGG16\n",
    "base_model = VGG16(weights='imagenet',include_top=False, input_shape=(224,224,3))\n",
    "print(base_model.summary())"
   ]
  },
  {
   "cell_type": "code",
   "execution_count": 26,
   "metadata": {},
   "outputs": [],
   "source": [
    "from keras.models import Sequential\n",
    "from keras.layers import Dense , Flatten , Dropout, Activation\n",
    "\n",
    "top_model = Sequential()\n",
    "top_model.add(Flatten(input_shape=base_model.output_shape[1:]))\n",
    "top_model.add(Dense(256, activation='relu'))\n",
    "top_model.add(Dropout(0.5))\n",
    "top_model.add(Dense(5, activation='softmax'))"
   ]
  },
  {
   "cell_type": "code",
   "execution_count": 27,
   "metadata": {},
   "outputs": [],
   "source": [
    "from keras.models import Model\n",
    "\n",
    "model=Model(inputs=base_model.input, outputs=top_model(base_model.output))"
   ]
  },
  {
   "cell_type": "code",
   "execution_count": 28,
   "metadata": {},
   "outputs": [],
   "source": [
    "for layer in model.layers[:15]:\n",
    "    layer.trainable = True"
   ]
  },
  {
   "cell_type": "code",
   "execution_count": 29,
   "metadata": {},
   "outputs": [
    {
     "name": "stdout",
     "output_type": "stream",
     "text": [
      "_________________________________________________________________\n",
      "Layer (type)                 Output Shape              Param #   \n",
      "=================================================================\n",
      "input_1 (InputLayer)         (None, 224, 224, 3)       0         \n",
      "_________________________________________________________________\n",
      "block1_conv1 (Conv2D)        (None, 224, 224, 64)      1792      \n",
      "_________________________________________________________________\n",
      "block1_conv2 (Conv2D)        (None, 224, 224, 64)      36928     \n",
      "_________________________________________________________________\n",
      "block1_pool (MaxPooling2D)   (None, 112, 112, 64)      0         \n",
      "_________________________________________________________________\n",
      "block2_conv1 (Conv2D)        (None, 112, 112, 128)     73856     \n",
      "_________________________________________________________________\n",
      "block2_conv2 (Conv2D)        (None, 112, 112, 128)     147584    \n",
      "_________________________________________________________________\n",
      "block2_pool (MaxPooling2D)   (None, 56, 56, 128)       0         \n",
      "_________________________________________________________________\n",
      "block3_conv1 (Conv2D)        (None, 56, 56, 256)       295168    \n",
      "_________________________________________________________________\n",
      "block3_conv2 (Conv2D)        (None, 56, 56, 256)       590080    \n",
      "_________________________________________________________________\n",
      "block3_conv3 (Conv2D)        (None, 56, 56, 256)       590080    \n",
      "_________________________________________________________________\n",
      "block3_pool (MaxPooling2D)   (None, 28, 28, 256)       0         \n",
      "_________________________________________________________________\n",
      "block4_conv1 (Conv2D)        (None, 28, 28, 512)       1180160   \n",
      "_________________________________________________________________\n",
      "block4_conv2 (Conv2D)        (None, 28, 28, 512)       2359808   \n",
      "_________________________________________________________________\n",
      "block4_conv3 (Conv2D)        (None, 28, 28, 512)       2359808   \n",
      "_________________________________________________________________\n",
      "block4_pool (MaxPooling2D)   (None, 14, 14, 512)       0         \n",
      "_________________________________________________________________\n",
      "block5_conv1 (Conv2D)        (None, 14, 14, 512)       2359808   \n",
      "_________________________________________________________________\n",
      "block5_conv2 (Conv2D)        (None, 14, 14, 512)       2359808   \n",
      "_________________________________________________________________\n",
      "block5_conv3 (Conv2D)        (None, 14, 14, 512)       2359808   \n",
      "_________________________________________________________________\n",
      "block5_pool (MaxPooling2D)   (None, 7, 7, 512)         0         \n",
      "_________________________________________________________________\n",
      "sequential_1 (Sequential)    (None, 5)                 6424069   \n",
      "=================================================================\n",
      "Total params: 21,138,757\n",
      "Trainable params: 21,138,757\n",
      "Non-trainable params: 0\n",
      "_________________________________________________________________\n"
     ]
    }
   ],
   "source": [
    "from keras import optimizers\n",
    "\n",
    "model.compile(loss='categorical_crossentropy',\n",
    "     optimizer=optimizers.SGD(lr=1e-5, momentum=0.9),\n",
    "     metrics=['accuracy'])\n",
    "model.summary()"
   ]
  },
  {
   "cell_type": "code",
   "execution_count": 30,
   "metadata": {},
   "outputs": [],
   "source": [
    "batch_size =32\n",
    "n_epochs =20\n",
    "n_batches = 1000//batch_size"
   ]
  },
  {
   "cell_type": "code",
   "execution_count": 33,
   "metadata": {
    "scrolled": true
   },
   "outputs": [
    {
     "name": "stdout",
     "output_type": "stream",
     "text": [
      "Epoch 1/1\n",
      "4424/4424 [==============================] - ETA: 2:09 - loss: 0.9016 - acc: 0.687 - ETA: 2:06 - loss: 0.8339 - acc: 0.718 - ETA: 2:06 - loss: 0.7777 - acc: 0.760 - ETA: 2:05 - loss: 0.7872 - acc: 0.765 - ETA: 2:04 - loss: 0.7783 - acc: 0.762 - ETA: 2:03 - loss: 0.7663 - acc: 0.770 - ETA: 2:02 - loss: 0.7556 - acc: 0.781 - ETA: 2:03 - loss: 0.7397 - acc: 0.785 - ETA: 2:02 - loss: 0.7772 - acc: 0.770 - ETA: 2:01 - loss: 0.7784 - acc: 0.771 - ETA: 2:00 - loss: 0.7867 - acc: 0.772 - ETA: 1:59 - loss: 0.7975 - acc: 0.768 - ETA: 1:57 - loss: 0.7746 - acc: 0.778 - ETA: 1:56 - loss: 0.8129 - acc: 0.758 - ETA: 1:55 - loss: 0.8093 - acc: 0.764 - ETA: 1:54 - loss: 0.8056 - acc: 0.765 - ETA: 1:54 - loss: 0.7997 - acc: 0.768 - ETA: 1:53 - loss: 0.8262 - acc: 0.760 - ETA: 1:53 - loss: 0.8393 - acc: 0.751 - ETA: 1:52 - loss: 0.8351 - acc: 0.754 - ETA: 1:51 - loss: 0.8281 - acc: 0.758 - ETA: 1:51 - loss: 0.8320 - acc: 0.761 - ETA: 1:50 - loss: 0.8294 - acc: 0.762 - ETA: 1:48 - loss: 0.8289 - acc: 0.763 - ETA: 1:48 - loss: 0.8386 - acc: 0.761 - ETA: 1:48 - loss: 0.8332 - acc: 0.763 - ETA: 1:46 - loss: 0.8367 - acc: 0.765 - ETA: 1:45 - loss: 0.8434 - acc: 0.761 - ETA: 1:44 - loss: 0.8485 - acc: 0.761 - ETA: 1:43 - loss: 0.8485 - acc: 0.762 - ETA: 1:42 - loss: 0.8534 - acc: 0.760 - ETA: 1:41 - loss: 0.8529 - acc: 0.760 - ETA: 1:40 - loss: 0.8542 - acc: 0.759 - ETA: 1:39 - loss: 0.8547 - acc: 0.761 - ETA: 1:38 - loss: 0.8590 - acc: 0.759 - ETA: 1:37 - loss: 0.8779 - acc: 0.754 - ETA: 1:36 - loss: 0.8741 - acc: 0.754 - ETA: 1:35 - loss: 0.8790 - acc: 0.752 - ETA: 1:34 - loss: 0.8849 - acc: 0.751 - ETA: 1:33 - loss: 0.8811 - acc: 0.753 - ETA: 1:33 - loss: 0.8820 - acc: 0.752 - ETA: 1:32 - loss: 0.8939 - acc: 0.747 - ETA: 1:31 - loss: 0.8867 - acc: 0.750 - ETA: 1:30 - loss: 0.8923 - acc: 0.748 - ETA: 1:29 - loss: 0.8906 - acc: 0.748 - ETA: 1:28 - loss: 0.8911 - acc: 0.749 - ETA: 1:27 - loss: 0.8889 - acc: 0.750 - ETA: 1:26 - loss: 0.8882 - acc: 0.749 - ETA: 1:25 - loss: 0.8854 - acc: 0.750 - ETA: 1:24 - loss: 0.8880 - acc: 0.750 - ETA: 1:23 - loss: 0.8897 - acc: 0.751 - ETA: 1:22 - loss: 0.8876 - acc: 0.751 - ETA: 1:21 - loss: 0.8834 - acc: 0.751 - ETA: 1:20 - loss: 0.8845 - acc: 0.751 - ETA: 1:19 - loss: 0.8868 - acc: 0.750 - ETA: 1:18 - loss: 0.8876 - acc: 0.748 - ETA: 1:18 - loss: 0.8912 - acc: 0.748 - ETA: 1:17 - loss: 0.8949 - acc: 0.747 - ETA: 1:16 - loss: 0.8948 - acc: 0.746 - ETA: 1:15 - loss: 0.8950 - acc: 0.745 - ETA: 1:14 - loss: 0.8973 - acc: 0.744 - ETA: 1:13 - loss: 0.8997 - acc: 0.742 - ETA: 1:12 - loss: 0.8951 - acc: 0.744 - ETA: 1:11 - loss: 0.8928 - acc: 0.744 - ETA: 1:10 - loss: 0.8911 - acc: 0.744 - ETA: 1:09 - loss: 0.8895 - acc: 0.744 - ETA: 1:08 - loss: 0.8919 - acc: 0.743 - ETA: 1:07 - loss: 0.8918 - acc: 0.743 - ETA: 1:06 - loss: 0.8962 - acc: 0.741 - ETA: 1:05 - loss: 0.9004 - acc: 0.741 - ETA: 1:04 - loss: 0.9018 - acc: 0.739 - ETA: 1:03 - loss: 0.9037 - acc: 0.738 - ETA: 1:02 - loss: 0.9108 - acc: 0.736 - ETA: 1:01 - loss: 0.9078 - acc: 0.737 - ETA: 1:00 - loss: 0.9080 - acc: 0.737 - ETA: 59s - loss: 0.9105 - acc: 0.736 - ETA: 58s - loss: 0.9090 - acc: 0.73 - ETA: 57s - loss: 0.9100 - acc: 0.73 - ETA: 56s - loss: 0.9100 - acc: 0.73 - ETA: 55s - loss: 0.9075 - acc: 0.73 - ETA: 54s - loss: 0.9064 - acc: 0.73 - ETA: 53s - loss: 0.9051 - acc: 0.73 - ETA: 52s - loss: 0.9027 - acc: 0.73 - ETA: 51s - loss: 0.9024 - acc: 0.73 - ETA: 50s - loss: 0.9004 - acc: 0.73 - ETA: 49s - loss: 0.9027 - acc: 0.73 - ETA: 48s - loss: 0.9077 - acc: 0.73 - ETA: 47s - loss: 0.9084 - acc: 0.73 - ETA: 47s - loss: 0.9066 - acc: 0.73 - ETA: 46s - loss: 0.9053 - acc: 0.73 - ETA: 45s - loss: 0.9036 - acc: 0.73 - ETA: 44s - loss: 0.9017 - acc: 0.73 - ETA: 43s - loss: 0.9044 - acc: 0.73 - ETA: 42s - loss: 0.9057 - acc: 0.73 - ETA: 41s - loss: 0.9067 - acc: 0.73 - ETA: 40s - loss: 0.9059 - acc: 0.73 - ETA: 39s - loss: 0.9040 - acc: 0.73 - ETA: 38s - loss: 0.9047 - acc: 0.73 - ETA: 37s - loss: 0.9017 - acc: 0.73 - ETA: 36s - loss: 0.8997 - acc: 0.73 - ETA: 35s - loss: 0.8999 - acc: 0.73 - ETA: 34s - loss: 0.8991 - acc: 0.73 - ETA: 33s - loss: 0.9022 - acc: 0.73 - ETA: 32s - loss: 0.9040 - acc: 0.73 - ETA: 31s - loss: 0.9065 - acc: 0.73 - ETA: 30s - loss: 0.9053 - acc: 0.73 - ETA: 29s - loss: 0.9058 - acc: 0.73 - ETA: 28s - loss: 0.9039 - acc: 0.73 - ETA: 28s - loss: 0.9048 - acc: 0.73 - ETA: 27s - loss: 0.9039 - acc: 0.73 - ETA: 26s - loss: 0.9076 - acc: 0.73 - ETA: 25s - loss: 0.9067 - acc: 0.73 - ETA: 24s - loss: 0.9068 - acc: 0.73 - ETA: 23s - loss: 0.9086 - acc: 0.73 - ETA: 22s - loss: 0.9095 - acc: 0.73 - ETA: 21s - loss: 0.9104 - acc: 0.73 - ETA: 20s - loss: 0.9096 - acc: 0.73 - ETA: 19s - loss: 0.9106 - acc: 0.73 - ETA: 18s - loss: 0.9119 - acc: 0.73 - ETA: 17s - loss: 0.9113 - acc: 0.73 - ETA: 16s - loss: 0.9155 - acc: 0.73 - ETA: 15s - loss: 0.9169 - acc: 0.73 - ETA: 14s - loss: 0.9151 - acc: 0.73 - ETA: 13s - loss: 0.9143 - acc: 0.73 - ETA: 12s - loss: 0.9169 - acc: 0.73 - ETA: 11s - loss: 0.9165 - acc: 0.73 - ETA: 10s - loss: 0.9180 - acc: 0.72 - ETA: 9s - loss: 0.9166 - acc: 0.7300 - ETA: 8s - loss: 0.9186 - acc: 0.728 - ETA: 7s - loss: 0.9202 - acc: 0.728 - ETA: 6s - loss: 0.9203 - acc: 0.728 - ETA: 5s - loss: 0.9205 - acc: 0.728 - ETA: 5s - loss: 0.9201 - acc: 0.727 - ETA: 4s - loss: 0.9195 - acc: 0.728 - ETA: 3s - loss: 0.9193 - acc: 0.728 - ETA: 2s - loss: 0.9211 - acc: 0.727 - ETA: 1s - loss: 0.9246 - acc: 0.726 - ETA: 0s - loss: 0.9252 - acc: 0.726 - 132s 30ms/step - loss: 0.9268 - acc: 0.7258\n"
     ]
    }
   ],
   "source": [
    "with tf.device(\"/gpu:0\"):\n",
    "    model.fit(x = X_train,y=Y_train)"
   ]
  },
  {
   "cell_type": "code",
   "execution_count": null,
   "metadata": {},
   "outputs": [],
   "source": []
  },
  {
   "cell_type": "code",
   "execution_count": null,
   "metadata": {},
   "outputs": [],
   "source": []
  },
  {
   "cell_type": "code",
   "execution_count": 34,
   "metadata": {},
   "outputs": [
    {
     "name": "stdout",
     "output_type": "stream",
     "text": [
      "Saved model to disk\n"
     ]
    }
   ],
   "source": [
    "# serialize model to JSON\n",
    "model_json = model.to_json()\n",
    "with open(\"model_train_1.json\", \"w\") as json_file:\n",
    "    json_file.write(model_json)\n",
    "# serialize weights to HDF5\n",
    "model.save_weights(\"DR_train_1.h5\")\n",
    "print(\"Saved model to disk\")"
   ]
  },
  {
   "cell_type": "code",
   "execution_count": 35,
   "metadata": {},
   "outputs": [],
   "source": [
    "model.save(\"resized_train_1.h5\")"
   ]
  },
  {
   "cell_type": "code",
   "execution_count": null,
   "metadata": {},
   "outputs": [],
   "source": []
  },
  {
   "cell_type": "code",
   "execution_count": 36,
   "metadata": {},
   "outputs": [],
   "source": [
    "with tf.device(\"/gpu:0\"):\n",
    "    probs = model.predict(X_test)"
   ]
  },
  {
   "cell_type": "code",
   "execution_count": 38,
   "metadata": {},
   "outputs": [
    {
     "data": {
      "text/plain": [
       "array([[0.6798302 , 0.08682888, 0.18703885, 0.02990787, 0.01639428],\n",
       "       [0.70501584, 0.06857344, 0.17927627, 0.02980347, 0.01733087],\n",
       "       [0.7180157 , 0.07097933, 0.17041983, 0.0253316 , 0.01525359],\n",
       "       [0.6858393 , 0.07040537, 0.19993813, 0.02535028, 0.01846693],\n",
       "       [0.73470944, 0.07186146, 0.14764604, 0.02752039, 0.01826273],\n",
       "       [0.7163032 , 0.06833296, 0.1627479 , 0.02957105, 0.02304492],\n",
       "       [0.716273  , 0.0646733 , 0.1709259 , 0.02804079, 0.02008696],\n",
       "       [0.71375215, 0.07662224, 0.17094928, 0.02558765, 0.01308866],\n",
       "       [0.70880806, 0.07389447, 0.16825679, 0.03140076, 0.01763993],\n",
       "       [0.71584344, 0.07636467, 0.17718042, 0.01789589, 0.01271555]],\n",
       "      dtype=float32)"
      ]
     },
     "execution_count": 38,
     "metadata": {},
     "output_type": "execute_result"
    }
   ],
   "source": [
    "probs[:10]"
   ]
  },
  {
   "cell_type": "code",
   "execution_count": 39,
   "metadata": {},
   "outputs": [
    {
     "data": {
      "text/plain": [
       "array([[1., 0., 0., 0., 0.],\n",
       "       [1., 0., 0., 0., 0.],\n",
       "       [1., 0., 0., 0., 0.],\n",
       "       [0., 0., 1., 0., 0.],\n",
       "       [0., 1., 0., 0., 0.],\n",
       "       [0., 0., 0., 1., 0.],\n",
       "       [1., 0., 0., 0., 0.],\n",
       "       [1., 0., 0., 0., 0.],\n",
       "       [1., 0., 0., 0., 0.],\n",
       "       [1., 0., 0., 0., 0.]], dtype=float32)"
      ]
     },
     "execution_count": 39,
     "metadata": {},
     "output_type": "execute_result"
    }
   ],
   "source": [
    "Y_test[:10]"
   ]
  },
  {
   "cell_type": "code",
   "execution_count": 40,
   "metadata": {},
   "outputs": [
    {
     "name": "stderr",
     "output_type": "stream",
     "text": [
      "D:\\Anaconda\\envs\\tensorflow_gpuenv\\lib\\site-packages\\keras_applications\\resnet50.py:265: UserWarning: The output shape of `ResNet50(include_top=False)` has been changed since Keras 2.2.0.\n",
      "  warnings.warn('The output shape of `ResNet50(include_top=False)` '\n"
     ]
    },
    {
     "name": "stdout",
     "output_type": "stream",
     "text": [
      "__________________________________________________________________________________________________\n",
      "Layer (type)                    Output Shape         Param #     Connected to                     \n",
      "==================================================================================================\n",
      "input_2 (InputLayer)            (None, 224, 224, 3)  0                                            \n",
      "__________________________________________________________________________________________________\n",
      "conv1_pad (ZeroPadding2D)       (None, 230, 230, 3)  0           input_2[0][0]                    \n",
      "__________________________________________________________________________________________________\n",
      "conv1 (Conv2D)                  (None, 112, 112, 64) 9472        conv1_pad[0][0]                  \n",
      "__________________________________________________________________________________________________\n",
      "bn_conv1 (BatchNormalization)   (None, 112, 112, 64) 256         conv1[0][0]                      \n",
      "__________________________________________________________________________________________________\n",
      "activation_1 (Activation)       (None, 112, 112, 64) 0           bn_conv1[0][0]                   \n",
      "__________________________________________________________________________________________________\n",
      "pool1_pad (ZeroPadding2D)       (None, 114, 114, 64) 0           activation_1[0][0]               \n",
      "__________________________________________________________________________________________________\n",
      "max_pooling2d_1 (MaxPooling2D)  (None, 56, 56, 64)   0           pool1_pad[0][0]                  \n",
      "__________________________________________________________________________________________________\n",
      "res2a_branch2a (Conv2D)         (None, 56, 56, 64)   4160        max_pooling2d_1[0][0]            \n",
      "__________________________________________________________________________________________________\n",
      "bn2a_branch2a (BatchNormalizati (None, 56, 56, 64)   256         res2a_branch2a[0][0]             \n",
      "__________________________________________________________________________________________________\n",
      "activation_2 (Activation)       (None, 56, 56, 64)   0           bn2a_branch2a[0][0]              \n",
      "__________________________________________________________________________________________________\n",
      "res2a_branch2b (Conv2D)         (None, 56, 56, 64)   36928       activation_2[0][0]               \n",
      "__________________________________________________________________________________________________\n",
      "bn2a_branch2b (BatchNormalizati (None, 56, 56, 64)   256         res2a_branch2b[0][0]             \n",
      "__________________________________________________________________________________________________\n",
      "activation_3 (Activation)       (None, 56, 56, 64)   0           bn2a_branch2b[0][0]              \n",
      "__________________________________________________________________________________________________\n",
      "res2a_branch2c (Conv2D)         (None, 56, 56, 256)  16640       activation_3[0][0]               \n",
      "__________________________________________________________________________________________________\n",
      "res2a_branch1 (Conv2D)          (None, 56, 56, 256)  16640       max_pooling2d_1[0][0]            \n",
      "__________________________________________________________________________________________________\n",
      "bn2a_branch2c (BatchNormalizati (None, 56, 56, 256)  1024        res2a_branch2c[0][0]             \n",
      "__________________________________________________________________________________________________\n",
      "bn2a_branch1 (BatchNormalizatio (None, 56, 56, 256)  1024        res2a_branch1[0][0]              \n",
      "__________________________________________________________________________________________________\n",
      "add_1 (Add)                     (None, 56, 56, 256)  0           bn2a_branch2c[0][0]              \n",
      "                                                                 bn2a_branch1[0][0]               \n",
      "__________________________________________________________________________________________________\n",
      "activation_4 (Activation)       (None, 56, 56, 256)  0           add_1[0][0]                      \n",
      "__________________________________________________________________________________________________\n",
      "res2b_branch2a (Conv2D)         (None, 56, 56, 64)   16448       activation_4[0][0]               \n",
      "__________________________________________________________________________________________________\n",
      "bn2b_branch2a (BatchNormalizati (None, 56, 56, 64)   256         res2b_branch2a[0][0]             \n",
      "__________________________________________________________________________________________________\n",
      "activation_5 (Activation)       (None, 56, 56, 64)   0           bn2b_branch2a[0][0]              \n",
      "__________________________________________________________________________________________________\n",
      "res2b_branch2b (Conv2D)         (None, 56, 56, 64)   36928       activation_5[0][0]               \n",
      "__________________________________________________________________________________________________\n",
      "bn2b_branch2b (BatchNormalizati (None, 56, 56, 64)   256         res2b_branch2b[0][0]             \n",
      "__________________________________________________________________________________________________\n",
      "activation_6 (Activation)       (None, 56, 56, 64)   0           bn2b_branch2b[0][0]              \n",
      "__________________________________________________________________________________________________\n",
      "res2b_branch2c (Conv2D)         (None, 56, 56, 256)  16640       activation_6[0][0]               \n",
      "__________________________________________________________________________________________________\n",
      "bn2b_branch2c (BatchNormalizati (None, 56, 56, 256)  1024        res2b_branch2c[0][0]             \n",
      "__________________________________________________________________________________________________\n",
      "add_2 (Add)                     (None, 56, 56, 256)  0           bn2b_branch2c[0][0]              \n",
      "                                                                 activation_4[0][0]               \n",
      "__________________________________________________________________________________________________\n",
      "activation_7 (Activation)       (None, 56, 56, 256)  0           add_2[0][0]                      \n",
      "__________________________________________________________________________________________________\n",
      "res2c_branch2a (Conv2D)         (None, 56, 56, 64)   16448       activation_7[0][0]               \n",
      "__________________________________________________________________________________________________\n",
      "bn2c_branch2a (BatchNormalizati (None, 56, 56, 64)   256         res2c_branch2a[0][0]             \n",
      "__________________________________________________________________________________________________\n",
      "activation_8 (Activation)       (None, 56, 56, 64)   0           bn2c_branch2a[0][0]              \n",
      "__________________________________________________________________________________________________\n",
      "res2c_branch2b (Conv2D)         (None, 56, 56, 64)   36928       activation_8[0][0]               \n",
      "__________________________________________________________________________________________________\n",
      "bn2c_branch2b (BatchNormalizati (None, 56, 56, 64)   256         res2c_branch2b[0][0]             \n",
      "__________________________________________________________________________________________________\n",
      "activation_9 (Activation)       (None, 56, 56, 64)   0           bn2c_branch2b[0][0]              \n",
      "__________________________________________________________________________________________________\n",
      "res2c_branch2c (Conv2D)         (None, 56, 56, 256)  16640       activation_9[0][0]               \n",
      "__________________________________________________________________________________________________\n",
      "bn2c_branch2c (BatchNormalizati (None, 56, 56, 256)  1024        res2c_branch2c[0][0]             \n",
      "__________________________________________________________________________________________________\n",
      "add_3 (Add)                     (None, 56, 56, 256)  0           bn2c_branch2c[0][0]              \n",
      "                                                                 activation_7[0][0]               \n",
      "__________________________________________________________________________________________________\n"
     ]
    },
    {
     "name": "stdout",
     "output_type": "stream",
     "text": [
      "activation_10 (Activation)      (None, 56, 56, 256)  0           add_3[0][0]                      \n",
      "__________________________________________________________________________________________________\n",
      "res3a_branch2a (Conv2D)         (None, 28, 28, 128)  32896       activation_10[0][0]              \n",
      "__________________________________________________________________________________________________\n",
      "bn3a_branch2a (BatchNormalizati (None, 28, 28, 128)  512         res3a_branch2a[0][0]             \n",
      "__________________________________________________________________________________________________\n",
      "activation_11 (Activation)      (None, 28, 28, 128)  0           bn3a_branch2a[0][0]              \n",
      "__________________________________________________________________________________________________\n",
      "res3a_branch2b (Conv2D)         (None, 28, 28, 128)  147584      activation_11[0][0]              \n",
      "__________________________________________________________________________________________________\n",
      "bn3a_branch2b (BatchNormalizati (None, 28, 28, 128)  512         res3a_branch2b[0][0]             \n",
      "__________________________________________________________________________________________________\n",
      "activation_12 (Activation)      (None, 28, 28, 128)  0           bn3a_branch2b[0][0]              \n",
      "__________________________________________________________________________________________________\n",
      "res3a_branch2c (Conv2D)         (None, 28, 28, 512)  66048       activation_12[0][0]              \n",
      "__________________________________________________________________________________________________\n",
      "res3a_branch1 (Conv2D)          (None, 28, 28, 512)  131584      activation_10[0][0]              \n",
      "__________________________________________________________________________________________________\n",
      "bn3a_branch2c (BatchNormalizati (None, 28, 28, 512)  2048        res3a_branch2c[0][0]             \n",
      "__________________________________________________________________________________________________\n",
      "bn3a_branch1 (BatchNormalizatio (None, 28, 28, 512)  2048        res3a_branch1[0][0]              \n",
      "__________________________________________________________________________________________________\n",
      "add_4 (Add)                     (None, 28, 28, 512)  0           bn3a_branch2c[0][0]              \n",
      "                                                                 bn3a_branch1[0][0]               \n",
      "__________________________________________________________________________________________________\n",
      "activation_13 (Activation)      (None, 28, 28, 512)  0           add_4[0][0]                      \n",
      "__________________________________________________________________________________________________\n",
      "res3b_branch2a (Conv2D)         (None, 28, 28, 128)  65664       activation_13[0][0]              \n",
      "__________________________________________________________________________________________________\n",
      "bn3b_branch2a (BatchNormalizati (None, 28, 28, 128)  512         res3b_branch2a[0][0]             \n",
      "__________________________________________________________________________________________________\n",
      "activation_14 (Activation)      (None, 28, 28, 128)  0           bn3b_branch2a[0][0]              \n",
      "__________________________________________________________________________________________________\n",
      "res3b_branch2b (Conv2D)         (None, 28, 28, 128)  147584      activation_14[0][0]              \n",
      "__________________________________________________________________________________________________\n",
      "bn3b_branch2b (BatchNormalizati (None, 28, 28, 128)  512         res3b_branch2b[0][0]             \n",
      "__________________________________________________________________________________________________\n",
      "activation_15 (Activation)      (None, 28, 28, 128)  0           bn3b_branch2b[0][0]              \n",
      "__________________________________________________________________________________________________\n",
      "res3b_branch2c (Conv2D)         (None, 28, 28, 512)  66048       activation_15[0][0]              \n",
      "__________________________________________________________________________________________________\n",
      "bn3b_branch2c (BatchNormalizati (None, 28, 28, 512)  2048        res3b_branch2c[0][0]             \n",
      "__________________________________________________________________________________________________\n",
      "add_5 (Add)                     (None, 28, 28, 512)  0           bn3b_branch2c[0][0]              \n",
      "                                                                 activation_13[0][0]              \n",
      "__________________________________________________________________________________________________\n",
      "activation_16 (Activation)      (None, 28, 28, 512)  0           add_5[0][0]                      \n",
      "__________________________________________________________________________________________________\n",
      "res3c_branch2a (Conv2D)         (None, 28, 28, 128)  65664       activation_16[0][0]              \n",
      "__________________________________________________________________________________________________\n",
      "bn3c_branch2a (BatchNormalizati (None, 28, 28, 128)  512         res3c_branch2a[0][0]             \n",
      "__________________________________________________________________________________________________\n",
      "activation_17 (Activation)      (None, 28, 28, 128)  0           bn3c_branch2a[0][0]              \n",
      "__________________________________________________________________________________________________\n",
      "res3c_branch2b (Conv2D)         (None, 28, 28, 128)  147584      activation_17[0][0]              \n",
      "__________________________________________________________________________________________________\n",
      "bn3c_branch2b (BatchNormalizati (None, 28, 28, 128)  512         res3c_branch2b[0][0]             \n",
      "__________________________________________________________________________________________________\n",
      "activation_18 (Activation)      (None, 28, 28, 128)  0           bn3c_branch2b[0][0]              \n",
      "__________________________________________________________________________________________________\n",
      "res3c_branch2c (Conv2D)         (None, 28, 28, 512)  66048       activation_18[0][0]              \n",
      "__________________________________________________________________________________________________\n",
      "bn3c_branch2c (BatchNormalizati (None, 28, 28, 512)  2048        res3c_branch2c[0][0]             \n",
      "__________________________________________________________________________________________________\n",
      "add_6 (Add)                     (None, 28, 28, 512)  0           bn3c_branch2c[0][0]              \n",
      "                                                                 activation_16[0][0]              \n",
      "__________________________________________________________________________________________________\n",
      "activation_19 (Activation)      (None, 28, 28, 512)  0           add_6[0][0]                      \n",
      "__________________________________________________________________________________________________\n",
      "res3d_branch2a (Conv2D)         (None, 28, 28, 128)  65664       activation_19[0][0]              \n",
      "__________________________________________________________________________________________________\n",
      "bn3d_branch2a (BatchNormalizati (None, 28, 28, 128)  512         res3d_branch2a[0][0]             \n",
      "__________________________________________________________________________________________________\n",
      "activation_20 (Activation)      (None, 28, 28, 128)  0           bn3d_branch2a[0][0]              \n",
      "__________________________________________________________________________________________________\n",
      "res3d_branch2b (Conv2D)         (None, 28, 28, 128)  147584      activation_20[0][0]              \n",
      "__________________________________________________________________________________________________\n",
      "bn3d_branch2b (BatchNormalizati (None, 28, 28, 128)  512         res3d_branch2b[0][0]             \n",
      "__________________________________________________________________________________________________\n",
      "activation_21 (Activation)      (None, 28, 28, 128)  0           bn3d_branch2b[0][0]              \n",
      "__________________________________________________________________________________________________\n",
      "res3d_branch2c (Conv2D)         (None, 28, 28, 512)  66048       activation_21[0][0]              \n"
     ]
    },
    {
     "name": "stdout",
     "output_type": "stream",
     "text": [
      "__________________________________________________________________________________________________\n",
      "bn3d_branch2c (BatchNormalizati (None, 28, 28, 512)  2048        res3d_branch2c[0][0]             \n",
      "__________________________________________________________________________________________________\n",
      "add_7 (Add)                     (None, 28, 28, 512)  0           bn3d_branch2c[0][0]              \n",
      "                                                                 activation_19[0][0]              \n",
      "__________________________________________________________________________________________________\n",
      "activation_22 (Activation)      (None, 28, 28, 512)  0           add_7[0][0]                      \n",
      "__________________________________________________________________________________________________\n",
      "res4a_branch2a (Conv2D)         (None, 14, 14, 256)  131328      activation_22[0][0]              \n",
      "__________________________________________________________________________________________________\n",
      "bn4a_branch2a (BatchNormalizati (None, 14, 14, 256)  1024        res4a_branch2a[0][0]             \n",
      "__________________________________________________________________________________________________\n",
      "activation_23 (Activation)      (None, 14, 14, 256)  0           bn4a_branch2a[0][0]              \n",
      "__________________________________________________________________________________________________\n",
      "res4a_branch2b (Conv2D)         (None, 14, 14, 256)  590080      activation_23[0][0]              \n",
      "__________________________________________________________________________________________________\n",
      "bn4a_branch2b (BatchNormalizati (None, 14, 14, 256)  1024        res4a_branch2b[0][0]             \n",
      "__________________________________________________________________________________________________\n",
      "activation_24 (Activation)      (None, 14, 14, 256)  0           bn4a_branch2b[0][0]              \n",
      "__________________________________________________________________________________________________\n",
      "res4a_branch2c (Conv2D)         (None, 14, 14, 1024) 263168      activation_24[0][0]              \n",
      "__________________________________________________________________________________________________\n",
      "res4a_branch1 (Conv2D)          (None, 14, 14, 1024) 525312      activation_22[0][0]              \n",
      "__________________________________________________________________________________________________\n",
      "bn4a_branch2c (BatchNormalizati (None, 14, 14, 1024) 4096        res4a_branch2c[0][0]             \n",
      "__________________________________________________________________________________________________\n",
      "bn4a_branch1 (BatchNormalizatio (None, 14, 14, 1024) 4096        res4a_branch1[0][0]              \n",
      "__________________________________________________________________________________________________\n",
      "add_8 (Add)                     (None, 14, 14, 1024) 0           bn4a_branch2c[0][0]              \n",
      "                                                                 bn4a_branch1[0][0]               \n",
      "__________________________________________________________________________________________________\n",
      "activation_25 (Activation)      (None, 14, 14, 1024) 0           add_8[0][0]                      \n",
      "__________________________________________________________________________________________________\n",
      "res4b_branch2a (Conv2D)         (None, 14, 14, 256)  262400      activation_25[0][0]              \n",
      "__________________________________________________________________________________________________\n",
      "bn4b_branch2a (BatchNormalizati (None, 14, 14, 256)  1024        res4b_branch2a[0][0]             \n",
      "__________________________________________________________________________________________________\n",
      "activation_26 (Activation)      (None, 14, 14, 256)  0           bn4b_branch2a[0][0]              \n",
      "__________________________________________________________________________________________________\n",
      "res4b_branch2b (Conv2D)         (None, 14, 14, 256)  590080      activation_26[0][0]              \n",
      "__________________________________________________________________________________________________\n",
      "bn4b_branch2b (BatchNormalizati (None, 14, 14, 256)  1024        res4b_branch2b[0][0]             \n",
      "__________________________________________________________________________________________________\n",
      "activation_27 (Activation)      (None, 14, 14, 256)  0           bn4b_branch2b[0][0]              \n",
      "__________________________________________________________________________________________________\n",
      "res4b_branch2c (Conv2D)         (None, 14, 14, 1024) 263168      activation_27[0][0]              \n",
      "__________________________________________________________________________________________________\n",
      "bn4b_branch2c (BatchNormalizati (None, 14, 14, 1024) 4096        res4b_branch2c[0][0]             \n",
      "__________________________________________________________________________________________________\n",
      "add_9 (Add)                     (None, 14, 14, 1024) 0           bn4b_branch2c[0][0]              \n",
      "                                                                 activation_25[0][0]              \n",
      "__________________________________________________________________________________________________\n",
      "activation_28 (Activation)      (None, 14, 14, 1024) 0           add_9[0][0]                      \n",
      "__________________________________________________________________________________________________\n",
      "res4c_branch2a (Conv2D)         (None, 14, 14, 256)  262400      activation_28[0][0]              \n",
      "__________________________________________________________________________________________________\n",
      "bn4c_branch2a (BatchNormalizati (None, 14, 14, 256)  1024        res4c_branch2a[0][0]             \n",
      "__________________________________________________________________________________________________\n",
      "activation_29 (Activation)      (None, 14, 14, 256)  0           bn4c_branch2a[0][0]              \n",
      "__________________________________________________________________________________________________\n",
      "res4c_branch2b (Conv2D)         (None, 14, 14, 256)  590080      activation_29[0][0]              \n",
      "__________________________________________________________________________________________________\n",
      "bn4c_branch2b (BatchNormalizati (None, 14, 14, 256)  1024        res4c_branch2b[0][0]             \n",
      "__________________________________________________________________________________________________\n",
      "activation_30 (Activation)      (None, 14, 14, 256)  0           bn4c_branch2b[0][0]              \n",
      "__________________________________________________________________________________________________\n",
      "res4c_branch2c (Conv2D)         (None, 14, 14, 1024) 263168      activation_30[0][0]              \n",
      "__________________________________________________________________________________________________\n",
      "bn4c_branch2c (BatchNormalizati (None, 14, 14, 1024) 4096        res4c_branch2c[0][0]             \n",
      "__________________________________________________________________________________________________\n",
      "add_10 (Add)                    (None, 14, 14, 1024) 0           bn4c_branch2c[0][0]              \n",
      "                                                                 activation_28[0][0]              \n",
      "__________________________________________________________________________________________________\n",
      "activation_31 (Activation)      (None, 14, 14, 1024) 0           add_10[0][0]                     \n",
      "__________________________________________________________________________________________________\n",
      "res4d_branch2a (Conv2D)         (None, 14, 14, 256)  262400      activation_31[0][0]              \n",
      "__________________________________________________________________________________________________\n",
      "bn4d_branch2a (BatchNormalizati (None, 14, 14, 256)  1024        res4d_branch2a[0][0]             \n",
      "__________________________________________________________________________________________________\n",
      "activation_32 (Activation)      (None, 14, 14, 256)  0           bn4d_branch2a[0][0]              \n",
      "__________________________________________________________________________________________________\n",
      "res4d_branch2b (Conv2D)         (None, 14, 14, 256)  590080      activation_32[0][0]              \n"
     ]
    },
    {
     "name": "stdout",
     "output_type": "stream",
     "text": [
      "__________________________________________________________________________________________________\n",
      "bn4d_branch2b (BatchNormalizati (None, 14, 14, 256)  1024        res4d_branch2b[0][0]             \n",
      "__________________________________________________________________________________________________\n",
      "activation_33 (Activation)      (None, 14, 14, 256)  0           bn4d_branch2b[0][0]              \n",
      "__________________________________________________________________________________________________\n",
      "res4d_branch2c (Conv2D)         (None, 14, 14, 1024) 263168      activation_33[0][0]              \n",
      "__________________________________________________________________________________________________\n",
      "bn4d_branch2c (BatchNormalizati (None, 14, 14, 1024) 4096        res4d_branch2c[0][0]             \n",
      "__________________________________________________________________________________________________\n",
      "add_11 (Add)                    (None, 14, 14, 1024) 0           bn4d_branch2c[0][0]              \n",
      "                                                                 activation_31[0][0]              \n",
      "__________________________________________________________________________________________________\n",
      "activation_34 (Activation)      (None, 14, 14, 1024) 0           add_11[0][0]                     \n",
      "__________________________________________________________________________________________________\n",
      "res4e_branch2a (Conv2D)         (None, 14, 14, 256)  262400      activation_34[0][0]              \n",
      "__________________________________________________________________________________________________\n",
      "bn4e_branch2a (BatchNormalizati (None, 14, 14, 256)  1024        res4e_branch2a[0][0]             \n",
      "__________________________________________________________________________________________________\n",
      "activation_35 (Activation)      (None, 14, 14, 256)  0           bn4e_branch2a[0][0]              \n",
      "__________________________________________________________________________________________________\n",
      "res4e_branch2b (Conv2D)         (None, 14, 14, 256)  590080      activation_35[0][0]              \n",
      "__________________________________________________________________________________________________\n",
      "bn4e_branch2b (BatchNormalizati (None, 14, 14, 256)  1024        res4e_branch2b[0][0]             \n",
      "__________________________________________________________________________________________________\n",
      "activation_36 (Activation)      (None, 14, 14, 256)  0           bn4e_branch2b[0][0]              \n",
      "__________________________________________________________________________________________________\n",
      "res4e_branch2c (Conv2D)         (None, 14, 14, 1024) 263168      activation_36[0][0]              \n",
      "__________________________________________________________________________________________________\n",
      "bn4e_branch2c (BatchNormalizati (None, 14, 14, 1024) 4096        res4e_branch2c[0][0]             \n",
      "__________________________________________________________________________________________________\n",
      "add_12 (Add)                    (None, 14, 14, 1024) 0           bn4e_branch2c[0][0]              \n",
      "                                                                 activation_34[0][0]              \n",
      "__________________________________________________________________________________________________\n",
      "activation_37 (Activation)      (None, 14, 14, 1024) 0           add_12[0][0]                     \n",
      "__________________________________________________________________________________________________\n",
      "res4f_branch2a (Conv2D)         (None, 14, 14, 256)  262400      activation_37[0][0]              \n",
      "__________________________________________________________________________________________________\n",
      "bn4f_branch2a (BatchNormalizati (None, 14, 14, 256)  1024        res4f_branch2a[0][0]             \n",
      "__________________________________________________________________________________________________\n",
      "activation_38 (Activation)      (None, 14, 14, 256)  0           bn4f_branch2a[0][0]              \n",
      "__________________________________________________________________________________________________\n",
      "res4f_branch2b (Conv2D)         (None, 14, 14, 256)  590080      activation_38[0][0]              \n",
      "__________________________________________________________________________________________________\n",
      "bn4f_branch2b (BatchNormalizati (None, 14, 14, 256)  1024        res4f_branch2b[0][0]             \n",
      "__________________________________________________________________________________________________\n",
      "activation_39 (Activation)      (None, 14, 14, 256)  0           bn4f_branch2b[0][0]              \n",
      "__________________________________________________________________________________________________\n",
      "res4f_branch2c (Conv2D)         (None, 14, 14, 1024) 263168      activation_39[0][0]              \n",
      "__________________________________________________________________________________________________\n",
      "bn4f_branch2c (BatchNormalizati (None, 14, 14, 1024) 4096        res4f_branch2c[0][0]             \n",
      "__________________________________________________________________________________________________\n",
      "add_13 (Add)                    (None, 14, 14, 1024) 0           bn4f_branch2c[0][0]              \n",
      "                                                                 activation_37[0][0]              \n",
      "__________________________________________________________________________________________________\n",
      "activation_40 (Activation)      (None, 14, 14, 1024) 0           add_13[0][0]                     \n",
      "__________________________________________________________________________________________________\n",
      "res5a_branch2a (Conv2D)         (None, 7, 7, 512)    524800      activation_40[0][0]              \n",
      "__________________________________________________________________________________________________\n",
      "bn5a_branch2a (BatchNormalizati (None, 7, 7, 512)    2048        res5a_branch2a[0][0]             \n",
      "__________________________________________________________________________________________________\n",
      "activation_41 (Activation)      (None, 7, 7, 512)    0           bn5a_branch2a[0][0]              \n",
      "__________________________________________________________________________________________________\n",
      "res5a_branch2b (Conv2D)         (None, 7, 7, 512)    2359808     activation_41[0][0]              \n",
      "__________________________________________________________________________________________________\n",
      "bn5a_branch2b (BatchNormalizati (None, 7, 7, 512)    2048        res5a_branch2b[0][0]             \n",
      "__________________________________________________________________________________________________\n",
      "activation_42 (Activation)      (None, 7, 7, 512)    0           bn5a_branch2b[0][0]              \n",
      "__________________________________________________________________________________________________\n",
      "res5a_branch2c (Conv2D)         (None, 7, 7, 2048)   1050624     activation_42[0][0]              \n",
      "__________________________________________________________________________________________________\n",
      "res5a_branch1 (Conv2D)          (None, 7, 7, 2048)   2099200     activation_40[0][0]              \n",
      "__________________________________________________________________________________________________\n",
      "bn5a_branch2c (BatchNormalizati (None, 7, 7, 2048)   8192        res5a_branch2c[0][0]             \n",
      "__________________________________________________________________________________________________\n",
      "bn5a_branch1 (BatchNormalizatio (None, 7, 7, 2048)   8192        res5a_branch1[0][0]              \n",
      "__________________________________________________________________________________________________\n",
      "add_14 (Add)                    (None, 7, 7, 2048)   0           bn5a_branch2c[0][0]              \n",
      "                                                                 bn5a_branch1[0][0]               \n",
      "__________________________________________________________________________________________________\n",
      "activation_43 (Activation)      (None, 7, 7, 2048)   0           add_14[0][0]                     \n",
      "__________________________________________________________________________________________________\n",
      "res5b_branch2a (Conv2D)         (None, 7, 7, 512)    1049088     activation_43[0][0]              \n"
     ]
    },
    {
     "name": "stdout",
     "output_type": "stream",
     "text": [
      "__________________________________________________________________________________________________\n",
      "bn5b_branch2a (BatchNormalizati (None, 7, 7, 512)    2048        res5b_branch2a[0][0]             \n",
      "__________________________________________________________________________________________________\n",
      "activation_44 (Activation)      (None, 7, 7, 512)    0           bn5b_branch2a[0][0]              \n",
      "__________________________________________________________________________________________________\n",
      "res5b_branch2b (Conv2D)         (None, 7, 7, 512)    2359808     activation_44[0][0]              \n",
      "__________________________________________________________________________________________________\n",
      "bn5b_branch2b (BatchNormalizati (None, 7, 7, 512)    2048        res5b_branch2b[0][0]             \n",
      "__________________________________________________________________________________________________\n",
      "activation_45 (Activation)      (None, 7, 7, 512)    0           bn5b_branch2b[0][0]              \n",
      "__________________________________________________________________________________________________\n",
      "res5b_branch2c (Conv2D)         (None, 7, 7, 2048)   1050624     activation_45[0][0]              \n",
      "__________________________________________________________________________________________________\n",
      "bn5b_branch2c (BatchNormalizati (None, 7, 7, 2048)   8192        res5b_branch2c[0][0]             \n",
      "__________________________________________________________________________________________________\n",
      "add_15 (Add)                    (None, 7, 7, 2048)   0           bn5b_branch2c[0][0]              \n",
      "                                                                 activation_43[0][0]              \n",
      "__________________________________________________________________________________________________\n",
      "activation_46 (Activation)      (None, 7, 7, 2048)   0           add_15[0][0]                     \n",
      "__________________________________________________________________________________________________\n",
      "res5c_branch2a (Conv2D)         (None, 7, 7, 512)    1049088     activation_46[0][0]              \n",
      "__________________________________________________________________________________________________\n",
      "bn5c_branch2a (BatchNormalizati (None, 7, 7, 512)    2048        res5c_branch2a[0][0]             \n",
      "__________________________________________________________________________________________________\n",
      "activation_47 (Activation)      (None, 7, 7, 512)    0           bn5c_branch2a[0][0]              \n",
      "__________________________________________________________________________________________________\n",
      "res5c_branch2b (Conv2D)         (None, 7, 7, 512)    2359808     activation_47[0][0]              \n",
      "__________________________________________________________________________________________________\n",
      "bn5c_branch2b (BatchNormalizati (None, 7, 7, 512)    2048        res5c_branch2b[0][0]             \n",
      "__________________________________________________________________________________________________\n",
      "activation_48 (Activation)      (None, 7, 7, 512)    0           bn5c_branch2b[0][0]              \n",
      "__________________________________________________________________________________________________\n",
      "res5c_branch2c (Conv2D)         (None, 7, 7, 2048)   1050624     activation_48[0][0]              \n",
      "__________________________________________________________________________________________________\n",
      "bn5c_branch2c (BatchNormalizati (None, 7, 7, 2048)   8192        res5c_branch2c[0][0]             \n",
      "__________________________________________________________________________________________________\n",
      "add_16 (Add)                    (None, 7, 7, 2048)   0           bn5c_branch2c[0][0]              \n",
      "                                                                 activation_46[0][0]              \n",
      "__________________________________________________________________________________________________\n",
      "activation_49 (Activation)      (None, 7, 7, 2048)   0           add_16[0][0]                     \n",
      "==================================================================================================\n",
      "Total params: 23,587,712\n",
      "Trainable params: 23,534,592\n",
      "Non-trainable params: 53,120\n",
      "__________________________________________________________________________________________________\n",
      "None\n"
     ]
    }
   ],
   "source": [
    "from keras.applications.resnet50 import ResNet50\n",
    "base_model = ResNet50(weights='imagenet',include_top=False, input_shape=(224,224,3))\n",
    "print(base_model.summary())"
   ]
  },
  {
   "cell_type": "code",
   "execution_count": 41,
   "metadata": {},
   "outputs": [],
   "source": [
    "from keras.models import Sequential\n",
    "from keras.layers import Dense , Flatten , Dropout, Activation\n",
    "\n",
    "top_model = Sequential()\n",
    "top_model.add(Flatten(input_shape=base_model.output_shape[1:]))\n",
    "top_model.add(Dense(256, activation='relu'))\n",
    "top_model.add(Dropout(0.5))\n",
    "top_model.add(Dense(5, activation='softmax'))"
   ]
  },
  {
   "cell_type": "code",
   "execution_count": 42,
   "metadata": {},
   "outputs": [],
   "source": [
    "from keras.models import Model\n",
    "\n",
    "model=Model(inputs=base_model.input, outputs=top_model(base_model.output))"
   ]
  },
  {
   "cell_type": "code",
   "execution_count": 43,
   "metadata": {},
   "outputs": [
    {
     "name": "stdout",
     "output_type": "stream",
     "text": [
      "__________________________________________________________________________________________________\n",
      "Layer (type)                    Output Shape         Param #     Connected to                     \n",
      "==================================================================================================\n",
      "input_2 (InputLayer)            (None, 224, 224, 3)  0                                            \n",
      "__________________________________________________________________________________________________\n",
      "conv1_pad (ZeroPadding2D)       (None, 230, 230, 3)  0           input_2[0][0]                    \n",
      "__________________________________________________________________________________________________\n",
      "conv1 (Conv2D)                  (None, 112, 112, 64) 9472        conv1_pad[0][0]                  \n",
      "__________________________________________________________________________________________________\n",
      "bn_conv1 (BatchNormalization)   (None, 112, 112, 64) 256         conv1[0][0]                      \n",
      "__________________________________________________________________________________________________\n",
      "activation_1 (Activation)       (None, 112, 112, 64) 0           bn_conv1[0][0]                   \n",
      "__________________________________________________________________________________________________\n",
      "pool1_pad (ZeroPadding2D)       (None, 114, 114, 64) 0           activation_1[0][0]               \n",
      "__________________________________________________________________________________________________\n",
      "max_pooling2d_1 (MaxPooling2D)  (None, 56, 56, 64)   0           pool1_pad[0][0]                  \n",
      "__________________________________________________________________________________________________\n",
      "res2a_branch2a (Conv2D)         (None, 56, 56, 64)   4160        max_pooling2d_1[0][0]            \n",
      "__________________________________________________________________________________________________\n",
      "bn2a_branch2a (BatchNormalizati (None, 56, 56, 64)   256         res2a_branch2a[0][0]             \n",
      "__________________________________________________________________________________________________\n",
      "activation_2 (Activation)       (None, 56, 56, 64)   0           bn2a_branch2a[0][0]              \n",
      "__________________________________________________________________________________________________\n",
      "res2a_branch2b (Conv2D)         (None, 56, 56, 64)   36928       activation_2[0][0]               \n",
      "__________________________________________________________________________________________________\n",
      "bn2a_branch2b (BatchNormalizati (None, 56, 56, 64)   256         res2a_branch2b[0][0]             \n",
      "__________________________________________________________________________________________________\n",
      "activation_3 (Activation)       (None, 56, 56, 64)   0           bn2a_branch2b[0][0]              \n",
      "__________________________________________________________________________________________________\n",
      "res2a_branch2c (Conv2D)         (None, 56, 56, 256)  16640       activation_3[0][0]               \n",
      "__________________________________________________________________________________________________\n",
      "res2a_branch1 (Conv2D)          (None, 56, 56, 256)  16640       max_pooling2d_1[0][0]            \n",
      "__________________________________________________________________________________________________\n",
      "bn2a_branch2c (BatchNormalizati (None, 56, 56, 256)  1024        res2a_branch2c[0][0]             \n",
      "__________________________________________________________________________________________________\n",
      "bn2a_branch1 (BatchNormalizatio (None, 56, 56, 256)  1024        res2a_branch1[0][0]              \n",
      "__________________________________________________________________________________________________\n",
      "add_1 (Add)                     (None, 56, 56, 256)  0           bn2a_branch2c[0][0]              \n",
      "                                                                 bn2a_branch1[0][0]               \n",
      "__________________________________________________________________________________________________\n",
      "activation_4 (Activation)       (None, 56, 56, 256)  0           add_1[0][0]                      \n",
      "__________________________________________________________________________________________________\n",
      "res2b_branch2a (Conv2D)         (None, 56, 56, 64)   16448       activation_4[0][0]               \n",
      "__________________________________________________________________________________________________\n",
      "bn2b_branch2a (BatchNormalizati (None, 56, 56, 64)   256         res2b_branch2a[0][0]             \n",
      "__________________________________________________________________________________________________\n",
      "activation_5 (Activation)       (None, 56, 56, 64)   0           bn2b_branch2a[0][0]              \n",
      "__________________________________________________________________________________________________\n",
      "res2b_branch2b (Conv2D)         (None, 56, 56, 64)   36928       activation_5[0][0]               \n",
      "__________________________________________________________________________________________________\n",
      "bn2b_branch2b (BatchNormalizati (None, 56, 56, 64)   256         res2b_branch2b[0][0]             \n",
      "__________________________________________________________________________________________________\n",
      "activation_6 (Activation)       (None, 56, 56, 64)   0           bn2b_branch2b[0][0]              \n",
      "__________________________________________________________________________________________________\n",
      "res2b_branch2c (Conv2D)         (None, 56, 56, 256)  16640       activation_6[0][0]               \n",
      "__________________________________________________________________________________________________\n",
      "bn2b_branch2c (BatchNormalizati (None, 56, 56, 256)  1024        res2b_branch2c[0][0]             \n",
      "__________________________________________________________________________________________________\n",
      "add_2 (Add)                     (None, 56, 56, 256)  0           bn2b_branch2c[0][0]              \n",
      "                                                                 activation_4[0][0]               \n",
      "__________________________________________________________________________________________________\n",
      "activation_7 (Activation)       (None, 56, 56, 256)  0           add_2[0][0]                      \n",
      "__________________________________________________________________________________________________\n",
      "res2c_branch2a (Conv2D)         (None, 56, 56, 64)   16448       activation_7[0][0]               \n",
      "__________________________________________________________________________________________________\n",
      "bn2c_branch2a (BatchNormalizati (None, 56, 56, 64)   256         res2c_branch2a[0][0]             \n",
      "__________________________________________________________________________________________________\n",
      "activation_8 (Activation)       (None, 56, 56, 64)   0           bn2c_branch2a[0][0]              \n",
      "__________________________________________________________________________________________________\n",
      "res2c_branch2b (Conv2D)         (None, 56, 56, 64)   36928       activation_8[0][0]               \n",
      "__________________________________________________________________________________________________\n",
      "bn2c_branch2b (BatchNormalizati (None, 56, 56, 64)   256         res2c_branch2b[0][0]             \n",
      "__________________________________________________________________________________________________\n",
      "activation_9 (Activation)       (None, 56, 56, 64)   0           bn2c_branch2b[0][0]              \n",
      "__________________________________________________________________________________________________\n",
      "res2c_branch2c (Conv2D)         (None, 56, 56, 256)  16640       activation_9[0][0]               \n",
      "__________________________________________________________________________________________________\n",
      "bn2c_branch2c (BatchNormalizati (None, 56, 56, 256)  1024        res2c_branch2c[0][0]             \n",
      "__________________________________________________________________________________________________\n",
      "add_3 (Add)                     (None, 56, 56, 256)  0           bn2c_branch2c[0][0]              \n",
      "                                                                 activation_7[0][0]               \n",
      "__________________________________________________________________________________________________\n"
     ]
    },
    {
     "name": "stdout",
     "output_type": "stream",
     "text": [
      "activation_10 (Activation)      (None, 56, 56, 256)  0           add_3[0][0]                      \n",
      "__________________________________________________________________________________________________\n",
      "res3a_branch2a (Conv2D)         (None, 28, 28, 128)  32896       activation_10[0][0]              \n",
      "__________________________________________________________________________________________________\n",
      "bn3a_branch2a (BatchNormalizati (None, 28, 28, 128)  512         res3a_branch2a[0][0]             \n",
      "__________________________________________________________________________________________________\n",
      "activation_11 (Activation)      (None, 28, 28, 128)  0           bn3a_branch2a[0][0]              \n",
      "__________________________________________________________________________________________________\n",
      "res3a_branch2b (Conv2D)         (None, 28, 28, 128)  147584      activation_11[0][0]              \n",
      "__________________________________________________________________________________________________\n",
      "bn3a_branch2b (BatchNormalizati (None, 28, 28, 128)  512         res3a_branch2b[0][0]             \n",
      "__________________________________________________________________________________________________\n",
      "activation_12 (Activation)      (None, 28, 28, 128)  0           bn3a_branch2b[0][0]              \n",
      "__________________________________________________________________________________________________\n",
      "res3a_branch2c (Conv2D)         (None, 28, 28, 512)  66048       activation_12[0][0]              \n",
      "__________________________________________________________________________________________________\n",
      "res3a_branch1 (Conv2D)          (None, 28, 28, 512)  131584      activation_10[0][0]              \n",
      "__________________________________________________________________________________________________\n",
      "bn3a_branch2c (BatchNormalizati (None, 28, 28, 512)  2048        res3a_branch2c[0][0]             \n",
      "__________________________________________________________________________________________________\n",
      "bn3a_branch1 (BatchNormalizatio (None, 28, 28, 512)  2048        res3a_branch1[0][0]              \n",
      "__________________________________________________________________________________________________\n",
      "add_4 (Add)                     (None, 28, 28, 512)  0           bn3a_branch2c[0][0]              \n",
      "                                                                 bn3a_branch1[0][0]               \n",
      "__________________________________________________________________________________________________\n",
      "activation_13 (Activation)      (None, 28, 28, 512)  0           add_4[0][0]                      \n",
      "__________________________________________________________________________________________________\n",
      "res3b_branch2a (Conv2D)         (None, 28, 28, 128)  65664       activation_13[0][0]              \n",
      "__________________________________________________________________________________________________\n",
      "bn3b_branch2a (BatchNormalizati (None, 28, 28, 128)  512         res3b_branch2a[0][0]             \n",
      "__________________________________________________________________________________________________\n",
      "activation_14 (Activation)      (None, 28, 28, 128)  0           bn3b_branch2a[0][0]              \n",
      "__________________________________________________________________________________________________\n",
      "res3b_branch2b (Conv2D)         (None, 28, 28, 128)  147584      activation_14[0][0]              \n",
      "__________________________________________________________________________________________________\n",
      "bn3b_branch2b (BatchNormalizati (None, 28, 28, 128)  512         res3b_branch2b[0][0]             \n",
      "__________________________________________________________________________________________________\n",
      "activation_15 (Activation)      (None, 28, 28, 128)  0           bn3b_branch2b[0][0]              \n",
      "__________________________________________________________________________________________________\n",
      "res3b_branch2c (Conv2D)         (None, 28, 28, 512)  66048       activation_15[0][0]              \n",
      "__________________________________________________________________________________________________\n",
      "bn3b_branch2c (BatchNormalizati (None, 28, 28, 512)  2048        res3b_branch2c[0][0]             \n",
      "__________________________________________________________________________________________________\n",
      "add_5 (Add)                     (None, 28, 28, 512)  0           bn3b_branch2c[0][0]              \n",
      "                                                                 activation_13[0][0]              \n",
      "__________________________________________________________________________________________________\n",
      "activation_16 (Activation)      (None, 28, 28, 512)  0           add_5[0][0]                      \n",
      "__________________________________________________________________________________________________\n",
      "res3c_branch2a (Conv2D)         (None, 28, 28, 128)  65664       activation_16[0][0]              \n",
      "__________________________________________________________________________________________________\n",
      "bn3c_branch2a (BatchNormalizati (None, 28, 28, 128)  512         res3c_branch2a[0][0]             \n",
      "__________________________________________________________________________________________________\n",
      "activation_17 (Activation)      (None, 28, 28, 128)  0           bn3c_branch2a[0][0]              \n",
      "__________________________________________________________________________________________________\n",
      "res3c_branch2b (Conv2D)         (None, 28, 28, 128)  147584      activation_17[0][0]              \n",
      "__________________________________________________________________________________________________\n",
      "bn3c_branch2b (BatchNormalizati (None, 28, 28, 128)  512         res3c_branch2b[0][0]             \n",
      "__________________________________________________________________________________________________\n",
      "activation_18 (Activation)      (None, 28, 28, 128)  0           bn3c_branch2b[0][0]              \n",
      "__________________________________________________________________________________________________\n",
      "res3c_branch2c (Conv2D)         (None, 28, 28, 512)  66048       activation_18[0][0]              \n",
      "__________________________________________________________________________________________________\n",
      "bn3c_branch2c (BatchNormalizati (None, 28, 28, 512)  2048        res3c_branch2c[0][0]             \n",
      "__________________________________________________________________________________________________\n",
      "add_6 (Add)                     (None, 28, 28, 512)  0           bn3c_branch2c[0][0]              \n",
      "                                                                 activation_16[0][0]              \n",
      "__________________________________________________________________________________________________\n",
      "activation_19 (Activation)      (None, 28, 28, 512)  0           add_6[0][0]                      \n",
      "__________________________________________________________________________________________________\n",
      "res3d_branch2a (Conv2D)         (None, 28, 28, 128)  65664       activation_19[0][0]              \n",
      "__________________________________________________________________________________________________\n",
      "bn3d_branch2a (BatchNormalizati (None, 28, 28, 128)  512         res3d_branch2a[0][0]             \n",
      "__________________________________________________________________________________________________\n",
      "activation_20 (Activation)      (None, 28, 28, 128)  0           bn3d_branch2a[0][0]              \n",
      "__________________________________________________________________________________________________\n",
      "res3d_branch2b (Conv2D)         (None, 28, 28, 128)  147584      activation_20[0][0]              \n",
      "__________________________________________________________________________________________________\n",
      "bn3d_branch2b (BatchNormalizati (None, 28, 28, 128)  512         res3d_branch2b[0][0]             \n",
      "__________________________________________________________________________________________________\n",
      "activation_21 (Activation)      (None, 28, 28, 128)  0           bn3d_branch2b[0][0]              \n",
      "__________________________________________________________________________________________________\n",
      "res3d_branch2c (Conv2D)         (None, 28, 28, 512)  66048       activation_21[0][0]              \n"
     ]
    },
    {
     "name": "stdout",
     "output_type": "stream",
     "text": [
      "__________________________________________________________________________________________________\n",
      "bn3d_branch2c (BatchNormalizati (None, 28, 28, 512)  2048        res3d_branch2c[0][0]             \n",
      "__________________________________________________________________________________________________\n",
      "add_7 (Add)                     (None, 28, 28, 512)  0           bn3d_branch2c[0][0]              \n",
      "                                                                 activation_19[0][0]              \n",
      "__________________________________________________________________________________________________\n",
      "activation_22 (Activation)      (None, 28, 28, 512)  0           add_7[0][0]                      \n",
      "__________________________________________________________________________________________________\n",
      "res4a_branch2a (Conv2D)         (None, 14, 14, 256)  131328      activation_22[0][0]              \n",
      "__________________________________________________________________________________________________\n",
      "bn4a_branch2a (BatchNormalizati (None, 14, 14, 256)  1024        res4a_branch2a[0][0]             \n",
      "__________________________________________________________________________________________________\n",
      "activation_23 (Activation)      (None, 14, 14, 256)  0           bn4a_branch2a[0][0]              \n",
      "__________________________________________________________________________________________________\n",
      "res4a_branch2b (Conv2D)         (None, 14, 14, 256)  590080      activation_23[0][0]              \n",
      "__________________________________________________________________________________________________\n",
      "bn4a_branch2b (BatchNormalizati (None, 14, 14, 256)  1024        res4a_branch2b[0][0]             \n",
      "__________________________________________________________________________________________________\n",
      "activation_24 (Activation)      (None, 14, 14, 256)  0           bn4a_branch2b[0][0]              \n",
      "__________________________________________________________________________________________________\n",
      "res4a_branch2c (Conv2D)         (None, 14, 14, 1024) 263168      activation_24[0][0]              \n",
      "__________________________________________________________________________________________________\n",
      "res4a_branch1 (Conv2D)          (None, 14, 14, 1024) 525312      activation_22[0][0]              \n",
      "__________________________________________________________________________________________________\n",
      "bn4a_branch2c (BatchNormalizati (None, 14, 14, 1024) 4096        res4a_branch2c[0][0]             \n",
      "__________________________________________________________________________________________________\n",
      "bn4a_branch1 (BatchNormalizatio (None, 14, 14, 1024) 4096        res4a_branch1[0][0]              \n",
      "__________________________________________________________________________________________________\n",
      "add_8 (Add)                     (None, 14, 14, 1024) 0           bn4a_branch2c[0][0]              \n",
      "                                                                 bn4a_branch1[0][0]               \n",
      "__________________________________________________________________________________________________\n",
      "activation_25 (Activation)      (None, 14, 14, 1024) 0           add_8[0][0]                      \n",
      "__________________________________________________________________________________________________\n",
      "res4b_branch2a (Conv2D)         (None, 14, 14, 256)  262400      activation_25[0][0]              \n",
      "__________________________________________________________________________________________________\n",
      "bn4b_branch2a (BatchNormalizati (None, 14, 14, 256)  1024        res4b_branch2a[0][0]             \n",
      "__________________________________________________________________________________________________\n",
      "activation_26 (Activation)      (None, 14, 14, 256)  0           bn4b_branch2a[0][0]              \n",
      "__________________________________________________________________________________________________\n",
      "res4b_branch2b (Conv2D)         (None, 14, 14, 256)  590080      activation_26[0][0]              \n",
      "__________________________________________________________________________________________________\n",
      "bn4b_branch2b (BatchNormalizati (None, 14, 14, 256)  1024        res4b_branch2b[0][0]             \n",
      "__________________________________________________________________________________________________\n",
      "activation_27 (Activation)      (None, 14, 14, 256)  0           bn4b_branch2b[0][0]              \n",
      "__________________________________________________________________________________________________\n",
      "res4b_branch2c (Conv2D)         (None, 14, 14, 1024) 263168      activation_27[0][0]              \n",
      "__________________________________________________________________________________________________\n",
      "bn4b_branch2c (BatchNormalizati (None, 14, 14, 1024) 4096        res4b_branch2c[0][0]             \n",
      "__________________________________________________________________________________________________\n",
      "add_9 (Add)                     (None, 14, 14, 1024) 0           bn4b_branch2c[0][0]              \n",
      "                                                                 activation_25[0][0]              \n",
      "__________________________________________________________________________________________________\n",
      "activation_28 (Activation)      (None, 14, 14, 1024) 0           add_9[0][0]                      \n",
      "__________________________________________________________________________________________________\n",
      "res4c_branch2a (Conv2D)         (None, 14, 14, 256)  262400      activation_28[0][0]              \n",
      "__________________________________________________________________________________________________\n",
      "bn4c_branch2a (BatchNormalizati (None, 14, 14, 256)  1024        res4c_branch2a[0][0]             \n",
      "__________________________________________________________________________________________________\n",
      "activation_29 (Activation)      (None, 14, 14, 256)  0           bn4c_branch2a[0][0]              \n",
      "__________________________________________________________________________________________________\n",
      "res4c_branch2b (Conv2D)         (None, 14, 14, 256)  590080      activation_29[0][0]              \n",
      "__________________________________________________________________________________________________\n",
      "bn4c_branch2b (BatchNormalizati (None, 14, 14, 256)  1024        res4c_branch2b[0][0]             \n",
      "__________________________________________________________________________________________________\n",
      "activation_30 (Activation)      (None, 14, 14, 256)  0           bn4c_branch2b[0][0]              \n",
      "__________________________________________________________________________________________________\n",
      "res4c_branch2c (Conv2D)         (None, 14, 14, 1024) 263168      activation_30[0][0]              \n",
      "__________________________________________________________________________________________________\n",
      "bn4c_branch2c (BatchNormalizati (None, 14, 14, 1024) 4096        res4c_branch2c[0][0]             \n",
      "__________________________________________________________________________________________________\n",
      "add_10 (Add)                    (None, 14, 14, 1024) 0           bn4c_branch2c[0][0]              \n",
      "                                                                 activation_28[0][0]              \n",
      "__________________________________________________________________________________________________\n",
      "activation_31 (Activation)      (None, 14, 14, 1024) 0           add_10[0][0]                     \n",
      "__________________________________________________________________________________________________\n",
      "res4d_branch2a (Conv2D)         (None, 14, 14, 256)  262400      activation_31[0][0]              \n",
      "__________________________________________________________________________________________________\n",
      "bn4d_branch2a (BatchNormalizati (None, 14, 14, 256)  1024        res4d_branch2a[0][0]             \n",
      "__________________________________________________________________________________________________\n",
      "activation_32 (Activation)      (None, 14, 14, 256)  0           bn4d_branch2a[0][0]              \n",
      "__________________________________________________________________________________________________\n",
      "res4d_branch2b (Conv2D)         (None, 14, 14, 256)  590080      activation_32[0][0]              \n"
     ]
    },
    {
     "name": "stdout",
     "output_type": "stream",
     "text": [
      "__________________________________________________________________________________________________\n",
      "bn4d_branch2b (BatchNormalizati (None, 14, 14, 256)  1024        res4d_branch2b[0][0]             \n",
      "__________________________________________________________________________________________________\n",
      "activation_33 (Activation)      (None, 14, 14, 256)  0           bn4d_branch2b[0][0]              \n",
      "__________________________________________________________________________________________________\n",
      "res4d_branch2c (Conv2D)         (None, 14, 14, 1024) 263168      activation_33[0][0]              \n",
      "__________________________________________________________________________________________________\n",
      "bn4d_branch2c (BatchNormalizati (None, 14, 14, 1024) 4096        res4d_branch2c[0][0]             \n",
      "__________________________________________________________________________________________________\n",
      "add_11 (Add)                    (None, 14, 14, 1024) 0           bn4d_branch2c[0][0]              \n",
      "                                                                 activation_31[0][0]              \n",
      "__________________________________________________________________________________________________\n",
      "activation_34 (Activation)      (None, 14, 14, 1024) 0           add_11[0][0]                     \n",
      "__________________________________________________________________________________________________\n",
      "res4e_branch2a (Conv2D)         (None, 14, 14, 256)  262400      activation_34[0][0]              \n",
      "__________________________________________________________________________________________________\n",
      "bn4e_branch2a (BatchNormalizati (None, 14, 14, 256)  1024        res4e_branch2a[0][0]             \n",
      "__________________________________________________________________________________________________\n",
      "activation_35 (Activation)      (None, 14, 14, 256)  0           bn4e_branch2a[0][0]              \n",
      "__________________________________________________________________________________________________\n",
      "res4e_branch2b (Conv2D)         (None, 14, 14, 256)  590080      activation_35[0][0]              \n",
      "__________________________________________________________________________________________________\n",
      "bn4e_branch2b (BatchNormalizati (None, 14, 14, 256)  1024        res4e_branch2b[0][0]             \n",
      "__________________________________________________________________________________________________\n",
      "activation_36 (Activation)      (None, 14, 14, 256)  0           bn4e_branch2b[0][0]              \n",
      "__________________________________________________________________________________________________\n",
      "res4e_branch2c (Conv2D)         (None, 14, 14, 1024) 263168      activation_36[0][0]              \n",
      "__________________________________________________________________________________________________\n",
      "bn4e_branch2c (BatchNormalizati (None, 14, 14, 1024) 4096        res4e_branch2c[0][0]             \n",
      "__________________________________________________________________________________________________\n",
      "add_12 (Add)                    (None, 14, 14, 1024) 0           bn4e_branch2c[0][0]              \n",
      "                                                                 activation_34[0][0]              \n",
      "__________________________________________________________________________________________________\n",
      "activation_37 (Activation)      (None, 14, 14, 1024) 0           add_12[0][0]                     \n",
      "__________________________________________________________________________________________________\n",
      "res4f_branch2a (Conv2D)         (None, 14, 14, 256)  262400      activation_37[0][0]              \n",
      "__________________________________________________________________________________________________\n",
      "bn4f_branch2a (BatchNormalizati (None, 14, 14, 256)  1024        res4f_branch2a[0][0]             \n",
      "__________________________________________________________________________________________________\n",
      "activation_38 (Activation)      (None, 14, 14, 256)  0           bn4f_branch2a[0][0]              \n",
      "__________________________________________________________________________________________________\n",
      "res4f_branch2b (Conv2D)         (None, 14, 14, 256)  590080      activation_38[0][0]              \n",
      "__________________________________________________________________________________________________\n",
      "bn4f_branch2b (BatchNormalizati (None, 14, 14, 256)  1024        res4f_branch2b[0][0]             \n",
      "__________________________________________________________________________________________________\n",
      "activation_39 (Activation)      (None, 14, 14, 256)  0           bn4f_branch2b[0][0]              \n",
      "__________________________________________________________________________________________________\n",
      "res4f_branch2c (Conv2D)         (None, 14, 14, 1024) 263168      activation_39[0][0]              \n",
      "__________________________________________________________________________________________________\n",
      "bn4f_branch2c (BatchNormalizati (None, 14, 14, 1024) 4096        res4f_branch2c[0][0]             \n",
      "__________________________________________________________________________________________________\n",
      "add_13 (Add)                    (None, 14, 14, 1024) 0           bn4f_branch2c[0][0]              \n",
      "                                                                 activation_37[0][0]              \n",
      "__________________________________________________________________________________________________\n",
      "activation_40 (Activation)      (None, 14, 14, 1024) 0           add_13[0][0]                     \n",
      "__________________________________________________________________________________________________\n",
      "res5a_branch2a (Conv2D)         (None, 7, 7, 512)    524800      activation_40[0][0]              \n",
      "__________________________________________________________________________________________________\n",
      "bn5a_branch2a (BatchNormalizati (None, 7, 7, 512)    2048        res5a_branch2a[0][0]             \n",
      "__________________________________________________________________________________________________\n",
      "activation_41 (Activation)      (None, 7, 7, 512)    0           bn5a_branch2a[0][0]              \n",
      "__________________________________________________________________________________________________\n",
      "res5a_branch2b (Conv2D)         (None, 7, 7, 512)    2359808     activation_41[0][0]              \n",
      "__________________________________________________________________________________________________\n",
      "bn5a_branch2b (BatchNormalizati (None, 7, 7, 512)    2048        res5a_branch2b[0][0]             \n",
      "__________________________________________________________________________________________________\n",
      "activation_42 (Activation)      (None, 7, 7, 512)    0           bn5a_branch2b[0][0]              \n",
      "__________________________________________________________________________________________________\n",
      "res5a_branch2c (Conv2D)         (None, 7, 7, 2048)   1050624     activation_42[0][0]              \n",
      "__________________________________________________________________________________________________\n",
      "res5a_branch1 (Conv2D)          (None, 7, 7, 2048)   2099200     activation_40[0][0]              \n",
      "__________________________________________________________________________________________________\n",
      "bn5a_branch2c (BatchNormalizati (None, 7, 7, 2048)   8192        res5a_branch2c[0][0]             \n",
      "__________________________________________________________________________________________________\n",
      "bn5a_branch1 (BatchNormalizatio (None, 7, 7, 2048)   8192        res5a_branch1[0][0]              \n",
      "__________________________________________________________________________________________________\n",
      "add_14 (Add)                    (None, 7, 7, 2048)   0           bn5a_branch2c[0][0]              \n",
      "                                                                 bn5a_branch1[0][0]               \n",
      "__________________________________________________________________________________________________\n",
      "activation_43 (Activation)      (None, 7, 7, 2048)   0           add_14[0][0]                     \n",
      "__________________________________________________________________________________________________\n",
      "res5b_branch2a (Conv2D)         (None, 7, 7, 512)    1049088     activation_43[0][0]              \n"
     ]
    },
    {
     "name": "stdout",
     "output_type": "stream",
     "text": [
      "__________________________________________________________________________________________________\n",
      "bn5b_branch2a (BatchNormalizati (None, 7, 7, 512)    2048        res5b_branch2a[0][0]             \n",
      "__________________________________________________________________________________________________\n",
      "activation_44 (Activation)      (None, 7, 7, 512)    0           bn5b_branch2a[0][0]              \n",
      "__________________________________________________________________________________________________\n",
      "res5b_branch2b (Conv2D)         (None, 7, 7, 512)    2359808     activation_44[0][0]              \n",
      "__________________________________________________________________________________________________\n",
      "bn5b_branch2b (BatchNormalizati (None, 7, 7, 512)    2048        res5b_branch2b[0][0]             \n",
      "__________________________________________________________________________________________________\n",
      "activation_45 (Activation)      (None, 7, 7, 512)    0           bn5b_branch2b[0][0]              \n",
      "__________________________________________________________________________________________________\n",
      "res5b_branch2c (Conv2D)         (None, 7, 7, 2048)   1050624     activation_45[0][0]              \n",
      "__________________________________________________________________________________________________\n",
      "bn5b_branch2c (BatchNormalizati (None, 7, 7, 2048)   8192        res5b_branch2c[0][0]             \n",
      "__________________________________________________________________________________________________\n",
      "add_15 (Add)                    (None, 7, 7, 2048)   0           bn5b_branch2c[0][0]              \n",
      "                                                                 activation_43[0][0]              \n",
      "__________________________________________________________________________________________________\n",
      "activation_46 (Activation)      (None, 7, 7, 2048)   0           add_15[0][0]                     \n",
      "__________________________________________________________________________________________________\n",
      "res5c_branch2a (Conv2D)         (None, 7, 7, 512)    1049088     activation_46[0][0]              \n",
      "__________________________________________________________________________________________________\n",
      "bn5c_branch2a (BatchNormalizati (None, 7, 7, 512)    2048        res5c_branch2a[0][0]             \n",
      "__________________________________________________________________________________________________\n",
      "activation_47 (Activation)      (None, 7, 7, 512)    0           bn5c_branch2a[0][0]              \n",
      "__________________________________________________________________________________________________\n",
      "res5c_branch2b (Conv2D)         (None, 7, 7, 512)    2359808     activation_47[0][0]              \n",
      "__________________________________________________________________________________________________\n",
      "bn5c_branch2b (BatchNormalizati (None, 7, 7, 512)    2048        res5c_branch2b[0][0]             \n",
      "__________________________________________________________________________________________________\n",
      "activation_48 (Activation)      (None, 7, 7, 512)    0           bn5c_branch2b[0][0]              \n",
      "__________________________________________________________________________________________________\n",
      "res5c_branch2c (Conv2D)         (None, 7, 7, 2048)   1050624     activation_48[0][0]              \n",
      "__________________________________________________________________________________________________\n",
      "bn5c_branch2c (BatchNormalizati (None, 7, 7, 2048)   8192        res5c_branch2c[0][0]             \n",
      "__________________________________________________________________________________________________\n",
      "add_16 (Add)                    (None, 7, 7, 2048)   0           bn5c_branch2c[0][0]              \n",
      "                                                                 activation_46[0][0]              \n",
      "__________________________________________________________________________________________________\n",
      "activation_49 (Activation)      (None, 7, 7, 2048)   0           add_16[0][0]                     \n",
      "__________________________________________________________________________________________________\n",
      "sequential_2 (Sequential)       (None, 5)            25691653    activation_49[0][0]              \n",
      "==================================================================================================\n",
      "Total params: 49,279,365\n",
      "Trainable params: 49,226,245\n",
      "Non-trainable params: 53,120\n",
      "__________________________________________________________________________________________________\n"
     ]
    }
   ],
   "source": [
    "from keras import optimizers\n",
    "\n",
    "model.compile(loss='categorical_crossentropy',\n",
    "     optimizer=optimizers.SGD(lr=1e-5, momentum=0.9),\n",
    "     metrics=['accuracy'])\n",
    "model.summary()"
   ]
  },
  {
   "cell_type": "code",
   "execution_count": 44,
   "metadata": {},
   "outputs": [
    {
     "name": "stdout",
     "output_type": "stream",
     "text": [
      "Epoch 1/1\n"
     ]
    },
    {
     "ename": "ResourceExhaustedError",
     "evalue": "OOM when allocating tensor with shape[32,256,56,56] and type float on /job:localhost/replica:0/task:0/device:GPU:0 by allocator GPU_0_bfc\n\t [[{{node training_1/SGD/gradients/zeros_171}} = Fill[T=DT_FLOAT, _class=[\"loc:@training_1/SGD/gradients/res2c_branch2c/BiasAdd_grad/BiasAddGrad\"], index_type=DT_INT32, _device=\"/job:localhost/replica:0/task:0/device:GPU:0\"](training_1/SGD/gradients/Shape_172, training_1/SGD/gradients/zeros_171/Const)]]\nHint: If you want to see a list of allocated tensors when OOM happens, add report_tensor_allocations_upon_oom to RunOptions for current allocation info.\n\n\t [[{{node metrics_1/acc/Mean/_3337}} = _Recv[client_terminated=false, recv_device=\"/job:localhost/replica:0/task:0/device:CPU:0\", send_device=\"/job:localhost/replica:0/task:0/device:GPU:0\", send_device_incarnation=1, tensor_name=\"edge_14723_metrics_1/acc/Mean\", tensor_type=DT_FLOAT, _device=\"/job:localhost/replica:0/task:0/device:CPU:0\"]()]]\nHint: If you want to see a list of allocated tensors when OOM happens, add report_tensor_allocations_upon_oom to RunOptions for current allocation info.\n",
     "output_type": "error",
     "traceback": [
      "\u001b[1;31m---------------------------------------------------------------------------\u001b[0m",
      "\u001b[1;31mResourceExhaustedError\u001b[0m                    Traceback (most recent call last)",
      "\u001b[1;32m<ipython-input-44-23c452a70dc5>\u001b[0m in \u001b[0;36m<module>\u001b[1;34m\u001b[0m\n\u001b[0;32m      1\u001b[0m \u001b[1;32mwith\u001b[0m \u001b[0mtf\u001b[0m\u001b[1;33m.\u001b[0m\u001b[0mdevice\u001b[0m\u001b[1;33m(\u001b[0m\u001b[1;34m\"/gpu:0\"\u001b[0m\u001b[1;33m)\u001b[0m\u001b[1;33m:\u001b[0m\u001b[1;33m\u001b[0m\u001b[1;33m\u001b[0m\u001b[0m\n\u001b[1;32m----> 2\u001b[1;33m     \u001b[0mmodel\u001b[0m\u001b[1;33m.\u001b[0m\u001b[0mfit\u001b[0m\u001b[1;33m(\u001b[0m\u001b[0mx\u001b[0m \u001b[1;33m=\u001b[0m \u001b[0mX_train\u001b[0m\u001b[1;33m,\u001b[0m\u001b[0my\u001b[0m\u001b[1;33m=\u001b[0m\u001b[0mY_train\u001b[0m\u001b[1;33m)\u001b[0m\u001b[1;33m\u001b[0m\u001b[1;33m\u001b[0m\u001b[0m\n\u001b[0m",
      "\u001b[1;32mD:\\Anaconda\\envs\\tensorflow_gpuenv\\lib\\site-packages\\keras\\engine\\training.py\u001b[0m in \u001b[0;36mfit\u001b[1;34m(self, x, y, batch_size, epochs, verbose, callbacks, validation_split, validation_data, shuffle, class_weight, sample_weight, initial_epoch, steps_per_epoch, validation_steps, **kwargs)\u001b[0m\n\u001b[0;32m   1037\u001b[0m                                         \u001b[0minitial_epoch\u001b[0m\u001b[1;33m=\u001b[0m\u001b[0minitial_epoch\u001b[0m\u001b[1;33m,\u001b[0m\u001b[1;33m\u001b[0m\u001b[1;33m\u001b[0m\u001b[0m\n\u001b[0;32m   1038\u001b[0m                                         \u001b[0msteps_per_epoch\u001b[0m\u001b[1;33m=\u001b[0m\u001b[0msteps_per_epoch\u001b[0m\u001b[1;33m,\u001b[0m\u001b[1;33m\u001b[0m\u001b[1;33m\u001b[0m\u001b[0m\n\u001b[1;32m-> 1039\u001b[1;33m                                         validation_steps=validation_steps)\n\u001b[0m\u001b[0;32m   1040\u001b[0m \u001b[1;33m\u001b[0m\u001b[0m\n\u001b[0;32m   1041\u001b[0m     def evaluate(self, x=None, y=None,\n",
      "\u001b[1;32mD:\\Anaconda\\envs\\tensorflow_gpuenv\\lib\\site-packages\\keras\\engine\\training_arrays.py\u001b[0m in \u001b[0;36mfit_loop\u001b[1;34m(model, f, ins, out_labels, batch_size, epochs, verbose, callbacks, val_f, val_ins, shuffle, callback_metrics, initial_epoch, steps_per_epoch, validation_steps)\u001b[0m\n\u001b[0;32m    197\u001b[0m                     \u001b[0mins_batch\u001b[0m\u001b[1;33m[\u001b[0m\u001b[0mi\u001b[0m\u001b[1;33m]\u001b[0m \u001b[1;33m=\u001b[0m \u001b[0mins_batch\u001b[0m\u001b[1;33m[\u001b[0m\u001b[0mi\u001b[0m\u001b[1;33m]\u001b[0m\u001b[1;33m.\u001b[0m\u001b[0mtoarray\u001b[0m\u001b[1;33m(\u001b[0m\u001b[1;33m)\u001b[0m\u001b[1;33m\u001b[0m\u001b[1;33m\u001b[0m\u001b[0m\n\u001b[0;32m    198\u001b[0m \u001b[1;33m\u001b[0m\u001b[0m\n\u001b[1;32m--> 199\u001b[1;33m                 \u001b[0mouts\u001b[0m \u001b[1;33m=\u001b[0m \u001b[0mf\u001b[0m\u001b[1;33m(\u001b[0m\u001b[0mins_batch\u001b[0m\u001b[1;33m)\u001b[0m\u001b[1;33m\u001b[0m\u001b[1;33m\u001b[0m\u001b[0m\n\u001b[0m\u001b[0;32m    200\u001b[0m                 \u001b[0mouts\u001b[0m \u001b[1;33m=\u001b[0m \u001b[0mto_list\u001b[0m\u001b[1;33m(\u001b[0m\u001b[0mouts\u001b[0m\u001b[1;33m)\u001b[0m\u001b[1;33m\u001b[0m\u001b[1;33m\u001b[0m\u001b[0m\n\u001b[0;32m    201\u001b[0m                 \u001b[1;32mfor\u001b[0m \u001b[0ml\u001b[0m\u001b[1;33m,\u001b[0m \u001b[0mo\u001b[0m \u001b[1;32min\u001b[0m \u001b[0mzip\u001b[0m\u001b[1;33m(\u001b[0m\u001b[0mout_labels\u001b[0m\u001b[1;33m,\u001b[0m \u001b[0mouts\u001b[0m\u001b[1;33m)\u001b[0m\u001b[1;33m:\u001b[0m\u001b[1;33m\u001b[0m\u001b[1;33m\u001b[0m\u001b[0m\n",
      "\u001b[1;32mD:\\Anaconda\\envs\\tensorflow_gpuenv\\lib\\site-packages\\keras\\backend\\tensorflow_backend.py\u001b[0m in \u001b[0;36m__call__\u001b[1;34m(self, inputs)\u001b[0m\n\u001b[0;32m   2713\u001b[0m                 \u001b[1;32mreturn\u001b[0m \u001b[0mself\u001b[0m\u001b[1;33m.\u001b[0m\u001b[0m_legacy_call\u001b[0m\u001b[1;33m(\u001b[0m\u001b[0minputs\u001b[0m\u001b[1;33m)\u001b[0m\u001b[1;33m\u001b[0m\u001b[1;33m\u001b[0m\u001b[0m\n\u001b[0;32m   2714\u001b[0m \u001b[1;33m\u001b[0m\u001b[0m\n\u001b[1;32m-> 2715\u001b[1;33m             \u001b[1;32mreturn\u001b[0m \u001b[0mself\u001b[0m\u001b[1;33m.\u001b[0m\u001b[0m_call\u001b[0m\u001b[1;33m(\u001b[0m\u001b[0minputs\u001b[0m\u001b[1;33m)\u001b[0m\u001b[1;33m\u001b[0m\u001b[1;33m\u001b[0m\u001b[0m\n\u001b[0m\u001b[0;32m   2716\u001b[0m         \u001b[1;32melse\u001b[0m\u001b[1;33m:\u001b[0m\u001b[1;33m\u001b[0m\u001b[1;33m\u001b[0m\u001b[0m\n\u001b[0;32m   2717\u001b[0m             \u001b[1;32mif\u001b[0m \u001b[0mpy_any\u001b[0m\u001b[1;33m(\u001b[0m\u001b[0mis_tensor\u001b[0m\u001b[1;33m(\u001b[0m\u001b[0mx\u001b[0m\u001b[1;33m)\u001b[0m \u001b[1;32mfor\u001b[0m \u001b[0mx\u001b[0m \u001b[1;32min\u001b[0m \u001b[0minputs\u001b[0m\u001b[1;33m)\u001b[0m\u001b[1;33m:\u001b[0m\u001b[1;33m\u001b[0m\u001b[1;33m\u001b[0m\u001b[0m\n",
      "\u001b[1;32mD:\\Anaconda\\envs\\tensorflow_gpuenv\\lib\\site-packages\\keras\\backend\\tensorflow_backend.py\u001b[0m in \u001b[0;36m_call\u001b[1;34m(self, inputs)\u001b[0m\n\u001b[0;32m   2673\u001b[0m             \u001b[0mfetched\u001b[0m \u001b[1;33m=\u001b[0m \u001b[0mself\u001b[0m\u001b[1;33m.\u001b[0m\u001b[0m_callable_fn\u001b[0m\u001b[1;33m(\u001b[0m\u001b[1;33m*\u001b[0m\u001b[0marray_vals\u001b[0m\u001b[1;33m,\u001b[0m \u001b[0mrun_metadata\u001b[0m\u001b[1;33m=\u001b[0m\u001b[0mself\u001b[0m\u001b[1;33m.\u001b[0m\u001b[0mrun_metadata\u001b[0m\u001b[1;33m)\u001b[0m\u001b[1;33m\u001b[0m\u001b[1;33m\u001b[0m\u001b[0m\n\u001b[0;32m   2674\u001b[0m         \u001b[1;32melse\u001b[0m\u001b[1;33m:\u001b[0m\u001b[1;33m\u001b[0m\u001b[1;33m\u001b[0m\u001b[0m\n\u001b[1;32m-> 2675\u001b[1;33m             \u001b[0mfetched\u001b[0m \u001b[1;33m=\u001b[0m \u001b[0mself\u001b[0m\u001b[1;33m.\u001b[0m\u001b[0m_callable_fn\u001b[0m\u001b[1;33m(\u001b[0m\u001b[1;33m*\u001b[0m\u001b[0marray_vals\u001b[0m\u001b[1;33m)\u001b[0m\u001b[1;33m\u001b[0m\u001b[1;33m\u001b[0m\u001b[0m\n\u001b[0m\u001b[0;32m   2676\u001b[0m         \u001b[1;32mreturn\u001b[0m \u001b[0mfetched\u001b[0m\u001b[1;33m[\u001b[0m\u001b[1;33m:\u001b[0m\u001b[0mlen\u001b[0m\u001b[1;33m(\u001b[0m\u001b[0mself\u001b[0m\u001b[1;33m.\u001b[0m\u001b[0moutputs\u001b[0m\u001b[1;33m)\u001b[0m\u001b[1;33m]\u001b[0m\u001b[1;33m\u001b[0m\u001b[1;33m\u001b[0m\u001b[0m\n\u001b[0;32m   2677\u001b[0m \u001b[1;33m\u001b[0m\u001b[0m\n",
      "\u001b[1;32mD:\\Anaconda\\envs\\tensorflow_gpuenv\\lib\\site-packages\\tensorflow\\python\\client\\session.py\u001b[0m in \u001b[0;36m__call__\u001b[1;34m(self, *args, **kwargs)\u001b[0m\n\u001b[0;32m   1397\u001b[0m           ret = tf_session.TF_SessionRunCallable(\n\u001b[0;32m   1398\u001b[0m               \u001b[0mself\u001b[0m\u001b[1;33m.\u001b[0m\u001b[0m_session\u001b[0m\u001b[1;33m.\u001b[0m\u001b[0m_session\u001b[0m\u001b[1;33m,\u001b[0m \u001b[0mself\u001b[0m\u001b[1;33m.\u001b[0m\u001b[0m_handle\u001b[0m\u001b[1;33m,\u001b[0m \u001b[0margs\u001b[0m\u001b[1;33m,\u001b[0m \u001b[0mstatus\u001b[0m\u001b[1;33m,\u001b[0m\u001b[1;33m\u001b[0m\u001b[1;33m\u001b[0m\u001b[0m\n\u001b[1;32m-> 1399\u001b[1;33m               run_metadata_ptr)\n\u001b[0m\u001b[0;32m   1400\u001b[0m         \u001b[1;32mif\u001b[0m \u001b[0mrun_metadata\u001b[0m\u001b[1;33m:\u001b[0m\u001b[1;33m\u001b[0m\u001b[1;33m\u001b[0m\u001b[0m\n\u001b[0;32m   1401\u001b[0m           \u001b[0mproto_data\u001b[0m \u001b[1;33m=\u001b[0m \u001b[0mtf_session\u001b[0m\u001b[1;33m.\u001b[0m\u001b[0mTF_GetBuffer\u001b[0m\u001b[1;33m(\u001b[0m\u001b[0mrun_metadata_ptr\u001b[0m\u001b[1;33m)\u001b[0m\u001b[1;33m\u001b[0m\u001b[1;33m\u001b[0m\u001b[0m\n",
      "\u001b[1;32mD:\\Anaconda\\envs\\tensorflow_gpuenv\\lib\\site-packages\\tensorflow\\python\\framework\\errors_impl.py\u001b[0m in \u001b[0;36m__exit__\u001b[1;34m(self, type_arg, value_arg, traceback_arg)\u001b[0m\n\u001b[0;32m    524\u001b[0m             \u001b[1;32mNone\u001b[0m\u001b[1;33m,\u001b[0m \u001b[1;32mNone\u001b[0m\u001b[1;33m,\u001b[0m\u001b[1;33m\u001b[0m\u001b[1;33m\u001b[0m\u001b[0m\n\u001b[0;32m    525\u001b[0m             \u001b[0mcompat\u001b[0m\u001b[1;33m.\u001b[0m\u001b[0mas_text\u001b[0m\u001b[1;33m(\u001b[0m\u001b[0mc_api\u001b[0m\u001b[1;33m.\u001b[0m\u001b[0mTF_Message\u001b[0m\u001b[1;33m(\u001b[0m\u001b[0mself\u001b[0m\u001b[1;33m.\u001b[0m\u001b[0mstatus\u001b[0m\u001b[1;33m.\u001b[0m\u001b[0mstatus\u001b[0m\u001b[1;33m)\u001b[0m\u001b[1;33m)\u001b[0m\u001b[1;33m,\u001b[0m\u001b[1;33m\u001b[0m\u001b[1;33m\u001b[0m\u001b[0m\n\u001b[1;32m--> 526\u001b[1;33m             c_api.TF_GetCode(self.status.status))\n\u001b[0m\u001b[0;32m    527\u001b[0m     \u001b[1;31m# Delete the underlying status object from memory otherwise it stays alive\u001b[0m\u001b[1;33m\u001b[0m\u001b[1;33m\u001b[0m\u001b[1;33m\u001b[0m\u001b[0m\n\u001b[0;32m    528\u001b[0m     \u001b[1;31m# as there is a reference to status from this from the traceback due to\u001b[0m\u001b[1;33m\u001b[0m\u001b[1;33m\u001b[0m\u001b[1;33m\u001b[0m\u001b[0m\n",
      "\u001b[1;31mResourceExhaustedError\u001b[0m: OOM when allocating tensor with shape[32,256,56,56] and type float on /job:localhost/replica:0/task:0/device:GPU:0 by allocator GPU_0_bfc\n\t [[{{node training_1/SGD/gradients/zeros_171}} = Fill[T=DT_FLOAT, _class=[\"loc:@training_1/SGD/gradients/res2c_branch2c/BiasAdd_grad/BiasAddGrad\"], index_type=DT_INT32, _device=\"/job:localhost/replica:0/task:0/device:GPU:0\"](training_1/SGD/gradients/Shape_172, training_1/SGD/gradients/zeros_171/Const)]]\nHint: If you want to see a list of allocated tensors when OOM happens, add report_tensor_allocations_upon_oom to RunOptions for current allocation info.\n\n\t [[{{node metrics_1/acc/Mean/_3337}} = _Recv[client_terminated=false, recv_device=\"/job:localhost/replica:0/task:0/device:CPU:0\", send_device=\"/job:localhost/replica:0/task:0/device:GPU:0\", send_device_incarnation=1, tensor_name=\"edge_14723_metrics_1/acc/Mean\", tensor_type=DT_FLOAT, _device=\"/job:localhost/replica:0/task:0/device:CPU:0\"]()]]\nHint: If you want to see a list of allocated tensors when OOM happens, add report_tensor_allocations_upon_oom to RunOptions for current allocation info.\n"
     ]
    }
   ],
   "source": [
    "with tf.device(\"/gpu:0\"):\n",
    "    model.fit(x = X_train,y=Y_train)"
   ]
  },
  {
   "cell_type": "code",
   "execution_count": 45,
   "metadata": {},
   "outputs": [],
   "source": [
    "import numpy as np"
   ]
  },
  {
   "cell_type": "code",
   "execution_count": null,
   "metadata": {},
   "outputs": [],
   "source": []
  }
 ],
 "metadata": {
  "kernelspec": {
   "display_name": "Python 3",
   "language": "python",
   "name": "python3"
  },
  "language_info": {
   "codemirror_mode": {
    "name": "ipython",
    "version": 3
   },
   "file_extension": ".py",
   "mimetype": "text/x-python",
   "name": "python",
   "nbconvert_exporter": "python",
   "pygments_lexer": "ipython3",
   "version": "3.6.7"
  }
 },
 "nbformat": 4,
 "nbformat_minor": 2
}
